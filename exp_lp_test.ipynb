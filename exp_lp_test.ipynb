{
 "cells": [
  {
   "cell_type": "code",
   "execution_count": 1,
   "metadata": {},
   "outputs": [],
   "source": [
    "from env.SourcingEnv import *\n",
    "import numpy as np\n",
    "import gurobipy as gp\n",
    "from gurobipy import GRB\n",
    "import pickle as pkl\n",
    "from env.HelperClasses import *\n",
    "from sim.sim_functions import *\n",
    "import itertools"
   ]
  },
  {
   "cell_type": "code",
   "execution_count": 2,
   "metadata": {},
   "outputs": [],
   "source": [
    "filename = \"output/msource_value_dic_07-04-2022-05-59-13.pkl\"\n",
    "\n",
    "with open(filename, 'rb') as f:\n",
    "    output_obj = pkl.load(f)\n",
    "\n",
    "    value_dic = output_obj[\"state_value_dic\"]\n",
    "    model_params = output_obj[\"model_params\"]\n",
    "    sourcingEnv = output_obj[\"mdp_env\"]\n",
    "\n",
    "    sourcingEnv = SourcingEnv(\n",
    "        order_quantity = ACTION_SIZE,\n",
    "        lambda_arrival = model_params['mdp_env_params']['lambda'], # or 10\n",
    "        procurement_cost_vec = np.array(model_params['mdp_env_params']['procurement_cost_vec']),\n",
    "        supplier_lead_times_vec = np.array(model_params['mdp_env_params']['supplier_lead_times_vec']),\n",
    "        on_times = np.array([1, 1]), \n",
    "        off_times = np.array([np.Inf, np.Inf]))\n",
    "\n",
    "\n",
    "state_s = list(range(BACKORDER_MAX_LP, MAX_INVEN_LP))\n",
    "state_backorders = list(itertools.product(range(MAX_INVEN_LP - BACKORDER_MAX_LP), range(sourcingEnv.n_suppliers)))\n",
    "state_onoff = list(itertools.product(range(2), range(sourcingEnv.n_suppliers)))\n",
    "\n",
    "possible_state_tuples = list(itertools.product(state_s, state_backorders, state_onoff))\n",
    "poss_states = [[x[0], np.array(list(x[1])), np.array(list(x[2]))] for x in possible_state_tuples]\n",
    "\n",
    "\n",
    "action_space_tup = [x for x in itertools.product(*([list(range(sourcingEnv.action_size))]*sourcingEnv.n_suppliers)) ]\n",
    "\n",
    "# action_space_tup = list(itertools.product(range(sourcingEnv.action_size), range(sourcingEnv.n_suppliers))) \n",
    "action_space = [np.array(list(x)) for x in action_space_tup]\n",
    "\n",
    "for s in poss_states:\n",
    "    for i in range(1, len(s)):\n",
    "        s[i] = list(s[i])"
   ]
  },
  {
   "cell_type": "code",
   "execution_count": 3,
   "metadata": {},
   "outputs": [
    {
     "name": "stdout",
     "output_type": "stream",
     "text": [
      "Set parameter CSQueueTimeout to value 120\n",
      "Set parameter CSIdleTimeout to value 60\n",
      "Set parameter ServerTimeout to value 10\n",
      "Set parameter TokenServer to value \"10.162.183.44\"\n"
     ]
    }
   ],
   "source": [
    "# need to write a pij function\n",
    "# tau = sourcingEnv.compute_event_arrival_time(a)\n",
    "\n",
    "m = gp.Model(\"MDP\")\n",
    "x = {}\n",
    "\n",
    "for state in poss_states:\n",
    "    for a in action_space:\n",
    "        state_rep = MState(state[0], sourcingEnv.n_suppliers, state[1], state[2])\n",
    "        state_rep_str = str(state_rep)\n",
    "        a_rep = repr(list(a))\n",
    "        cost = cost_calc_expected_di(sourcingEnv, a, custom_state = state_rep)\n",
    "        x[state_rep_str, a_rep] = m.addVar(obj = cost, name='x-'+str(state)+\"-\"+str(a))\n",
    "        m.addConstr(x[state_rep_str, a_rep] >= 0.0)\n",
    "        \n",
    "# need to write a pij function\n",
    "# tau = sourcingEnv.compute_event_arrival_time(a)\n",
    "\n",
    "def add_in_additional_constr(change_i_state, a_i, x, m):\n",
    "    if (str(change_i_state), repr(list(a_i))) not in x:\n",
    "        cost = cost_calc_expected_di(sourcingEnv, a_i, custom_state = change_i_state)\n",
    "        x[str(change_i_state), repr(list(a_i))] = m.addVar(obj = cost, name='x-'+str(state)+\"-\"+str(a))\n",
    "        m.addConstr(x[state_rep_str, a_rep] >= 0.0)\n",
    "    return m\n",
    "\n",
    "poss_states_new = copy.deepcopy(poss_states)\n",
    "for j_state in poss_states:\n",
    "    j_state_obj = MState(j_state[0], sourcingEnv.n_suppliers, j_state[1], j_state[2])   \n",
    "    poss_i_states_tuples = [] # possible prev. states\n",
    "    for a_i in action_space:\n",
    "        event_probs = sourcingEnv.get_event_probs(a_i)\n",
    "        for k in range(sourcingEnv.n_suppliers):\n",
    "            i_state_supp = copy.deepcopy(j_state[1])\n",
    "            i_state_supp[k] = j_state[1][k] - a_i[k]\n",
    "            change_i_state = MState(j_state[0] + 1, sourcingEnv.n_suppliers, i_state_supp, j_state[2])\n",
    "            poss_i_states_tuples.append((a_i, change_i_state, event_probs[0])) # Event DEMAND_ARRIVAL\n",
    "            \n",
    "            poss_states_new.append(change_i_state.get_nested_list_repr())\n",
    "            m = add_in_additional_constr(change_i_state, a_i, x, m)\n",
    "            \n",
    "            i_state_supp = copy.deepcopy(j_state[1])\n",
    "            i_state_supp[k] = j_state[1][k] - a_i[k] + 1\n",
    "            change_i_state = MState(j_state[0] - 1, sourcingEnv.n_suppliers, i_state_supp, j_state[2])\n",
    "            index = sourcingEnv.get_event_index_from_event(Event.SUPPLY_ARRIVAL, k)\n",
    "            poss_i_states_tuples.append((a_i, change_i_state, event_probs[index])) # Event SUPPLY_ARRIVAL\n",
    "            \n",
    "            poss_states_new.append(change_i_state.get_nested_list_repr())\n",
    "            m = add_in_additional_constr(change_i_state, a_i, x, m)\n",
    "\n",
    "            i_state_v = copy.deepcopy(j_state[2])\n",
    "            if j_state[2][k] == 1:\n",
    "                i_state_v[k] = 0\n",
    "                change_i_state = MState(j_state[0], sourcingEnv.n_suppliers, j_state[1], i_state_v)\n",
    "                index = sourcingEnv.get_event_index_from_event(Event.SUPPLIER_ON, k)\n",
    "                poss_i_states_tuples.append((a_i, change_i_state, event_probs[index])) # Event SUPPLY_ON\n",
    "            \n",
    "            i_state_v = copy.deepcopy(j_state[2])\n",
    "            if j_state[2][k] == 0:\n",
    "                i_state_v[k] = 1\n",
    "                change_i_state = MState(j_state[0], sourcingEnv.n_suppliers, j_state[1], i_state_v)\n",
    "                index = sourcingEnv.get_event_index_from_event(Event.SUPPLIER_OFF, k)\n",
    "                poss_i_states_tuples.append((a_i, change_i_state, event_probs[index])) # Event SUPPLY_OFF\n",
    "            \n",
    "    m.addConstr(sum(x[str(j_state_obj), repr(list(a))] for a in action_space) - sum(pij*x[str(state_i), repr(list(a_i))] for (a_i, state_i, pij) in poss_i_states_tuples) == 0)\n",
    "\n",
    "poss_states = copy.deepcopy(poss_states_new)\n",
    "\n",
    "# sa_keys = []\n",
    "\n",
    "# for state_i in poss_states:\n",
    "#     for a in action_space:\n",
    "#         sa_keys.append((str(MState(state_i[0], sourcingEnv.n_suppliers, np.array(state_i[1]), np.array(state_i[2])) ), repr(list(a))))\n",
    "\n",
    "poss_states_objs = [MState(state[0], sourcingEnv.n_suppliers, state[1], state[2]) for state in poss_states]\n",
    "\n",
    "m.addConstr(sum(sourcingEnv.compute_event_arrival_time(a, state_obj = state_i)*x[str(state_i), repr(list(a))] for state_i in poss_states_objs for a in action_space) == 1)\n"
   ]
  },
  {
   "cell_type": "code",
   "execution_count": null,
   "metadata": {},
   "outputs": [
    {
     "name": "stdout",
     "output_type": "stream",
     "text": [
      "Gurobi Optimizer version 9.5.0 build v9.5.0rc5 (linux64)\n",
      "Thread count: 4 physical cores, 8 logical processors, using up to 8 threads\n",
      "Optimize a model with 1299 rows, 1170 columns and 4552 nonzeros\n",
      "Model fingerprint: 0xb82ce64d\n",
      "Coefficient statistics:\n",
      "  Matrix range     [2e-01, 1e+02]\n",
      "  Objective range  [3e-01, 2e+02]\n",
      "  Bounds range     [0e+00, 0e+00]\n",
      "  RHS range        [1e+00, 1e+00]\n",
      "Presolve removed 1290 rows and 1124 columns\n",
      "Presolve time: 0.01s\n",
      "Presolved: 9 rows, 46 columns, 238 nonzeros\n",
      "\n",
      "Iteration    Objective       Primal Inf.    Dual Inf.      Time\n",
      "       0    3.3783784e-03   5.236486e-02   0.000000e+00      0s\n",
      "       5    5.9027778e-01   0.000000e+00   0.000000e+00      0s\n",
      "\n",
      "Solved in 5 iterations and 0.01 seconds (0.00 work units)\n",
      "Optimal objective  5.902777778e-01\n"
     ]
    }
   ],
   "source": [
    "m.optimize()\n"
   ]
  },
  {
   "cell_type": "code",
   "execution_count": null,
   "metadata": {},
   "outputs": [],
   "source": [
    "# Optimal Policy \n",
    "for state in poss_states_new:\n",
    "    for a in action_space:\n",
    "        guro_var = m.getVarByName('x-' + str(state) +\"-\" + str(a))\n",
    "        if guro_var is not None and guro_var.X > 0:\n",
    "            print(guro_var)"
   ]
  },
  {
   "cell_type": "code",
   "execution_count": null,
   "metadata": {},
   "outputs": [
    {
     "data": {
      "text/plain": [
       "<gurobi.Model Continuous instance MDP: 1299 constrs, 1170 vars, Parameter changes: CSQueueTimeout=120.0, ServerTimeout=10, TokenServer=10.162.183.44, CSIdleTimeout=60>"
      ]
     },
     "execution_count": 139,
     "metadata": {},
     "output_type": "execute_result"
    }
   ],
   "source": [
    "m"
   ]
  },
  {
   "cell_type": "code",
   "execution_count": null,
   "metadata": {},
   "outputs": [],
   "source": []
  }
 ],
 "metadata": {
  "kernelspec": {
   "display_name": "Python 3.8.10 ('.multi-sourcing-env': venv)",
   "language": "python",
   "name": "python3"
  },
  "language_info": {
   "codemirror_mode": {
    "name": "ipython",
    "version": 3
   },
   "file_extension": ".py",
   "mimetype": "text/x-python",
   "name": "python",
   "nbconvert_exporter": "python",
   "pygments_lexer": "ipython3",
   "version": "3.8.10"
  },
  "orig_nbformat": 4,
  "vscode": {
   "interpreter": {
    "hash": "cd381e17d028bd09dab022bcaf56b43c687ccc8a6f1edc8bc118936389c16b3d"
   }
  }
 },
 "nbformat": 4,
 "nbformat_minor": 2
}
