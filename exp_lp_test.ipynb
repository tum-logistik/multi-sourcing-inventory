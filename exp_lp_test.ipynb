{
 "cells": [
  {
   "cell_type": "code",
   "execution_count": 1,
   "metadata": {},
   "outputs": [],
   "source": [
    "from env.SourcingEnv import *\n",
    "import numpy as np\n",
    "import gurobipy as gp\n",
    "from gurobipy import GRB\n",
    "import pickle as pkl\n",
    "from env.HelperClasses import *\n",
    "from sim.sim_functions import *\n",
    "import itertools"
   ]
  },
  {
   "cell_type": "code",
   "execution_count": 2,
   "metadata": {},
   "outputs": [],
   "source": [
    "filename = \"output/msource_value_dic_07-04-2022-05-59-13.pkl\"\n",
    "\n",
    "with open(filename, 'rb') as f:\n",
    "    output_obj = pkl.load(f)\n",
    "\n",
    "    value_dic = output_obj[\"state_value_dic\"]\n",
    "    model_params = output_obj[\"model_params\"]\n",
    "    sourcingEnv = output_obj[\"mdp_env\"]\n",
    "\n",
    "    sourcingEnv = SourcingEnv(\n",
    "        lambda_arrival = model_params['mdp_env_params']['lambda'], # or 10\n",
    "        procurement_cost_vec = np.array(model_params['mdp_env_params']['procurement_cost_vec']),\n",
    "        supplier_lead_times_vec = np.array(model_params['mdp_env_params']['supplier_lead_times_vec']),\n",
    "        on_times = np.array([1, 1]), \n",
    "        off_times = np.array([np.Inf, np.Inf]))"
   ]
  },
  {
   "cell_type": "code",
   "execution_count": 3,
   "metadata": {},
   "outputs": [
    {
     "name": "stdout",
     "output_type": "stream",
     "text": [
      "Set parameter CSQueueTimeout to value 120\n",
      "Set parameter CSIdleTimeout to value 60\n",
      "Set parameter ServerTimeout to value 10\n",
      "Set parameter TokenServer to value \"10.162.183.44\"\n"
     ]
    }
   ],
   "source": [
    "state_backorders = list(itertools.product(range(MAX_INVEN - BACKORDER_MAX), range(sourcingEnv.n_suppliers)))\n",
    "state_s = list(range(MAX_INVEN - BACKORDER_MAX))\n",
    "state_onoff = list(itertools.product(range(2), range(sourcingEnv.n_suppliers)))\n",
    "\n",
    "possible_state_tuples = list(itertools.product(state_s, state_backorders, state_onoff))\n",
    "poss_states = [[x[0], np.array(list(x[1])), np.array(list(x[2]))] for x in possible_state_tuples]\n",
    "\n",
    "action_space_tup = list(itertools.product(range(sourcingEnv.action_size), range(sourcingEnv.n_suppliers))) \n",
    "action_space = [np.array(list(x)) for x in action_space_tup]\n",
    "\n",
    "m = gp.Model(\"MDP\")\n",
    "x = {}\n",
    "\n",
    "for state in poss_states:\n",
    "    for a in action_space:\n",
    "        state_rep = MState(state[0], sourcingEnv.n_suppliers, state[1], state[2])\n",
    "        state_rep_str = str(state_rep)\n",
    "        a_rep = repr(list(a))\n",
    "        cost = cost_calc_expected_di(sourcingEnv, a, custom_state = state_rep)\n",
    "        x[state_rep_str, a_rep] = m.addVar(obj = cost, name='x-'+str(state)+\"-\"+str(a))\n",
    "        m.addConstr(x[state_rep_str, a_rep] >= 0)\n",
    "        "
   ]
  },
  {
   "cell_type": "code",
   "execution_count": null,
   "metadata": {},
   "outputs": [],
   "source": []
  },
  {
   "cell_type": "code",
   "execution_count": 12,
   "metadata": {},
   "outputs": [
    {
     "ename": "KeyboardInterrupt",
     "evalue": "",
     "output_type": "error",
     "traceback": [
      "\u001b[0;31m---------------------------------------------------------------------------\u001b[0m",
      "\u001b[0;31mKeyboardInterrupt\u001b[0m                         Traceback (most recent call last)",
      "\u001b[1;32m/home/larkin/code/multi-sourcing-inventory/exp_lp_test.ipynb Cell 4\u001b[0m in \u001b[0;36m<cell line: 1>\u001b[0;34m()\u001b[0m\n\u001b[1;32m      <a href='vscode-notebook-cell:/home/larkin/code/multi-sourcing-inventory/exp_lp_test.ipynb#W6sZmlsZQ%3D%3D?line=1'>2</a>\u001b[0m tau \u001b[39m=\u001b[39m sourcingEnv\u001b[39m.\u001b[39mcompute_event_arrival_time(a)\n\u001b[1;32m      <a href='vscode-notebook-cell:/home/larkin/code/multi-sourcing-inventory/exp_lp_test.ipynb#W6sZmlsZQ%3D%3D?line=2'>3</a>\u001b[0m state_rep_str \u001b[39m=\u001b[39m \u001b[39mstr\u001b[39m(MState(state[\u001b[39m0\u001b[39m], sourcingEnv\u001b[39m.\u001b[39mn_suppliers, state[\u001b[39m1\u001b[39m], state[\u001b[39m2\u001b[39m]))\n\u001b[0;32m----> <a href='vscode-notebook-cell:/home/larkin/code/multi-sourcing-inventory/exp_lp_test.ipynb#W6sZmlsZQ%3D%3D?line=3'>4</a>\u001b[0m m\u001b[39m.\u001b[39maddConstr(\u001b[39msum\u001b[39m(x[state_rep_str, \u001b[39mrepr\u001b[39m(\u001b[39mlist\u001b[39m(a))] \u001b[39mfor\u001b[39;00m a \u001b[39min\u001b[39;00m action_space) \u001b[39m-\u001b[39m \u001b[39msum\u001b[39;49m(tau\u001b[39m*\u001b[39;49mx[\u001b[39mstr\u001b[39;49m(MState(j[\u001b[39m0\u001b[39;49m], sourcingEnv\u001b[39m.\u001b[39;49mn_suppliers, j[\u001b[39m1\u001b[39;49m], j[\u001b[39m2\u001b[39;49m])), \u001b[39mrepr\u001b[39;49m(\u001b[39mlist\u001b[39;49m(a))] \u001b[39mfor\u001b[39;49;00m j \u001b[39min\u001b[39;49;00m poss_states \u001b[39mfor\u001b[39;49;00m a \u001b[39min\u001b[39;49;00m action_space) \u001b[39m==\u001b[39m \u001b[39m0\u001b[39m)\n",
      "\u001b[1;32m/home/larkin/code/multi-sourcing-inventory/exp_lp_test.ipynb Cell 4\u001b[0m in \u001b[0;36m<genexpr>\u001b[0;34m(.0)\u001b[0m\n\u001b[1;32m      <a href='vscode-notebook-cell:/home/larkin/code/multi-sourcing-inventory/exp_lp_test.ipynb#W6sZmlsZQ%3D%3D?line=1'>2</a>\u001b[0m tau \u001b[39m=\u001b[39m sourcingEnv\u001b[39m.\u001b[39mcompute_event_arrival_time(a)\n\u001b[1;32m      <a href='vscode-notebook-cell:/home/larkin/code/multi-sourcing-inventory/exp_lp_test.ipynb#W6sZmlsZQ%3D%3D?line=2'>3</a>\u001b[0m state_rep_str \u001b[39m=\u001b[39m \u001b[39mstr\u001b[39m(MState(state[\u001b[39m0\u001b[39m], sourcingEnv\u001b[39m.\u001b[39mn_suppliers, state[\u001b[39m1\u001b[39m], state[\u001b[39m2\u001b[39m]))\n\u001b[0;32m----> <a href='vscode-notebook-cell:/home/larkin/code/multi-sourcing-inventory/exp_lp_test.ipynb#W6sZmlsZQ%3D%3D?line=3'>4</a>\u001b[0m m\u001b[39m.\u001b[39maddConstr(\u001b[39msum\u001b[39m(x[state_rep_str, \u001b[39mrepr\u001b[39m(\u001b[39mlist\u001b[39m(a))] \u001b[39mfor\u001b[39;00m a \u001b[39min\u001b[39;00m action_space) \u001b[39m-\u001b[39m \u001b[39msum\u001b[39m(tau\u001b[39m*\u001b[39mx[\u001b[39mstr\u001b[39;49m(MState(j[\u001b[39m0\u001b[39;49m], sourcingEnv\u001b[39m.\u001b[39;49mn_suppliers, j[\u001b[39m1\u001b[39;49m], j[\u001b[39m2\u001b[39;49m])), \u001b[39mrepr\u001b[39m(\u001b[39mlist\u001b[39m(a))] \u001b[39mfor\u001b[39;00m j \u001b[39min\u001b[39;00m poss_states \u001b[39mfor\u001b[39;00m a \u001b[39min\u001b[39;00m action_space) \u001b[39m==\u001b[39m \u001b[39m0\u001b[39m)\n",
      "File \u001b[0;32m~/code/multi-sourcing-inventory/env/HelperClasses.py:28\u001b[0m, in \u001b[0;36mMState.__str__\u001b[0;34m(self)\u001b[0m\n\u001b[1;32m     27\u001b[0m \u001b[39mdef\u001b[39;00m \u001b[39m__str__\u001b[39m(\u001b[39mself\u001b[39m):\n\u001b[0;32m---> 28\u001b[0m     \u001b[39mreturn\u001b[39;00m \u001b[39m\"\u001b[39;49m\u001b[39mStock: \u001b[39;49m\u001b[39m{fname}\u001b[39;49;00m\u001b[39m, n backorders: \u001b[39;49m\u001b[39m{nb}\u001b[39;49;00m\u001b[39m, supplier status (on/off): \u001b[39;49m\u001b[39m{sup_stat}\u001b[39;49;00m\u001b[39m\"\u001b[39;49m\u001b[39m.\u001b[39;49mformat(fname \u001b[39m=\u001b[39;49m \u001b[39mself\u001b[39;49m\u001b[39m.\u001b[39;49ms, nb \u001b[39m=\u001b[39;49m \u001b[39mself\u001b[39;49m\u001b[39m.\u001b[39;49mn_backorders, sup_stat \u001b[39m=\u001b[39;49m \u001b[39mself\u001b[39;49m\u001b[39m.\u001b[39;49mflag_on_off)\n",
      "File \u001b[0;32m~/code/multi-sourcing-inventory/.multi-sourcing-env/lib/python3.8/site-packages/numpy/core/arrayprint.py:1592\u001b[0m, in \u001b[0;36m_array_str_implementation\u001b[0;34m(a, max_line_width, precision, suppress_small, array2string)\u001b[0m\n\u001b[1;32m   1586\u001b[0m \u001b[39mif\u001b[39;00m a\u001b[39m.\u001b[39mshape \u001b[39m==\u001b[39m ():\n\u001b[1;32m   1587\u001b[0m     \u001b[39m# obtain a scalar and call str on it, avoiding problems for subclasses\u001b[39;00m\n\u001b[1;32m   1588\u001b[0m     \u001b[39m# for which indexing with () returns a 0d instead of a scalar by using\u001b[39;00m\n\u001b[1;32m   1589\u001b[0m     \u001b[39m# ndarray's getindex. Also guard against recursive 0d object arrays.\u001b[39;00m\n\u001b[1;32m   1590\u001b[0m     \u001b[39mreturn\u001b[39;00m _guarded_repr_or_str(np\u001b[39m.\u001b[39mndarray\u001b[39m.\u001b[39m\u001b[39m__getitem__\u001b[39m(a, ()))\n\u001b[0;32m-> 1592\u001b[0m \u001b[39mreturn\u001b[39;00m array2string(a, max_line_width, precision, suppress_small, \u001b[39m'\u001b[39;49m\u001b[39m \u001b[39;49m\u001b[39m'\u001b[39;49m, \u001b[39m\"\u001b[39;49m\u001b[39m\"\u001b[39;49m)\n",
      "File \u001b[0;32m~/code/multi-sourcing-inventory/.multi-sourcing-env/lib/python3.8/site-packages/numpy/core/arrayprint.py:736\u001b[0m, in \u001b[0;36marray2string\u001b[0;34m(a, max_line_width, precision, suppress_small, separator, prefix, style, formatter, threshold, edgeitems, sign, floatmode, suffix, legacy)\u001b[0m\n\u001b[1;32m    733\u001b[0m \u001b[39mif\u001b[39;00m a\u001b[39m.\u001b[39msize \u001b[39m==\u001b[39m \u001b[39m0\u001b[39m:\n\u001b[1;32m    734\u001b[0m     \u001b[39mreturn\u001b[39;00m \u001b[39m\"\u001b[39m\u001b[39m[]\u001b[39m\u001b[39m\"\u001b[39m\n\u001b[0;32m--> 736\u001b[0m \u001b[39mreturn\u001b[39;00m _array2string(a, options, separator, prefix)\n",
      "File \u001b[0;32m~/code/multi-sourcing-inventory/.multi-sourcing-env/lib/python3.8/site-packages/numpy/core/arrayprint.py:513\u001b[0m, in \u001b[0;36m_recursive_guard.<locals>.decorating_function.<locals>.wrapper\u001b[0;34m(self, *args, **kwargs)\u001b[0m\n\u001b[1;32m    511\u001b[0m repr_running\u001b[39m.\u001b[39madd(key)\n\u001b[1;32m    512\u001b[0m \u001b[39mtry\u001b[39;00m:\n\u001b[0;32m--> 513\u001b[0m     \u001b[39mreturn\u001b[39;00m f(\u001b[39mself\u001b[39;49m, \u001b[39m*\u001b[39;49margs, \u001b[39m*\u001b[39;49m\u001b[39m*\u001b[39;49mkwargs)\n\u001b[1;32m    514\u001b[0m \u001b[39mfinally\u001b[39;00m:\n\u001b[1;32m    515\u001b[0m     repr_running\u001b[39m.\u001b[39mdiscard(key)\n",
      "File \u001b[0;32m~/code/multi-sourcing-inventory/.multi-sourcing-env/lib/python3.8/site-packages/numpy/core/arrayprint.py:539\u001b[0m, in \u001b[0;36m_array2string\u001b[0;34m(a, options, separator, prefix)\u001b[0m\n\u001b[1;32m    536\u001b[0m     summary_insert \u001b[39m=\u001b[39m \u001b[39m\"\u001b[39m\u001b[39m\"\u001b[39m\n\u001b[1;32m    538\u001b[0m \u001b[39m# find the right formatting function for the array\u001b[39;00m\n\u001b[0;32m--> 539\u001b[0m format_function \u001b[39m=\u001b[39m _get_format_function(data, \u001b[39m*\u001b[39;49m\u001b[39m*\u001b[39;49moptions)\n\u001b[1;32m    541\u001b[0m \u001b[39m# skip over \"[\"\u001b[39;00m\n\u001b[1;32m    542\u001b[0m next_line_prefix \u001b[39m=\u001b[39m \u001b[39m\"\u001b[39m\u001b[39m \u001b[39m\u001b[39m\"\u001b[39m\n",
      "File \u001b[0;32m~/code/multi-sourcing-inventory/.multi-sourcing-env/lib/python3.8/site-packages/numpy/core/arrayprint.py:467\u001b[0m, in \u001b[0;36m_get_format_function\u001b[0;34m(data, **options)\u001b[0m\n\u001b[1;32m    465\u001b[0m         \u001b[39mreturn\u001b[39;00m formatdict[\u001b[39m'\u001b[39m\u001b[39mtimedelta\u001b[39m\u001b[39m'\u001b[39m]()\n\u001b[1;32m    466\u001b[0m     \u001b[39melse\u001b[39;00m:\n\u001b[0;32m--> 467\u001b[0m         \u001b[39mreturn\u001b[39;00m formatdict[\u001b[39m'\u001b[39;49m\u001b[39mint\u001b[39;49m\u001b[39m'\u001b[39;49m]()\n\u001b[1;32m    468\u001b[0m \u001b[39melif\u001b[39;00m \u001b[39missubclass\u001b[39m(dtypeobj, _nt\u001b[39m.\u001b[39mfloating):\n\u001b[1;32m    469\u001b[0m     \u001b[39mif\u001b[39;00m \u001b[39missubclass\u001b[39m(dtypeobj, _nt\u001b[39m.\u001b[39mlongfloat):\n",
      "File \u001b[0;32m~/code/multi-sourcing-inventory/.multi-sourcing-env/lib/python3.8/site-packages/numpy/core/arrayprint.py:410\u001b[0m, in \u001b[0;36m_get_formatdict.<locals>.<lambda>\u001b[0;34m()\u001b[0m\n\u001b[1;32m    403\u001b[0m \u001b[39mdef\u001b[39;00m \u001b[39m_get_formatdict\u001b[39m(data, \u001b[39m*\u001b[39m, precision, floatmode, suppress, sign, legacy,\n\u001b[1;32m    404\u001b[0m                     formatter, \u001b[39m*\u001b[39m\u001b[39m*\u001b[39mkwargs):\n\u001b[1;32m    405\u001b[0m     \u001b[39m# note: extra arguments in kwargs are ignored\u001b[39;00m\n\u001b[1;32m    406\u001b[0m \n\u001b[1;32m    407\u001b[0m     \u001b[39m# wrapped in lambdas to avoid taking a code path with the wrong type of data\u001b[39;00m\n\u001b[1;32m    408\u001b[0m     formatdict \u001b[39m=\u001b[39m {\n\u001b[1;32m    409\u001b[0m         \u001b[39m'\u001b[39m\u001b[39mbool\u001b[39m\u001b[39m'\u001b[39m: \u001b[39mlambda\u001b[39;00m: BoolFormat(data),\n\u001b[0;32m--> 410\u001b[0m         \u001b[39m'\u001b[39m\u001b[39mint\u001b[39m\u001b[39m'\u001b[39m: \u001b[39mlambda\u001b[39;00m: IntegerFormat(data),\n\u001b[1;32m    411\u001b[0m         \u001b[39m'\u001b[39m\u001b[39mfloat\u001b[39m\u001b[39m'\u001b[39m: \u001b[39mlambda\u001b[39;00m: FloatingFormat(\n\u001b[1;32m    412\u001b[0m             data, precision, floatmode, suppress, sign, legacy\u001b[39m=\u001b[39mlegacy),\n\u001b[1;32m    413\u001b[0m         \u001b[39m'\u001b[39m\u001b[39mlongfloat\u001b[39m\u001b[39m'\u001b[39m: \u001b[39mlambda\u001b[39;00m: FloatingFormat(\n\u001b[1;32m    414\u001b[0m             data, precision, floatmode, suppress, sign, legacy\u001b[39m=\u001b[39mlegacy),\n\u001b[1;32m    415\u001b[0m         \u001b[39m'\u001b[39m\u001b[39mcomplexfloat\u001b[39m\u001b[39m'\u001b[39m: \u001b[39mlambda\u001b[39;00m: ComplexFloatingFormat(\n\u001b[1;32m    416\u001b[0m             data, precision, floatmode, suppress, sign, legacy\u001b[39m=\u001b[39mlegacy),\n\u001b[1;32m    417\u001b[0m         \u001b[39m'\u001b[39m\u001b[39mlongcomplexfloat\u001b[39m\u001b[39m'\u001b[39m: \u001b[39mlambda\u001b[39;00m: ComplexFloatingFormat(\n\u001b[1;32m    418\u001b[0m             data, precision, floatmode, suppress, sign, legacy\u001b[39m=\u001b[39mlegacy),\n\u001b[1;32m    419\u001b[0m         \u001b[39m'\u001b[39m\u001b[39mdatetime\u001b[39m\u001b[39m'\u001b[39m: \u001b[39mlambda\u001b[39;00m: DatetimeFormat(data, legacy\u001b[39m=\u001b[39mlegacy),\n\u001b[1;32m    420\u001b[0m         \u001b[39m'\u001b[39m\u001b[39mtimedelta\u001b[39m\u001b[39m'\u001b[39m: \u001b[39mlambda\u001b[39;00m: TimedeltaFormat(data),\n\u001b[1;32m    421\u001b[0m         \u001b[39m'\u001b[39m\u001b[39mobject\u001b[39m\u001b[39m'\u001b[39m: \u001b[39mlambda\u001b[39;00m: _object_format,\n\u001b[1;32m    422\u001b[0m         \u001b[39m'\u001b[39m\u001b[39mvoid\u001b[39m\u001b[39m'\u001b[39m: \u001b[39mlambda\u001b[39;00m: str_format,\n\u001b[1;32m    423\u001b[0m         \u001b[39m'\u001b[39m\u001b[39mnumpystr\u001b[39m\u001b[39m'\u001b[39m: \u001b[39mlambda\u001b[39;00m: repr_format}\n\u001b[1;32m    425\u001b[0m     \u001b[39m# we need to wrap values in `formatter` in a lambda, so that the interface\u001b[39;00m\n\u001b[1;32m    426\u001b[0m     \u001b[39m# is the same as the above values.\u001b[39;00m\n\u001b[1;32m    427\u001b[0m     \u001b[39mdef\u001b[39;00m \u001b[39mindirect\u001b[39m(x):\n",
      "File \u001b[0;32m~/code/multi-sourcing-inventory/.multi-sourcing-env/lib/python3.8/site-packages/numpy/core/arrayprint.py:1225\u001b[0m, in \u001b[0;36mIntegerFormat.__init__\u001b[0;34m(self, data)\u001b[0m\n\u001b[1;32m   1223\u001b[0m \u001b[39mdef\u001b[39;00m \u001b[39m__init__\u001b[39m(\u001b[39mself\u001b[39m, data):\n\u001b[1;32m   1224\u001b[0m     \u001b[39mif\u001b[39;00m data\u001b[39m.\u001b[39msize \u001b[39m>\u001b[39m \u001b[39m0\u001b[39m:\n\u001b[0;32m-> 1225\u001b[0m         max_str_len \u001b[39m=\u001b[39m \u001b[39mmax\u001b[39m(\u001b[39mlen\u001b[39m(\u001b[39mstr\u001b[39m(np\u001b[39m.\u001b[39;49mmax(data))),\n\u001b[1;32m   1226\u001b[0m                           \u001b[39mlen\u001b[39m(\u001b[39mstr\u001b[39m(np\u001b[39m.\u001b[39mmin(data))))\n\u001b[1;32m   1227\u001b[0m     \u001b[39melse\u001b[39;00m:\n\u001b[1;32m   1228\u001b[0m         max_str_len \u001b[39m=\u001b[39m \u001b[39m0\u001b[39m\n",
      "File \u001b[0;32m<__array_function__ internals>:180\u001b[0m, in \u001b[0;36mamax\u001b[0;34m(*args, **kwargs)\u001b[0m\n",
      "File \u001b[0;32m~/code/multi-sourcing-inventory/.multi-sourcing-env/lib/python3.8/site-packages/numpy/core/fromnumeric.py:2791\u001b[0m, in \u001b[0;36mamax\u001b[0;34m(a, axis, out, keepdims, initial, where)\u001b[0m\n\u001b[1;32m   2675\u001b[0m \u001b[39m@array_function_dispatch\u001b[39m(_amax_dispatcher)\n\u001b[1;32m   2676\u001b[0m \u001b[39mdef\u001b[39;00m \u001b[39mamax\u001b[39m(a, axis\u001b[39m=\u001b[39m\u001b[39mNone\u001b[39;00m, out\u001b[39m=\u001b[39m\u001b[39mNone\u001b[39;00m, keepdims\u001b[39m=\u001b[39mnp\u001b[39m.\u001b[39m_NoValue, initial\u001b[39m=\u001b[39mnp\u001b[39m.\u001b[39m_NoValue,\n\u001b[1;32m   2677\u001b[0m          where\u001b[39m=\u001b[39mnp\u001b[39m.\u001b[39m_NoValue):\n\u001b[1;32m   2678\u001b[0m     \u001b[39m\"\"\"\u001b[39;00m\n\u001b[1;32m   2679\u001b[0m \u001b[39m    Return the maximum of an array or maximum along an axis.\u001b[39;00m\n\u001b[1;32m   2680\u001b[0m \n\u001b[0;32m   (...)\u001b[0m\n\u001b[1;32m   2789\u001b[0m \u001b[39m    5\u001b[39;00m\n\u001b[1;32m   2790\u001b[0m \u001b[39m    \"\"\"\u001b[39;00m\n\u001b[0;32m-> 2791\u001b[0m     \u001b[39mreturn\u001b[39;00m _wrapreduction(a, np\u001b[39m.\u001b[39;49mmaximum, \u001b[39m'\u001b[39;49m\u001b[39mmax\u001b[39;49m\u001b[39m'\u001b[39;49m, axis, \u001b[39mNone\u001b[39;49;00m, out,\n\u001b[1;32m   2792\u001b[0m                           keepdims\u001b[39m=\u001b[39;49mkeepdims, initial\u001b[39m=\u001b[39;49minitial, where\u001b[39m=\u001b[39;49mwhere)\n",
      "File \u001b[0;32m~/code/multi-sourcing-inventory/.multi-sourcing-env/lib/python3.8/site-packages/numpy/core/fromnumeric.py:86\u001b[0m, in \u001b[0;36m_wrapreduction\u001b[0;34m(obj, ufunc, method, axis, dtype, out, **kwargs)\u001b[0m\n\u001b[1;32m     83\u001b[0m         \u001b[39melse\u001b[39;00m:\n\u001b[1;32m     84\u001b[0m             \u001b[39mreturn\u001b[39;00m reduction(axis\u001b[39m=\u001b[39maxis, out\u001b[39m=\u001b[39mout, \u001b[39m*\u001b[39m\u001b[39m*\u001b[39mpasskwargs)\n\u001b[0;32m---> 86\u001b[0m \u001b[39mreturn\u001b[39;00m ufunc\u001b[39m.\u001b[39;49mreduce(obj, axis, dtype, out, \u001b[39m*\u001b[39;49m\u001b[39m*\u001b[39;49mpasskwargs)\n",
      "\u001b[0;31mKeyboardInterrupt\u001b[0m: "
     ]
    }
   ],
   "source": [
    "# need to write a pij function\n",
    "\n",
    "for state in poss_states:\n",
    "    # tau = sourcingEnv.compute_event_arrival_time(a)\n",
    "    state_rep_str = str(MState(state[0], sourcingEnv.n_suppliers, state[1], state[2]))\n",
    "    m.addConstr(sum(x[state_rep_str, repr(list(a))] for a in action_space) - sum(pij*x[str(MState(j[0], sourcingEnv.n_suppliers, j[1], j[2])), repr(list(a))] for j in poss_states for a in action_space) == 0)\n"
   ]
  },
  {
   "cell_type": "code",
   "execution_count": null,
   "metadata": {},
   "outputs": [],
   "source": []
  }
 ],
 "metadata": {
  "kernelspec": {
   "display_name": "Python 3.8.10 ('.multi-sourcing-env': venv)",
   "language": "python",
   "name": "python3"
  },
  "language_info": {
   "codemirror_mode": {
    "name": "ipython",
    "version": 3
   },
   "file_extension": ".py",
   "mimetype": "text/x-python",
   "name": "python",
   "nbconvert_exporter": "python",
   "pygments_lexer": "ipython3",
   "version": "3.8.10"
  },
  "orig_nbformat": 4,
  "vscode": {
   "interpreter": {
    "hash": "cd381e17d028bd09dab022bcaf56b43c687ccc8a6f1edc8bc118936389c16b3d"
   }
  }
 },
 "nbformat": 4,
 "nbformat_minor": 2
}
