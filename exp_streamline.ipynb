{
 "cells": [
  {
   "cell_type": "code",
   "execution_count": 19,
   "metadata": {
    "notebookRunGroups": {
     "groupValue": "12"
    }
   },
   "outputs": [],
   "source": [
    "import pickle as pkl\n",
    "from opt.mc_sim import *\n",
    "import time\n",
    "from common.variables import *\n",
    "from opt.eval_policy import *\n",
    "\n",
    "filename = \"output/msource_value_dic_12-13-2022-02-18-47.pkl\"\n",
    "\n",
    "with open(filename, 'rb') as f:\n",
    "    output_obj = pkl.load(f)\n",
    "\n",
    "value_dic = output_obj[\"state_value_dic\"]\n",
    "model_params = output_obj[\"model_params\"]\n",
    "sourcingEnv = output_obj[\"mdp_env\"]\n",
    "\n",
    "# sourcingEnv2 = SourcingEnv(\n",
    "#     lambda_arrival = model_params['mdp_env_params']['lambda'], # or 10\n",
    "#     procurement_cost_vec = np.array(model_params['mdp_env_params']['procurement_cost_vec']),\n",
    "\n",
    "#     supplier_lead_times_vec = np.array(model_params['mdp_env_params']['supplier_lead_times_vec']),\n",
    "#     on_times = np.array(model_params['mdp_env_params']['on_times']), \n",
    "#     off_times = np.array(model_params['mdp_env_params']['off_times']),\n",
    "#     fixed_costs = np.array(model_params['mdp_env_params']['fixed_costs'])) # np.array([np.Inf, np.Inf])) \n",
    "\n",
    "sourcingEnv2 = sourcingEnv\n",
    "\n",
    "s_custom = MState(stock_level = 0, \n",
    "    n_suppliers = N_SUPPLIERS, \n",
    "    n_backorders = np.array([0, 0]), \n",
    "    flag_on_off = np.array([1, 1]))"
   ]
  },
  {
   "cell_type": "code",
   "execution_count": 20,
   "metadata": {},
   "outputs": [
    {
     "name": "stderr",
     "output_type": "stream",
     "text": [
      "100%|██████████| 30/30 [00:18<00:00,  1.61it/s]"
     ]
    },
    {
     "name": "stdout",
     "output_type": "stream",
     "text": [
      "7.182320220933877\n",
      "5.262183273309324\n",
      "2.9611794526152972\n"
     ]
    },
    {
     "name": "stderr",
     "output_type": "stream",
     "text": [
      "\n"
     ]
    }
   ],
   "source": [
    "mc_avg_costs_di = mc_with_policy(sourcingEnv2, start_state = s_custom, \n",
    "    periods = 30,\n",
    "    nested_mc_iters = 30,\n",
    "    big_s = model_params['policy_params']['big_s'],\n",
    "    small_s = model_params['policy_params']['small_s'],\n",
    "    h_cost = model_params['policy_params']['h_cost'],\n",
    "    b_penalty = model_params['policy_params']['b_penalty'],\n",
    "    policy_callback=dual_index_policy,\n",
    "    use_tqdm = True)\n",
    "\n",
    "print(np.mean(np.array(mc_avg_costs_di)))\n",
    "print(np.median(np.array(mc_avg_costs_di)))\n",
    "print(np.std(np.array(mc_avg_costs_di)))"
   ]
  },
  {
   "cell_type": "code",
   "execution_count": 21,
   "metadata": {},
   "outputs": [
    {
     "data": {
      "text/plain": [
       "('larkin/cost-mod', '0258c4ca3f17be494d13b1879627b19f653f96d2')"
      ]
     },
     "execution_count": 21,
     "metadata": {},
     "output_type": "execute_result"
    }
   ],
   "source": [
    "model_params[\"branch_name\"], model_params[\"git_commit\"]"
   ]
  },
  {
   "cell_type": "code",
   "execution_count": 22,
   "metadata": {},
   "outputs": [
    {
     "data": {
      "text/plain": [
       "{'lambda': 50,\n",
       " 'max_inven': 30,\n",
       " 'action_size': 3,\n",
       " 'discount_fac': 1.0,\n",
       " 'procurement_cost_vec': [45, 5],\n",
       " 'supplier_lead_times_vec': [0.08, 0.4],\n",
       " 'on_times': [1, 1],\n",
       " 'off_times': 'no_disrup',\n",
       " 'fixed_costs': [0, 0]}"
      ]
     },
     "execution_count": 22,
     "metadata": {},
     "output_type": "execute_result"
    }
   ],
   "source": [
    "# sourcingEnv2.lambda_arrival = 50\n",
    "# sourcingEnv2.supplier_lead_times_vec = np.array([0.008, 0.04])\n",
    "\n",
    "model_params['mdp_env_params']"
   ]
  },
  {
   "cell_type": "code",
   "execution_count": 23,
   "metadata": {},
   "outputs": [],
   "source": [
    "# output_obj['adp_cost'], output_obj['approx_di_cost'], output_obj['ss_cost']"
   ]
  },
  {
   "cell_type": "code",
   "execution_count": 24,
   "metadata": {},
   "outputs": [
    {
     "name": "stderr",
     "output_type": "stream",
     "text": [
      "100%|██████████| 100/100 [00:00<00:00, 128.72it/s]"
     ]
    },
    {
     "name": "stdout",
     "output_type": "stream",
     "text": [
      "31.614093394901392\n",
      "31.688203174603174\n",
      "2.2315363137438857\n"
     ]
    },
    {
     "name": "stderr",
     "output_type": "stream",
     "text": [
      "\n"
     ]
    }
   ],
   "source": [
    "mc_avg_costs_ss = mc_with_policy(sourcingEnv2, start_state = s_custom, \n",
    "    periods = 30,\n",
    "    nested_mc_iters = 100,\n",
    "    policy_callback = ss_policy_fastest_supp_backlog,\n",
    "    big_s = model_params['policy_params']['big_s'],\n",
    "    small_s = model_params['policy_params']['small_s'],\n",
    "    h_cost = model_params['policy_params']['h_cost'],\n",
    "    b_penalty = model_params['policy_params']['b_penalty'],\n",
    "    use_tqdm = True)\n",
    "\n",
    "print(np.mean(np.array(mc_avg_costs_ss)))\n",
    "print(np.median(np.array(mc_avg_costs_ss)))\n",
    "print(np.std(np.array(mc_avg_costs_ss)))"
   ]
  },
  {
   "cell_type": "code",
   "execution_count": 25,
   "metadata": {},
   "outputs": [
    {
     "data": {
      "image/png": "[encoded data removed]",
      "text/plain": [
       "<Figure size 640x480 with 1 Axes>"
      ]
     },
     "metadata": {},
     "output_type": "display_data"
    }
   ],
   "source": [
    "import matplotlib.pyplot as plt\n",
    "import numpy as np\n",
    "\n",
    "binwidth = 10\n",
    "n, bins, patches = plt.hist(mc_avg_costs_ss, bins=np.arange( np.min(mc_avg_costs_ss), np.max(mc_avg_costs_ss) + binwidth, binwidth))\n",
    "# n, bins, patches = plt.hist(mc_avg_costs, density = True)\n",
    "\n",
    "\n",
    "plt.xlabel('Avg Cost')\n",
    "plt.ylabel('Probability')\n",
    "plt.title('Histogram of Avg costs')\n",
    "plt.xlim(np.min(mc_avg_costs_ss), np.max(mc_avg_costs_ss))\n",
    "plt.ylim(0, np.max(n))\n",
    "plt.grid(True)\n",
    "plt.show()"
   ]
  },
  {
   "cell_type": "code",
   "execution_count": 26,
   "metadata": {},
   "outputs": [],
   "source": [
    "# import matplotlib.pyplot as plt\n",
    "\n",
    "# costs, avg_cost_per_period = mc_episode_with_policy(sourcingEnv2, policy = ss_policy_fastest_supp_backlog, periods = 1000,\n",
    "#     nested_mc_iters = 100,\n",
    "#     policy_callback = ss_policy_fastest_supp_backlog,\n",
    "#     big_s = model_params['policy_params']['big_s'],\n",
    "#     small_s = model_params['policy_params']['small_s'],\n",
    "#     h_cost = model_params['policy_params']['h_cost'],\n",
    "#     b_penalty = model_params['policy_params']['b_penalty'],\n",
    "#     use_tqdm = True)\n",
    "\n",
    "# # costs\n",
    "# plt.plot(costs)"
   ]
  },
  {
   "cell_type": "code",
   "execution_count": 27,
   "metadata": {},
   "outputs": [
    {
     "name": "stderr",
     "output_type": "stream",
     "text": [
      "100%|██████████| 100/100 [00:01<00:00, 93.07it/s]\n",
      "100%|██████████| 100/100 [00:01<00:00, 96.70it/s]"
     ]
    },
    {
     "name": "stdout",
     "output_type": "stream",
     "text": [
      "[58.58524003864005, 8.567963888175576]\n",
      "8.567963888175576\n"
     ]
    },
    {
     "name": "stderr",
     "output_type": "stream",
     "text": [
      "\n"
     ]
    }
   ],
   "source": [
    "single_supplier_mean_costs = []\n",
    "sing_supp_mean_cost = np.Inf\n",
    "for s in range(sourcingEnv2.n_suppliers):\n",
    "\n",
    "    kwargs = {\"periods\" : 30,\n",
    "        \"nested_mc_iters\" : 100,\n",
    "        \"h_cost\": model_params['policy_params']['h_cost'],\n",
    "        \"b_penalty\" : model_params['policy_params']['b_penalty'],\n",
    "        \"supplier_index\": s\n",
    "    }\n",
    "\n",
    "    single_supplier_costs = mc_with_policy(sourcingEnv2, start_state = s_custom, \n",
    "        use_tqdm = True,\n",
    "        policy_callback = single_source_orderupto_policy,\n",
    "        **kwargs)\n",
    "    \n",
    "    sing_supp_mean_cost_i = np.mean(single_supplier_costs)\n",
    "    single_supplier_mean_costs.append(sing_supp_mean_cost_i)\n",
    "    if sing_supp_mean_cost_i < sing_supp_mean_cost:\n",
    "        single_supplier_costs_select = single_supplier_costs\n",
    "        sing_supp_mean_cost = sing_supp_mean_cost_i\n",
    "\n",
    "print(single_supplier_mean_costs)\n",
    "print(np.min(single_supplier_mean_costs))"
   ]
  },
  {
   "cell_type": "code",
   "execution_count": 28,
   "metadata": {},
   "outputs": [
    {
     "data": {
      "image/png": "[encoded data removed]",
      "text/plain": [
       "<Figure size 640x480 with 1 Axes>"
      ]
     },
     "metadata": {},
     "output_type": "display_data"
    }
   ],
   "source": [
    "import matplotlib.pyplot as plt\n",
    "import numpy as np\n",
    "\n",
    "binwidth = 10\n",
    "n, bins, patches = plt.hist(single_supplier_costs_select, bins=np.arange( np.min(single_supplier_costs_select), np.max(single_supplier_costs_select) + binwidth, binwidth))\n",
    "# n, bins, patches = plt.hist(mc_avg_costs, density = True)\n",
    "\n",
    "\n",
    "plt.xlabel('Avg Cost')\n",
    "plt.ylabel('Probability')\n",
    "plt.title('Histogram of Avg costs')\n",
    "plt.xlim(np.min(single_supplier_costs_select), np.max(single_supplier_costs_select))\n",
    "plt.ylim(0, np.max(n))\n",
    "plt.grid(True)\n",
    "plt.show()"
   ]
  },
  {
   "cell_type": "code",
   "execution_count": 29,
   "metadata": {},
   "outputs": [
    {
     "name": "stderr",
     "output_type": "stream",
     "text": [
      "100%|██████████| 30/30 [00:23<00:00,  1.26it/s]"
     ]
    },
    {
     "name": "stdout",
     "output_type": "stream",
     "text": [
      "6.295010950717394\n",
      "5.288088035214086\n",
      "2.1073116917320096\n"
     ]
    },
    {
     "name": "stderr",
     "output_type": "stream",
     "text": [
      "\n"
     ]
    }
   ],
   "source": [
    "mc_avg_costs_di = mc_with_policy(sourcingEnv2, start_state = s_custom, \n",
    "    periods = 30,\n",
    "    nested_mc_iters = 30,\n",
    "    big_s = model_params['policy_params']['big_s'],\n",
    "    small_s = model_params['policy_params']['small_s'],\n",
    "    h_cost = model_params['policy_params']['h_cost'],\n",
    "    b_penalty = model_params['policy_params']['b_penalty'],\n",
    "    policy_callback=dual_index_policy,\n",
    "    use_tqdm = True)\n",
    "\n",
    "print(np.mean(np.array(mc_avg_costs_di)))\n",
    "print(np.median(np.array(mc_avg_costs_di)))\n",
    "print(np.std(np.array(mc_avg_costs_di)))"
   ]
  },
  {
   "cell_type": "code",
   "execution_count": 30,
   "metadata": {},
   "outputs": [
    {
     "data": {
      "image/png": "[encoded data removed]",
      "text/plain": [
       "<Figure size 640x480 with 1 Axes>"
      ]
     },
     "metadata": {},
     "output_type": "display_data"
    }
   ],
   "source": [
    "import matplotlib.pyplot as plt\n",
    "import numpy as np\n",
    "\n",
    "binwidth = 10\n",
    "n, bins, patches = plt.hist(mc_avg_costs_di, bins=np.arange( np.min(mc_avg_costs_di), np.max(mc_avg_costs_di) + binwidth, binwidth))\n",
    "# n, bins, patches = plt.hist(mc_avg_costs, density = True)\n",
    "\n",
    "\n",
    "plt.xlabel('Avg Cost')\n",
    "plt.ylabel('Probability')\n",
    "plt.title('Histogram of Avg costs')\n",
    "plt.xlim(np.min(mc_avg_costs_di), np.max(mc_avg_costs_di))\n",
    "plt.ylim(0, np.max(n))\n",
    "plt.grid(True)\n",
    "plt.show()"
   ]
  },
  {
   "cell_type": "code",
   "execution_count": 31,
   "metadata": {},
   "outputs": [
    {
     "name": "stderr",
     "output_type": "stream",
     "text": [
      "100%|██████████| 30/30 [00:12<00:00,  2.32it/s]"
     ]
    },
    {
     "name": "stdout",
     "output_type": "stream",
     "text": [
      "7.005544455556373\n",
      "5.341611844737895\n",
      "2.3763829334629682\n"
     ]
    },
    {
     "name": "stderr",
     "output_type": "stream",
     "text": [
      "\n"
     ]
    }
   ],
   "source": [
    "from sim.dual_index_v1 import *\n",
    "mc_avg_costs_di = mc_with_policy(sourcingEnv2, start_state = s_custom, \n",
    "    periods = 30,\n",
    "    nested_mc_iters = 30,\n",
    "    big_s = model_params['policy_params']['big_s'],\n",
    "    small_s = model_params['policy_params']['small_s'],\n",
    "    h_cost = model_params['policy_params']['h_cost'],\n",
    "    b_penalty = model_params['policy_params']['b_penalty'],\n",
    "    policy_callback=dual_index_policy_v1,\n",
    "    use_tqdm = True)\n",
    "\n",
    "print(np.mean(np.array(mc_avg_costs_di)))\n",
    "print(np.median(np.array(mc_avg_costs_di)))\n",
    "print(np.std(np.array(mc_avg_costs_di)))"
   ]
  },
  {
   "cell_type": "code",
   "execution_count": 32,
   "metadata": {},
   "outputs": [
    {
     "data": {
      "image/png": "[encoded data removed]",
      "text/plain": [
       "<Figure size 640x480 with 1 Axes>"
      ]
     },
     "metadata": {},
     "output_type": "display_data"
    }
   ],
   "source": [
    "import matplotlib.pyplot as plt\n",
    "import numpy as np\n",
    "\n",
    "binwidth = 10\n",
    "n, bins, patches = plt.hist(mc_avg_costs_di, bins=np.arange(np.min(mc_avg_costs_di), np.max(mc_avg_costs_di) + binwidth, binwidth))\n",
    "# n, bins, patches = plt.hist(mc_avg_costs, density = True)\n",
    "\n",
    "\n",
    "plt.xlabel('Avg Cost')\n",
    "plt.ylabel('Probability')\n",
    "plt.title('Histogram of Avg costs')\n",
    "plt.xlim(np.min(mc_avg_costs_di), np.max(mc_avg_costs_di))\n",
    "plt.ylim(0, np.max(n))\n",
    "plt.grid(True)\n",
    "plt.show()"
   ]
  },
  {
   "cell_type": "code",
   "execution_count": 33,
   "metadata": {},
   "outputs": [
    {
     "name": "stderr",
     "output_type": "stream",
     "text": [
      "100%|██████████| 5/5 [00:59<00:00, 11.94s/it]"
     ]
    },
    {
     "name": "stdout",
     "output_type": "stream",
     "text": [
      "4.565002736024225\n",
      "4.608060553938815\n",
      "0.10360070697975703\n"
     ]
    },
    {
     "name": "stderr",
     "output_type": "stream",
     "text": [
      "\n"
     ]
    }
   ],
   "source": [
    "myopic_cost = mc_with_policy(sourcingEnv2, start_state = s_custom, \n",
    "    periods = 30,\n",
    "    nested_mc_iters = 5,\n",
    "    big_s = model_params['policy_params']['big_s'],\n",
    "    small_s = model_params['policy_params']['small_s'],\n",
    "    h_cost = model_params['policy_params']['h_cost'],\n",
    "    b_penalty = model_params['policy_params']['b_penalty'],\n",
    "    max_order = 5, # BIG_S,\n",
    "    policy_callback=myopic2_policy,\n",
    "    use_tqdm = True)\n",
    "\n",
    "print(np.mean(myopic_cost))\n",
    "print(np.median(np.array(myopic_cost)))\n",
    "print(np.std(np.array(myopic_cost)))"
   ]
  },
  {
   "cell_type": "code",
   "execution_count": 34,
   "metadata": {},
   "outputs": [
    {
     "data": {
      "image/png": "[encoded data removed]",
      "text/plain": [
       "<Figure size 640x480 with 1 Axes>"
      ]
     },
     "metadata": {},
     "output_type": "display_data"
    }
   ],
   "source": [
    "import matplotlib.pyplot as plt\n",
    "import numpy as np\n",
    "\n",
    "binwidth = 10\n",
    "n, bins, patches = plt.hist(myopic_cost, bins=np.arange( np.min(myopic_cost), np.max(myopic_cost) + binwidth, binwidth))\n",
    "# n, bins, patches = plt.hist(mc_avg_costs, density = True)\n",
    "\n",
    "plt.xlabel('Avg Cost')\n",
    "plt.ylabel('Probability')\n",
    "plt.title('Histogram of Avg costs')\n",
    "plt.xlim(np.min(myopic_cost), np.max(myopic_cost))\n",
    "plt.ylim(0, np.max(n))\n",
    "plt.grid(True)\n",
    "plt.show()"
   ]
  },
  {
   "cell_type": "code",
   "execution_count": 35,
   "metadata": {},
   "outputs": [
    {
     "name": "stderr",
     "output_type": "stream",
     "text": [
      "100%|██████████| 10/10 [12:51<00:00, 77.19s/it]"
     ]
    },
    {
     "name": "stdout",
     "output_type": "stream",
     "text": [
      "4.2826428562524965\n",
      "4.324421848904608\n",
      "0.5554269814669649\n"
     ]
    },
    {
     "name": "stderr",
     "output_type": "stream",
     "text": [
      "\n"
     ]
    }
   ],
   "source": [
    "kwargs = {\n",
    "    \"value_dic\": value_dic, \n",
    "    \"periods\": 30, \n",
    "    \"periods_val_it\": 10,\n",
    "    \"nested_mc_iters\": 10,\n",
    "    \"max_stock\": 4, # BIG_S,\n",
    "    \"discount_fac\": DISCOUNT_FAC,\n",
    "    \"h_cost\": model_params['policy_params']['h_cost'],\n",
    "    \"b_penalty\": model_params['policy_params']['b_penalty'],\n",
    "    \"n_visit_lim\": N_VISIT_LIM,\n",
    "    \"default_ss_policy\": ss_policy_fastest_supp_backlog,\n",
    "    \"safe_factor\": 1.1, #SAFE_FACTOR,\n",
    "    \"sub_eval_periods\": SUB_EVAL_PERIODS,\n",
    "    \"sub_nested_mc_iter\": SUB_NESTED_MC_ITER,\n",
    "    \"approx_eval\": True\n",
    "}\n",
    "\n",
    "mc_avg_costs = mc_with_policy(sourcingEnv2, \n",
    "    start_state = s_custom, \n",
    "    use_tqdm = True,\n",
    "    policy_callback = eval_policy_from_value_dic,\n",
    "    **kwargs)\n",
    "\n",
    "print(np.mean(mc_avg_costs))\n",
    "print(np.median(mc_avg_costs))\n",
    "print(np.std(mc_avg_costs))"
   ]
  },
  {
   "cell_type": "code",
   "execution_count": 36,
   "metadata": {},
   "outputs": [
    {
     "data": {
      "image/png": "[encoded data removed]",
      "text/plain": [
       "<Figure size 640x480 with 1 Axes>"
      ]
     },
     "metadata": {},
     "output_type": "display_data"
    }
   ],
   "source": [
    "import matplotlib.pyplot as plt\n",
    "import numpy as np\n",
    "\n",
    "binwidth = 3\n",
    "n, bins, patches = plt.hist(mc_avg_costs, bins=np.arange( np.min(mc_avg_costs) - binwidth, np.max(mc_avg_costs) + binwidth, binwidth))\n",
    "# n, bins, patches = plt.hist(mc_avg_costs, density = True)\n",
    "\n",
    "plt.xlabel('Avg Cost')\n",
    "plt.ylabel('Probability')\n",
    "plt.title('Histogram of Avg costs')\n",
    "plt.xlim(np.min(mc_avg_costs), np.max(mc_avg_costs))\n",
    "plt.ylim(0, np.max(n))\n",
    "plt.grid(True)\n",
    "plt.show()"
   ]
  },
  {
   "cell_type": "code",
   "execution_count": null,
   "metadata": {},
   "outputs": [],
   "source": []
  }
 ],
 "metadata": {
  "kernelspec": {
   "display_name": ".multi-sourcing-env",
   "language": "python",
   "name": "python3"
  },
  "language_info": {
   "codemirror_mode": {
    "name": "ipython",
    "version": 3
   },
   "file_extension": ".py",
   "mimetype": "text/x-python",
   "name": "python",
   "nbconvert_exporter": "python",
   "pygments_lexer": "ipython3",
   "version": "3.8.10"
  },
  "orig_nbformat": 4,
  "vscode": {
   "interpreter": {
    "hash": "cd381e17d028bd09dab022bcaf56b43c687ccc8a6f1edc8bc118936389c16b3d"
   }
  }
 },
 "nbformat": 4,
 "nbformat_minor": 2
}
