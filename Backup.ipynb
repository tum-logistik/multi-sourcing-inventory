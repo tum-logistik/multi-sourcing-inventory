{
 "cells": [
  {
   "cell_type": "code",
   "execution_count": 13,
   "id": "01fdb7a0",
   "metadata": {},
   "outputs": [],
   "source": [
    "from opt.mc_sim import *\n",
    "from common.variables import *\n",
    "from sim.sim_functions import *\n",
    "from GymEnv import CustomGymEnv\n",
    "import torch\n",
    "import gym\n",
    "from gym import spaces\n",
    "from gym import Env\n",
    "from gym.spaces import Discrete, Box, MultiDiscrete, Tuple, MultiBinary\n"
   ]
  },
  {
   "cell_type": "code",
   "execution_count": 14,
   "id": "e6520ba0",
   "metadata": {},
   "outputs": [],
   "source": [
    "s = SourcingEnv()\n",
    "custom_gym_env = CustomGymEnv(s)"
   ]
  },
  {
   "cell_type": "code",
   "execution_count": 10,
   "id": "04c58625",
   "metadata": {},
   "outputs": [
    {
     "data": {
      "text/plain": [
       "'Stock: 0, n backorders: [0. 0.], supplier status (on/off): [1. 1.]'"
      ]
     },
     "execution_count": 10,
     "metadata": {},
     "output_type": "execute_result"
    }
   ],
   "source": [
    "m_state = custom_gym_env.SourcingEnv.current_state\n",
    "\n",
    "str(m_state)"
   ]
  },
  {
   "cell_type": "code",
   "execution_count": 12,
   "id": "55b7e223",
   "metadata": {},
   "outputs": [
    {
     "data": {
      "text/plain": [
       "Box([-30   0   0   0   0], [30 30 30  1  1], (5,), int64)"
      ]
     },
     "execution_count": 12,
     "metadata": {},
     "output_type": "execute_result"
    }
   ],
   "source": [
    "custom_gym_env.observation_space"
   ]
  },
  {
   "cell_type": "code",
   "execution_count": null,
   "id": "32da78ef",
   "metadata": {},
   "outputs": [],
   "source": []
  },
  {
   "cell_type": "code",
   "execution_count": null,
   "id": "a2fd5444",
   "metadata": {},
   "outputs": [],
   "source": []
  },
  {
   "cell_type": "markdown",
   "id": "1b892894",
   "metadata": {},
   "source": [
    "# manual tests"
   ]
  },
  {
   "cell_type": "code",
   "execution_count": null,
   "id": "3788afc5",
   "metadata": {},
   "outputs": [],
   "source": [
    "next_state_array, reward, done, info = custom_gym_env.step(np.array([0, 0]))"
   ]
  },
  {
   "cell_type": "code",
   "execution_count": null,
   "id": "7ae3466e",
   "metadata": {},
   "outputs": [],
   "source": [
    "str(next_state_array)"
   ]
  },
  {
   "cell_type": "code",
   "execution_count": null,
   "id": "717c00de",
   "metadata": {},
   "outputs": [],
   "source": [
    "reward"
   ]
  },
  {
   "cell_type": "code",
   "execution_count": null,
   "id": "30c10dd8",
   "metadata": {},
   "outputs": [],
   "source": [
    "next_state_array, reward, done, info = custom_gym_env.step(np.array([0, 0]))"
   ]
  },
  {
   "cell_type": "code",
   "execution_count": null,
   "id": "47a4c13c",
   "metadata": {},
   "outputs": [],
   "source": [
    "str(next_state_array)"
   ]
  },
  {
   "cell_type": "code",
   "execution_count": null,
   "id": "8b68530a",
   "metadata": {},
   "outputs": [],
   "source": [
    "reward"
   ]
  },
  {
   "cell_type": "code",
   "execution_count": null,
   "id": "227cb680",
   "metadata": {},
   "outputs": [],
   "source": [
    "next_state_array, reward, done, info = custom_gym_env.step(np.array([0, 0]))"
   ]
  },
  {
   "cell_type": "code",
   "execution_count": null,
   "id": "940f75ee",
   "metadata": {},
   "outputs": [],
   "source": [
    "str(next_state_array)"
   ]
  },
  {
   "cell_type": "code",
   "execution_count": null,
   "id": "89ca1afe",
   "metadata": {},
   "outputs": [],
   "source": [
    "reward"
   ]
  },
  {
   "cell_type": "code",
   "execution_count": null,
   "id": "30c7c4dd",
   "metadata": {},
   "outputs": [],
   "source": [
    "next_state_array, reward, done, info = custom_gym_env.step(np.array([0, 0]))"
   ]
  },
  {
   "cell_type": "code",
   "execution_count": null,
   "id": "7ec88612",
   "metadata": {},
   "outputs": [],
   "source": [
    "str(next_state_array)"
   ]
  },
  {
   "cell_type": "code",
   "execution_count": null,
   "id": "97b35f28",
   "metadata": {},
   "outputs": [],
   "source": [
    "reward"
   ]
  },
  {
   "cell_type": "code",
   "execution_count": null,
   "id": "3791a279",
   "metadata": {},
   "outputs": [],
   "source": [
    "next_state_array, reward, done, info = custom_gym_env.step(np.array([0, 0]))"
   ]
  },
  {
   "cell_type": "code",
   "execution_count": null,
   "id": "bb5213ae",
   "metadata": {},
   "outputs": [],
   "source": [
    "str(next_state_array)"
   ]
  },
  {
   "cell_type": "code",
   "execution_count": null,
   "id": "cbe2f13b",
   "metadata": {},
   "outputs": [],
   "source": [
    "reward"
   ]
  },
  {
   "cell_type": "code",
   "execution_count": null,
   "id": "ad5a5a75",
   "metadata": {},
   "outputs": [],
   "source": [
    "next_state_array, reward, done, info = custom_gym_env.step(np.array([0, 0]))"
   ]
  },
  {
   "cell_type": "code",
   "execution_count": null,
   "id": "3bb17e14",
   "metadata": {},
   "outputs": [],
   "source": [
    "str(next_state_array)"
   ]
  },
  {
   "cell_type": "code",
   "execution_count": null,
   "id": "39aa44f5",
   "metadata": {},
   "outputs": [],
   "source": [
    "reward"
   ]
  },
  {
   "cell_type": "code",
   "execution_count": null,
   "id": "1fae0ccf",
   "metadata": {},
   "outputs": [],
   "source": [
    "next_state_array, reward, done, info = custom_gym_env.step(np.array([0, 0]))"
   ]
  },
  {
   "cell_type": "code",
   "execution_count": null,
   "id": "f9c97408",
   "metadata": {},
   "outputs": [],
   "source": [
    "str(next_state_array)"
   ]
  },
  {
   "cell_type": "code",
   "execution_count": null,
   "id": "8b5a4e87",
   "metadata": {},
   "outputs": [],
   "source": [
    "reward"
   ]
  },
  {
   "cell_type": "code",
   "execution_count": null,
   "id": "5c9ea056",
   "metadata": {},
   "outputs": [],
   "source": [
    "next_state_array, reward, done, info = custom_gym_env.step(np.array([0, 0]))"
   ]
  },
  {
   "cell_type": "code",
   "execution_count": null,
   "id": "6896f8f4",
   "metadata": {},
   "outputs": [],
   "source": [
    "str(next_state_array)"
   ]
  },
  {
   "cell_type": "code",
   "execution_count": null,
   "id": "183af79c",
   "metadata": {},
   "outputs": [],
   "source": [
    "reward"
   ]
  },
  {
   "cell_type": "code",
   "execution_count": null,
   "id": "6bac9260",
   "metadata": {},
   "outputs": [],
   "source": [
    "next_state_array, reward, done, info = custom_gym_env.step(np.array([0, 0]))"
   ]
  },
  {
   "cell_type": "code",
   "execution_count": null,
   "id": "a714224b",
   "metadata": {},
   "outputs": [],
   "source": [
    "str(next_state_array)"
   ]
  },
  {
   "cell_type": "code",
   "execution_count": null,
   "id": "3b84aad4",
   "metadata": {},
   "outputs": [],
   "source": [
    "reward"
   ]
  },
  {
   "cell_type": "code",
   "execution_count": null,
   "id": "9f9db659",
   "metadata": {},
   "outputs": [],
   "source": [
    "custom_gym_env.reset()"
   ]
  },
  {
   "cell_type": "code",
   "execution_count": null,
   "id": "0a70611f",
   "metadata": {},
   "outputs": [],
   "source": []
  },
  {
   "cell_type": "code",
   "execution_count": null,
   "id": "4a8bda82",
   "metadata": {},
   "outputs": [],
   "source": []
  },
  {
   "cell_type": "code",
   "execution_count": null,
   "id": "c8fcb4b3",
   "metadata": {},
   "outputs": [],
   "source": []
  },
  {
   "cell_type": "code",
   "execution_count": null,
   "id": "c16ba931",
   "metadata": {},
   "outputs": [],
   "source": [
    "from stable_baselines3.common.env_checker import check_env"
   ]
  },
  {
   "cell_type": "code",
   "execution_count": null,
   "id": "4b2afd7d",
   "metadata": {},
   "outputs": [],
   "source": [
    "check_env(custom_gym_env) #warn=True)"
   ]
  },
  {
   "cell_type": "raw",
   "id": "e91d4fea",
   "metadata": {},
   "source": [
    "##I would like to know what is happening to check if it is working properly... (observation function)"
   ]
  },
  {
   "cell_type": "code",
   "execution_count": null,
   "id": "6df0b40a",
   "metadata": {
    "scrolled": true
   },
   "outputs": [],
   "source": [
    "episodes = 10\n",
    "for episode in range(1, episodes+1):\n",
    "    state = custom_gym_env.reset()\n",
    "    done = False\n",
    "    cost = 0\n",
    "    info = 0\n",
    "\n",
    "    \n",
    "    \n",
    "    while not done:\n",
    "        \n",
    "        action = custom_gym_env.action_space.sample()\n",
    "        n_state, reward, done, info = custom_gym_env.step(action)\n",
    "        cost=reward\n",
    "        observation = custom_gym_env.step(action)\n",
    "        info = [action] #shows sample of action, but not which was taken...\n",
    "    print('Episode:{} Cost:{} Observation:{} Info:{}' .format(episode, cost, observation, info))   #Observation: {}(, observation)\n",
    "custom_gym_env.close()"
   ]
  },
  {
   "cell_type": "code",
   "execution_count": null,
   "id": "9f820d4c",
   "metadata": {},
   "outputs": [],
   "source": [
    "next_state_array, reward, done, info = custom_gym_env.step(np.array([0, 0]))"
   ]
  },
  {
   "cell_type": "code",
   "execution_count": null,
   "id": "aa72963c",
   "metadata": {},
   "outputs": [],
   "source": [
    "str(info)"
   ]
  },
  {
   "cell_type": "code",
   "execution_count": null,
   "id": "3d5b51ad",
   "metadata": {},
   "outputs": [],
   "source": [
    "custom_gym_env."
   ]
  },
  {
   "cell_type": "raw",
   "id": "e5f5c494",
   "metadata": {},
   "source": [
    "#custom_gym_env.step"
   ]
  },
  {
   "cell_type": "code",
   "execution_count": null,
   "id": "e52bcaa4",
   "metadata": {},
   "outputs": [],
   "source": [
    "custom_gym_env.action_space([])"
   ]
  },
  {
   "cell_type": "code",
   "execution_count": null,
   "id": "c53cd3c8",
   "metadata": {},
   "outputs": [],
   "source": []
  },
  {
   "cell_type": "code",
   "execution_count": null,
   "id": "7b7edc34",
   "metadata": {},
   "outputs": [],
   "source": [
    "from stable_baselines3 import A2C, DDPG, DQN, PPO, TD3, SAC\n",
    "import os\n",
    "\n"
   ]
  },
  {
   "cell_type": "code",
   "execution_count": null,
   "id": "209b4816",
   "metadata": {},
   "outputs": [],
   "source": [
    "env = custom_gym_env"
   ]
  },
  {
   "cell_type": "code",
   "execution_count": null,
   "id": "10d91da4",
   "metadata": {},
   "outputs": [],
   "source": [
    "log_path = os.path.join('Backup', 'A2C')"
   ]
  },
  {
   "cell_type": "code",
   "execution_count": null,
   "id": "931c5eb3",
   "metadata": {},
   "outputs": [],
   "source": [
    "from stable_baselines3 import A2C\n",
    "policy_kwargs = dict(net_arch=[dict(pi=[256, 256, 128], vf=[256, 256, 128])])\n",
    "model = A2C(\"MlpPolicy\", env, verbose=1,  learning_rate=(0.001),\\\n",
    " n_steps=50, gamma=0.8, gae_lambda=1.0, ent_coef=0.2, vf_coef=0.2, \\\n",
    "tensorboard_log=log_path, seed=50, device='cuda' )\n",
    "model.learn(total_timesteps=1000)"
   ]
  },
  {
   "cell_type": "markdown",
   "id": "5d1d93f3",
   "metadata": {},
   "source": [
    "model.learn(total_timesteps=10)"
   ]
  },
  {
   "cell_type": "markdown",
   "id": "a2ed437e",
   "metadata": {},
   "source": [
    "import gym\n",
    "from stable_baselines3 import A2C\n",
    "policy_kwargs = dict(activation_fn=th.nn.ReLU, net_arch=[dict(pi=[256, 256, 128], vf=[256, 256, 128])])\n",
    "model = A2C(\"MlpPolicy\", env, verbose=1,  learning_rate=linear_schedule(0.001),\\ n_steps=50, gamma=0.8, gae_lambda=1.0, ent_coef=0.2, vf_coef=0.2, \\ tensorboard_log=logdir,  policy_kwargs=policy_kwargs, seed=50, device='cuda' )\n",
    "model.learn(total_timesteps=50000)"
   ]
  },
  {
   "cell_type": "code",
   "execution_count": null,
   "id": "6ba1c71d",
   "metadata": {},
   "outputs": [],
   "source": [
    "model.save('A2C')"
   ]
  },
  {
   "cell_type": "code",
   "execution_count": null,
   "id": "c50e501a",
   "metadata": {},
   "outputs": [],
   "source": [
    "from stable_baselines3.common.evaluation import evaluate_policy\n",
    "evaluate_policy(model, custom_gym_env, n_eval_episodes=10, render=False)"
   ]
  },
  {
   "cell_type": "code",
   "execution_count": null,
   "id": "8b3d3254",
   "metadata": {},
   "outputs": [],
   "source": []
  },
  {
   "cell_type": "markdown",
   "id": "64a263f6",
   "metadata": {},
   "source": [
    "custom_gym_env.observation_space"
   ]
  },
  {
   "cell_type": "code",
   "execution_count": null,
   "id": "31944b6a",
   "metadata": {},
   "outputs": [],
   "source": []
  },
  {
   "cell_type": "code",
   "execution_count": null,
   "id": "4b0a2a43",
   "metadata": {},
   "outputs": [],
   "source": []
  },
  {
   "cell_type": "code",
   "execution_count": null,
   "id": "6451c16e",
   "metadata": {},
   "outputs": [],
   "source": []
  },
  {
   "cell_type": "code",
   "execution_count": null,
   "id": "98acf8d2",
   "metadata": {},
   "outputs": [],
   "source": []
  },
  {
   "cell_type": "code",
   "execution_count": null,
   "id": "8ffbeead",
   "metadata": {},
   "outputs": [],
   "source": []
  },
  {
   "cell_type": "code",
   "execution_count": null,
   "id": "22307847",
   "metadata": {},
   "outputs": [],
   "source": []
  },
  {
   "cell_type": "code",
   "execution_count": null,
   "id": "fffdb14c",
   "metadata": {},
   "outputs": [],
   "source": [
    "import os\n",
    "from stable_baselines3 import PPO\n",
    "from stable_baselines3.common.vec_env import VecFrameStack\n",
    "from stable_baselines3.common.evaluation import evaluate_policy"
   ]
  },
  {
   "cell_type": "code",
   "execution_count": null,
   "id": "6341042d",
   "metadata": {},
   "outputs": [],
   "source": [
    "log_path = os.path.join('Backup','PPO')"
   ]
  },
  {
   "cell_type": "code",
   "execution_count": null,
   "id": "2e2e8559",
   "metadata": {},
   "outputs": [],
   "source": [
    "model = PPO(\"MlpPolicy\", custom_gym_env, verbose=1, tensorboard_log=log_path, learning_rate=0.01, device='cuda', gamma=0.9)"
   ]
  },
  {
   "cell_type": "code",
   "execution_count": null,
   "id": "11dcc344",
   "metadata": {},
   "outputs": [],
   "source": [
    "model.learn(total_timesteps=10000)"
   ]
  },
  {
   "cell_type": "code",
   "execution_count": null,
   "id": "45ef6b28",
   "metadata": {},
   "outputs": [],
   "source": []
  },
  {
   "cell_type": "code",
   "execution_count": null,
   "id": "1cdb6b9a",
   "metadata": {},
   "outputs": [],
   "source": [
    "model.save('PPO')"
   ]
  },
  {
   "cell_type": "code",
   "execution_count": null,
   "id": "d9c31b63",
   "metadata": {},
   "outputs": [],
   "source": [
    "evaluate_policy(model, custom_gym_env, n_eval_episodes=10, render=False)"
   ]
  },
  {
   "cell_type": "code",
   "execution_count": null,
   "id": "541f4e86",
   "metadata": {},
   "outputs": [],
   "source": [
    "dir(model)"
   ]
  },
  {
   "cell_type": "code",
   "execution_count": null,
   "id": "3ed1b076",
   "metadata": {},
   "outputs": [],
   "source": [
    "model.observation_space"
   ]
  },
  {
   "cell_type": "code",
   "execution_count": null,
   "id": "15508119",
   "metadata": {},
   "outputs": [],
   "source": [
    "custom_gym_env.reset()"
   ]
  },
  {
   "cell_type": "code",
   "execution_count": null,
   "id": "a6b71f78",
   "metadata": {},
   "outputs": [],
   "source": [
    "model.predict(np.array([-6, 0, 0, 1, 1]))"
   ]
  },
  {
   "cell_type": "code",
   "execution_count": null,
   "id": "9ff8debb",
   "metadata": {},
   "outputs": [],
   "source": []
  },
  {
   "cell_type": "code",
   "execution_count": null,
   "id": "5041bab1",
   "metadata": {},
   "outputs": [],
   "source": []
  },
  {
   "cell_type": "code",
   "execution_count": null,
   "id": "daaebc4e",
   "metadata": {},
   "outputs": [],
   "source": [
    "log_path = os.path.join('Backup','PPO')\n",
    "model = PPO(\"MlpPolicy\", custom_gym_env, verbose=1, tensorboard_log=log_path, n_steps= 10, batch_size=50)\n",
    "model.learn(total_timesteps=10000)"
   ]
  },
  {
   "cell_type": "code",
   "execution_count": null,
   "id": "50860c54",
   "metadata": {},
   "outputs": [],
   "source": [
    "log_path = os.path.join('Backup','PPO')\n",
    "model = PPO(\"MlpPolicy\", custom_gym_env, verbose=1, tensorboard_log=log_path, n_steps= 10)\n",
    "model.learn(total_timesteps=10000)"
   ]
  },
  {
   "cell_type": "code",
   "execution_count": null,
   "id": "4b5facd8",
   "metadata": {},
   "outputs": [],
   "source": [
    "log_path = os.path.join('Backup','PPO')\n",
    "model = PPO(\"MlpPolicy\", custom_gym_env, verbose=1, tensorboard_log=log_path, n_steps= 100)\n",
    "model.learn(total_timesteps=10000)"
   ]
  },
  {
   "cell_type": "code",
   "execution_count": null,
   "id": "1f810bda",
   "metadata": {},
   "outputs": [],
   "source": [
    "log_path = os.path.join('Backup','PPO')\n",
    "model = PPO(\"MlpPolicy\", custom_gym_env, verbose=1, tensorboard_log=log_path, n_steps= 100, batch_size=50)\n",
    "model.learn(total_timesteps=10000)"
   ]
  },
  {
   "cell_type": "code",
   "execution_count": null,
   "id": "105d6461",
   "metadata": {},
   "outputs": [],
   "source": [
    "log_path = os.path.join('Backup','PPO')\n",
    "model = PPO(\"MlpPolicy\", custom_gym_env, verbose=1, tensorboard_log=log_path, n_steps= 1000, batch_size=50)\n",
    "model.learn(total_timesteps=10000)"
   ]
  },
  {
   "cell_type": "code",
   "execution_count": null,
   "id": "24e0fa7f",
   "metadata": {},
   "outputs": [],
   "source": [
    "log_path = os.path.join('Backup','PPO')\n",
    "model = PPO(\"MlpPolicy\", custom_gym_env, verbose=1, tensorboard_log=log_path, n_steps= 1000, batch_size=50)\n",
    "model.learn(total_timesteps=100000)"
   ]
  },
  {
   "cell_type": "code",
   "execution_count": null,
   "id": "116647a6",
   "metadata": {},
   "outputs": [],
   "source": [
    "log_path = os.path.join('Backup','PPO')\n",
    "model = PPO(\"MlpPolicy\", custom_gym_env, verbose=1, tensorboard_log=log_path, n_steps= 1000, batch_size=50, seed=10)\n",
    "model.learn(total_timesteps=100000)"
   ]
  },
  {
   "cell_type": "code",
   "execution_count": null,
   "id": "6979a168",
   "metadata": {},
   "outputs": [],
   "source": [
    "log_path = os.path.join('Backup','PPO')\n",
    "model = PPO(\"MlpPolicy\", custom_gym_env, verbose=1, tensorboard_log=log_path, n_steps= 1000, batch_size=50, seed=100)\n",
    "model.learn(total_timesteps=100000)"
   ]
  },
  {
   "cell_type": "code",
   "execution_count": null,
   "id": "c8ac4534",
   "metadata": {},
   "outputs": [],
   "source": [
    "log_path = os.path.join('Backup','PPO')\n",
    "model = PPO(\"MlpPolicy\", custom_gym_env, verbose=1, tensorboard_log=log_path, n_steps= 1000, batch_size=50, seed=1000)\n",
    "model.learn(total_timesteps=100000)"
   ]
  },
  {
   "cell_type": "code",
   "execution_count": null,
   "id": "7c836509",
   "metadata": {},
   "outputs": [],
   "source": []
  },
  {
   "cell_type": "code",
   "execution_count": null,
   "id": "c320bb2e",
   "metadata": {},
   "outputs": [],
   "source": []
  },
  {
   "cell_type": "code",
   "execution_count": null,
   "id": "5659032a",
   "metadata": {},
   "outputs": [],
   "source": []
  },
  {
   "cell_type": "code",
   "execution_count": null,
   "id": "b34d87c0",
   "metadata": {},
   "outputs": [],
   "source": []
  },
  {
   "cell_type": "code",
   "execution_count": null,
   "id": "fa4a0133",
   "metadata": {},
   "outputs": [],
   "source": []
  },
  {
   "cell_type": "code",
   "execution_count": null,
   "id": "99207c35",
   "metadata": {},
   "outputs": [],
   "source": []
  },
  {
   "cell_type": "raw",
   "id": "9bc736aa",
   "metadata": {},
   "source": [
    "# Why is it running on cpu and not gpu?"
   ]
  },
  {
   "cell_type": "code",
   "execution_count": null,
   "id": "ac959ee2",
   "metadata": {},
   "outputs": [],
   "source": [
    "\n",
    "torch.cuda.is_available()"
   ]
  },
  {
   "cell_type": "code",
   "execution_count": null,
   "id": "e9521e04",
   "metadata": {},
   "outputs": [],
   "source": [
    "device = torch.device(\"cuda:0\" if torch.cuda.is_available() else \"cpu\")\n",
    "print(device)\n"
   ]
  },
  {
   "cell_type": "code",
   "execution_count": null,
   "id": "8c5bd895",
   "metadata": {},
   "outputs": [],
   "source": [
    " torch.cuda.device_count()"
   ]
  }
 ],
 "metadata": {
  "kernelspec": {
   "display_name": "Python 3 (ipykernel)",
   "language": "python",
   "name": "python3"
  },
  "language_info": {
   "codemirror_mode": {
    "name": "ipython",
    "version": 3
   },
   "file_extension": ".py",
   "mimetype": "text/x-python",
   "name": "python",
   "nbconvert_exporter": "python",
   "pygments_lexer": "ipython3",
   "version": "3.8.15"
  }
 },
 "nbformat": 4,
 "nbformat_minor": 5
}
