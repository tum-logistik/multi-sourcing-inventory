{
 "cells": [
  {
   "cell_type": "code",
   "execution_count": 1,
   "metadata": {},
   "outputs": [],
   "source": [
    "from opt.mc_sim import *\n",
    "import time\n",
    "from common.variables import *"
   ]
  },
  {
   "cell_type": "code",
   "execution_count": 2,
   "metadata": {},
   "outputs": [],
   "source": [
    "import pickle as pkl\n",
    "from opt.eval_policy import *\n",
    "\n",
    "# filename = \"output/msource_value_dic_06-16-2022-09-56-03.pkl\"\n",
    "# filename = \"output/msource_value_dic_06-22-2022-03-55-05.pkl\"\n",
    "# filename = \"output/msource_value_dic_06-22-2022-20-55-01.pkl\"\n",
    "filename = \"output/msource_value_dic_06-23-2022-13-03-05.pkl\"\n",
    "\n",
    "with open(filename, 'rb') as f:\n",
    "    output_obj = pkl.load(f)\n",
    "\n",
    "value_dic = output_obj[\"state_value_dic\"]\n",
    "model_params = output_obj[\"model_params\"]\n",
    "sourcingEnv = output_obj[\"mdp_env\"]"
   ]
  },
  {
   "cell_type": "code",
   "execution_count": 3,
   "metadata": {},
   "outputs": [
    {
     "data": {
      "text/plain": [
       "{'algo_params': {'prob_epsilon': 1e-08,\n",
       "  'periods': 29,\n",
       "  'nested_mc_iters': 20,\n",
       "  'mc_episodes': 29,\n",
       "  'max_steps': 29,\n",
       "  'explore_eps': 0.05,\n",
       "  'debug_bool': 0,\n",
       "  'fixed_learn_rate': 0.1},\n",
       " 'policy_params': {'h_cost': 2,\n",
       "  'b_penalty': 7,\n",
       "  'small_s': 2,\n",
       "  'big_s': 5,\n",
       "  'n_suppliers': 2,\n",
       "  'backorder_max': -10,\n",
       "  'inven_limit': 30},\n",
       " 'mdp_env_params': {'lambda': 9,\n",
       "  'max_inven': 30,\n",
       "  'action_size': 4,\n",
       "  'discount_fac': 1.0},\n",
       " 'git_commit': 'no_git',\n",
       " 'branch_name': 'no_git'}"
      ]
     },
     "execution_count": 3,
     "metadata": {},
     "output_type": "execute_result"
    }
   ],
   "source": [
    "model_params"
   ]
  },
  {
   "cell_type": "code",
   "execution_count": 4,
   "metadata": {},
   "outputs": [],
   "source": [
    "# best_small_s, best_big_s, best_val = find_opt_ss_policy_via_mc(sourcingEnv, periods = 20, nested_mc_iters = 50)\n",
    "# best (s, S) policy found by MC:: (2, 5)"
   ]
  },
  {
   "cell_type": "code",
   "execution_count": 5,
   "metadata": {},
   "outputs": [],
   "source": [
    "# model_params['branch_name'], model_params['git_commit']"
   ]
  },
  {
   "cell_type": "code",
   "execution_count": 6,
   "metadata": {},
   "outputs": [],
   "source": [
    "# sourcingEnv = SourcingEnv(\n",
    "#         lambda_arrival = 8, # or 10\n",
    "#         procurement_cost_vec = np.array([3, 1, 2]),\n",
    "#         supplier_lead_times_vec = np.array([0.8, 0.5, 1.0]),\n",
    "#         on_times = np.array([1, 1, 2]), \n",
    "#         off_times = np.array([0.3, 1, 0.2]))\n",
    "\n",
    "# Dual Sourcing\n",
    "# sourcingEnv = SourcingEnv(\n",
    "#         lambda_arrival = LAMBDA, # or 10\n",
    "#         procurement_cost_vec = np.array([3, 1]),\n",
    "#         supplier_lead_times_vec = np.array([0.8, 0.5]),\n",
    "#         on_times = np.array([1, 1]), \n",
    "#         off_times = np.array([0.3, 1]))\n",
    "\n",
    "s_custom = MState(stock_level = 0, \n",
    "    n_suppliers = N_SUPPLIERS, \n",
    "    n_backorders = np.array([0, 0]), \n",
    "    flag_on_off = np.array([1, 1]))\n",
    "\n",
    "mc_avg_costs = mc_with_ss_policy(sourcingEnv, start_state = s_custom, \n",
    "    periods = 30,\n",
    "    nested_mc_iters = 100,\n",
    "    big_s = model_params['policy_params']['big_s'],\n",
    "    small_s = model_params['policy_params']['small_s'],\n",
    "    h_cost = model_params['policy_params']['h_cost'],\n",
    "    b_penalty = model_params['policy_params']['b_penalty'])\n",
    "\n",
    "# print(mc_avg_costs)"
   ]
  },
  {
   "cell_type": "code",
   "execution_count": 7,
   "metadata": {},
   "outputs": [],
   "source": [
    "# mc_avg_costs = mc_with_ss_policy(sourcingEnv, \n",
    "#     periods = 100,\n",
    "#     nested_mc_iters = 50,\n",
    "#     big_s = 5,\n",
    "#     small_s = 2,\n",
    "#     h_cost = model_params['policy_params']['h_cost'],\n",
    "#     b_penalty = model_params['policy_params']['b_penalty'])"
   ]
  },
  {
   "cell_type": "code",
   "execution_count": 8,
   "metadata": {},
   "outputs": [
    {
     "data": {
      "image/png": "[encoded data removed]",
      "text/plain": [
       "<Figure size 432x288 with 1 Axes>"
      ]
     },
     "metadata": {
      "needs_background": "light"
     },
     "output_type": "display_data"
    }
   ],
   "source": [
    "import matplotlib.pyplot as plt\n",
    "import numpy as np\n",
    "\n",
    "binwidth = 0.3\n",
    "n, bins, patches = plt.hist(mc_avg_costs, bins=np.arange( np.min(mc_avg_costs), np.max(mc_avg_costs) + binwidth, binwidth))\n",
    "# n, bins, patches = plt.hist(mc_avg_costs, density = True)\n",
    "\n",
    "\n",
    "plt.xlabel('Avg Cost')\n",
    "plt.ylabel('Probability')\n",
    "plt.title('Histogram of Avg costs')\n",
    "plt.xlim(np.min(mc_avg_costs), np.max(mc_avg_costs))\n",
    "plt.ylim(0, np.max(n))\n",
    "plt.grid(True)\n",
    "plt.show()"
   ]
  },
  {
   "cell_type": "code",
   "execution_count": 9,
   "metadata": {},
   "outputs": [
    {
     "name": "stdout",
     "output_type": "stream",
     "text": [
      "5.735999999999999\n"
     ]
    }
   ],
   "source": [
    "print(np.mean(np.array(mc_avg_costs)))"
   ]
  },
  {
   "cell_type": "code",
   "execution_count": 10,
   "metadata": {},
   "outputs": [
    {
     "name": "stdout",
     "output_type": "stream",
     "text": [
      "5.45\n"
     ]
    }
   ],
   "source": [
    "print(np.median(np.array(mc_avg_costs)))"
   ]
  },
  {
   "cell_type": "code",
   "execution_count": 11,
   "metadata": {},
   "outputs": [
    {
     "data": {
      "text/plain": [
       "1.37860380256419"
      ]
     },
     "execution_count": 11,
     "metadata": {},
     "output_type": "execute_result"
    }
   ],
   "source": [
    "np.std(np.array(mc_avg_costs))"
   ]
  },
  {
   "cell_type": "code",
   "execution_count": 12,
   "metadata": {},
   "outputs": [
    {
     "data": {
      "text/plain": [
       "{'algo_params': {'prob_epsilon': 1e-08,\n",
       "  'periods': 29,\n",
       "  'nested_mc_iters': 20,\n",
       "  'mc_episodes': 29,\n",
       "  'max_steps': 29,\n",
       "  'explore_eps': 0.05,\n",
       "  'debug_bool': 0,\n",
       "  'fixed_learn_rate': 0.1},\n",
       " 'policy_params': {'h_cost': 2,\n",
       "  'b_penalty': 7,\n",
       "  'small_s': 2,\n",
       "  'big_s': 5,\n",
       "  'n_suppliers': 2,\n",
       "  'backorder_max': -10,\n",
       "  'inven_limit': 30},\n",
       " 'mdp_env_params': {'lambda': 9,\n",
       "  'max_inven': 30,\n",
       "  'action_size': 4,\n",
       "  'discount_fac': 1.0},\n",
       " 'git_commit': 'no_git',\n",
       " 'branch_name': 'no_git'}"
      ]
     },
     "execution_count": 12,
     "metadata": {},
     "output_type": "execute_result"
    }
   ],
   "source": [
    "model_params"
   ]
  },
  {
   "cell_type": "code",
   "execution_count": 13,
   "metadata": {},
   "outputs": [
    {
     "name": "stdout",
     "output_type": "stream",
     "text": [
      "MC eval iter: 0\n",
      "MC eval iter: 1\n",
      "MC eval iter: 2\n",
      "MC eval iter: 3\n",
      "MC eval iter: 4\n",
      "MC eval iter: 5\n",
      "MC eval iter: 6\n",
      "MC eval iter: 7\n",
      "MC eval iter: 8\n",
      "MC eval iter: 9\n",
      "MC eval iter: 10\n",
      "MC eval iter: 11\n",
      "MC eval iter: 12\n",
      "MC eval iter: 13\n",
      "MC eval iter: 14\n",
      "MC eval iter: 15\n",
      "MC eval iter: 16\n",
      "MC eval iter: 17\n",
      "MC eval iter: 18\n",
      "MC eval iter: 19\n",
      "MC eval iter: 20\n",
      "MC eval iter: 21\n",
      "MC eval iter: 22\n",
      "MC eval iter: 23\n",
      "MC eval iter: 24\n",
      "MC eval iter: 25\n",
      "MC eval iter: 26\n",
      "MC eval iter: 27\n",
      "MC eval iter: 28\n",
      "MC eval iter: 29\n"
     ]
    }
   ],
   "source": [
    "eval_steps = 30\n",
    "mc_eval_iter = 30\n",
    "eval_costs = mc_eval_policy_perf(sourcingEnv, value_dic, \n",
    "    max_steps = eval_steps, \n",
    "    mc_iters = mc_eval_iter,\n",
    "    h_cost = model_params['policy_params']['h_cost'],\n",
    "    b_penalty = model_params['policy_params']['b_penalty'])\n",
    "\n",
    "avg_eval_cost = np.mean(eval_costs)"
   ]
  },
  {
   "cell_type": "code",
   "execution_count": 14,
   "metadata": {},
   "outputs": [],
   "source": [
    "eval_costs_scaled = np.array(eval_costs)/eval_steps"
   ]
  },
  {
   "cell_type": "code",
   "execution_count": 15,
   "metadata": {},
   "outputs": [
    {
     "data": {
      "image/png": "[encoded data removed]",
      "text/plain": [
       "<Figure size 432x288 with 1 Axes>"
      ]
     },
     "metadata": {
      "needs_background": "light"
     },
     "output_type": "display_data"
    }
   ],
   "source": [
    "import numpy as np\n",
    "\n",
    "binwidth = 0.2\n",
    "\n",
    "n, bins, patches = plt.hist(eval_costs_scaled, bins=np.arange(min(eval_costs_scaled), max(eval_costs_scaled) + binwidth, binwidth), density = True)\n",
    "\n",
    "\n",
    "plt.xlabel('Avg Cost')\n",
    "plt.ylabel('Probability')\n",
    "plt.title('Histogram of Avg costs')\n",
    "plt.xlim(np.min(eval_costs_scaled), np.max(eval_costs_scaled))\n",
    "plt.ylim(0, np.max(n))\n",
    "plt.grid(True)\n",
    "plt.show()"
   ]
  },
  {
   "cell_type": "code",
   "execution_count": 16,
   "metadata": {},
   "outputs": [
    {
     "data": {
      "text/plain": [
       "5.964444444444445"
      ]
     },
     "execution_count": 16,
     "metadata": {},
     "output_type": "execute_result"
    }
   ],
   "source": [
    "np.mean(eval_costs_scaled)"
   ]
  },
  {
   "cell_type": "code",
   "execution_count": 17,
   "metadata": {},
   "outputs": [
    {
     "data": {
      "text/plain": [
       "5.8"
      ]
     },
     "execution_count": 17,
     "metadata": {},
     "output_type": "execute_result"
    }
   ],
   "source": [
    "np.median(eval_costs_scaled)"
   ]
  },
  {
   "cell_type": "code",
   "execution_count": 18,
   "metadata": {},
   "outputs": [
    {
     "data": {
      "text/plain": [
       "1.2638838827739685"
      ]
     },
     "execution_count": 18,
     "metadata": {},
     "output_type": "execute_result"
    }
   ],
   "source": [
    "np.std(eval_costs_scaled)"
   ]
  },
  {
   "cell_type": "code",
   "execution_count": 19,
   "metadata": {},
   "outputs": [
    {
     "data": {
      "text/plain": [
       "93394"
      ]
     },
     "execution_count": 19,
     "metadata": {},
     "output_type": "execute_result"
    }
   ],
   "source": [
    "len(list(value_dic.keys()))"
   ]
  },
  {
   "cell_type": "code",
   "execution_count": 20,
   "metadata": {},
   "outputs": [
    {
     "data": {
      "text/plain": [
       "-5.048275862068965"
      ]
     },
     "execution_count": 20,
     "metadata": {},
     "output_type": "execute_result"
    },
    {
     "data": {
      "image/png": "[encoded data removed]",
      "text/plain": [
       "<Figure size 432x288 with 1 Axes>"
      ]
     },
     "metadata": {
      "needs_background": "light"
     },
     "output_type": "display_data"
    }
   ],
   "source": [
    "import numpy as np\n",
    "\n",
    "binwidth = 0.3\n",
    "\n",
    "state_vals = [x[0] for x in list(value_dic.values())]\n",
    "state_visits = [x[1] for x in list(value_dic.values())]\n",
    "\n",
    "n, bins, patches = plt.hist(state_vals, density = True)\n",
    "np.max(state_vals)"
   ]
  },
  {
   "cell_type": "code",
   "execution_count": 21,
   "metadata": {},
   "outputs": [
    {
     "data": {
      "text/plain": [
       "99"
      ]
     },
     "execution_count": 21,
     "metadata": {},
     "output_type": "execute_result"
    },
    {
     "data": {
      "image/png": "[encoded data removed]",
      "text/plain": [
       "<Figure size 432x288 with 1 Axes>"
      ]
     },
     "metadata": {
      "needs_background": "light"
     },
     "output_type": "display_data"
    }
   ],
   "source": [
    "binwidth = 3\n",
    "state_visits.remove(1)\n",
    "state_visits_massage = [x for x in state_visits if 100 > x > 2]\n",
    "\n",
    "n, bins, patches = plt.hist(state_visits_massage, bins=np.arange(min(state_visits_massage), max(state_visits_massage) + binwidth, binwidth), density = True)\n",
    "np.max(state_visits_massage)"
   ]
  },
  {
   "cell_type": "code",
   "execution_count": 22,
   "metadata": {},
   "outputs": [
    {
     "data": {
      "text/plain": [
       "3"
      ]
     },
     "execution_count": 22,
     "metadata": {},
     "output_type": "execute_result"
    }
   ],
   "source": [
    "np.min(state_visits_massage)"
   ]
  },
  {
   "cell_type": "code",
   "execution_count": 23,
   "metadata": {},
   "outputs": [
    {
     "data": {
      "text/plain": [
       "421"
      ]
     },
     "execution_count": 23,
     "metadata": {},
     "output_type": "execute_result"
    }
   ],
   "source": [
    "len(set(state_visits))"
   ]
  },
  {
   "cell_type": "code",
   "execution_count": 24,
   "metadata": {},
   "outputs": [
    {
     "data": {
      "text/plain": [
       "-43974"
      ]
     },
     "execution_count": 24,
     "metadata": {},
     "output_type": "execute_result"
    }
   ],
   "source": [
    "len(state_visits_massage) - len(state_visits)"
   ]
  },
  {
   "cell_type": "code",
   "execution_count": 25,
   "metadata": {},
   "outputs": [
    {
     "data": {
      "text/plain": [
       "93393"
      ]
     },
     "execution_count": 25,
     "metadata": {},
     "output_type": "execute_result"
    }
   ],
   "source": [
    "len(state_visits)"
   ]
  },
  {
   "cell_type": "code",
   "execution_count": 26,
   "metadata": {},
   "outputs": [
    {
     "data": {
      "text/plain": [
       "93394"
      ]
     },
     "execution_count": 26,
     "metadata": {},
     "output_type": "execute_result"
    }
   ],
   "source": [
    "len(state_vals)"
   ]
  },
  {
   "cell_type": "code",
   "execution_count": 27,
   "metadata": {},
   "outputs": [
    {
     "data": {
      "text/plain": [
       "'[1, 3, 1, 0, 1]'"
      ]
     },
     "execution_count": 27,
     "metadata": {},
     "output_type": "execute_result"
    }
   ],
   "source": [
    "\n",
    "max(value_dic, key=value_dic.get)\n"
   ]
  },
  {
   "cell_type": "code",
   "execution_count": 28,
   "metadata": {},
   "outputs": [
    {
     "data": {
      "text/plain": [
       "'[19, 29, 58, 1, 1]'"
      ]
     },
     "execution_count": 28,
     "metadata": {},
     "output_type": "execute_result"
    }
   ],
   "source": [
    "min(value_dic, key=value_dic.get)"
   ]
  },
  {
   "cell_type": "code",
   "execution_count": 29,
   "metadata": {},
   "outputs": [],
   "source": [
    "value_dic_key_sorted = sorted(value_dic, key=value_dic.get, reverse=True)\n",
    "value_dic_value_sorted = sorted(value_dic.values(), reverse=True)"
   ]
  },
  {
   "cell_type": "code",
   "execution_count": 30,
   "metadata": {},
   "outputs": [],
   "source": [
    "value_diagnostic = list(zip(value_dic_key_sorted, value_dic_value_sorted))"
   ]
  },
  {
   "cell_type": "code",
   "execution_count": 31,
   "metadata": {},
   "outputs": [
    {
     "data": {
      "text/plain": [
       "[('[1, 3, 1, 0, 1]', (-5.048275862068965, 7)),\n",
       " ('[1, 0, 1, 1, 0]', (-5.215517241379311, 1)),\n",
       " ('[0, 0, 2, 1, 1]', (-5.240465517241379, 30)),\n",
       " ('[0, 2, 2, 1, 1]', (-5.258346551724138, 68)),\n",
       " ('[2, 3, 1, 0, 1]', (-5.275517241379311, 8)),\n",
       " ('[0, 1, 1, 0, 1]', (-5.300275862068966, 60)),\n",
       " ('[1, 3, 1, 0, 0]', (-5.328793103448276, 58)),\n",
       " ('[1, 4, 2, 1, 1]', (-5.3327586206896544, 21)),\n",
       " ('[3, 1, 2, 1, 0]', (-5.339655172413794, 6)),\n",
       " ('[3, 1, 2, 0, 1]', (-5.343103448275863, 33)),\n",
       " ('[1, 0, 2, 1, 0]', (-5.344827586206897, 1)),\n",
       " ('[2, 1, 2, 0, 0]', (-5.355172413793104, 28)),\n",
       " ('[0, 1, 3, 0, 1]', (-5.3555603448275875, 60)),\n",
       " ('[2, 1, 2, 0, 1]', (-5.36503275862069, 62)),\n",
       " ('[0, 3, 2, 1, 0]', (-5.366155172413793, 33)),\n",
       " ('[0, 2, 4, 0, 1]', (-5.375689655172414, 35)),\n",
       " ('[0, 3, 1, 0, 1]', (-5.375689655172414, 33)),\n",
       " ('[2, 2, 2, 1, 0]', (-5.387241379310346, 11)),\n",
       " ('[0, 2, 0, 0, 1]', (-5.402256896551725, 32)),\n",
       " ('[1, 2, 2, 0, 1]', (-5.431034482758621, 7)),\n",
       " ('[1, 0, 3, 1, 1]', (-5.454877570689655, 119)),\n",
       " ('[1, 1, 0, 0, 1]', (-5.463778634552073, 32)),\n",
       " ('[1, 0, 4, 1, 0]', (-5.4655172413793105, 1)),\n",
       " ('[2, 3, 0, 0, 1]', (-5.489655172413793, 4)),\n",
       " ('[0, 3, 0, 0, 1]', (-5.492241379310345, 32)),\n",
       " ('[0, 4, 2, 1, 1]', (-5.494390689655172, 69)),\n",
       " ('[0, 0, 3, 1, 1]', (-5.509706896551725, 90)),\n",
       " ('[1, 3, 1, 1, 1]', (-5.5119042563046845, 75)),\n",
       " ('[1, 1, 1, 1, 1]', (-5.512003910289655, 99)),\n",
       " ('[2, 1, 0, 0, 1]', (-5.515445803646771, 31)),\n",
       " ('[1, 2, 0, 1, 1]', (-5.523365115110277, 64)),\n",
       " ('[1, 2, 0, 0, 1]', (-5.527655172413793, 4)),\n",
       " ('[2, 1, 3, 1, 1]', (-5.545, 46)),\n",
       " ('[1, 3, 0, 1, 1]', (-5.5466268265000025, 152)),\n",
       " ('[1, 1, 0, 1, 1]', (-5.54669637210209, 66)),\n",
       " ('[3, 0, 0, 1, 1]', (-5.5505172413793105, 4)),\n",
       " ('[1, 2, 2, 1, 0]', (-5.556896551724138, 7)),\n",
       " ('[1, 0, 1, 1, 1]', (-5.566101275918516, 62)),\n",
       " ('[1, 1, 2, 1, 1]', (-5.568706896551724, 42)),\n",
       " ('[0, 1, 4, 1, 1]', (-5.571172413793104, 96)),\n",
       " ('[2, 3, 2, 0, 1]', (-5.581379310344829, 13)),\n",
       " ('[2, 2, 0, 1, 1]', (-5.586724137931036, 68)),\n",
       " ('[0, 3, 1, 1, 0]', (-5.587804137931037, 91)),\n",
       " ('[1, 3, 2, 1, 1]', (-5.595, 21)),\n",
       " ('[3, 1, 1, 0, 1]', (-5.598448275862069, 31)),\n",
       " ('[2, 2, 1, 0, 1]', (-5.599568965517242, 7)),\n",
       " ('[1, 2, 3, 1, 1]', (-5.606896551724138, 18)),\n",
       " ('[0, 0, 5, 1, 0]', (-5.6146551724137925, 29)),\n",
       " ('[1, 0, 4, 1, 1]', (-5.61598350677121, 180)),\n",
       " ('[0, 3, 0, 0, 0]', (-5.616896551724138, 60)),\n",
       " ('[1, 1, 3, 1, 1]', (-5.617068965517242, 42)),\n",
       " ('[0, 3, 3, 1, 1]', (-5.621244896551725, 70)),\n",
       " ('[3, 2, 1, 0, 0]', (-5.625181034482759, 54)),\n",
       " ('[2, 0, 1, 1, 1]', (-5.633765517241379, 35)),\n",
       " ('[1, 1, 2, 1, 0]', (-5.643103448275862, 5)),\n",
       " ('[0, 0, 2, 0, 1]', (-5.647891631260345, 87)),\n",
       " ('[1, 1, 2, 0, 1]', (-5.648047431034483, 62)),\n",
       " ('[2, 1, 1, 0, 1]', (-5.651193103448276, 60)),\n",
       " ('[2, 2, 0, 0, 1]', (-5.656551724137931, 3)),\n",
       " ('[1, 4, 1, 0, 1]', (-5.657068965517242, 7)),\n",
       " ('[1, 0, 2, 1, 1]', (-5.662805551724138, 61)),\n",
       " ('[0, 0, 1, 1, 1]', (-5.669827586206896, 30)),\n",
       " ('[2, 4, 0, 1, 1]', (-5.683724137931034, 73)),\n",
       " ('[1, 1, 4, 0, 1]', (-5.685689655172414, 62)),\n",
       " ('[3, 2, 2, 1, 0]', (-5.686206896551726, 12)),\n",
       " ('[3, 0, 2, 0, 0]', (-5.691379310344827, 27)),\n",
       " ('[0, 1, 1, 1, 1]', (-5.69676827586207, 65)),\n",
       " ('[3, 2, 0, 0, 1]', (-5.698275862068964, 5)),\n",
       " ('[1, 0, 0, 1, 1]', (-5.705, 3)),\n",
       " ('[0, 5, 0, 0, 1]', (-5.708620689655172, 32)),\n",
       " ('[0, 1, 2, 1, 0]', (-5.708620689655173, 31)),\n",
       " ('[1, 2, 1, 0, 1]', (-5.708620689655173, 6)),\n",
       " ('[3, 1, 3, 0, 1]', (-5.708793103448276, 33)),\n",
       " ('[2, 2, 1, 0, 0]', (-5.709240586206898, 84)),\n",
       " ('[2, 1, 3, 0, 1]', (-5.710862068965517, 62)),\n",
       " ('[2, 3, 1, 1, 1]', (-5.712901724137932, 109)),\n",
       " ('[3, 1, 0, 0, 1]', (-5.723182402551063, 2191)),\n",
       " ('[2, 4, 1, 1, 1]', (-5.723637931034483, 113)),\n",
       " ('[3, 1, 1, 1, 1]', (-5.727318775101544, 101)),\n",
       " ('[0, 2, 1, 1, 0]', (-5.728913401009739, 91)),\n",
       " ('[2, 2, 3, 1, 1]', (-5.732931034482759, 24)),\n",
       " ('[3, 0, 2, 1, 0]', (-5.7362068965517246, 1)),\n",
       " ('[-1, 3, 1, 1, 1]', (-5.740241379310344, 33)),\n",
       " ('[1, 5, 1, 0, 1]', (-5.741379310344827, 8)),\n",
       " ('[0, 5, 1, 1, 0]', (-5.745451724137931, 92)),\n",
       " ('[2, 5, 0, 0, 0]', (-5.750622413793103, 56)),\n",
       " ('[1, 2, 1, 1, 1]', (-5.7541379310344825, 72)),\n",
       " ('[0, 3, 2, 1, 1]', (-5.759137931034482, 69)),\n",
       " ('[0, 2, 1, 0, 1]', (-5.759672413793102, 32)),\n",
       " ('[4, 1, 0, 0, 1]', (-5.76249900933718, 1387)),\n",
       " ('[0, 5, 2, 0, 1]', (-5.7684482758620685, 34)),\n",
       " ('[0, 1, 6, 0, 1]', (-5.773103448275862, 64)),\n",
       " ('[1, 1, 4, 1, 1]', (-5.777777586206898, 45)),\n",
       " ('[1, 0, 0, 0, 1]', (-5.779819874924018, 2523)),\n",
       " ('[2, 4, 0, 0, 1]', (-5.786206896551724, 36)),\n",
       " ('[1, 1, 5, 0, 0]', (-5.7956896551724135, 29)),\n",
       " ('[-1, 2, 1, 1, 1]', (-5.8001724137931046, 32)),\n",
       " ('[0, 3, 0, 1, 1]', (-5.812405344827587, 93)),\n",
       " ('[1, 4, 0, 0, 1]', (-5.817241379310344, 4)),\n",
       " ('[2, 2, 2, 0, 1]', (-5.819137931034483, 11)),\n",
       " ('[4, 2, 0, 0, 1]', (-5.822413793103449, 6)),\n",
       " ('[0, 1, 5, 0, 1]', (-5.825625782758622, 61)),\n",
       " ('[1, 1, 5, 1, 1]', (-5.828997429310346, 48)),\n",
       " ('[1, 3, 0, 0, 1]', (-5.829310344827586, 4)),\n",
       " ('[3, 0, 1, 0, 1]', (-5.832277374630905, 168)),\n",
       " ('[3, 0, 3, 1, 0]', (-5.832758620689655, 1)),\n",
       " ('[3, 0, 1, 1, 0]', (-5.8363872413793105, 84)),\n",
       " ('[1, 4, 0, 1, 1]', (-5.8365088155172415, 152)),\n",
       " ('[0, 2, 3, 1, 0]', (-5.8374137931034475, 33)),\n",
       " ('[2, 4, 1, 0, 1]', (-5.840517241379311, 40)),\n",
       " ('[2, 3, 3, 0, 1]', (-5.841379310344828, 13)),\n",
       " ('[0, 4, 2, 0, 1]', (-5.843103448275864, 33)),\n",
       " ('[1, 1, 3, 0, 1]', (-5.8463213431034475, 62)),\n",
       " ('[2, 4, 0, 1, 0]', (-5.846531698965519, 226)),\n",
       " ('[2, 0, 3, 0, 0]', (-5.851759655172415, 56)),\n",
       " ('[-1, 2, 3, 1, 1]', (-5.853620689655174, 33)),\n",
       " ('[0, 0, 4, 1, 1]', (-5.857566379310345, 91)),\n",
       " ('[-1, 3, 4, 0, 1]', (-5.860344827586206, 5)),\n",
       " ('[2, 0, 0, 0, 1]', (-5.8675599138326255, 1687)),\n",
       " ('[0, 2, 2, 0, 1]', (-5.872413793103448, 32)),\n",
       " ('[1, 2, 1, 0, 0]', (-5.8772586206896555, 58)),\n",
       " ('[0, 3, 2, 0, 1]', (-5.879351724137932, 33)),\n",
       " ('[0, 3, 4, 0, 1]', (-5.879929000000001, 37)),\n",
       " ('[0, 5, 2, 1, 0]', (-5.882995, 34)),\n",
       " ('[2, 1, 2, 1, 0]', (-5.883275862068966, 7)),\n",
       " ('[1, 2, 4, 0, 1]', (-5.883793103448276, 7)),\n",
       " ('[0, 5, 0, 1, 1]', (-5.885791379310346, 183)),\n",
       " ('[3, 0, 3, 0, 1]', (-5.88854660847025, 221)),\n",
       " ('[2, 0, 2, 0, 0]', (-5.891155172413793, 56)),\n",
       " ('[2, 1, 4, 1, 1]', (-5.892494068965517, 51)),\n",
       " ('[2, 3, 1, 1, 0]', (-5.895809462049173, 150)),\n",
       " ('[1, 5, 0, 1, 0]', (-5.89785131034483, 260)),\n",
       " ('[1, 2, 1, 1, 0]', (-5.903579310344828, 90)),\n",
       " ('[0, 5, 1, 0, 1]', (-5.908068965517242, 34)),\n",
       " ('[1, 5, 1, 0, 0]', (-5.908448275862069, 58)),\n",
       " ('[1, 1, 3, 1, 0]', (-5.908620689655172, 5)),\n",
       " ('[0, 0, 0, 0, 1]', (-5.910998547076434, 6329)),\n",
       " ('[2, 4, 1, 1, 0]', (-5.911577882758623, 150)),\n",
       " ('[1, 4, 3, 1, 0]', (-5.913793103448276, 9)),\n",
       " ('[1, 5, 0, 0, 1]', (-5.913793103448276, 4)),\n",
       " ('[1, 1, 2, 0, 0]', (-5.916224137931033, 29)),\n",
       " ('[2, 0, 1, 0, 1]', (-5.916902669733134, 147)),\n",
       " ('[1, 4, 3, 1, 1]', (-5.924137931034482, 21)),\n",
       " ('[0, 4, 0, 1, 1]', (-5.924906624844829, 123)),\n",
       " ('[2, 0, 0, 1, 1]', (-5.9273424733698725, 6)),\n",
       " ('[0, 4, 3, 1, 1]', (-5.928103448275862, 70)),\n",
       " ('[3, 0, 3, 1, 1]', (-5.9287931034482755, 40)),\n",
       " ('[-2, 1, 5, 1, 1]', (-5.931034482758621, 2)),\n",
       " ('[0, 0, 4, 0, 1]', (-5.9354328750277645, 261)),\n",
       " ('[3, 3, 0, 1, 0]', (-5.935995740221683, 387)),\n",
       " ('[2, 1, 1, 1, 1]', (-5.943239076140939, 129)),\n",
       " ('[0, 1, 1, 1, 0]', (-5.943353448275863, 89)),\n",
       " ('[0, 0, 5, 1, 1]', (-5.945327586206897, 93)),\n",
       " ('[5, 1, 0, 0, 1]', (-5.945848661209468, 1880)),\n",
       " ('[2, 0, 0, 1, 0]', (-5.9470970588897645, 1598)),\n",
       " ('[1, 3, 2, 1, 0]', (-5.948275862068965, 8)),\n",
       " ('[4, 1, 1, 0, 0]', (-5.951708620689654, 52)),\n",
       " ('[1, 1, 1, 0, 0]', (-5.953285862068966, 87)),\n",
       " ('[1, 6, 0, 0, 1]', (-5.953448275862069, 4)),\n",
       " ('[3, 0, 0, 0, 1]', (-5.955217465633307, 1600)),\n",
       " ('[1, 0, 0, 1, 0]', (-5.959811941448432, 2553)),\n",
       " ('[4, 1, 1, 0, 1]', (-5.960344827586208, 37)),\n",
       " ('[1, 5, 0, 1, 1]', (-5.966784637413796, 154)),\n",
       " ('[1, 3, 2, 0, 1]', (-5.9672413793103445, 8)),\n",
       " ('[0, 1, 4, 0, 1]', (-5.967505437024818, 61)),\n",
       " ('[5, 0, 2, 1, 0]', (-5.972379310344829, 30)),\n",
       " ('[2, 1, 2, 1, 1]', (-5.976064900709825, 47)),\n",
       " ('[-2, 1, 6, 1, 1]', (-5.977586206896551, 5)),\n",
       " ('[1, 1, 4, 1, 0]', (-5.977586206896551, 5)),\n",
       " ('[0, 0, 5, 0, 1]', (-5.9857042871654915, 319)),\n",
       " ('[1, 4, 0, 1, 0]', (-5.987905466827587, 260)),\n",
       " ('[-1, 0, 6, 1, 1]', (-5.98916475862069, 93)),\n",
       " ('[1, 1, 4, 0, 0]', (-5.993103448275862, 29)),\n",
       " ('[4, 0, 2, 0, 0]', (-5.994422413793104, 78)),\n",
       " ('[-1, 0, 2, 1, 1]', (-5.996034482758621, 29)),\n",
       " ('[4, 2, 1, 0, 1]', (-5.998275862068965, 35)),\n",
       " ('[1, 3, 3, 1, 1]', (-6.000484327196104, 22)),\n",
       " ('[0, 2, 2, 1, 0]', (-6.001478668965516, 32)),\n",
       " ('[1, 0, 3, 1, 0]', (-6.005172413793103, 1)),\n",
       " ('[-1, 1, 2, 1, 1]', (-6.006724137931035, 31)),\n",
       " ('[1, 2, 2, 1, 1]', (-6.007682512315271, 19)),\n",
       " ('[2, 0, 5, 1, 0]', (-6.008620689655173, 1)),\n",
       " ('[1, 0, 1, 0, 1]', (-6.008631497516437, 87)),\n",
       " ('[3, 1, 2, 1, 1]', (-6.008799507389164, 54)),\n",
       " ('[3, 2, 1, 1, 0]', (-6.008958103448277, 145)),\n",
       " ('[3, 1, 3, 1, 1]', (-6.012931034482758, 53)),\n",
       " ('[0, 1, 0, 0, 1]', (-6.013243534482759, 60)),\n",
       " ('[0, 4, 1, 1, 1]', (-6.018810344827587, 98)),\n",
       " ('[0, 1, 3, 1, 1]', (-6.020487931034483, 65)),\n",
       " ('[3, 1, 3, 1, 0]', (-6.022413793103448, 6)),\n",
       " ('[3, 0, 1, 1, 1]', (-6.027586206896553, 8)),\n",
       " ('[0, 1, 5, 1, 0]', (-6.031034482758621, 32)),\n",
       " ('[3, 2, 3, 1, 1]', (-6.033234482758621, 38)),\n",
       " ('[0, 4, 2, 1, 0]', (-6.034258793103448, 33)),\n",
       " ('[0, 0, 1, 1, 0]', (-6.035566206896552, 29)),\n",
       " ('[3, 0, 4, 1, 1]', (-6.036000000000001, 43)),\n",
       " ('[0, 1, 0, 1, 1]', (-6.036955357097217, 94)),\n",
       " ('[0, 2, 3, 0, 1]', (-6.04103448275862, 33)),\n",
       " ('[3, 3, 1, 0, 1]', (-6.041379310344828, 12)),\n",
       " ('[0, 1, 5, 1, 1]', (-6.041437838730117, 99)),\n",
       " ('[-1, 4, 0, 1, 1]', (-6.041896551724138, 32)),\n",
       " ('[-1, 2, 0, 1, 1]', (-6.042446551724139, 32)),\n",
       " ('[0, 0, 7, 1, 0]', (-6.044655172413794, 32)),\n",
       " ('[0, 1, 2, 1, 1]', (-6.0450434137931035, 65)),\n",
       " ('[0, 6, 1, 1, 1]', (-6.046650377586207, 99)),\n",
       " ('[0, 2, 1, 1, 1]', (-6.046897274137932, 97)),\n",
       " ('[0, 3, 1, 1, 1]', (-6.0538801132626, 99)),\n",
       " ('[1, 1, 1, 0, 1]', (-6.0555172413793095, 62)),\n",
       " ('[1, 1, 1, 1, 0]', (-6.056074302424698, 91)),\n",
       " ('[1, 4, 1, 0, 0]', (-6.057344827586207, 58)),\n",
       " ('[3, 2, 2, 0, 1]', (-6.058620689655173, 12)),\n",
       " ('[-1, 0, 1, 1, 1]', (-6.060862068965518, 29)),\n",
       " ('[0, 1, 2, 0, 1]', (-6.062586206896551, 60)),\n",
       " ('[2, 1, 5, 0, 0]', (-6.063103448275862, 28)),\n",
       " ('[4, 0, 0, 0, 1]', (-6.064654484588146, 2844)),\n",
       " ('[2, 2, 3, 1, 0]', (-6.067241379310345, 11)),\n",
       " ('[3, 2, 1, 0, 1]', (-6.068965517241379, 9)),\n",
       " ('[2, 2, 2, 1, 1]', (-6.0699808706241125, 25)),\n",
       " ('[2, 3, 3, 1, 1]', (-6.070689655172414, 30)),\n",
       " ('[2, 3, 0, 1, 0]', (-6.070797583810223, 226)),\n",
       " ('[1, 3, 1, 1, 0]', (-6.071293103448276, 91)),\n",
       " ('[1, 3, 3, 1, 0]', (-6.07651724137931, 9)),\n",
       " ('[3, 1, 2, 0, 0]', (-6.080431034482759, 27)),\n",
       " ('[2, 2, 1, 1, 0]', (-6.08302458970641, 149)),\n",
       " ('[1, 2, 4, 1, 1]', (-6.084482758620689, 21)),\n",
       " ('[0, 2, 6, 1, 1]', (-6.090095810344828, 109)),\n",
       " ('[1, 0, 4, 0, 0]', (-6.093172432739347, 174)),\n",
       " ('[0, 2, 4, 1, 0]', (-6.097796551724138, 35)),\n",
       " ('[3, 0, 2, 1, 1]', (-6.1012575938573805, 41)),\n",
       " ('[-1, 1, 6, 0, 1]', (-6.1052, 35)),\n",
       " ('[2, 2, 0, 1, 0]', (-6.106328210051802, 226)),\n",
       " ('[0, 4, 0, 1, 0]', (-6.109199400875298, 295)),\n",
       " ('[1, 1, 5, 0, 1]', (-6.114860689655172, 63)),\n",
       " ('[3, 0, 0, 1, 0]', (-6.1151551617062845, 1573)),\n",
       " ('[2, 4, 2, 1, 0]', (-6.121632758620689, 40)),\n",
       " ('[0, 4, 1, 0, 1]', (-6.123115517241381, 33)),\n",
       " ('[0, 5, 3, 1, 0]', (-6.125312068965518, 36)),\n",
       " ('[1, 2, 3, 0, 1]', (-6.125862068965517, 7)),\n",
       " ('[-1, 5, 2, 1, 1]', (-6.127586206896552, 34)),\n",
       " ('[2, 3, 0, 0, 0]', (-6.1278155172413795, 56)),\n",
       " ('[0, 4, 1, 0, 0]', (-6.129137931034481, 30)),\n",
       " ('[-1, 1, 4, 1, 0]', (-6.129310344827586, 1)),\n",
       " ('[4, 2, 0, 1, 1]', (-6.129690452915939, 154)),\n",
       " ('[-1, 4, 1, 1, 1]', (-6.132413793103448, 33)),\n",
       " ('[4, 3, 0, 0, 1]', (-6.132586206896552, 9)),\n",
       " ('[2, 2, 4, 0, 1]', (-6.134896551724138, 11)),\n",
       " ('[0, 6, 0, 0, 1]', (-6.137931034482759, 32)),\n",
       " ('[1, 0, 5, 1, 1]', (-6.139624467108626, 241)),\n",
       " ('[2, 1, 0, 1, 1]', (-6.140781428995829, 68)),\n",
       " ('[0, 5, 0, 0, 0]', (-6.141587137931036, 150)),\n",
       " ('[2, 0, 1, 1, 0]', (-6.142689655172414, 89)),\n",
       " ('[2, 0, 3, 0, 1]', (-6.144111966072963, 200)),\n",
       " ('[1, 0, 3, 0, 1]', (-6.145030381639148, 171)),\n",
       " ('[2, 2, 1, 1, 1]', (-6.145459512459261, 106)),\n",
       " ('[2, 0, 5, 1, 1]', (-6.146146603448278, 129)),\n",
       " ('[1, 2, 5, 1, 1]', (-6.147637931034484, 24)),\n",
       " ('[4, 2, 1, 0, 0]', (-6.148637931034483, 52)),\n",
       " ('[0, 1, 4, 1, 0]', (-6.151856896551725, 31)),\n",
       " ('[-2, 4, 5, 1, 0]', (-6.15344827586207, 2)),\n",
       " ('[2, 6, 0, 1, 1]', (-6.158172413793102, 82)),\n",
       " ('[-1, 5, 1, 1, 1]', (-6.165844827586207, 34)),\n",
       " ('[0, 4, 3, 1, 0]', (-6.166655172413794, 34)),\n",
       " ('[2, 5, 1, 1, 0]', (-6.166825862068967, 151)),\n",
       " ('[0, 0, 3, 0, 1]', (-6.168199055634826, 205)),\n",
       " ('[2, 0, 3, 1, 1]', (-6.170931034482758, 65)),\n",
       " ('[1, 5, 2, 1, 0]', (-6.1724137931034475, 9)),\n",
       " ('[4, 1, 3, 1, 1]', (-6.172453448275862, 39)),\n",
       " ('[1, 2, 0, 0, 0]', (-6.178245787931035, 58)),\n",
       " ('[-1, 1, 0, 1, 1]', (-6.180172413793103, 31)),\n",
       " ('[5, 0, 0, 1, 0]', (-6.180405197604733, 2765)),\n",
       " ('[4, 2, 0, 0, 0]', (-6.180504844827586, 130)),\n",
       " ('[4, 1, 0, 1, 0]', (-6.183881954623008, 1895)),\n",
       " ('[-1, 1, 3, 1, 1]', (-6.189655172413794, 31)),\n",
       " ('[-2, 2, 5, 1, 1]', (-6.1913793103448285, 6)),\n",
       " ('[0, 1, 0, 1, 0]', (-6.1979204594791355, 149)),\n",
       " ('[-2, 0, 5, 0, 1]', (-6.1979310344827585, 31)),\n",
       " ('[1, 2, 4, 1, 0]', (-6.199310344827587, 7)),\n",
       " ('[1, 7, 0, 0, 1]', (-6.205172413793103, 4)),\n",
       " ('[1, 0, 2, 0, 1]', (-6.206386318965517, 113)),\n",
       " ('[1, 3, 5, 0, 1]', (-6.208620689655173, 10)),\n",
       " ('[-1, 3, 5, 0, 1]', (-6.208620689655173, 8)),\n",
       " ('[3, 3, 2, 0, 1]', (-6.20948275862069, 16)),\n",
       " ('[0, 3, 5, 0, 1]', (-6.214832758620691, 40)),\n",
       " ('[0, 0, 6, 0, 1]', (-6.21801078620579, 350)),\n",
       " ('[-2, 1, 4, 1, 1]', (-6.218965517241379, 1)),\n",
       " ('[4, 1, 2, 1, 0]', (-6.222413793103447, 10)),\n",
       " ('[0, 2, 0, 1, 0]', (-6.224889277779829, 178)),\n",
       " ('[3, 1, 4, 0, 1]', (-6.232758620689655, 33)),\n",
       " ('[3, 3, 0, 0, 1]', (-6.2396551724137925, 6)),\n",
       " ('[-1, 2, 5, 1, 0]', (-6.239655172413793, 6)),\n",
       " ('[3, 2, 3, 1, 0]', (-6.243103448275862, 12)),\n",
       " ('[0, 3, 4, 1, 0]', (-6.246551724137932, 37)),\n",
       " ('[4, 0, 0, 1, 0]', (-6.24667747695446, 3011)),\n",
       " ('[3, 4, 0, 0, 1]', (-6.248539034482759, 38)),\n",
       " ('[2, 0, 3, 1, 0]', (-6.251724137931034, 1)),\n",
       " ('[0, 2, 5, 1, 0]', (-6.252068965517242, 37)),\n",
       " ('[0, 4, 5, 1, 0]', (-6.256206896551724, 42)),\n",
       " ('[0, 4, 4, 1, 0]', (-6.256237931034484, 38)),\n",
       " ('[2, 2, 5, 1, 1]', (-6.260344827586207, 33)),\n",
       " ('[1, 0, 5, 1, 0]', (-6.2603448275862075, 2)),\n",
       " ('[0, 2, 6, 0, 1]', (-6.264241379310344, 40)),\n",
       " ('[1, 2, 0, 1, 0]', (-6.266420492481028, 177)),\n",
       " ('[1, 4, 2, 0, 1]', (-6.267862068965517, 8)),\n",
       " ('[0, 6, 0, 1, 1]', (-6.268073209911341, 183)),\n",
       " ('[0, 2, 3, 1, 1]', (-6.268284931034484, 69)),\n",
       " ('[2, 1, 3, 0, 0]', (-6.269310344827586, 28)),\n",
       " ('[2, 1, 4, 1, 0]', (-6.271206896551725, 7)),\n",
       " ('[3, 2, 0, 1, 0]', (-6.275491352601807, 387)),\n",
       " ('[0, 2, 5, 0, 1]', (-6.275879310344828, 37)),\n",
       " ('[1, 2, 5, 1, 0]', (-6.278620689655172, 8)),\n",
       " ('[-2, 4, 4, 1, 0]', (-6.2810344827586215, 2)),\n",
       " ('[0, 6, 2, 0, 1]', (-6.281626551724138, 34)),\n",
       " ('[2, 1, 5, 0, 1]', (-6.283724137931036, 62)),\n",
       " ('[4, 3, 1, 1, 0]', (-6.284837075, 119)),\n",
       " ('[-1, 0, 4, 0, 0]', (-6.285103448275864, 31)),\n",
       " ('[1, 5, 0, 0, 0]', (-6.286605170000001, 145)),\n",
       " ('[-1, 4, 4, 1, 0]', (-6.287931034482758, 6)),\n",
       " ('[0, 5, 0, 1, 0]', (-6.289067145313615, 354)),\n",
       " ('[0, 4, 0, 0, 1]', (-6.292586206896552, 32)),\n",
       " ('[1, 0, 6, 1, 1]', (-6.292624167328028, 274)),\n",
       " ('[4, 3, 0, 0, 0]', (-6.293068965517242, 130)),\n",
       " ('[3, 1, 0, 1, 0]', (-6.293795703008594, 2521)),\n",
       " ('[-1, 1, 4, 0, 1]', (-6.296005931034484, 31)),\n",
       " ('[0, 5, 3, 0, 1]', (-6.29787396551724, 36)),\n",
       " ('[2, 1, 0, 1, 0]', (-6.2986932836734715, 172)),\n",
       " ('[0, 6, 1, 1, 0]', (-6.29919587, 92)),\n",
       " ('[0, 3, 3, 0, 1]', (-6.299218368965519, 34)),\n",
       " ('[2, 3, 0, 1, 1]', (-6.3008513735147496, 71)),\n",
       " ('[1, 1, 6, 1, 0]', (-6.301724137931035, 7)),\n",
       " ('[2, 3, 2, 1, 0]', (-6.303448275862069, 40)),\n",
       " ('[3, 0, 4, 0, 1]', (-6.304686553977088, 252)),\n",
       " ('[2, 5, 0, 0, 1]', (-6.305172413793104, 5)),\n",
       " ('[2, 0, 2, 0, 1]', (-6.305741902079658, 201)),\n",
       " ('[4, 0, 2, 1, 0]', (-6.308620689655173, 4)),\n",
       " ('[4, 2, 0, 1, 0]', (-6.30962429735162, 567)),\n",
       " ('[0, 5, 2, 1, 1]', (-6.310419653448276, 70)),\n",
       " ('[0, 0, 5, 0, 0]', (-6.311206896551725, 60)),\n",
       " ('[0, 1, 7, 0, 1]', (-6.314688448275864, 66)),\n",
       " ('[5, 0, 0, 0, 1]', (-6.3159371112030795, 2716)),\n",
       " ('[4, 2, 1, 1, 0]', (-6.316833734827586, 114)),\n",
       " ('[1, 0, 3, 0, 0]', (-6.318481269137932, 116)),\n",
       " ('[3, 1, 4, 1, 0]', (-6.318965517241381, 6)),\n",
       " ('[2, 0, 4, 1, 1]', (-6.321201266034484, 126)),\n",
       " ('[2, 3, 1, 0, 0]', (-6.321724137931034, 84)),\n",
       " ('[-2, 0, 4, 0, 1]', (-6.3245689655172415, 31)),\n",
       " ('[1, 1, 0, 1, 0]', (-6.325350844475721, 90)),\n",
       " ('[1, 4, 3, 0, 1]', (-6.325862068965517, 9)),\n",
       " ('[-1, 0, 0, 1, 1]', (-6.3308620689655175, 29)),\n",
       " ('[1, 4, 4, 0, 1]', (-6.332758620689656, 9)),\n",
       " ('[1, 5, 2, 1, 1]', (-6.334482758620689, 24)),\n",
       " ('[4, 3, 0, 1, 0]', (-6.335067786525376, 569)),\n",
       " ('[1, 1, 6, 1, 1]', (-6.341823965517242, 53)),\n",
       " ('[0, 5, 1, 0, 0]', (-6.342948275862069, 30)),\n",
       " ('[2, 0, 6, 1, 0]', (-6.346551724137932, 3)),\n",
       " ('[3, 0, 3, 0, 0]', (-6.3504172413793105, 27)),\n",
       " ('[1, 3, 4, 1, 0]', (-6.353965517241381, 9)),\n",
       " ('[4, 1, 3, 1, 0]', (-6.356034482758622, 10)),\n",
       " ('[3, 0, 2, 0, 1]', (-6.357796275339646, 222)),\n",
       " ('[0, 1, 3, 1, 0]', (-6.362068965517242, 31)),\n",
       " ('[0, 0, 7, 0, 1]', (-6.365594556775703, 351)),\n",
       " ('[2, 0, 4, 0, 1]', (-6.365883459624404, 288)),\n",
       " ('[0, 3, 0, 1, 0]', (-6.367025601532805, 265)),\n",
       " ('[2, 5, 1, 0, 0]', (-6.371651724137931, 84)),\n",
       " ('[0, 0, 3, 1, 0]', (-6.377586206896551, 29)),\n",
       " ('[0, 6, 0, 1, 0]', (-6.3778613021518975, 352)),\n",
       " ('[4, 1, 1, 1, 1]', (-6.3821250662958855, 79)),\n",
       " ('[1, 6, 0, 1, 1]', (-6.383950594918967, 154)),\n",
       " ('[4, 0, 3, 0, 1]', (-6.384404583060269, 368)),\n",
       " ('[1, 0, 6, 0, 1]', (-6.384832339556894, 429)),\n",
       " ('[-1, 5, 3, 0, 1]', (-6.386206896551724, 1)),\n",
       " ('[-1, 6, 3, 0, 1]', (-6.389655172413793, 1)),\n",
       " ('[1, 0, 5, 0, 0]', (-6.392817478318623, 232)),\n",
       " ('[0, 2, 6, 1, 0]', (-6.393456551724138, 70)),\n",
       " ('[1, 4, 1, 1, 1]', (-6.395344827586207, 74)),\n",
       " ('[3, 4, 0, 0, 0]', (-6.396202697205174, 81)),\n",
       " ('[3, 5, 0, 0, 1]', (-6.396551724137931, 9)),\n",
       " ('[3, 3, 1, 1, 0]', (-6.3984578153448295, 148)),\n",
       " ('[2, 4, 2, 0, 1]', (-6.404864086206897, 45)),\n",
       " ('[1, 4, 2, 1, 0]', (-6.405172413793105, 8)),\n",
       " ('[4, 2, 3, 1, 0]', (-6.406896551724138, 13)),\n",
       " ('[2, 3, 4, 1, 1]', (-6.410896551724139, 35)),\n",
       " ('[0, 4, 1, 1, 0]', (-6.413556139655172, 91)),\n",
       " ('[1, 5, 1, 1, 1]', (-6.414355859284588, 77)),\n",
       " ('[0, 4, 5, 0, 1]', (-6.416120689655172, 42)),\n",
       " ('[1, 0, 4, 0, 1]', (-6.418007660346385, 313)),\n",
       " ('[6, 1, 0, 0, 1]', (-6.41932168464765, 1159)),\n",
       " ('[2, 0, 5, 0, 1]', (-6.420232636271792, 286)),\n",
       " ('[2, 0, 2, 1, 1]', (-6.421586206896553, 64)),\n",
       " ('[1, 4, 1, 1, 0]', (-6.4244705971862075, 91)),\n",
       " ('[2, 2, 3, 0, 1]', (-6.425862068965517, 11)),\n",
       " ('[5, 1, 0, 1, 0]', (-6.429791513449475, 2414)),\n",
       " ('[1, 5, 1, 1, 0]', (-6.430036724137933, 92)),\n",
       " ('[0, 6, 1, 0, 1]', (-6.431519655172415, 34)),\n",
       " ('[-1, 0, 4, 1, 1]', (-6.4324186206896545, 60)),\n",
       " ('[3, 3, 0, 1, 1]', (-6.4329664482809825, 105)),\n",
       " ('[-1, 0, 5, 0, 1]', (-6.436168965517243, 90)),\n",
       " ('[1, 3, 3, 0, 1]', (-6.437931034482757, 9)),\n",
       " ('[-1, 0, 6, 1, 0]', (-6.44051724137931, 30)),\n",
       " ('[2, 4, 2, 1, 1]', (-6.4427586206896565, 33)),\n",
       " ('[-1, 2, 5, 0, 1]', (-6.443103448275862, 6)),\n",
       " ('[-2, 0, 7, 0, 1]', (-6.444888426379311, 93)),\n",
       " ('[-2, 1, 8, 1, 1]', (-6.448275862068965, 5)),\n",
       " ('[3, 4, 0, 1, 0]', (-6.448820617844982, 388)),\n",
       " ('[0, 0, 1, 0, 1]', (-6.450260344827587, 87)),\n",
       " ('[5, 2, 0, 1, 0]', (-6.45032577918541, 537)),\n",
       " ('[4, 3, 1, 0, 1]', (-6.452931034482758, 15)),\n",
       " ('[2, 1, 1, 0, 0]', (-6.455569596318967, 112)),\n",
       " ('[0, 0, 4, 1, 0]', (-6.462758620689655, 29)),\n",
       " ('[-1, 1, 5, 0, 1]', (-6.465344827586207, 32)),\n",
       " ('[-2, 3, 6, 0, 1]', (-6.4672413793103445, 1)),\n",
       " ('[4, 2, 2, 1, 0]', (-6.472413793103447, 13)),\n",
       " ('[3, 4, 1, 1, 0]', (-6.474282866793104, 150)),\n",
       " ('[-1, 6, 2, 1, 1]', (-6.478275862068966, 34)),\n",
       " ('[3, 1, 0, 1, 1]', (-6.478529309316049, 95)),\n",
       " ('[0, 7, 0, 0, 1]', (-6.480020689655171, 32)),\n",
       " ('[5, 0, 3, 1, 0]', (-6.481034482758621, 7)),\n",
       " ('[-1, 1, 0, 1, 0]', (-6.481403448275865, 60)),\n",
       " ('[3, 3, 1, 0, 0]', (-6.486568965517242, 54)),\n",
       " ('[-2, 2, 6, 0, 1]', (-6.486896551724138, 32)),\n",
       " ('[3, 4, 0, 1, 1]', (-6.488126143990741, 109)),\n",
       " ('[2, 1, 1, 1, 0]', (-6.488418021368519, 150)),\n",
       " ('[1, 6, 0, 1, 0]', (-6.490404157174655, 260)),\n",
       " ('[1, 0, 5, 0, 1]', (-6.493004113023843, 370)),\n",
       " ('[4, 0, 4, 1, 0]', (-6.494827586206897, 4)),\n",
       " ('[0, 0, 0, 1, 0]', (-6.497096745436526, 6359)),\n",
       " ('[-1, 2, 6, 0, 1]', (-6.498143112377896, 11)),\n",
       " ('[2, 1, 6, 1, 1]', (-6.498275862068965, 64)),\n",
       " ('[3, 1, 1, 1, 0]', (-6.498727673207493, 142)),\n",
       " ('[3, 4, 1, 0, 1]', (-6.498793103448275, 45)),\n",
       " ('[1, 2, 6, 1, 0]', (-6.501206896551724, 10)),\n",
       " ('[3, 5, 1, 0, 1]', (-6.501724137931035, 17)),\n",
       " ('[-1, 4, 2, 1, 1]', (-6.5022413793103455, 33)),\n",
       " ('[4, 0, 0, 1, 1]', (-6.507777478868155, 58)),\n",
       " ('[1, 4, 4, 1, 0]', (-6.510344827586207, 9)),\n",
       " ('[3, 1, 4, 0, 0]', (-6.5118965517241385, 27)),\n",
       " ('[3, 3, 0, 0, 0]', (-6.512689655172414, 81)),\n",
       " ('[1, 7, 1, 1, 0]', (-6.513120689655173, 92)),\n",
       " ('[2, 2, 0, 0, 0]', (-6.514599827586208, 56)),\n",
       " ('[0, 6, 0, 0, 0]', (-6.514665931034482, 150)),\n",
       " ('[3, 2, 0, 0, 0]', (-6.515327775862069, 81)),\n",
       " ('[-1, 6, 0, 0, 0]', (-6.5199310344827595, 31)),\n",
       " ('[-1, 3, 1, 1, 0]', (-6.52206896551724, 30)),\n",
       " ('[1, 2, 5, 0, 1]', (-6.527586206896553, 8)),\n",
       " ('[4, 0, 1, 0, 0]', (-6.527646551724138, 52)),\n",
       " ('[-1, 0, 0, 0, 1]', (-6.529919357625994, 4805)),\n",
       " ('[0, 6, 3, 0, 1]', (-6.530862068965517, 36)),\n",
       " ('[4, 2, 2, 0, 1]', (-6.53161951724138, 63)),\n",
       " ('[0, 2, 0, 1, 1]', (-6.533728602842993, 94)),\n",
       " ('[6, 0, 1, 0, 0]', (-6.534558517241381, 96)),\n",
       " ('[1, 6, 1, 1, 1]', (-6.5353010517241374, 77)),\n",
       " ('[2, 3, 2, 1, 1]', (-6.5355429795277615, 30)),\n",
       " ('[-1, 6, 0, 1, 0]', (-6.538400468705517, 180)),\n",
       " ('[3, 1, 1, 0, 0]', (-6.5394837155172425, 81)),\n",
       " ('[0, 4, 3, 0, 1]', (-6.543103448275862, 34)),\n",
       " ('[4, 1, 2, 0, 1]', (-6.544634482758622, 40)),\n",
       " ('[2, 1, 3, 1, 0]', (-6.544827586206897, 7)),\n",
       " ('[1, 3, 0, 1, 0]', (-6.545224796526937, 263)),\n",
       " ('[3, 2, 3, 0, 1]', (-6.548275862068965, 12)),\n",
       " ('[0, 1, 5, 0, 0]', (-6.55, 30)),\n",
       " ('[-2, 3, 4, 1, 1]', (-6.551724137931035, 5)),\n",
       " ('[1, 6, 1, 1, 0]', (-6.561298686176537, 92)),\n",
       " ('[3, 2, 0, 1, 1]', (-6.562229283020071, 102)),\n",
       " ('[-2, 7, 0, 1, 0]', (-6.572351051724139, 62)),\n",
       " ('[2, 7, 0, 0, 1]', (-6.576379310344828, 5)),\n",
       " ('[4, 0, 4, 1, 1]', (-6.579931034482759, 103)),\n",
       " ('[-1, 0, 8, 0, 0]', (-6.581693103448276, 93)),\n",
       " ('[0, 8, 0, 0, 1]', (-6.584237931034483, 32)),\n",
       " ('[1, 2, 3, 1, 0]', (-6.584482758620689, 7)),\n",
       " ('[0, 2, 5, 1, 1]', (-6.585445743522383, 72)),\n",
       " ('[2, 6, 0, 0, 1]', (-6.587931034482759, 5)),\n",
       " ('[-1, 4, 0, 1, 0]', (-6.590335534482758, 90)),\n",
       " ('[3, 3, 2, 0, 0]', (-6.593202586206897, 27)),\n",
       " ('[-1, 1, 6, 1, 0]', (-6.593596551724138, 35)),\n",
       " ('[-1, 1, 7, 1, 0]', (-6.598275862068965, 5)),\n",
       " ('[-1, 5, 1, 1, 0]', (-6.601034482758621, 30)),\n",
       " ('[-1, 5, 3, 1, 0]', (-6.6017241379310345, 1)),\n",
       " ('[0, 1, 7, 1, 0]', (-6.60203448275862, 37)),\n",
       " ('[4, 4, 0, 0, 1]', (-6.6032586206896555, 42)),\n",
       " ('[2, 3, 3, 1, 0]', (-6.608620689655173, 13)),\n",
       " ('[-1, 7, 1, 1, 0]', (-6.609408620689656, 30)),\n",
       " ('[5, 3, 1, 0, 0]', (-6.610862068965517, 50)),\n",
       " ('[2, 4, 3, 1, 1]', (-6.612068965517241, 34)),\n",
       " ('[2, 5, 0, 1, 1]', (-6.612410944949188, 80)),\n",
       " ('[0, 1, 6, 0, 0]', (-6.612879310344829, 60)),\n",
       " ('[2, 1, 0, 0, 0]', (-6.615041211063345, 2243)),\n",
       " ('[-1, 3, 3, 1, 1]', (-6.6172706896551725, 34)),\n",
       " ('[4, 0, 2, 0, 1]', (-6.618843367386579, 369)),\n",
       " ('[4, 4, 0, 1, 0]', (-6.619385352434571, 572)),\n",
       " ('[1, 1, 5, 1, 0]', (-6.622413793103448, 6)),\n",
       " ('[1, 3, 6, 1, 0]', (-6.624137931034483, 12)),\n",
       " ('[0, 2, 7, 1, 1]', (-6.627651724137932, 80)),\n",
       " ('[0, 0, 4, 0, 0]', (-6.631620689655174, 60)),\n",
       " ('[-1, 5, 0, 1, 1]', (-6.633175862068966, 63)),\n",
       " ('[-3, 4, 5, 1, 1]', (-6.636206896551725, 2)),\n",
       " ('[3, 3, 1, 1, 1]', (-6.637850082972351, 94)),\n",
       " ('[0, 7, 0, 1, 1]', (-6.638076474227587, 183)),\n",
       " ('[1, 0, 6, 0, 0]', (-6.647698920805174, 261)),\n",
       " ('[1, 0, 6, 1, 0]', (-6.65, 3)),\n",
       " ('[1, 3, 4, 0, 1]', (-6.651724137931035, 9)),\n",
       " ('[-1, 5, 4, 0, 1]', (-6.654137931034482, 9)),\n",
       " ('[1, 6, 2, 1, 0]', (-6.657068965517242, 9)),\n",
       " ('[2, 0, 5, 0, 0]', (-6.661252603448278, 112)),\n",
       " ('[1, 1, 0, 0, 0]', (-6.661955500000002, 58)),\n",
       " ('[3, 0, 5, 1, 1]', (-6.666586206896554, 46)),\n",
       " ('[2, 5, 0, 1, 0]', (-6.667951449413794, 227)),\n",
       " ('[0, 4, 4, 1, 1]', (-6.669749479484942, 102)),\n",
       " ('[0, 7, 1, 1, 1]', (-6.670050000000002, 99)),\n",
       " ('[0, 7, 1, 1, 0]', (-6.670359206896553, 92)),\n",
       " ('[0, 6, 2, 1, 0]', (-6.671551724137931, 34)),\n",
       " ('[4, 3, 2, 0, 1]', (-6.673620689655172, 18)),\n",
       " ('[-1, 7, 1, 1, 1]', (-6.675344827586207, 34)),\n",
       " ('[4, 4, 1, 0, 1]', (-6.679655172413794, 49)),\n",
       " ('[3, 2, 2, 1, 1]', (-6.68242365951558, 39)),\n",
       " ('[2, 6, 0, 1, 0]', (-6.684806580197371, 227)),\n",
       " ('[4, 1, 3, 0, 1]', (-6.686466396551724, 40)),\n",
       " ('[4, 2, 3, 1, 1]', (-6.688620689655172, 53)),\n",
       " ('[4, 0, 3, 1, 1]', (-6.692125862068967, 98)),\n",
       " ('[0, 3, 4, 1, 1]', (-6.692588859501524, 72)),\n",
       " ('[3, 5, 0, 1, 0]', (-6.693776190158008, 390)),\n",
       " ('[1, 5, 3, 1, 1]', (-6.700172413793103, 24)),\n",
       " ('[0, 2, 7, 1, 0]', (-6.700413793103449, 42)),\n",
       " ('[5, 0, 1, 0, 0]', (-6.705537931034484, 75)),\n",
       " ('[-1, 7, 2, 1, 1]', (-6.707401724137932, 34)),\n",
       " ('[-1, 4, 3, 1, 1]', (-6.707448275862069, 34)),\n",
       " ('[-1, 0, 3, 1, 1]', (-6.708275862068966, 60)),\n",
       " ('[4, 0, 0, 0, 0]', (-6.715163991332397, 9943)),\n",
       " ('[-1, 3, 5, 1, 0]', (-6.718965517241379, 8)),\n",
       " ('[4, 2, 2, 1, 1]', (-6.720908620689656, 49)),\n",
       " ('[2, 0, 6, 0, 0]', (-6.723341293103449, 112)),\n",
       " ('[-1, 0, 8, 0, 1]', (-6.723904620689656, 150)),\n",
       " ('[1, 1, 7, 0, 0]', (-6.724137931034482, 29)),\n",
       " ('[-1, 1, 8, 0, 1]', (-6.726913793103448, 35)),\n",
       " ('[0, 4, 0, 0, 0]', (-6.727684482758623, 90)),\n",
       " ('[2, 1, 6, 0, 1]', (-6.729251186017241, 64)),\n",
       " ('[-2, 6, 4, 1, 0]', (-6.736206896551724, 5)),\n",
       " ('[1, 1, 7, 1, 1]', (-6.73744827586207, 55)),\n",
       " ('[-2, 0, 6, 0, 1]', (-6.741724137931035, 62)),\n",
       " ('[0, 7, 0, 0, 0]', (-6.742142523034484, 150)),\n",
       " ('[3, 0, 5, 0, 1]', (-6.743367689017461, 252)),\n",
       " ('[1, 3, 4, 1, 1]', (-6.744620689655172, 24)),\n",
       " ('[0, 4, 4, 0, 0]', (-6.745139655172414, 30)),\n",
       " ('[2, 3, 4, 1, 0]', (-6.748517241379311, 13)),\n",
       " ('[-1, 0, 8, 1, 1]', (-6.749305861319829, 126)),\n",
       " ('[-2, 1, 7, 1, 1]', (-6.75, 5)),\n",
       " ('[0, 0, 3, 0, 0]', (-6.755675862068965, 60)),\n",
       " ('[1, 6, 1, 0, 1]', (-6.755862068965518, 8)),\n",
       " ('[1, 0, 7, 1, 1]', (-6.758432464993449, 275)),\n",
       " ('[5, 0, 2, 0, 0]', (-6.762024517466834, 726)),\n",
       " ('[1, 1, 7, 0, 1]', (-6.763275431034483, 64)),\n",
       " ('[-2, 2, 7, 1, 0]', (-6.763793103448276, 1)),\n",
       " ('[3, 0, 5, 1, 0]', (-6.765517241379311, 1)),\n",
       " ('[3, 4, 1, 1, 1]', (-6.7661468448275865, 99)),\n",
       " ('[2, 3, 4, 0, 1]', (-6.768448275862071, 13)),\n",
       " ('[4, 0, 1, 1, 0]', (-6.769421448275862, 56)),\n",
       " ('[4, 0, 1, 0, 1]', (-6.769657643543816, 267)),\n",
       " ('[2, 1, 4, 0, 1]', (-6.77244827586207, 62)),\n",
       " ('[4, 1, 4, 1, 1]', (-6.778413793103449, 44)),\n",
       " ('[0, 0, 6, 0, 0]', (-6.780273547413794, 90)),\n",
       " ('[0, 0, 2, 1, 0]', (-6.781972413793103, 29)),\n",
       " ('[-1, 0, 5, 1, 1]', (-6.782758620689654, 60)),\n",
       " ('[3, 3, 3, 1, 0]', (-6.7827586206896555, 16)),\n",
       " ('[-1, 0, 6, 0, 0]', (-6.786051431034483, 62)),\n",
       " ('[-1, 6, 0, 1, 1]', (-6.789661637931037, 63)),\n",
       " ('[-1, 1, 5, 1, 1]', (-6.790642818728251, 33)),\n",
       " ('[3, 2, 4, 0, 1]', (-6.791379310344827, 12)),\n",
       " ('[2, 5, 2, 0, 1]', (-6.793603448275864, 15)),\n",
       " ('[0, 2, 4, 1, 1]', (-6.7946982593601035, 71)),\n",
       " ('[3, 1, 3, 0, 0]', (-6.794827586206897, 27)),\n",
       " ('[2, 5, 3, 1, 0]', (-6.794827586206897, 15)),\n",
       " ('[1, 0, 7, 0, 1]', (-6.794922824027569, 428)),\n",
       " ('[-1, 0, 7, 1, 1]', (-6.795032453068967, 125)),\n",
       " ('[2, 4, 1, 0, 0]', (-6.797003439655174, 84)),\n",
       " ('[2, 4, 0, 0, 0]', (-6.8000000000000025, 56)),\n",
       " ('[3, 5, 0, 0, 0]', (-6.802371932586207, 81)),\n",
       " ('[3, 2, 1, 1, 1]', (-6.803982686110954, 88)),\n",
       " ('[3, 2, 4, 1, 1]', (-6.804310344827585, 41)),\n",
       " ('[3, 4, 2, 1, 0]', (-6.805315517241381, 44)),\n",
       " ('[0, 2, 7, 0, 1]', (-6.806320344827587, 42)),\n",
       " ('[0, 3, 3, 1, 0]', (-6.808103448275862, 34)),\n",
       " ('[6, 0, 0, 1, 0]', (-6.80845622810569, 3683)),\n",
       " ('[5, 2, 0, 1, 1]', (-6.809894819010189, 157)),\n",
       " ('[-2, 8, 0, 0, 0]', (-6.812068965517241, 32)),\n",
       " ('[-1, 0, 0, 1, 0]', (-6.813210383542724, 4835)),\n",
       " ('[1, 7, 0, 1, 0]', (-6.813242940478781, 260)),\n",
       " ('[2, 0, 7, 1, 0]', (-6.813793103448276, 3)),\n",
       " ('[-2, 5, 3, 1, 1]', (-6.815517241379309, 1)),\n",
       " ('[5, 3, 0, 0, 1]', (-6.8181034482758625, 8)),\n",
       " ('[0, 4, 4, 0, 1]', (-6.822733697075514, 39)),\n",
       " ('[-1, 2, 7, 0, 0]', (-6.824137931034483, 31)),\n",
       " ('[-2, 3, 6, 1, 1]', (-6.8274137931034495, 14)),\n",
       " ('[2, 6, 0, 0, 0]', (-6.828763448275863, 56)),\n",
       " ('[1, 6, 0, 0, 0]', (-6.829597196551725, 145)),\n",
       " ('[0, 0, 8, 0, 1]', (-6.8306425536104936, 352)),\n",
       " ('[-1, 0, 5, 0, 0]', (-6.830862068965518, 31)),\n",
       " ('[6, 0, 1, 0, 1]', (-6.8309263419995965, 506)),\n",
       " ('[-1, 5, 5, 1, 0]', (-6.8310344827586205, 13)),\n",
       " ('[-2, 4, 4, 0, 0]', (-6.831741379310346, 32)),\n",
       " ('[1, 1, 7, 1, 0]', (-6.834482758620689, 7)),\n",
       " ('[-2, 0, 3, 0, 1]', (-6.837931034482759, 31)),\n",
       " ('[0, 3, 6, 0, 1]', (-6.839655172413792, 43)),\n",
       " ('[5, 1, 2, 1, 0]', (-6.840196724137931, 36)),\n",
       " ('[6, 1, 1, 0, 0]', (-6.841206896551724, 48)),\n",
       " ('[4, 0, 4, 0, 1]', (-6.8446529651504235, 398)),\n",
       " ('[0, 7, 1, 0, 1]', (-6.846258620689655, 34)),\n",
       " ('[1, 5, 4, 0, 1]', (-6.846551724137932, 10)),\n",
       " ('[7, 0, 0, 1, 0]', (-6.851048429490017, 1800)),\n",
       " ('[-1, 7, 0, 0, 0]', (-6.857758620689655, 31)),\n",
       " ('[4, 4, 1, 1, 0]', (-6.858560054687931, 123)),\n",
       " ('[3, 4, 1, 0, 0]', (-6.863153637931036, 54)),\n",
       " ('[-3, 4, 6, 1, 1]', (-6.863793103448276, 5)),\n",
       " ('[4, 3, 1, 0, 0]', (-6.867637931034482, 52)),\n",
       " ('[0, 3, 6, 1, 1]', (-6.86774827586207, 111)),\n",
       " ('[4, 3, 2, 1, 1]', (-6.87181005936207, 88)),\n",
       " ('[0, 0, 8, 0, 0]', (-6.873978448275862, 60)),\n",
       " ('[4, 0, 3, 0, 0]', (-6.87444827586207, 78)),\n",
       " ('[1, 4, 4, 1, 1]', (-6.875862068965517, 24)),\n",
       " ('[2, 5, 1, 0, 1]', (-6.875862068965517, 9)),\n",
       " ('[-3, 5, 5, 0, 1]', (-6.875862068965517, 1)),\n",
       " ('[-1, 1, 4, 1, 1]', (-6.877230960500693, 32)),\n",
       " ('[-1, 2, 2, 1, 1]', (-6.877758620689656, 32)),\n",
       " ('[1, 6, 2, 1, 1]', (-6.881377586206897, 25)),\n",
       " ('[5, 0, 3, 0, 1]', (-6.882002386579342, 437)),\n",
       " ('[-1, 8, 0, 1, 0]', (-6.882700595857949, 180)),\n",
       " ('[-1, 7, 0, 1, 1]', (-6.882758620689655, 63)),\n",
       " ('[-1, 3, 0, 1, 0]', (-6.883681379310346, 60)),\n",
       " ('[6, 1, 1, 0, 1]', (-6.88448275862069, 11)),\n",
       " ('[-2, 2, 4, 1, 1]', (-6.886206896551724, 4)),\n",
       " ('[4, 4, 0, 0, 0]', (-6.887895966551724, 130)),\n",
       " ('[-2, 3, 7, 0, 1]', (-6.887931034482759, 1)),\n",
       " ('[0, 7, 1, 0, 0]', (-6.88896551724138, 30)),\n",
       " ('[3, 1, 4, 1, 1]', (-6.88948275862069, 56)),\n",
       " ('[-2, 8, 0, 1, 0]', (-6.889837465517242, 62)),\n",
       " ('[6, 1, 2, 1, 0]', (-6.891379310344829, 66)),\n",
       " ('[0, 7, 2, 0, 1]', (-6.893103448275862, 34)),\n",
       " ('[-2, 0, 8, 0, 1]', (-6.893225293103448, 93)),\n",
       " ('[5, 2, 0, 0, 1]', (-6.894206896551725, 61)),\n",
       " ('[2, 5, 2, 1, 0]', (-6.895167241379312, 42)),\n",
       " ('[2, 1, 5, 1, 1]', (-6.89551724137931, 54)),\n",
       " ('[2, 0, 6, 0, 1]', (-6.8956862285555705, 288)),\n",
       " ('[-1, 0, 3, 0, 1]', (-6.898211006923012, 91)),\n",
       " ('[-2, 3, 7, 1, 0]', (-6.898275862068966, 1)),\n",
       " ('[5, 0, 0, 0, 0]', (-6.907896321056332, 9662)),\n",
       " ('[2, 5, 1, 1, 1]', (-6.9112774542155195, 121)),\n",
       " ('[-1, 2, 8, 1, 0]', (-6.912068965517241, 11)),\n",
       " ('[1, 7, 0, 1, 1]', (-6.919096088941281, 154)),\n",
       " ('[2, 0, 2, 1, 0]', (-6.922413793103449, 1)),\n",
       " ('[1, 0, 7, 0, 0]', (-6.922655414603942, 261)),\n",
       " ('[3, 5, 1, 1, 0]', (-6.927638706896553, 153)),\n",
       " ('[-2, 2, 7, 0, 1]', (-6.931672413793103, 32)),\n",
       " ('[0, 7, 0, 1, 0]', (-6.9339932081703, 352)),\n",
       " ('[-3, 5, 4, 1, 1]', (-6.936206896551722, 3)),\n",
       " ('[-2, 3, 5, 1, 1]', (-6.937931034482758, 8)),\n",
       " ('[3, 2, 4, 1, 0]', (-6.937931034482759, 12)),\n",
       " ('[-2, 2, 6, 1, 0]', (-6.939655172413795, 1)),\n",
       " ('[-1, 2, 6, 0, 0]', (-6.941306896551724, 31)),\n",
       " ('[0, 6, 4, 0, 1]', (-6.941379310344829, 41)),\n",
       " ('[6, 0, 2, 1, 0]', (-6.9432547724077605, 611)),\n",
       " ('[0, 8, 0, 1, 1]', (-6.945539380057701, 183)),\n",
       " ('[0, 6, 3, 1, 1]', (-6.946612586206898, 71)),\n",
       " ('[-1, 1, 8, 1, 1]', (-6.950862068965517, 38)),\n",
       " ('[-1, 6, 1, 1, 1]', (-6.951724137931033, 34)),\n",
       " ('[5, 3, 0, 1, 0]', (-6.952201257153378, 566)),\n",
       " ('[2, 1, 6, 1, 0]', (-6.955172413793103, 9)),\n",
       " ('[1, 7, 1, 1, 1]', (-6.956034482758622, 78)),\n",
       " ('[-2, 4, 5, 0, 1]', (-6.956553620689656, 33)),\n",
       " ('[-1, 2, 8, 1, 1]', (-6.958450620689657, 74)),\n",
       " ('[-1, 4, 4, 0, 1]', (-6.960452962456109, 37)),\n",
       " ('[2, 1, 4, 0, 0]', (-6.960517241379311, 28)),\n",
       " ('[7, 1, 0, 0, 1]', (-6.964404884869907, 1064)),\n",
       " ('[0, 2, 6, 0, 0]', (-6.9687931034482755, 30)),\n",
       " ('[3, 4, 2, 1, 1]', (-6.970186896551724, 78)),\n",
       " ('[0, 8, 0, 0, 0]', (-6.972423103448276, 150)),\n",
       " ('[4, 3, 3, 0, 1]', (-6.972586206896551, 18)),\n",
       " ('[3, 3, 3, 1, 1]', (-6.9736206896551725, 45)),\n",
       " ('[0, 5, 4, 1, 0]', (-6.975397413793105, 41)),\n",
       " ('[5, 2, 1, 1, 0]', (-6.977029389916572, 136)),\n",
       " ('[0, 6, 2, 1, 1]', (-6.977150000000001, 70)),\n",
       " ('[-2, 6, 0, 1, 1]', (-6.9802431034482755, 32)),\n",
       " ('[4, 0, 1, 1, 1]', (-6.980664497718299, 64)),\n",
       " ('[-3, 4, 4, 0, 1]', (-6.981034482758619, 32)),\n",
       " ('[-1, 2, 7, 0, 1]', (-6.984482758620689, 11)),\n",
       " ('[3, 3, 3, 0, 1]', (-6.991724137931036, 16)),\n",
       " ('[0, 7, 2, 1, 1]', (-6.993051724137931, 70)),\n",
       " ('[4, 0, 2, 1, 1]', (-6.994561828710524, 97)),\n",
       " ('[-1, 2, 8, 0, 1]', (-6.994827586206897, 11)),\n",
       " ('[5, 1, 1, 1, 0]', (-6.995960192728477, 109)),\n",
       " ('[5, 0, 2, 0, 1]', (-6.997118369115203, 439)),\n",
       " ('[-1, 4, 4, 0, 0]', (-7.002241379310344, 31)),\n",
       " ('[0, 1, 8, 1, 1]', (-7.003294827586206, 108)),\n",
       " ('[5, 4, 0, 0, 1]', (-7.0056896551724135, 8)),\n",
       " ('[1, 2, 6, 0, 1]', (-7.007068965517242, 10)),\n",
       " ('[5, 3, 0, 0, 0]', (-7.0072241379310345, 125)),\n",
       " ('[-1, 7, 0, 1, 0]', (-7.007438729310345, 180)),\n",
       " ('[3, 1, 0, 0, 0]', (-7.0084153182164854, 3542)),\n",
       " ('[-1, 8, 2, 1, 1]', (-7.010413793103449, 34)),\n",
       " ('[2, 2, 4, 1, 1]', (-7.0105172413793095, 29)),\n",
       " ('[2, 4, 3, 1, 0]', (-7.01103448275862, 13)),\n",
       " ('[6, 2, 0, 0, 0]', (-7.016211794827587, 168)),\n",
       " ('[-2, 2, 8, 1, 1]', (-7.017241379310346, 11)),\n",
       " ('[2, 7, 0, 1, 1]', (-7.018731034482759, 82)),\n",
       " ('[0, 8, 0, 1, 0]', (-7.020763152033893, 352)),\n",
       " ('[3, 6, 0, 0, 1]', (-7.022662068965517, 41)),\n",
       " ('[-1, 8, 0, 1, 1]', (-7.026494827586208, 63)),\n",
       " ('[5, 1, 2, 0, 1]', (-7.0293103448275875, 12)),\n",
       " ('[0, 8, 1, 0, 0]', (-7.0293586206896554, 30)),\n",
       " ('[4, 1, 2, 1, 1]', (-7.035470793206257, 36)),\n",
       " ('[-1, 5, 3, 1, 1]', (-7.037123983868625, 37)),\n",
       " ('[4, 2, 3, 0, 1]', (-7.037931034482758, 63)),\n",
       " ('[-1, 5, 5, 1, 1]', (-7.040120689655174, 45)),\n",
       " ('[3, 0, 5, 0, 0]', (-7.044431034482761, 27)),\n",
       " ('[5, 4, 0, 0, 0]', (-7.045696724137932, 125)),\n",
       " ('[4, 1, 5, 1, 1]', (-7.0460517241379295, 45)),\n",
       " ('[2, 1, 6, 0, 0]', (-7.046551724137932, 28)),\n",
       " ('[6, 2, 0, 1, 0]', (-7.051360243188274, 445)),\n",
       " ('[3, 1, 5, 0, 1]', (-7.053856379310346, 33)),\n",
       " ('[0, 1, 6, 1, 0]', (-7.054864482758621, 65)),\n",
       " ('[-3, 2, 8, 1, 1]', (-7.0551724137931044, 1)),\n",
       " ('[2, 6, 1, 1, 0]', (-7.060543155875173, 152)),\n",
       " ('[-1, 3, 6, 0, 1]', (-7.061206896551725, 14)),\n",
       " ('[-1, 2, 0, 1, 0]', (-7.063616206896551, 60)),\n",
       " ('[-1, 3, 4, 1, 1]', (-7.0690475406636315, 38)),\n",
       " ('[2, 2, 4, 1, 0]', (-7.070689655172413, 11)),\n",
       " ('[-1, 9, 0, 0, 0]', (-7.071620689655173, 31)),\n",
       " ('[6, 0, 0, 0, 1]', (-7.071677310306555, 3891)),\n",
       " ('[7, 0, 1, 0, 1]', (-7.074175921441002, 426)),\n",
       " ('[-1, 4, 6, 0, 1]', (-7.07739827586207, 47)),\n",
       " ('[0, 1, 8, 0, 1]', (-7.078046896551724, 67)),\n",
       " ('[-1, 1, 1, 1, 1]', (-7.079310344827586, 31)),\n",
       " ('[-1, 1, 8, 1, 0]', (-7.08103448275862, 5)),\n",
       " ('[-1, 2, 5, 1, 1]', (-7.0810977011494245, 38)),\n",
       " ('[-1, 3, 7, 1, 1]', (-7.083499999999999, 45)),\n",
       " ('[-1, 8, 0, 0, 0]', (-7.087155172413793, 31)),\n",
       " ('[-3, 4, 5, 0, 1]', (-7.088965517241382, 32)),\n",
       " ('[4, 1, 0, 0, 0]', (-7.094836773409446, 3281)),\n",
       " ('[0, 8, 1, 1, 0]', (-7.096308403448277, 92)),\n",
       " ('[-1, 0, 9, 0, 1]', (-7.10074731743552, 150)),\n",
       " ('[3, 4, 2, 0, 1]', (-7.103006896551726, 49)),\n",
       " ('[1, 6, 1, 0, 0]', (-7.1064655172413795, 58)),\n",
       " ('[2, 6, 1, 0, 1]', (-7.11448275862069, 10)),\n",
       " ('[5, 3, 1, 0, 1]', (-7.11551724137931, 15)),\n",
       " ('[2, 1, 5, 1, 0]', (-7.11655172413793, 7)),\n",
       " ('[-2, 5, 4, 0, 1]', (-7.11896551724138, 3)),\n",
       " ('[-1, 5, 4, 1, 0]', (-7.121206896551725, 9)),\n",
       " ('[6, 0, 3, 0, 0]', (-7.1218706956896565, 144)),\n",
       " ('[-3, 3, 6, 1, 1]', (-7.125862068965516, 1)),\n",
       " ('[-2, 4, 5, 1, 1]', (-7.1298312068965535, 42)),\n",
       " ('[2, 0, 7, 0, 0]', (-7.1320525467241405, 112)),\n",
       " ('[1, 1, 8, 1, 0]', (-7.132758620689655, 8)),\n",
       " ('[-1, 8, 1, 1, 1]', (-7.13344827586207, 34)),\n",
       " ('[-1, 8, 1, 1, 0]', (-7.137775862068965, 30)),\n",
       " ('[-1, 4, 5, 0, 1]', (-7.139655172413794, 40)),\n",
       " ('[0, 1, 6, 1, 1]', (-7.140304451924465, 136)),\n",
       " ('[-3, 4, 6, 0, 1]', (-7.146551724137931, 32)),\n",
       " ('[-2, 7, 0, 0, 0]', (-7.15, 32)),\n",
       " ('[5, 2, 1, 0, 1]', (-7.150257310130859, 91)),\n",
       " ('[0, 3, 5, 1, 1]', (-7.151920227776021, 74)),\n",
       " ('[5, 1, 1, 0, 0]', (-7.158620689655171, 25)),\n",
       " ('[1, 3, 5, 1, 1]', (-7.16344827586207, 27)),\n",
       " ('[-1, 4, 4, 1, 1]', (-7.165456307547172, 70)),\n",
       " ('[3, 0, 4, 1, 0]', (-7.16551724137931, 1)),\n",
       " ('[0, 5, 3, 1, 1]', (-7.167306551968302, 72)),\n",
       " ('[1, 7, 1, 0, 0]', (-7.167586206896552, 58)),\n",
       " ('[1, 0, 7, 1, 0]', (-7.1689655172413795, 3)),\n",
       " ('[-1, 1, 5, 1, 0]', (-7.175862068965517, 2)),\n",
       " ('[3, 1, 5, 0, 0]', (-7.176551724137931, 27)),\n",
       " ('[-1, 1, 7, 0, 1]', (-7.176637931034483, 35)),\n",
       " ('[-3, 4, 7, 1, 1]', (-7.17948275862069, 5)),\n",
       " ('[-1, 6, 4, 1, 0]', (-7.181034482758621, 10)),\n",
       " ('[2, 3, 5, 1, 0]', (-7.182758620689654, 13)),\n",
       " ('[1, 6, 2, 0, 1]', (-7.182758620689656, 9)),\n",
       " ('[1, 6, 3, 1, 1]', (-7.18543103448276, 26)),\n",
       " ('[-1, 3, 2, 1, 1]', (-7.186762068965519, 33)),\n",
       " ('[1, 4, 0, 0, 0]', (-7.187496941379312, 145)),\n",
       " ('[-1, 5, 0, 1, 0]', (-7.1903574667891, 181)),\n",
       " ('[-2, 6, 0, 0, 0]', (-7.1913793103448285, 32)),\n",
       " ('[-2, 9, 0, 1, 1]', (-7.192413793103448, 32)),\n",
       " ('[-1, 9, 0, 1, 1]', (-7.194129310344827, 63)),\n",
       " ('[0, 8, 1, 1, 1]', (-7.195313793103449, 99)),\n",
       " ('[3, 3, 2, 1, 1]', (-7.195526487078617, 73)),\n",
       " ('[2, 5, 2, 1, 1]', (-7.197732007707912, 43)),\n",
       " ('[-1, 7, 3, 1, 1]', (-7.1988967241379305, 36)),\n",
       " ('[1, 5, 2, 0, 1]', (-7.2, 9)),\n",
       " ('[0, 0, 8, 1, 0]', (-7.205172413793103, 33)),\n",
       " ('[1, 4, 5, 0, 1]', (-7.205862068965518, 10)),\n",
       " ('[0, 4, 6, 0, 0]', (-7.206448275862068, 60)),\n",
       " ('[-2, 3, 8, 0, 1]', (-7.20689655172414, 1)),\n",
       " ('[1, 8, 1, 1, 1]', (-7.207431034482759, 78)),\n",
       " ('[-2, 4, 4, 0, 1]', (-7.208363880530189, 34)),\n",
       " ('[0, 8, 1, 0, 1]', (-7.2093546551724135, 34)),\n",
       " ('[6, 0, 0, 0, 0]', (-7.20981794867878, 10212)),\n",
       " ('[6, 1, 2, 0, 1]', (-7.212, 15)),\n",
       " ('[1, 2, 7, 1, 0]', (-7.2153448275862075, 10)),\n",
       " ('[-2, 5, 0, 1, 1]', (-7.215822413793104, 32)),\n",
       " ('[2, 5, 3, 0, 1]', (-7.216236206896553, 15)),\n",
       " ('[0, 0, 7, 0, 0]', (-7.216317931034483, 60)),\n",
       " ('[4, 4, 1, 0, 0]', (-7.218827431034484, 52)),\n",
       " ('[2, 0, 1, 0, 0]', (-7.219655172413793, 28)),\n",
       " ('[2, 2, 5, 1, 0]', (-7.22051724137931, 11)),\n",
       " ('[5, 2, 0, 0, 0]', (-7.225635488965518, 125)),\n",
       " ('[1, 7, 2, 0, 1]', (-7.2268965517241375, 9)),\n",
       " ('[0, 7, 3, 1, 1]', (-7.230853448275862, 71)),\n",
       " ('[-1, 2, 7, 1, 0]', (-7.231724137931036, 11)),\n",
       " ('[6, 3, 0, 0, 1]', (-7.232327586206898, 34)),\n",
       " ('[1, 8, 0, 1, 1]', (-7.235420344827588, 154)),\n",
       " ('[-1, 2, 4, 1, 0]', (-7.239655172413793, 4)),\n",
       " ('[-2, 4, 6, 0, 0]', (-7.2443103448275865, 32)),\n",
       " ('[1, 3, 0, 0, 0]', (-7.24735083539483, 145)),\n",
       " ('[2, 6, 2, 1, 0]', (-7.248463793103449, 43)),\n",
       " ('[0, 3, 5, 1, 0]', (-7.249310344827587, 40)),\n",
       " ('[0, 9, 0, 1, 1]', (-7.24969934750345, 183)),\n",
       " ('[-2, 7, 0, 1, 1]', (-7.249913793103447, 32)),\n",
       " ('[0, 6, 3, 1, 0]', (-7.250152241379311, 36)),\n",
       " ('[4, 1, 0, 1, 1]', (-7.252547636354035, 121)),\n",
       " ('[7, 0, 1, 0, 0]', (-7.25337033402501, 645)),\n",
       " ('[1, 0, 8, 0, 1]', (-7.254399614719852, 428)),\n",
       " ('[0, 1, 4, 0, 0]', (-7.2551179310344835, 30)),\n",
       " ('[6, 1, 2, 0, 0]', (-7.259, 24)),\n",
       " ('[2, 0, 4, 0, 0]', (-7.2601855172413785, 112)),\n",
       " ('[3, 1, 5, 1, 0]', (-7.260344827586207, 6)),\n",
       " ('[-1, 7, 3, 0, 1]', (-7.2603448275862075, 1)),\n",
       " ('[-3, 5, 5, 1, 0]', (-7.2620689655172415, 1)),\n",
       " ('[1, 1, 6, 0, 1]', (-7.263793103448276, 64)),\n",
       " ('[4, 5, 0, 1, 0]', (-7.264271200364285, 573)),\n",
       " ('[2, 4, 4, 0, 1]', (-7.265437931034483, 45)),\n",
       " ('[3, 6, 0, 1, 0]', (-7.268433841947204, 443)),\n",
       " ('[-1, 5, 5, 0, 1]', (-7.26844827586207, 13)),\n",
       " ('[-2, 4, 7, 1, 0]', (-7.268965517241378, 5)),\n",
       " ('[0, 1, 8, 0, 0]', (-7.270074137931035, 30)),\n",
       " ('[2, 4, 3, 0, 1]', (-7.270655172413792, 45)),\n",
       " ('[-2, 4, 6, 1, 0]', (-7.275862068965518, 5)),\n",
       " ('[2, 1, 7, 1, 1]', (-7.278775862068967, 65)),\n",
       " ('[-1, 3, 7, 1, 0]', (-7.279137931034482, 15)),\n",
       " ('[0, 5, 1, 1, 1]', (-7.280068852586207, 100)),\n",
       " ('[-1, 6, 1, 1, 0]', (-7.280517241379311, 30)),\n",
       " ('[-2, 2, 6, 1, 1]', (-7.286191191958588, 11)),\n",
       " ('[0, 6, 1, 0, 0]', (-7.2862068965517235, 30)),\n",
       " ('[-2, 2, 9, 1, 1]', (-7.28844827586207, 11)),\n",
       " ('[0, 1, 7, 0, 0]', (-7.289648275862069, 30)),\n",
       " ('[5, 4, 0, 1, 0]', (-7.289687693416489, 566)),\n",
       " ('[5, 1, 0, 0, 0]', (-7.291678595657912, 3080)),\n",
       " ('[1, 0, 8, 1, 1]', (-7.294785025607378, 277)),\n",
       " ('[-3, 9, 0, 1, 0]', (-7.294827586206895, 32)),\n",
       " ('[1, 3, 5, 1, 0]', (-7.294827586206895, 10)),\n",
       " ('[4, 0, 3, 1, 0]', (-7.298620689655173, 4)),\n",
       " ('[1, 8, 0, 0, 0]', (-7.30073674270396, 145)),\n",
       " ('[-3, 2, 9, 1, 1]', (-7.301724137931035, 1)),\n",
       " ('[2, 0, 4, 1, 0]', (-7.303448275862069, 1)),\n",
       " ('[2, 4, 4, 1, 1]', (-7.304070689655173, 39)),\n",
       " ('[7, 2, 0, 1, 0]', (-7.304609118193174, 377)),\n",
       " ('[-1, 2, 6, 1, 0]', (-7.311915344827587, 40)),\n",
       " ('[0, 4, 6, 0, 1]', (-7.313448275862069, 46)),\n",
       " ('[0, 4, 6, 1, 0]', (-7.3146414291379305, 76)),\n",
       " ('[4, 0, 5, 1, 1]', (-7.316445910831035, 104)),\n",
       " ('[-1, 7, 4, 0, 1]', (-7.317241379310344, 10)),\n",
       " ('[4, 5, 0, 0, 0]', (-7.32033855172414, 130)),\n",
       " ('[5, 4, 0, 1, 1]', (-7.320561659612105, 168)),\n",
       " ('[6, 2, 1, 0, 0]', (-7.3254090347241405, 120)),\n",
       " ('[7, 2, 1, 0, 1]', (-7.325862068965516, 65)),\n",
       " ('[-2, 0, 9, 0, 1]', (-7.329948275862071, 93)),\n",
       " ('[6, 3, 0, 1, 0]', (-7.332227493587932, 473)),\n",
       " ('[2, 7, 0, 1, 0]', (-7.333938375893539, 227)),\n",
       " ('[4, 3, 3, 1, 1]', (-7.3354050344827595, 66)),\n",
       " ('[-3, 7, 0, 1, 0]', (-7.336206896551724, 32)),\n",
       " ('[3, 0, 4, 0, 0]', (-7.336206896551724, 27)),\n",
       " ('[4, 4, 2, 0, 0]', (-7.337758620689655, 26)),\n",
       " ('[-2, 6, 4, 0, 1]', (-7.337931034482757, 36)),\n",
       " ('[1, 0, 8, 1, 0]', (-7.337931034482759, 3)),\n",
       " ('[0, 8, 2, 1, 1]', (-7.340299655172413, 70)),\n",
       " ('[3, 3, 2, 1, 0]', (-7.341112993541261, 43)),\n",
       " ('[-1, 0, 7, 0, 1]', (-7.34133167535982, 151)),\n",
       " ('[1, 0, 8, 0, 0]', (-7.342549602610346, 261)),\n",
       " ('[1, 8, 0, 1, 0]', (-7.347011799695913, 260)),\n",
       " ('[1, 3, 6, 0, 1]', (-7.347879310344829, 12)),\n",
       " ('[3, 5, 1, 1, 1]', (-7.349942303605016, 108)),\n",
       " ('[1, 5, 4, 1, 0]', (-7.350689655172415, 10)),\n",
       " ('[4, 0, 4, 0, 0]', (-7.352222613793105, 78)),\n",
       " ('[2, 4, 4, 1, 0]', (-7.354310344827588, 13)),\n",
       " ('[-3, 5, 0, 1, 0]', (-7.357310344827587, 32)),\n",
       " ('[-3, 8, 0, 1, 0]', (-7.35844827586207, 32)),\n",
       " ('[1, 5, 3, 1, 0]', (-7.358620689655173, 10)),\n",
       " ('[2, 3, 5, 0, 1]', (-7.363448275862067, 13)),\n",
       " ('[0, 3, 6, 0, 0]', (-7.363637931034483, 30)),\n",
       " ('[4, 4, 2, 0, 1]', (-7.36443103448276, 52)),\n",
       " ('[3, 4, 2, 0, 0]', (-7.364999999999999, 27)),\n",
       " ('[-2, 2, 7, 1, 1]', (-7.36551724137931, 11)),\n",
       " ('[-2, 0, 10, 0, 1]', (-7.366081724137931, 93)),\n",
       " ('[2, 1, 7, 0, 1]', (-7.369508620689656, 64)),\n",
       " ('[-1, 3, 5, 1, 1]', (-7.374027253573478, 41)),\n",
       " ('[6, 1, 1, 1, 0]', (-7.374557368674425, 130)),\n",
       " ('[3, 6, 1, 1, 1]', (-7.375486206896551, 113)),\n",
       " ('[5, 1, 1, 0, 1]', (-7.375862068965517, 8)),\n",
       " ('[-1, 0, 7, 0, 0]', (-7.377464310344829, 93)),\n",
       " ('[-4, 5, 6, 1, 1]', (-7.3775862068965505, 3)),\n",
       " ('[2, 6, 2, 1, 1]', (-7.37953448275862, 45)),\n",
       " ('[-1, 4, 1, 1, 0]', (-7.379999999999999, 30)),\n",
       " ('[-1, 6, 3, 1, 1]', (-7.382022413793105, 36)),\n",
       " ('[3, 1, 6, 0, 0]', (-7.383103448275862, 27)),\n",
       " ('[-1, 1, 9, 1, 0]', (-7.38448275862069, 5)),\n",
       " ('[1, 1, 3, 0, 0]', (-7.385474137931035, 29)),\n",
       " ('[-1, 0, 4, 0, 1]', (-7.387406206896552, 90)),\n",
       " ('[-1, 1, 7, 1, 1]', (-7.388678620689655, 37)),\n",
       " ('[0, 0, 9, 1, 1]', (-7.390628117068966, 98)),\n",
       " ('[0, 2, 1, 0, 0]', (-7.394827586206896, 30)),\n",
       " ('[1, 5, 4, 1, 1]', (-7.395706896551724, 27)),\n",
       " ('[0, 0, 7, 1, 1]', (-7.396396274137932, 99)),\n",
       " ('[-1, 2, 8, 0, 0]', (-7.3969482758620675, 31)),\n",
       " ('[4, 5, 1, 1, 0]', (-7.397203629137932, 124)),\n",
       " ('[-2, 6, 0, 1, 0]', (-7.4022770689655175, 62)),\n",
       " ('[5, 3, 1, 1, 0]', (-7.403269377068965, 139)),\n",
       " ('[-1, 3, 8, 0, 1]', (-7.40344827586207, 15)),\n",
       " ('[2, 6, 3, 1, 0]', (-7.403965517241381, 17)),\n",
       " ('[7, 0, 2, 1, 0]', (-7.404946471050877, 563)),\n",
       " ('[5, 0, 3, 0, 0]', (-7.405569655172414, 150)),\n",
       " ('[0, 2, 8, 1, 1]', (-7.4060883793103445, 82)),\n",
       " ('[-2, 3, 8, 1, 0]', (-7.406896551724136, 1)),\n",
       " ('[2, 1, 7, 0, 0]', (-7.410344827586208, 28)),\n",
       " ('[-2, 5, 5, 1, 0]', (-7.411551724137931, 4)),\n",
       " ('[5, 1, 2, 1, 1]', (-7.413256877100548, 50)),\n",
       " ('[6, 0, 3, 1, 0]', (-7.413793103448275, 8)),\n",
       " ('[3, 1, 6, 1, 0]', (-7.4175862068965515, 8)),\n",
       " ('[6, 0, 1, 1, 0]', (-7.417751378542827, 76)),\n",
       " ('[0, 0, 6, 1, 1]', (-7.4184565820665656, 130)),\n",
       " ('[2, 7, 0, 0, 0]', (-7.418528927586207, 56)),\n",
       " ('[1, 2, 7, 0, 1]', (-7.418965517241378, 10)),\n",
       " ('[3, 3, 4, 1, 0]', (-7.4209137931034475, 16)),\n",
       " ('[2, 5, 3, 1, 1]', (-7.424841896551727, 43)),\n",
       " ('[-3, 4, 7, 0, 1]', (-7.426672413793105, 32)),\n",
       " ('[-2, 5, 6, 1, 1]', (-7.427241379310345, 21)),\n",
       " ('[7, 2, 0, 0, 0]', (-7.429661689655172, 69)),\n",
       " ('[2, 6, 1, 0, 0]', (-7.431318965517244, 84)),\n",
       " ('[7, 2, 0, 0, 1]', (-7.432103448275863, 58)),\n",
       " ('[2, 0, 7, 0, 1]', (-7.432138687294126, 288)),\n",
       " ('[5, 1, 3, 1, 0]', (-7.43293103448276, 14)),\n",
       " ('[-2, 5, 5, 0, 1]', (-7.4332758620689665, 4)),\n",
       " ('[0, 9, 1, 1, 0]', (-7.4348637931034505, 92)),\n",
       " ('[2, 0, 0, 0, 0]', (-7.435053251756813, 4484)),\n",
       " ('[-2, 2, 8, 0, 1]', (-7.43551724137931, 32)),\n",
       " ('[5, 2, 1, 0, 0]', (-7.435828620689655, 75)),\n",
       " ('[-1, 0, 9, 1, 1]', (-7.437769562068967, 126)),\n",
       " ('[-1, 9, 1, 1, 1]', (-7.437931034482759, 34)),\n",
       " ('[-1, 2, 4, 1, 1]', (-7.439076172204002, 38)),\n",
       " ('[1, 2, 6, 1, 1]', (-7.440645141987829, 30)),\n",
       " ('[1, 0, 9, 1, 0]', (-7.441379310344827, 3)),\n",
       " ('[3, 3, 4, 1, 1]', (-7.444665517241379, 48)),\n",
       " ('[0, 4, 5, 0, 0]', (-7.444827586206896, 30)),\n",
       " ('[0, 5, 4, 1, 1]', (-7.447505224407495, 73)),\n",
       " ('[8, 0, 0, 0, 1]', (-7.449795830731939, 1133)),\n",
       " ('[1, 6, 3, 1, 0]', (-7.45, 10)),\n",
       " ('[5, 0, 4, 0, 0]', (-7.45117164010345, 150)),\n",
       " ('[2, 7, 1, 1, 0]', (-7.451279452346725, 153)),\n",
       " ('[6, 1, 3, 1, 0]', (-7.451724137931036, 16)),\n",
       " ('[-1, 3, 6, 1, 0]', (-7.452225862068967, 44)),\n",
       " ('[0, 3, 6, 1, 0]', (-7.453281034482759, 73)),\n",
       " ('[-1, 9, 0, 1, 0]', (-7.453344827586207, 180)),\n",
       " ('[1, 7, 2, 1, 1]', (-7.457931034482759, 26)),\n",
       " ('[-1, 3, 4, 1, 0]', (-7.458620689655172, 5)),\n",
       " ('[1, 6, 3, 0, 1]', (-7.46051724137931, 10)),\n",
       " ('[0, 4, 5, 1, 1]', (-7.462017534008228, 104)),\n",
       " ('[6, 1, 0, 1, 0]', (-7.462100700991938, 1574)),\n",
       " ('[-1, 9, 1, 1, 0]', (-7.462151724137932, 30)),\n",
       " ('[-1, 3, 0, 1, 1]', (-7.465000000000001, 32)),\n",
       " ('[1, 3, 7, 1, 0]', (-7.465517241379311, 13)),\n",
       " ('[-2, 3, 7, 1, 1]', (-7.467758620689654, 15)),\n",
       " ('[2, 2, 6, 0, 1]', (-7.471724137931036, 13)),\n",
       " ('[3, 6, 1, 1, 0]', (-7.472602294515519, 154)),\n",
       " ('[2, 0, 7, 1, 1]', (-7.474425677586207, 137)),\n",
       " ('[-1, 7, 3, 1, 0]', (-7.475862068965517, 1)),\n",
       " ('[8, 0, 0, 1, 0]', (-7.479466727888491, 1163)),\n",
       " ('[6, 3, 1, 0, 1]', (-7.480517241379312, 42)),\n",
       " ('[5, 2, 2, 0, 0]', (-7.481206896551724, 50)),\n",
       " ('[8, 1, 0, 0, 1]', (-7.484257325877222, 979)),\n",
       " ('[1, 3, 6, 1, 1]', (-7.48546551724138, 32)),\n",
       " ('[-1, 0, 6, 0, 1]', (-7.487518182940235, 121)),\n",
       " ('[4, 4, 2, 1, 1]', (-7.488608620689655, 98)),\n",
       " ('[1, 2, 7, 1, 1]', (-7.488620689655171, 31)),\n",
       " ('[4, 2, 4, 1, 1]', (-7.490674482758622, 58)),\n",
       " ('[7, 1, 1, 0, 1]', (-7.490862068965518, 11)),\n",
       " ('[-1, 0, 9, 0, 0]', (-7.492622413793104, 93)),\n",
       " ('[-2, 6, 5, 0, 1]', (-7.494942586206897, 37)),\n",
       " ('[0, 5, 4, 0, 1]', (-7.495793103448275, 41)),\n",
       " ('[5, 5, 0, 0, 1]', (-7.495862068965519, 9)),\n",
       " ('[0, 5, 5, 0, 1]', (-7.496551724137931, 45)),\n",
       " ('[-3, 5, 6, 0, 1]', (-7.5, 3)),\n",
       " ('[3, 4, 3, 0, 1]', (-7.505823103448278, 49)),\n",
       " ('[-3, 6, 5, 0, 1]', (-7.510344827586205, 1)),\n",
       " ('[6, 1, 3, 1, 1]', (-7.511367413793104, 56)),\n",
       " ('[0, 6, 4, 1, 0]', (-7.511863793103449, 41)),\n",
       " ('[3, 1, 5, 1, 1]', (-7.514310344827586, 59)),\n",
       " ('[1, 0, 1, 0, 0]', (-7.516774137931035, 58)),\n",
       " ('[2, 5, 4, 0, 1]', (-7.517241379310346, 15)),\n",
       " ('[3, 7, 0, 0, 0]', (-7.518448275862069, 81)),\n",
       " ('[4, 0, 5, 0, 1]', (-7.521876345944377, 398)),\n",
       " ('[0, 1, 9, 1, 0]', (-7.523008620689656, 38)),\n",
       " ('[7, 2, 1, 1, 0]', (-7.523889968965518, 155)),\n",
       " ('[5, 0, 1, 1, 0]', (-7.525567000000001, 79)),\n",
       " ('[5, 3, 2, 1, 1]', (-7.5255768448275875, 99)),\n",
       " ('[6, 3, 0, 0, 0]', (-7.5259498329062, 144)),\n",
       " ('[6, 3, 1, 1, 0]', (-7.526713387224139, 137)),\n",
       " ('[-2, 7, 4, 1, 1]', (-7.531034482758621, 10)),\n",
       " ('[-2, 10, 0, 1, 1]', (-7.532413793103448, 32)),\n",
       " ...]"
      ]
     },
     "execution_count": 31,
     "metadata": {},
     "output_type": "execute_result"
    }
   ],
   "source": [
    "value_diagnostic"
   ]
  },
  {
   "cell_type": "code",
   "execution_count": 32,
   "metadata": {},
   "outputs": [],
   "source": [
    "with open('output/diagnostic_output.txt', 'w') as f:\n",
    "    for item in value_diagnostic:\n",
    "        f.write(\"{i}\\n\".format(i = str(item)) )"
   ]
  },
  {
   "cell_type": "code",
   "execution_count": 33,
   "metadata": {},
   "outputs": [
    {
     "data": {
      "text/plain": [
       "('[19, 29, 58, 1, 1]', (-189.9448275862069, 1))"
      ]
     },
     "execution_count": 33,
     "metadata": {},
     "output_type": "execute_result"
    }
   ],
   "source": [
    "item"
   ]
  },
  {
   "cell_type": "code",
   "execution_count": 34,
   "metadata": {},
   "outputs": [
    {
     "data": {
      "text/plain": [
       "93394"
      ]
     },
     "execution_count": 34,
     "metadata": {},
     "output_type": "execute_result"
    }
   ],
   "source": [
    "len(value_dic)"
   ]
  },
  {
   "cell_type": "code",
   "execution_count": null,
   "metadata": {},
   "outputs": [],
   "source": []
  }
 ],
 "metadata": {
  "kernelspec": {
   "display_name": "Python 3.8.10 ('.multi-sourcing-env': venv)",
   "language": "python",
   "name": "python3"
  },
  "language_info": {
   "codemirror_mode": {
    "name": "ipython",
    "version": 3
   },
   "file_extension": ".py",
   "mimetype": "text/x-python",
   "name": "python",
   "nbconvert_exporter": "python",
   "pygments_lexer": "ipython3",
   "version": "3.8.10"
  },
  "orig_nbformat": 4,
  "vscode": {
   "interpreter": {
    "hash": "cd381e17d028bd09dab022bcaf56b43c687ccc8a6f1edc8bc118936389c16b3d"
   }
  }
 },
 "nbformat": 4,
 "nbformat_minor": 2
}
