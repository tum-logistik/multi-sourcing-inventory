{
 "cells": [
  {
   "cell_type": "code",
   "execution_count": null,
   "id": "7d313941",
   "metadata": {},
   "outputs": [],
   "source": [
    "from opt.mc_sim import *\n",
    "from common.variables import *\n",
    "from sim.sim_functions import *\n",
    "from GymEnv import CustomGymEnv\n",
    "import torch\n",
    "import gym\n",
    "from gym import spaces\n",
    "from gym import Env\n",
    "from gym.spaces import Discrete, Box, MultiDiscrete, Tuple, MultiBinary"
   ]
  },
  {
   "cell_type": "code",
   "execution_count": null,
   "id": "1457550b",
   "metadata": {},
   "outputs": [],
   "source": [
    "from stable_baselines3.common.env_checker import check_env"
   ]
  },
  {
   "cell_type": "code",
   "execution_count": null,
   "id": "8eebb956",
   "metadata": {},
   "outputs": [],
   "source": []
  },
  {
   "cell_type": "code",
   "execution_count": null,
   "id": "3063f17a",
   "metadata": {},
   "outputs": [],
   "source": [
    "s = SourcingEnv()\n",
    "custom_gym_env = CustomGymEnv(s)"
   ]
  },
  {
   "cell_type": "code",
   "execution_count": null,
   "id": "985a9658",
   "metadata": {},
   "outputs": [],
   "source": [
    "check_env(custom_gym_env) #warn=True)"
   ]
  },
  {
   "cell_type": "code",
   "execution_count": null,
   "id": "45932b18",
   "metadata": {},
   "outputs": [],
   "source": []
  },
  {
   "cell_type": "code",
   "execution_count": null,
   "id": "7ffd8e52",
   "metadata": {},
   "outputs": [],
   "source": [
    "from stable_baselines3 import A2C, DDPG, DQN, PPO, TD3, SAC\n",
    "import os"
   ]
  },
  {
   "cell_type": "code",
   "execution_count": null,
   "id": "e912f2c1",
   "metadata": {},
   "outputs": [],
   "source": [
    "from stable_baselines3.common.vec_env import VecFrameStack\n",
    "from stable_baselines3.common.evaluation import evaluate_policy"
   ]
  },
  {
   "cell_type": "markdown",
   "id": "cdd72b39",
   "metadata": {},
   "source": [
    "# PPO"
   ]
  },
  {
   "cell_type": "code",
   "execution_count": null,
   "id": "1c5a5c1a",
   "metadata": {},
   "outputs": [],
   "source": [
    "log_path = os.path.join('Training', 'default')"
   ]
  },
  {
   "cell_type": "raw",
   "id": "7175a2bf",
   "metadata": {},
   "source": [
    "Standard:"
   ]
  },
  {
   "cell_type": "code",
   "execution_count": null,
   "id": "39f346c7",
   "metadata": {},
   "outputs": [],
   "source": [
    "model = PPO(\"MlpPolicy\", custom_gym_env, verbose=1, tensorboard_log=log_path)\n",
    "model.learn(total_timesteps=100000)"
   ]
  },
  {
   "cell_type": "code",
   "execution_count": null,
   "id": "4a527a04",
   "metadata": {},
   "outputs": [],
   "source": [
    "model.save('PPO')"
   ]
  },
  {
   "cell_type": "code",
   "execution_count": null,
   "id": "238df5f7",
   "metadata": {},
   "outputs": [],
   "source": [
    "model._last_obs"
   ]
  },
  {
   "cell_type": "code",
   "execution_count": null,
   "id": "94b4e948",
   "metadata": {},
   "outputs": [],
   "source": [
    "model.__dict__"
   ]
  },
  {
   "cell_type": "code",
   "execution_count": null,
   "id": "4bae45da",
   "metadata": {},
   "outputs": [],
   "source": []
  },
  {
   "cell_type": "markdown",
   "id": "60e13ba4",
   "metadata": {},
   "source": [
    "# Gamma (discount factor)"
   ]
  },
  {
   "cell_type": "code",
   "execution_count": null,
   "id": "5f03a251",
   "metadata": {},
   "outputs": [],
   "source": [
    "log_path = os.path.join('Training', 'gamma')"
   ]
  },
  {
   "cell_type": "code",
   "execution_count": null,
   "id": "1e364813",
   "metadata": {},
   "outputs": [],
   "source": [
    "model = PPO(\"MlpPolicy\", custom_gym_env, verbose=1, tensorboard_log=log_path, gamma=1.0)\n",
    "model.learn(total_timesteps=100000)"
   ]
  },
  {
   "cell_type": "code",
   "execution_count": null,
   "id": "ff5d8e0a",
   "metadata": {},
   "outputs": [],
   "source": [
    "model = PPO(\"MlpPolicy\", custom_gym_env, verbose=1, tensorboard_log=log_path, gamma=0.999999)\n",
    "model.learn(total_timesteps=100000)"
   ]
  },
  {
   "cell_type": "code",
   "execution_count": null,
   "id": "f85f7db4",
   "metadata": {},
   "outputs": [],
   "source": [
    "model = PPO(\"MlpPolicy\", custom_gym_env, verbose=1, tensorboard_log=log_path, gamma=0.99)\n",
    "model.learn(total_timesteps=100000)"
   ]
  },
  {
   "cell_type": "code",
   "execution_count": null,
   "id": "292e3a03",
   "metadata": {},
   "outputs": [],
   "source": [
    "model = PPO(\"MlpPolicy\", custom_gym_env, verbose=1, tensorboard_log=log_path, gamma=0.95)\n",
    "model.learn(total_timesteps=100000)"
   ]
  },
  {
   "cell_type": "code",
   "execution_count": null,
   "id": "5e5ec60c",
   "metadata": {},
   "outputs": [],
   "source": [
    "model = PPO(\"MlpPolicy\", custom_gym_env, verbose=1, tensorboard_log=log_path, gamma=0.9)\n",
    "model.learn(total_timesteps=100000)"
   ]
  },
  {
   "cell_type": "code",
   "execution_count": null,
   "id": "7708a6bb",
   "metadata": {},
   "outputs": [],
   "source": [
    "model = PPO(\"MlpPolicy\", custom_gym_env, verbose=1, tensorboard_log=log_path, gamma=0.5)\n",
    "model.learn(total_timesteps=100000)"
   ]
  },
  {
   "cell_type": "code",
   "execution_count": null,
   "id": "b08372c0",
   "metadata": {},
   "outputs": [],
   "source": []
  },
  {
   "cell_type": "markdown",
   "id": "42a8aead",
   "metadata": {},
   "source": [
    "Evaluate:"
   ]
  },
  {
   "cell_type": "code",
   "execution_count": null,
   "id": "70c383d7",
   "metadata": {},
   "outputs": [],
   "source": [
    "evaluate_policy(model, custom_gym_env, n_eval_episodes=100, render=False)"
   ]
  },
  {
   "cell_type": "markdown",
   "id": "6b526ad1",
   "metadata": {},
   "source": [
    "# Learning Rate"
   ]
  },
  {
   "cell_type": "code",
   "execution_count": null,
   "id": "ffebcf29",
   "metadata": {},
   "outputs": [],
   "source": [
    "log_path = os.path.join('Training', 'l_rate')"
   ]
  },
  {
   "cell_type": "code",
   "execution_count": null,
   "id": "bcca4483",
   "metadata": {},
   "outputs": [],
   "source": [
    "model = PPO(\"MlpPolicy\", custom_gym_env, verbose=1, tensorboard_log=log_path, learning_rate=0.8, gamma=0.9)\n",
    "model.learn(total_timesteps=100000)"
   ]
  },
  {
   "cell_type": "code",
   "execution_count": null,
   "id": "6d2af5ad",
   "metadata": {},
   "outputs": [],
   "source": [
    "model = PPO(\"MlpPolicy\", custom_gym_env, verbose=1, tensorboard_log=log_path, learning_rate=0.5, gamma=0.9)\n",
    "model.learn(total_timesteps=100000)"
   ]
  },
  {
   "cell_type": "code",
   "execution_count": null,
   "id": "2fe132f4",
   "metadata": {},
   "outputs": [],
   "source": [
    "model = PPO(\"MlpPolicy\", custom_gym_env, verbose=1, tensorboard_log=log_path, learning_rate=0.2, gamma=0.9)\n",
    "model.learn(total_timesteps=100000)"
   ]
  },
  {
   "cell_type": "code",
   "execution_count": null,
   "id": "83586039",
   "metadata": {},
   "outputs": [],
   "source": [
    "model = PPO(\"MlpPolicy\", custom_gym_env, verbose=1, tensorboard_log=log_path, learning_rate=0.1, gamma=0.9)\n",
    "model.learn(total_timesteps=100000)"
   ]
  },
  {
   "cell_type": "code",
   "execution_count": null,
   "id": "f0ad02da",
   "metadata": {},
   "outputs": [],
   "source": [
    "model = PPO(\"MlpPolicy\", custom_gym_env, verbose=1, tensorboard_log=log_path, learning_rate=0.001, gamma=0.9)\n",
    "model.learn(total_timesteps=100000)"
   ]
  },
  {
   "cell_type": "code",
   "execution_count": null,
   "id": "cbd5d463",
   "metadata": {},
   "outputs": [],
   "source": [
    "model = PPO(\"MlpPolicy\", custom_gym_env, verbose=1, tensorboard_log=log_path, learning_rate=0.0001, gamma=0.9)\n",
    "model.learn(total_timesteps=100000)"
   ]
  },
  {
   "cell_type": "code",
   "execution_count": null,
   "id": "9ce8a7fd",
   "metadata": {},
   "outputs": [],
   "source": [
    "model = PPO(\"MlpPolicy\", custom_gym_env, verbose=1, tensorboard_log=log_path, learning_rate=0.00001, gamma=0.9)\n",
    "model.learn(total_timesteps=100000)"
   ]
  },
  {
   "cell_type": "code",
   "execution_count": null,
   "id": "73a41ed7",
   "metadata": {},
   "outputs": [],
   "source": []
  },
  {
   "cell_type": "markdown",
   "id": "1d6c7d67",
   "metadata": {},
   "source": [
    "# test with agent network"
   ]
  },
  {
   "cell_type": "code",
   "execution_count": null,
   "id": "1f94344e",
   "metadata": {},
   "outputs": [],
   "source": [
    "log_path = os.path.join('Training', 'net')"
   ]
  },
  {
   "cell_type": "code",
   "execution_count": null,
   "id": "8de05c49",
   "metadata": {},
   "outputs": [],
   "source": [
    "policy_kwargs = dict(net_arch=[dict(pi=[64])])\n",
    "model = PPO(\"MlpPolicy\", custom_gym_env, verbose=1, tensorboard_log=log_path, gamma=0.9)\n",
    "model.learn(total_timesteps=100000)"
   ]
  },
  {
   "cell_type": "code",
   "execution_count": null,
   "id": "9c331966",
   "metadata": {},
   "outputs": [],
   "source": [
    "policy_kwargs = dict(net_arch=[dict(pi=[128])])\n",
    "model = PPO(\"MlpPolicy\", custom_gym_env, verbose=1, tensorboard_log=log_path, gamma=0.9)\n",
    "model.learn(total_timesteps=100000)"
   ]
  },
  {
   "cell_type": "code",
   "execution_count": null,
   "id": "1590ec8d",
   "metadata": {},
   "outputs": [],
   "source": [
    "policy_kwargs = dict(net_arch=[dict(pi=[256])])\n",
    "model = PPO(\"MlpPolicy\", custom_gym_env, verbose=1, tensorboard_log=log_path, gamma=0.9)\n",
    "model.learn(total_timesteps=100000)"
   ]
  },
  {
   "cell_type": "code",
   "execution_count": null,
   "id": "33e875ec",
   "metadata": {},
   "outputs": [],
   "source": [
    "policy_kwargs = dict(net_arch=[dict(pi=[64, 64])])\n",
    "model = PPO(\"MlpPolicy\", custom_gym_env, verbose=1, tensorboard_log=log_path, gamma=0.9)\n",
    "model.learn(total_timesteps=100000)"
   ]
  },
  {
   "cell_type": "code",
   "execution_count": null,
   "id": "3b53edf4",
   "metadata": {},
   "outputs": [],
   "source": [
    "policy_kwargs = dict(net_arch=[dict(pi=[128, 128])])\n",
    "model = PPO(\"MlpPolicy\", custom_gym_env, verbose=1, tensorboard_log=log_path, gamma=0.9)\n",
    "model.learn(total_timesteps=100000)"
   ]
  },
  {
   "cell_type": "code",
   "execution_count": null,
   "id": "f4361519",
   "metadata": {},
   "outputs": [],
   "source": [
    "policy_kwargs = dict(net_arch=[dict(pi=[256, 256])])\n",
    "model = PPO(\"MlpPolicy\", custom_gym_env, verbose=1, tensorboard_log=log_path, gamma=0.9)\n",
    "model.learn(total_timesteps=100000)"
   ]
  },
  {
   "cell_type": "code",
   "execution_count": null,
   "id": "e8968abb",
   "metadata": {},
   "outputs": [],
   "source": [
    "policy_kwargs = dict(net_arch=[dict(pi=[256, 256, 128])])\n",
    "model = PPO(\"MlpPolicy\", custom_gym_env, verbose=1, tensorboard_log=log_path, gamma=0.9)\n",
    "model.learn(total_timesteps=100000)"
   ]
  },
  {
   "cell_type": "code",
   "execution_count": null,
   "id": "0ec7b382",
   "metadata": {},
   "outputs": [],
   "source": [
    "policy_kwargs = dict(net_arch=[dict(pi=[256, 256, 256, 128])])\n",
    "model = PPO(\"MlpPolicy\", custom_gym_env, verbose=1, tensorboard_log=log_path, gamma=0.9)\n",
    "model.learn(total_timesteps=100000)"
   ]
  },
  {
   "cell_type": "code",
   "execution_count": null,
   "id": "3bf80e56",
   "metadata": {},
   "outputs": [],
   "source": [
    "policy_kwargs = dict(net_arch=[dict(pi=[256, 256, 256, 256, 128])])\n",
    "model = PPO(\"MlpPolicy\", custom_gym_env, verbose=1, tensorboard_log=log_path, gamma=0.9)\n",
    "model.learn(total_timesteps=100000)"
   ]
  },
  {
   "cell_type": "code",
   "execution_count": null,
   "id": "eb7c0724",
   "metadata": {},
   "outputs": [],
   "source": [
    "policy_kwargs = dict(net_arch=[dict(pi=[256, 256, 256, 256, 256, 256, 256, 256, 256, 128])])\n",
    "model = PPO(\"MlpPolicy\", custom_gym_env, verbose=1, tensorboard_log=log_path, gamma=0.9)\n",
    "model.learn(total_timesteps=100000)"
   ]
  },
  {
   "cell_type": "code",
   "execution_count": null,
   "id": "8656d630",
   "metadata": {},
   "outputs": [],
   "source": []
  },
  {
   "cell_type": "markdown",
   "id": "baa7dc88",
   "metadata": {},
   "source": [
    "# with pi and vf net"
   ]
  },
  {
   "cell_type": "code",
   "execution_count": null,
   "id": "ca455433",
   "metadata": {},
   "outputs": [],
   "source": [
    "log_path = os.path.join('Training', 'PPO', 'net_pi_vf')"
   ]
  },
  {
   "cell_type": "code",
   "execution_count": null,
   "id": "7ad86dd8",
   "metadata": {},
   "outputs": [],
   "source": [
    "policy_kwargs = dict(net_arch=[dict(pi=[64], vf=[64])])\n",
    "model = PPO(\"MlpPolicy\", custom_gym_env, verbose=1, tensorboard_log=log_path, gamma=0.9)\n",
    "model.learn(total_timesteps=100000)"
   ]
  },
  {
   "cell_type": "code",
   "execution_count": null,
   "id": "0d842b18",
   "metadata": {},
   "outputs": [],
   "source": [
    "policy_kwargs = dict(net_arch=[dict(pi=[128], vf=[128])])\n",
    "model = PPO(\"MlpPolicy\", custom_gym_env, verbose=1, tensorboard_log=log_path, gamma=0.9)\n",
    "model.learn(total_timesteps=100000)"
   ]
  },
  {
   "cell_type": "code",
   "execution_count": null,
   "id": "cec1025a",
   "metadata": {},
   "outputs": [],
   "source": [
    "policy_kwargs = dict(net_arch=[dict(pi=[256], vf=[256])])\n",
    "model = PPO(\"MlpPolicy\", custom_gym_env, verbose=1, tensorboard_log=log_path, gamma=0.9)\n",
    "model.learn(total_timesteps=100000)"
   ]
  },
  {
   "cell_type": "code",
   "execution_count": null,
   "id": "303febe0",
   "metadata": {},
   "outputs": [],
   "source": [
    "policy_kwargs = dict(net_arch=[dict(pi=[256, 256, 128], vf=[256, 256, 128])])\n",
    "model = PPO(\"MlpPolicy\", custom_gym_env, verbose=1, tensorboard_log=log_path, gamma=0.9)\n",
    "model.learn(total_timesteps=100000)"
   ]
  },
  {
   "cell_type": "code",
   "execution_count": null,
   "id": "79d0e023",
   "metadata": {},
   "outputs": [],
   "source": []
  },
  {
   "cell_type": "code",
   "execution_count": null,
   "id": "6ceb2c22",
   "metadata": {},
   "outputs": [],
   "source": []
  },
  {
   "cell_type": "markdown",
   "id": "bc1899ab",
   "metadata": {},
   "source": [
    "# PPO clip"
   ]
  },
  {
   "cell_type": "code",
   "execution_count": null,
   "id": "b66b999d",
   "metadata": {},
   "outputs": [],
   "source": [
    "log_path = os.path.join('Training', 'PPO', 'clip')"
   ]
  },
  {
   "cell_type": "code",
   "execution_count": null,
   "id": "991ef361",
   "metadata": {},
   "outputs": [],
   "source": [
    "model = PPO(\"MlpPolicy\", custom_gym_env, verbose=1, tensorboard_log=log_path, clip_range=0.05, gamma=0.9)\n",
    "model.learn(total_timesteps=100000)"
   ]
  },
  {
   "cell_type": "code",
   "execution_count": null,
   "id": "be4413e6",
   "metadata": {},
   "outputs": [],
   "source": [
    "model = PPO(\"MlpPolicy\", custom_gym_env, verbose=1, tensorboard_log=log_path, clip_range=0.1, gamma=0.9)\n",
    "model.learn(total_timesteps=100000)"
   ]
  },
  {
   "cell_type": "code",
   "execution_count": null,
   "id": "7d9b7564",
   "metadata": {},
   "outputs": [],
   "source": [
    "model = PPO(\"MlpPolicy\", custom_gym_env, verbose=1, tensorboard_log=log_path, clip_range=0.2, gamma=0.9)\n",
    "model.learn(total_timesteps=100000)"
   ]
  },
  {
   "cell_type": "code",
   "execution_count": null,
   "id": "a4504b6b",
   "metadata": {},
   "outputs": [],
   "source": [
    "model = PPO(\"MlpPolicy\", custom_gym_env, verbose=1, tensorboard_log=log_path, clip_range=0.3, gamma=0.9)\n",
    "model.learn(total_timesteps=100000)"
   ]
  },
  {
   "cell_type": "code",
   "execution_count": null,
   "id": "6fbbca8a",
   "metadata": {},
   "outputs": [],
   "source": [
    "model = PPO(\"MlpPolicy\", custom_gym_env, verbose=1, tensorboard_log=log_path, clip_range=0.4, gamma=0.9)\n",
    "model.learn(total_timesteps=100000)"
   ]
  },
  {
   "cell_type": "code",
   "execution_count": null,
   "id": "9102b295",
   "metadata": {},
   "outputs": [],
   "source": [
    "model = PPO(\"MlpPolicy\", custom_gym_env, verbose=1, tensorboard_log=log_path, clip_range=0.5, gamma=0.9)\n",
    "model.learn(total_timesteps=100000)"
   ]
  },
  {
   "cell_type": "code",
   "execution_count": null,
   "id": "670312ab",
   "metadata": {},
   "outputs": [],
   "source": []
  },
  {
   "cell_type": "markdown",
   "id": "78d946eb",
   "metadata": {},
   "source": [
    "# Seed "
   ]
  },
  {
   "cell_type": "code",
   "execution_count": null,
   "id": "0ad1f18b",
   "metadata": {},
   "outputs": [],
   "source": [
    "log_path = os.path.join('Training', 'PPO', 'seed')"
   ]
  },
  {
   "cell_type": "code",
   "execution_count": null,
   "id": "581cae89",
   "metadata": {},
   "outputs": [],
   "source": [
    "model = PPO(\"MlpPolicy\", custom_gym_env, verbose=1, tensorboard_log=log_path, seed=10, gamma=0.9)\n",
    "model.learn(total_timesteps=100000)"
   ]
  },
  {
   "cell_type": "code",
   "execution_count": null,
   "id": "f2db4956",
   "metadata": {},
   "outputs": [],
   "source": [
    "model = PPO(\"MlpPolicy\", custom_gym_env, verbose=1, tensorboard_log=log_path, seed=50, gamma=0.9)\n",
    "model.learn(total_timesteps=100000)"
   ]
  },
  {
   "cell_type": "code",
   "execution_count": null,
   "id": "426f9e0e",
   "metadata": {},
   "outputs": [],
   "source": [
    "model = PPO(\"MlpPolicy\", custom_gym_env, verbose=1, tensorboard_log=log_path, seed=100, gamma=0.9)\n",
    "model.learn(total_timesteps=100000)"
   ]
  },
  {
   "cell_type": "code",
   "execution_count": null,
   "id": "53554435",
   "metadata": {},
   "outputs": [],
   "source": [
    "model = PPO(\"MlpPolicy\", custom_gym_env, verbose=1, tensorboard_log=log_path, seed=1000, gamma=0.9)\n",
    "model.learn(total_timesteps=100000)"
   ]
  },
  {
   "cell_type": "code",
   "execution_count": null,
   "id": "b2b6be67",
   "metadata": {},
   "outputs": [],
   "source": []
  },
  {
   "cell_type": "markdown",
   "id": "8e33f170",
   "metadata": {},
   "source": [
    "# n steps"
   ]
  },
  {
   "cell_type": "code",
   "execution_count": null,
   "id": "d722cc1f",
   "metadata": {},
   "outputs": [],
   "source": [
    "log_path = os.path.join('Training','n_steps')"
   ]
  },
  {
   "cell_type": "code",
   "execution_count": null,
   "id": "13822a4f",
   "metadata": {},
   "outputs": [],
   "source": [
    "model = PPO(\"MlpPolicy\", custom_gym_env, verbose=1, tensorboard_log=log_path, n_steps= 10, gamma=0.9)\n",
    "model.learn(total_timesteps=100000)"
   ]
  },
  {
   "cell_type": "code",
   "execution_count": null,
   "id": "9e5ce466",
   "metadata": {},
   "outputs": [],
   "source": [
    "model = PPO(\"MlpPolicy\", custom_gym_env, verbose=1, tensorboard_log=log_path, n_steps= 100, gamma=0.9)\n",
    "model.learn(total_timesteps=100000)"
   ]
  },
  {
   "cell_type": "code",
   "execution_count": null,
   "id": "485dbbfb",
   "metadata": {},
   "outputs": [],
   "source": [
    "model = PPO(\"MlpPolicy\", custom_gym_env, verbose=1, tensorboard_log=log_path, n_steps= 1000, gamma=0.9)\n",
    "model.learn(total_timesteps=100000)"
   ]
  },
  {
   "cell_type": "code",
   "execution_count": null,
   "id": "00f47412",
   "metadata": {},
   "outputs": [],
   "source": []
  },
  {
   "cell_type": "markdown",
   "id": "161b6ad0",
   "metadata": {},
   "source": [
    "# Batch size"
   ]
  },
  {
   "cell_type": "code",
   "execution_count": null,
   "id": "f3f32f98",
   "metadata": {},
   "outputs": [],
   "source": [
    "log_path = os.path.join('Training','b_size')"
   ]
  },
  {
   "cell_type": "code",
   "execution_count": null,
   "id": "687f7cc5",
   "metadata": {},
   "outputs": [],
   "source": [
    "model = PPO(\"MlpPolicy\", custom_gym_env, verbose=1, tensorboard_log=log_path, batch_size= 10, gamma=0.9)\n",
    "model.learn(total_timesteps=100000)"
   ]
  },
  {
   "cell_type": "code",
   "execution_count": null,
   "id": "28059415",
   "metadata": {},
   "outputs": [],
   "source": [
    "model = PPO(\"MlpPolicy\", custom_gym_env, verbose=1, tensorboard_log=log_path, batch_size= 50, gamma=0.9)\n",
    "model.learn(total_timesteps=100000)"
   ]
  },
  {
   "cell_type": "code",
   "execution_count": null,
   "id": "d389fce4",
   "metadata": {},
   "outputs": [],
   "source": [
    "model = PPO(\"MlpPolicy\", custom_gym_env, verbose=1, tensorboard_log=log_path, batch_size= 100, gamma=0.9)\n",
    "model.learn(total_timesteps=100000)"
   ]
  },
  {
   "cell_type": "code",
   "execution_count": null,
   "id": "2cbb1ab6",
   "metadata": {},
   "outputs": [],
   "source": []
  },
  {
   "cell_type": "code",
   "execution_count": null,
   "id": "149c5116",
   "metadata": {},
   "outputs": [],
   "source": []
  }
 ],
 "metadata": {
  "kernelspec": {
   "display_name": "Python 3 (ipykernel)",
   "language": "python",
   "name": "python3"
  },
  "language_info": {
   "codemirror_mode": {
    "name": "ipython",
    "version": 3
   },
   "file_extension": ".py",
   "mimetype": "text/x-python",
   "name": "python",
   "nbconvert_exporter": "python",
   "pygments_lexer": "ipython3",
   "version": "3.8.15"
  }
 },
 "nbformat": 4,
 "nbformat_minor": 5
}
