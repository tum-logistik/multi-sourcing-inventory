{
 "cells": [
  {
   "cell_type": "code",
   "execution_count": 7,
   "metadata": {},
   "outputs": [],
   "source": [
    "import pickle as pkl\n",
    "from opt.eval_policy import *\n",
    "from opt.mc_sim import *\n",
    "import time\n",
    "from common.variables import *\n",
    "\n",
    "filename = \"msource_value_dic_08-05-2022-07-32-52.pkl\"\n",
    "\n",
    "with open(\"output/\" + filename, 'rb') as f:\n",
    "    output_obj = pkl.load(f)\n",
    "\n",
    "value_dic = output_obj[\"state_value_dic\"]\n",
    "model_params = output_obj[\"model_params\"]\n",
    "sourcingEnv = output_obj[\"mdp_env\"]\n",
    "\n",
    "off_times = np.array([np.Inf, np.Inf]) if cfg['mdp_env_params']['off_times'] == \"no_disrup\" else np.array(cfg['mdp_env_params']['off_times'])\n",
    "\n",
    "sourcingEnv2 = SourcingEnv(\n",
    "    lambda_arrival = model_params['mdp_env_params']['lambda'], # or 10\n",
    "    procurement_cost_vec = np.array(model_params['mdp_env_params']['procurement_cost_vec']),\n",
    "    supplier_lead_times_vec = np.array(model_params['mdp_env_params']['supplier_lead_times_vec']),\n",
    "    on_times = np.array(model_params['mdp_env_params']['on_times']), \n",
    "    off_times =  off_times) \n",
    "\n",
    "s_custom = MState(stock_level = 0, \n",
    "    n_suppliers = N_SUPPLIERS, \n",
    "    n_backorders = np.array([0, 0]), \n",
    "    flag_on_off = np.array([1, 1]))"
   ]
  },
  {
   "cell_type": "code",
   "execution_count": 8,
   "metadata": {},
   "outputs": [
    {
     "name": "stderr",
     "output_type": "stream",
     "text": [
      "100%|██████████| 20/20 [01:11<00:00,  3.58s/it]"
     ]
    },
    {
     "name": "stdout",
     "output_type": "stream",
     "text": [
      "17.640909090909098\n"
     ]
    },
    {
     "name": "stderr",
     "output_type": "stream",
     "text": [
      "\n"
     ]
    }
   ],
   "source": [
    "kwargs = {\n",
    "    \"value_dic\": value_dic, \n",
    "    \"initial_state\": s_custom,\n",
    "    \"periods\": 10, \n",
    "    \"periods_val_it\": 1,\n",
    "    \"nested_mc_iters\": 20,\n",
    "    \"max_stock\": BIG_S,\n",
    "    \"discount_fac\": DISCOUNT_FAC,\n",
    "    \"h_cost\": model_params['policy_params']['h_cost'],\n",
    "    \"b_penalty\": model_params['policy_params']['b_penalty'],\n",
    "    \"n_visit_lim\": N_VISIT_LIM,\n",
    "    \"default_ss_policy\": ss_policy_fastest_supp_backlog,\n",
    "    \"safe_factor\": SAFE_FACTOR,\n",
    "    \"sub_eval_periods\": SUB_EVAL_PERIODS,\n",
    "    \"sub_nested_mc_iter\": SUB_NESTED_MC_ITER,\n",
    "    \"max_stock\": 2,\n",
    "    \"approx_eval\": True,\n",
    "    \"filename\": filename\n",
    "}\n",
    "\n",
    "lp_mdp_cost = mc_with_policy(sourcingEnv2, start_state = s_custom, \n",
    "    policy_callback=lp_mdp_policy,\n",
    "    use_tqdm = True,\n",
    "    **kwargs)\n",
    "\n",
    "print(np.mean(lp_mdp_cost))"
   ]
  },
  {
   "cell_type": "code",
   "execution_count": null,
   "metadata": {},
   "outputs": [],
   "source": []
  }
 ],
 "metadata": {
  "kernelspec": {
   "display_name": "Python 3.8.10 ('.multi-sourcing-env': venv)",
   "language": "python",
   "name": "python3"
  },
  "language_info": {
   "codemirror_mode": {
    "name": "ipython",
    "version": 3
   },
   "file_extension": ".py",
   "mimetype": "text/x-python",
   "name": "python",
   "nbconvert_exporter": "python",
   "pygments_lexer": "ipython3",
   "version": "3.8.10 (default, Nov 14 2022, 12:59:47) \n[GCC 9.4.0]"
  },
  "orig_nbformat": 4,
  "vscode": {
   "interpreter": {
    "hash": "cd381e17d028bd09dab022bcaf56b43c687ccc8a6f1edc8bc118936389c16b3d"
   }
  }
 },
 "nbformat": 4,
 "nbformat_minor": 2
}
