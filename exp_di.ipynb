{
 "cells": [
  {
   "cell_type": "code",
   "execution_count": 1,
   "metadata": {},
   "outputs": [],
   "source": [
    "from opt.mc_sim import *\n",
    "import time\n",
    "from common.variables import *"
   ]
  },
  {
   "cell_type": "code",
   "execution_count": 2,
   "metadata": {},
   "outputs": [],
   "source": [
    "import pickle as pkl\n",
    "from opt.eval_policy import *\n",
    "\n",
    "# filename = \"output/msource_value_dic_06-16-2022-09-56-03.pkl\"\n",
    "# filename = \"output/msource_value_dic_06-22-2022-03-55-05.pkl\"\n",
    "# filename = \"output/msource_value_dic_06-22-2022-20-55-01.pkl\"\n",
    "filename = \"output/msource_value_dic_06-25-2022-07-31-29.pkl\"\n",
    "\n",
    "with open(filename, 'rb') as f:\n",
    "    output_obj = pkl.load(f)\n",
    "\n",
    "value_dic = output_obj[\"state_value_dic\"]\n",
    "model_params = output_obj[\"model_params\"]\n",
    "sourcingEnv = output_obj[\"mdp_env\"]"
   ]
  },
  {
   "cell_type": "code",
   "execution_count": 3,
   "metadata": {},
   "outputs": [],
   "source": [
    "sourcingEnv2 = SourcingEnv(\n",
    "        lambda_arrival = LAMBDA, # or 10\n",
    "        procurement_cost_vec = np.array([1, 3]),\n",
    "        supplier_lead_times_vec = np.array([0.8, 0.5]),\n",
    "        on_times = np.array([1, 1]), \n",
    "        off_times = np.array([np.Inf, np.Inf]))"
   ]
  },
  {
   "cell_type": "code",
   "execution_count": 4,
   "metadata": {},
   "outputs": [
    {
     "data": {
      "text/plain": [
       "{'algo_params': {'prob_epsilon': 1e-08,\n",
       "  'periods': 50,\n",
       "  'nested_mc_iters': 50,\n",
       "  'mc_episodes': 50,\n",
       "  'max_steps': 50,\n",
       "  'explore_eps': 0.05,\n",
       "  'debug_bool': 0,\n",
       "  'fixed_learn_rate': 0.1},\n",
       " 'policy_params': {'h_cost': 3,\n",
       "  'b_penalty': 5,\n",
       "  'small_s': 1,\n",
       "  'big_s': 6,\n",
       "  'n_suppliers': 2,\n",
       "  'backorder_max': -10,\n",
       "  'inven_limit': 30},\n",
       " 'mdp_env_params': {'lambda': 9,\n",
       "  'max_inven': 30,\n",
       "  'action_size': 4,\n",
       "  'discount_fac': 1.0},\n",
       " 'eval_params': {'safe_factor': 1.1,\n",
       "  'n_visit_limit': 2,\n",
       "  'sub_eval_periods': 30,\n",
       "  'sub_nested_mc_iter': 30},\n",
       " 'git_commit': 'no_git',\n",
       " 'branch_name': 'no_git'}"
      ]
     },
     "execution_count": 4,
     "metadata": {},
     "output_type": "execute_result"
    }
   ],
   "source": [
    "model_params"
   ]
  },
  {
   "cell_type": "code",
   "execution_count": 5,
   "metadata": {},
   "outputs": [],
   "source": [
    "# best_small_s, best_big_s, best_val = find_opt_ss_policy_via_mc(sourcingEnv, periods = 20, nested_mc_iters = 50)\n",
    "# best (s, S) policy found by MC:: (2, 5)"
   ]
  },
  {
   "cell_type": "code",
   "execution_count": 6,
   "metadata": {},
   "outputs": [],
   "source": [
    "# model_params['branch_name'], model_params['git_commit']"
   ]
  },
  {
   "cell_type": "code",
   "execution_count": 7,
   "metadata": {},
   "outputs": [
    {
     "name": "stderr",
     "output_type": "stream",
     "text": [
      "100%|██████████| 100/100 [00:00<00:00, 185.15it/s]\n"
     ]
    }
   ],
   "source": [
    "# sourcingEnv = SourcingEnv(\n",
    "#         lambda_arrival = 8, # or 10\n",
    "#         procurement_cost_vec = np.array([3, 1, 2]),\n",
    "#         supplier_lead_times_vec = np.array([0.8, 0.5, 1.0]),\n",
    "#         on_times = np.array([1, 1, 2]), \n",
    "#         off_times = np.array([0.3, 1, 0.2]))\n",
    "\n",
    "# Dual Sourcing\n",
    "# sourcingEnv = SourcingEnv(\n",
    "#         lambda_arrival = LAMBDA, # or 10\n",
    "#         procurement_cost_vec = np.array([3, 1]),\n",
    "#         supplier_lead_times_vec = np.array([0.8, 0.5]),\n",
    "#         on_times = np.array([1, 1]), \n",
    "#         off_times = np.array([0.3, 1]))\n",
    "\n",
    "s_custom = MState(stock_level = 0, \n",
    "    n_suppliers = N_SUPPLIERS, \n",
    "    n_backorders = np.array([0, 0]), \n",
    "    flag_on_off = np.array([1, 1]))\n",
    "\n",
    "mc_avg_costs = mc_with_policy(sourcingEnv2, start_state = s_custom, \n",
    "    periods = 30,\n",
    "    nested_mc_iters = 100,\n",
    "    big_s = model_params['policy_params']['big_s'],\n",
    "    small_s = model_params['policy_params']['small_s'],\n",
    "    h_cost = model_params['policy_params']['h_cost'],\n",
    "    b_penalty = model_params['policy_params']['b_penalty'],\n",
    "    use_tqdm = True)\n",
    "\n",
    "# print(mc_avg_costs)"
   ]
  },
  {
   "cell_type": "code",
   "execution_count": 8,
   "metadata": {},
   "outputs": [],
   "source": [
    "# mc_avg_costs = mc_with_ss_policy(sourcingEnv, \n",
    "#     periods = 100,\n",
    "#     nested_mc_iters = 50,\n",
    "#     big_s = 5,\n",
    "#     small_s = 2,\n",
    "#     h_cost = model_params['policy_params']['h_cost'],\n",
    "#     b_penalty = model_params['policy_params']['b_penalty'])"
   ]
  },
  {
   "cell_type": "code",
   "execution_count": 9,
   "metadata": {},
   "outputs": [
    {
     "data": {
      "image/png": "[encoded data removed]",
      "text/plain": [
       "<Figure size 432x288 with 1 Axes>"
      ]
     },
     "metadata": {
      "needs_background": "light"
     },
     "output_type": "display_data"
    }
   ],
   "source": [
    "import matplotlib.pyplot as plt\n",
    "import numpy as np\n",
    "\n",
    "binwidth = 0.3\n",
    "n, bins, patches = plt.hist(mc_avg_costs, bins=np.arange( np.min(mc_avg_costs), np.max(mc_avg_costs) + binwidth, binwidth))\n",
    "# n, bins, patches = plt.hist(mc_avg_costs, density = True)\n",
    "\n",
    "\n",
    "plt.xlabel('Avg Cost')\n",
    "plt.ylabel('Probability')\n",
    "plt.title('Histogram of Avg costs')\n",
    "plt.xlim(np.min(mc_avg_costs), np.max(mc_avg_costs))\n",
    "plt.ylim(0, np.max(n))\n",
    "plt.grid(True)\n",
    "plt.show()"
   ]
  },
  {
   "cell_type": "code",
   "execution_count": 10,
   "metadata": {},
   "outputs": [
    {
     "name": "stdout",
     "output_type": "stream",
     "text": [
      "13.234666666666667\n"
     ]
    }
   ],
   "source": [
    "print(np.mean(np.array(mc_avg_costs)))"
   ]
  },
  {
   "cell_type": "code",
   "execution_count": 11,
   "metadata": {},
   "outputs": [
    {
     "name": "stdout",
     "output_type": "stream",
     "text": [
      "11.483333333333334\n"
     ]
    }
   ],
   "source": [
    "print(np.median(np.array(mc_avg_costs)))"
   ]
  },
  {
   "cell_type": "code",
   "execution_count": 12,
   "metadata": {},
   "outputs": [
    {
     "data": {
      "text/plain": [
       "5.6950171592756815"
      ]
     },
     "execution_count": 12,
     "metadata": {},
     "output_type": "execute_result"
    }
   ],
   "source": [
    "np.std(np.array(mc_avg_costs))"
   ]
  },
  {
   "cell_type": "code",
   "execution_count": 13,
   "metadata": {},
   "outputs": [
    {
     "name": "stderr",
     "output_type": "stream",
     "text": [
      "  0%|          | 0/50 [00:00<?, ?it/s]/home/larkin/code/multi-sourcing-inventory/sim/policies.py:83: VisibleDeprecationWarning: Creating an ndarray from ragged nested sequences (which is a list-or-tuple of lists-or-tuples-or ndarrays with different lengths or shapes) is deprecated. If you meant to do this, you must specify 'dtype=object' when creating the ndarray.\n",
      "  overshoot_range = np.array([x for x in sourcingEnv.action_history_tuple if tmark_reg < x[0] < tmark_exp])\n",
      "100%|██████████| 50/50 [03:32<00:00,  4.25s/it]\n"
     ]
    }
   ],
   "source": [
    "mc_avg_costs = mc_with_policy(sourcingEnv2, start_state = s_custom, \n",
    "    periods = 30,\n",
    "    nested_mc_iters = 50,\n",
    "    big_s = model_params['policy_params']['big_s'],\n",
    "    small_s = model_params['policy_params']['small_s'],\n",
    "    h_cost = model_params['policy_params']['h_cost'],\n",
    "    b_penalty = model_params['policy_params']['b_penalty'],\n",
    "    policy_callback=dual_index_policy,\n",
    "    use_tqdm = True)"
   ]
  },
  {
   "cell_type": "code",
   "execution_count": 14,
   "metadata": {},
   "outputs": [
    {
     "name": "stdout",
     "output_type": "stream",
     "text": [
      "14.406666666666665\n"
     ]
    }
   ],
   "source": [
    "print(np.mean(np.array(mc_avg_costs)))"
   ]
  },
  {
   "cell_type": "code",
   "execution_count": 15,
   "metadata": {},
   "outputs": [
    {
     "name": "stdout",
     "output_type": "stream",
     "text": [
      "12.566666666666666\n"
     ]
    }
   ],
   "source": [
    "print(np.median(np.array(mc_avg_costs)))"
   ]
  },
  {
   "cell_type": "code",
   "execution_count": 16,
   "metadata": {},
   "outputs": [
    {
     "data": {
      "text/plain": [
       "5.903957241639806"
      ]
     },
     "execution_count": 16,
     "metadata": {},
     "output_type": "execute_result"
    }
   ],
   "source": [
    "np.std(np.array(mc_avg_costs))"
   ]
  },
  {
   "cell_type": "code",
   "execution_count": 17,
   "metadata": {},
   "outputs": [
    {
     "data": {
      "image/png": "[encoded data removed]",
      "text/plain": [
       "<Figure size 432x288 with 1 Axes>"
      ]
     },
     "metadata": {
      "needs_background": "light"
     },
     "output_type": "display_data"
    }
   ],
   "source": [
    "import matplotlib.pyplot as plt\n",
    "import numpy as np\n",
    "\n",
    "binwidth = 0.3\n",
    "n, bins, patches = plt.hist(mc_avg_costs, bins=np.arange( np.min(mc_avg_costs), np.max(mc_avg_costs) + binwidth, binwidth))\n",
    "# n, bins, patches = plt.hist(mc_avg_costs, density = True)\n",
    "\n",
    "\n",
    "plt.xlabel('Avg Cost')\n",
    "plt.ylabel('Probability')\n",
    "plt.title('Histogram of Avg costs')\n",
    "plt.xlim(np.min(mc_avg_costs), np.max(mc_avg_costs))\n",
    "plt.ylim(0, np.max(n))\n",
    "plt.grid(True)\n",
    "plt.show()"
   ]
  },
  {
   "cell_type": "code",
   "execution_count": null,
   "metadata": {},
   "outputs": [],
   "source": []
  }
 ],
 "metadata": {
  "kernelspec": {
   "display_name": "Python 3.8.10 ('.multi-sourcing-env': venv)",
   "language": "python",
   "name": "python3"
  },
  "language_info": {
   "codemirror_mode": {
    "name": "ipython",
    "version": 3
   },
   "file_extension": ".py",
   "mimetype": "text/x-python",
   "name": "python",
   "nbconvert_exporter": "python",
   "pygments_lexer": "ipython3",
   "version": "3.8.10"
  },
  "orig_nbformat": 4,
  "vscode": {
   "interpreter": {
    "hash": "cd381e17d028bd09dab022bcaf56b43c687ccc8a6f1edc8bc118936389c16b3d"
   }
  }
 },
 "nbformat": 4,
 "nbformat_minor": 2
}
