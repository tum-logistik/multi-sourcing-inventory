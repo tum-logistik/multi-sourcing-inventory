{
 "cells": [
  {
   "cell_type": "code",
   "execution_count": 78,
   "metadata": {},
   "outputs": [
    {
     "data": {
      "text/plain": [
       "{'lambda': 5,\n",
       " 'max_inven': 30,\n",
       " 'action_size': 40,\n",
       " 'discount_fac': 1.0,\n",
       " 'procurement_cost_vec': [1.5, 0.5],\n",
       " 'supplier_lead_times_vec': [0.019, 0.4],\n",
       " 'on_times': [1, 1],\n",
       " 'off_times': 'no_disrup',\n",
       " 'fixed_costs': [0, 0]}"
      ]
     },
     "execution_count": 78,
     "metadata": {},
     "output_type": "execute_result"
    }
   ],
   "source": [
    "import pickle as pkl\n",
    "from opt.mc_sim import *\n",
    "import time\n",
    "from common.variables import *\n",
    "from opt.eval_policy import *\n",
    "\n",
    "file_id = \"msource_value_dic_12-23-2022-06-42-13.pkl\"\n",
    "filename = \"output/\" + file_id\n",
    "\n",
    "with open(filename, 'rb') as f:\n",
    "    output_obj = pkl.load(f)\n",
    "\n",
    "value_dic = output_obj[\"state_value_dic\"]\n",
    "model_params = output_obj[\"model_params\"]\n",
    "sourcingEnv = output_obj[\"mdp_env\"]\n",
    "\n",
    "# sourcingEnv2 = SourcingEnv(\n",
    "#     lambda_arrival = model_params['mdp_env_params']['lambda'], # or 10\n",
    "#     procurement_cost_vec = np.array(model_params['mdp_env_params']['procurement_cost_vec']),\n",
    "\n",
    "#     supplier_lead_times_vec = np.array(model_params['mdp_env_params']['supplier_lead_times_vec']),\n",
    "#     on_times = np.array(model_params['mdp_env_params']['on_times']), \n",
    "#     off_times = np.array(model_params['mdp_env_params']['off_times']),\n",
    "#     fixed_costs = np.array(model_params['mdp_env_params']['fixed_costs'])) # np.array([np.Inf, np.Inf])) \n",
    "\n",
    "sourcingEnv2 = sourcingEnv\n",
    "\n",
    "s_custom = MState(stock_level = 0, \n",
    "    n_suppliers = N_SUPPLIERS, \n",
    "    n_backorders = np.array([0, 0]), \n",
    "    flag_on_off = np.array([1, 1]))\n",
    "\n",
    "costs_array_labeled = []\n",
    "\n",
    "model_params['mdp_env_params']\n",
    "\n"
   ]
  },
  {
   "cell_type": "code",
   "execution_count": 79,
   "metadata": {},
   "outputs": [
    {
     "data": {
      "text/plain": [
       "dict_keys(['algo_params', 'policy_params', 'mdp_env_params', 'eval_params', 'dual_index', 'lp_config', 'git_commit', 'branch_name'])"
      ]
     },
     "execution_count": 79,
     "metadata": {},
     "output_type": "execute_result"
    }
   ],
   "source": [
    "model_params.keys()"
   ]
  },
  {
   "cell_type": "code",
   "execution_count": 80,
   "metadata": {},
   "outputs": [
    {
     "data": {
      "text/plain": [
       "{'prob_epsilon': 1e-08,\n",
       " 'periods': 30,\n",
       " 'nested_mc_iters': 31,\n",
       " 'mc_episodes': 32,\n",
       " 'max_steps': 33,\n",
       " 'explore_eps': 0.02,\n",
       " 'debug_bool': 1,\n",
       " 'fixed_learn_rate': 0.1}"
      ]
     },
     "execution_count": 80,
     "metadata": {},
     "output_type": "execute_result"
    }
   ],
   "source": [
    "model_params['algo_params']"
   ]
  },
  {
   "cell_type": "code",
   "execution_count": 81,
   "metadata": {},
   "outputs": [
    {
     "data": {
      "text/plain": [
       "{'safe_factor': 1.1,\n",
       " 'n_visit_limit': 2,\n",
       " 'sub_eval_periods': 30,\n",
       " 'sub_nested_mc_iter': 30}"
      ]
     },
     "execution_count": 81,
     "metadata": {},
     "output_type": "execute_result"
    }
   ],
   "source": [
    "model_params['eval_params']"
   ]
  },
  {
   "cell_type": "code",
   "execution_count": 82,
   "metadata": {},
   "outputs": [
    {
     "name": "stderr",
     "output_type": "stream",
     "text": [
      "100%|██████████| 100/100 [00:02<00:00, 48.68it/s]\n",
      "100%|██████████| 100/100 [00:03<00:00, 31.24it/s]"
     ]
    },
    {
     "name": "stdout",
     "output_type": "stream",
     "text": [
      "[1.7384217660327388, 1.0232209139559598]\n",
      "1.0232209139559598\n"
     ]
    },
    {
     "name": "stderr",
     "output_type": "stream",
     "text": [
      "\n"
     ]
    }
   ],
   "source": [
    "single_supplier_mean_costs = []\n",
    "sing_supp_mean_cost = np.Inf\n",
    "for s in range(sourcingEnv2.n_suppliers):\n",
    "\n",
    "    kwargs = {\"periods\" : EVAL_PERIODS,\n",
    "        \"nested_mc_iters\" : 100,\n",
    "        \"h_cost\": model_params['policy_params']['h_cost'],\n",
    "        \"b_penalty\" : model_params['policy_params']['b_penalty'],\n",
    "        \"supplier_index\": s\n",
    "    }\n",
    "\n",
    "    single_supplier_costs = mc_with_policy(sourcingEnv2, start_state = s_custom, \n",
    "        use_tqdm = True,\n",
    "        policy_callback = single_source_orderupto_policy,\n",
    "        **kwargs)\n",
    "    \n",
    "    sing_supp_mean_cost_i = np.mean(single_supplier_costs)\n",
    "    single_supplier_mean_costs.append(sing_supp_mean_cost_i)\n",
    "    if sing_supp_mean_cost_i < sing_supp_mean_cost:\n",
    "        single_supplier_costs_select = single_supplier_costs\n",
    "        sing_supp_mean_cost = sing_supp_mean_cost_i\n",
    "\n",
    "print(single_supplier_mean_costs)\n",
    "print(np.min(single_supplier_mean_costs))\n",
    "\n",
    "costs_array_labeled.extend([[\"SSN\", c] for c in single_supplier_costs_select])"
   ]
  },
  {
   "cell_type": "code",
   "execution_count": 83,
   "metadata": {},
   "outputs": [
    {
     "name": "stderr",
     "output_type": "stream",
     "text": [
      "100%|██████████| 5/5 [00:07<00:00,  1.46s/it]"
     ]
    },
    {
     "name": "stdout",
     "output_type": "stream",
     "text": [
      "1.454160108069038\n",
      "1.4595584160706843\n",
      "0.03652477032480384\n"
     ]
    },
    {
     "name": "stderr",
     "output_type": "stream",
     "text": [
      "\n"
     ]
    }
   ],
   "source": [
    "myopic_costs = mc_with_policy(sourcingEnv2, start_state = s_custom, \n",
    "    periods = EVAL_PERIODS,\n",
    "    nested_mc_iters = 5,\n",
    "    big_s = model_params['policy_params']['big_s'],\n",
    "    small_s = model_params['policy_params']['small_s'],\n",
    "    h_cost = model_params['policy_params']['h_cost'],\n",
    "    b_penalty = model_params['policy_params']['b_penalty'],\n",
    "    max_order = 2, # BIG_S,\n",
    "    policy_callback=myopic2_policy,\n",
    "    use_tqdm = True)\n",
    "\n",
    "print(np.mean(myopic_costs))\n",
    "print(np.median(np.array(myopic_costs)))\n",
    "print(np.std(np.array(myopic_costs)))\n",
    "\n",
    "costs_array_labeled.extend([[\"M2\", c] for c in myopic_costs])"
   ]
  },
  {
   "cell_type": "code",
   "execution_count": 84,
   "metadata": {},
   "outputs": [
    {
     "name": "stderr",
     "output_type": "stream",
     "text": [
      "100%|██████████| 100/100 [00:03<00:00, 29.20it/s]"
     ]
    },
    {
     "name": "stdout",
     "output_type": "stream",
     "text": [
      "0.648104342733822\n",
      "0.6433432869267979\n",
      "0.027868343482270564\n"
     ]
    },
    {
     "name": "stderr",
     "output_type": "stream",
     "text": [
      "\n"
     ]
    }
   ],
   "source": [
    "mc_avg_costs_ss = mc_with_policy(sourcingEnv2, start_state = s_custom, \n",
    "    periods = EVAL_PERIODS,\n",
    "    nested_mc_iters = 100,\n",
    "    policy_callback = ss_policy_fastest_supp_backlog,\n",
    "    big_s = model_params['policy_params']['big_s'],\n",
    "    small_s = model_params['policy_params']['small_s'],\n",
    "    h_cost = model_params['policy_params']['h_cost'],\n",
    "    b_penalty = model_params['policy_params']['b_penalty'],\n",
    "    use_tqdm = True)\n",
    "\n",
    "print(np.mean(np.array(mc_avg_costs_ss)))\n",
    "print(np.median(np.array(mc_avg_costs_ss)))\n",
    "print(np.std(np.array(mc_avg_costs_ss)))\n",
    "\n",
    "costs_array_labeled.extend([[\"SS*\", c] for c in mc_avg_costs_ss])"
   ]
  },
  {
   "cell_type": "code",
   "execution_count": 85,
   "metadata": {},
   "outputs": [
    {
     "name": "stderr",
     "output_type": "stream",
     "text": [
      " 10%|█         | 3/30 [00:02<00:24,  1.10it/s]/home/larkin/code/multi-sourcing-inventory/sim/policies.py:78: VisibleDeprecationWarning: Creating an ndarray from ragged nested sequences (which is a list-or-tuple of lists-or-tuples-or ndarrays with different lengths or shapes) is deprecated. If you meant to do this, you must specify 'dtype=object' when creating the ndarray.\n",
      "  overshoot_range = np.array([x for x in sourcingEnv.action_history_tuple if tmark_reg < x[0] < tmark_exp])\n",
      "100%|██████████| 30/30 [00:32<00:00,  1.07s/it]"
     ]
    },
    {
     "name": "stdout",
     "output_type": "stream",
     "text": [
      "1.0555794152269515\n",
      "1.0070245492124317\n",
      "0.2703134419387186\n"
     ]
    },
    {
     "name": "stderr",
     "output_type": "stream",
     "text": [
      "\n"
     ]
    }
   ],
   "source": [
    "mc_avg_costs_di = mc_with_policy(sourcingEnv2, start_state = s_custom, \n",
    "    periods = EVAL_PERIODS,\n",
    "    nested_mc_iters = 30,\n",
    "    big_s = model_params['policy_params']['big_s'],\n",
    "    small_s = model_params['policy_params']['small_s'],\n",
    "    h_cost = model_params['policy_params']['h_cost'],\n",
    "    b_penalty = model_params['policy_params']['b_penalty'],\n",
    "    max_order = BIG_S,\n",
    "    policy_callback=dual_index_policy,\n",
    "    use_tqdm = True\n",
    ")\n",
    "\n",
    "print(np.mean(np.array(mc_avg_costs_di)))\n",
    "print(np.median(np.array(mc_avg_costs_di)))\n",
    "print(np.std(np.array(mc_avg_costs_di)))\n",
    "\n",
    "costs_array_labeled.extend([[\"DI\", c] for c in mc_avg_costs_di])"
   ]
  },
  {
   "cell_type": "code",
   "execution_count": 86,
   "metadata": {},
   "outputs": [
    {
     "name": "stderr",
     "output_type": "stream",
     "text": [
      "100%|██████████| 30/30 [03:50<00:00,  7.67s/it]\n"
     ]
    }
   ],
   "source": [
    "import os\n",
    "\n",
    "# check if lp file exists\n",
    "lp_fname = \"output/lp_sol_\" + file_id\n",
    "if os.path.isfile(lp_fname):\n",
    "    kwargs_lp = {\n",
    "        \"value_dic\": output_obj[\"state_value_dic\"], \n",
    "        \"periods\": EVAL_PERIODS, \n",
    "        \"periods_val_it\": 1,\n",
    "        \"nested_mc_iters\": 30,\n",
    "        \"discount_fac\": DISCOUNT_FAC,\n",
    "        \"h_cost\": output_obj['model_params']['policy_params']['h_cost'],\n",
    "        \"b_penalty\": output_obj['model_params']['policy_params']['b_penalty'],\n",
    "        \"n_visit_lim\": N_VISIT_LIM,\n",
    "        \"default_ss_policy\": ss_policy_fastest_supp_backlog,\n",
    "        \"safe_factor\": SAFE_FACTOR,\n",
    "        \"sub_eval_periods\": SUB_EVAL_PERIODS,\n",
    "        \"sub_nested_mc_iter\": SUB_NESTED_MC_ITER,\n",
    "        \"max_stock\": BIG_S,\n",
    "        \"approx_eval\": True,\n",
    "        \"pol_dic\": output_obj[\"pol_dic\"],\n",
    "        \"env_filename\": file_id\n",
    "    }\n",
    "\n",
    "    lp_mdp_costs = mc_with_policy(sourcingEnv, \n",
    "        policy_callback=lp_mdp_policy,\n",
    "        use_tqdm = True,\n",
    "        **kwargs_lp)\n",
    "\n",
    "    costs_array_labeled.extend([[\"LP\", c] for c in lp_mdp_costs])"
   ]
  },
  {
   "cell_type": "code",
   "execution_count": 87,
   "metadata": {},
   "outputs": [
    {
     "name": "stderr",
     "output_type": "stream",
     "text": [
      "100%|██████████| 100/100 [00:10<00:00,  9.72it/s]"
     ]
    },
    {
     "name": "stdout",
     "output_type": "stream",
     "text": [
      "0.8919652940260311\n",
      "0.9016309018156254\n",
      "0.1067541704476775\n"
     ]
    },
    {
     "name": "stderr",
     "output_type": "stream",
     "text": [
      "\n"
     ]
    }
   ],
   "source": [
    "kwargs = {\n",
    "    \"value_dic\": value_dic, \n",
    "    \"periods\": EVAL_PERIODS, \n",
    "    \"periods_val_it\": 1,\n",
    "    \"nested_mc_iters\": 100,\n",
    "    \"max_stock\": BIG_S,\n",
    "    \"discount_fac\": DISCOUNT_FAC,\n",
    "    \"h_cost\": model_params['policy_params']['h_cost'],\n",
    "    \"b_penalty\": model_params['policy_params']['b_penalty'],\n",
    "    \"n_visit_lim\": N_VISIT_LIM,\n",
    "    \"default_ss_policy\": ss_policy_fastest_supp_backlog,\n",
    "    \"safe_factor\": SAFE_FACTOR,\n",
    "    \"sub_eval_periods\": SUB_EVAL_PERIODS,\n",
    "    \"sub_nested_mc_iter\": SUB_NESTED_MC_ITER,\n",
    "    \"approx_eval\": True,\n",
    "    \"pol_dic\": output_obj['pol_dic']\n",
    "}\n",
    "\n",
    "mc_avg_costs = mc_with_policy(sourcingEnv2, \n",
    "    start_state = s_custom, \n",
    "    use_tqdm = True,\n",
    "    policy_callback = eval_policy_from_policy_dic,\n",
    "    **kwargs)\n",
    "\n",
    "print(np.mean(mc_avg_costs))\n",
    "print(np.median(mc_avg_costs))\n",
    "print(np.std(mc_avg_costs))\n",
    "\n",
    "costs_array_labeled.extend([[\"MCDP\", c] for c in mc_avg_costs])"
   ]
  },
  {
   "cell_type": "code",
   "execution_count": 88,
   "metadata": {},
   "outputs": [
    {
     "data": {
      "image/png": "[encoded data removed]",
      "text/plain": [
       "<Figure size 640x480 with 1 Axes>"
      ]
     },
     "metadata": {},
     "output_type": "display_data"
    }
   ],
   "source": [
    "import pandas as pd  \n",
    "import seaborn as sns\n",
    "import matplotlib.pyplot as plt\n",
    "\n",
    "df = pd.DataFrame(costs_array_labeled, columns =['Algorithm', 'Cost']) \n",
    "\n",
    "title_str = \"Simulation Results for λ: %s, Proc. Cost %s, Fixed Cost: %s\" % (str(model_params['mdp_env_params']['lambda']), str(model_params['mdp_env_params']['procurement_cost_vec']), str(model_params['mdp_env_params']['fixed_costs']))\n",
    "\n",
    "sns.set_style(\"darkgrid\")\n",
    "\n",
    "meanprops={\"marker\":\"_\",\n",
    "            \"markerfacecolor\":\"white\", \n",
    "            \"markeredgecolor\":\"black\",\n",
    "            \"markersize\":\"48\"\n",
    "        }\n",
    "\n",
    "ax = sns.boxplot(x=df[\"Algorithm\"], y=df[\"Cost\"], width=0.8, showfliers=False, showmeans=True, linewidth = 0.9, palette = 'GnBu').set(\n",
    "    xlabel='Dual Sourcing Algorithm', \n",
    "    ylabel='Average Discounted Cost',\n",
    "    title = title_str)\n",
    "\n",
    "file_id_prefix = file_id.split(\".pkl\")[0]\n",
    "plt.savefig(\"results/summary_boxplot_\" + file_id_prefix + '.png')\n",
    "\n",
    "plt.show()\n",
    "\n",
    "# https://medium.com/@morganjonesartist/color-guide-to-seaborn-palettes-da849406d44f"
   ]
  },
  {
   "cell_type": "code",
   "execution_count": 89,
   "metadata": {},
   "outputs": [],
   "source": [
    "results_df = df.groupby('Algorithm').agg('mean')"
   ]
  },
  {
   "cell_type": "code",
   "execution_count": 90,
   "metadata": {},
   "outputs": [
    {
     "data": {
      "text/html": [
       "<div>\n",
       "<style scoped>\n",
       "    .dataframe tbody tr th:only-of-type {\n",
       "        vertical-align: middle;\n",
       "    }\n",
       "\n",
       "    .dataframe tbody tr th {\n",
       "        vertical-align: top;\n",
       "    }\n",
       "\n",
       "    .dataframe thead th {\n",
       "        text-align: right;\n",
       "    }\n",
       "</style>\n",
       "<table border=\"1\" class=\"dataframe\">\n",
       "  <thead>\n",
       "    <tr style=\"text-align: right;\">\n",
       "      <th></th>\n",
       "      <th>Cost</th>\n",
       "    </tr>\n",
       "    <tr>\n",
       "      <th>Algorithm</th>\n",
       "      <th></th>\n",
       "    </tr>\n",
       "  </thead>\n",
       "  <tbody>\n",
       "    <tr>\n",
       "      <th>DI</th>\n",
       "      <td>1.055579</td>\n",
       "    </tr>\n",
       "    <tr>\n",
       "      <th>LP</th>\n",
       "      <td>0.837110</td>\n",
       "    </tr>\n",
       "    <tr>\n",
       "      <th>M2</th>\n",
       "      <td>1.454160</td>\n",
       "    </tr>\n",
       "    <tr>\n",
       "      <th>MCDP</th>\n",
       "      <td>0.891965</td>\n",
       "    </tr>\n",
       "    <tr>\n",
       "      <th>SS*</th>\n",
       "      <td>0.648104</td>\n",
       "    </tr>\n",
       "    <tr>\n",
       "      <th>SSN</th>\n",
       "      <td>1.023221</td>\n",
       "    </tr>\n",
       "  </tbody>\n",
       "</table>\n",
       "</div>"
      ],
      "text/plain": [
       "               Cost\n",
       "Algorithm          \n",
       "DI         1.055579\n",
       "LP         0.837110\n",
       "M2         1.454160\n",
       "MCDP       0.891965\n",
       "SS*        0.648104\n",
       "SSN        1.023221"
      ]
     },
     "execution_count": 90,
     "metadata": {},
     "output_type": "execute_result"
    }
   ],
   "source": [
    "results_df"
   ]
  },
  {
   "cell_type": "code",
   "execution_count": 91,
   "metadata": {},
   "outputs": [
    {
     "data": {
      "text/plain": [
       "'msource_value_dic_12-23-2022-06-42-13.pkl'"
      ]
     },
     "execution_count": 91,
     "metadata": {},
     "output_type": "execute_result"
    }
   ],
   "source": [
    "file_id"
   ]
  },
  {
   "cell_type": "code",
   "execution_count": 92,
   "metadata": {},
   "outputs": [
    {
     "data": {
      "text/plain": [
       "{'lambda': 5,\n",
       " 'max_inven': 30,\n",
       " 'action_size': 40,\n",
       " 'discount_fac': 1.0,\n",
       " 'procurement_cost_vec': [1.5, 0.5],\n",
       " 'supplier_lead_times_vec': [0.019, 0.4],\n",
       " 'on_times': [1, 1],\n",
       " 'off_times': 'no_disrup',\n",
       " 'fixed_costs': [0, 0]}"
      ]
     },
     "execution_count": 92,
     "metadata": {},
     "output_type": "execute_result"
    }
   ],
   "source": [
    "model_params['mdp_env_params']"
   ]
  },
  {
   "cell_type": "code",
   "execution_count": 93,
   "metadata": {},
   "outputs": [],
   "source": [
    "result_output_dic = {}\n",
    "result_output_dic[\"model_params\"] = model_params\n",
    "result_output_dic[\"results_df\"] = results_df\n",
    "\n",
    "write_path = \"results/summary_obj_\" + file_id \n",
    "with open(write_path, 'wb') as handle:\n",
    "    pickle.dump(result_output_dic, handle, protocol=pickle.HIGHEST_PROTOCOL)\n",
    "\n"
   ]
  },
  {
   "cell_type": "code",
   "execution_count": 100,
   "metadata": {},
   "outputs": [
    {
     "data": {
      "text/html": [
       "<div>\n",
       "<style scoped>\n",
       "    .dataframe tbody tr th:only-of-type {\n",
       "        vertical-align: middle;\n",
       "    }\n",
       "\n",
       "    .dataframe tbody tr th {\n",
       "        vertical-align: top;\n",
       "    }\n",
       "\n",
       "    .dataframe thead th {\n",
       "        text-align: right;\n",
       "    }\n",
       "</style>\n",
       "<table border=\"1\" class=\"dataframe\">\n",
       "  <thead>\n",
       "    <tr style=\"text-align: right;\">\n",
       "      <th></th>\n",
       "      <th>Cost</th>\n",
       "    </tr>\n",
       "    <tr>\n",
       "      <th>Algorithm</th>\n",
       "      <th></th>\n",
       "    </tr>\n",
       "  </thead>\n",
       "  <tbody>\n",
       "    <tr>\n",
       "      <th>DI</th>\n",
       "      <td>0.746896</td>\n",
       "    </tr>\n",
       "    <tr>\n",
       "      <th>LP</th>\n",
       "      <td>0.789432</td>\n",
       "    </tr>\n",
       "    <tr>\n",
       "      <th>M2</th>\n",
       "      <td>1.007899</td>\n",
       "    </tr>\n",
       "    <tr>\n",
       "      <th>MCDP</th>\n",
       "      <td>0.961983</td>\n",
       "    </tr>\n",
       "    <tr>\n",
       "      <th>SS*</th>\n",
       "      <td>0.752104</td>\n",
       "    </tr>\n",
       "    <tr>\n",
       "      <th>SSN</th>\n",
       "      <td>1.008661</td>\n",
       "    </tr>\n",
       "  </tbody>\n",
       "</table>\n",
       "</div>"
      ],
      "text/plain": [
       "               Cost\n",
       "Algorithm          \n",
       "DI         0.746896\n",
       "LP         0.789432\n",
       "M2         1.007899\n",
       "MCDP       0.961983\n",
       "SS*        0.752104\n",
       "SSN        1.008661"
      ]
     },
     "execution_count": 100,
     "metadata": {},
     "output_type": "execute_result"
    }
   ],
   "source": [
    "result_id = \"msource_value_dic_12-27-2022-19-56-11.pkl\"\n",
    "filename = \"results/summary_obj_\" + result_id\n",
    "\n",
    "with open(filename, 'rb') as f:\n",
    "    result_obj = pkl.load(f)\n",
    "\n",
    "result_obj[\"results_df\"]"
   ]
  },
  {
   "cell_type": "code",
   "execution_count": 102,
   "metadata": {},
   "outputs": [
    {
     "data": {
      "text/plain": [
       "[['SSN', 1.0247894256775898],\n",
       " ['SSN', 1.3663756029084235],\n",
       " ['SSN', 0.9741478327295229],\n",
       " ['SSN', 0.9782673785562085],\n",
       " ['SSN', 1.0062500128295553],\n",
       " ['SSN', 1.0133686658811314],\n",
       " ['SSN', 1.0347130365146544],\n",
       " ['SSN', 1.064125038663094],\n",
       " ['SSN', 1.033765757024789],\n",
       " ['SSN', 1.0431271639045545],\n",
       " ['SSN', 1.0743160286705082],\n",
       " ['SSN', 0.9511231482132713],\n",
       " ['SSN', 1.143580613474145],\n",
       " ['SSN', 1.0189172425554383],\n",
       " ['SSN', 1.0450507530680166],\n",
       " ['SSN', 0.9445886511363251],\n",
       " ['SSN', 1.0183887195859633],\n",
       " ['SSN', 1.005521538090938],\n",
       " ['SSN', 0.9550314955829945],\n",
       " ['SSN', 0.9821526366210631],\n",
       " ['SSN', 1.1446626892974086],\n",
       " ['SSN', 1.058566892480252],\n",
       " ['SSN', 1.0189172425554383],\n",
       " ['SSN', 0.8973072851035082],\n",
       " ['SSN', 0.9626536880817002],\n",
       " ['SSN', 1.064125038663094],\n",
       " ['SSN', 1.0031435438336227],\n",
       " ['SSN', 0.9895937021721168],\n",
       " ['SSN', 0.9989342723149867],\n",
       " ['SSN', 0.965009492858952],\n",
       " ['SSN', 0.9650326065329897],\n",
       " ['SSN', 1.0629750392043171],\n",
       " ['SSN', 1.026392003482791],\n",
       " ['SSN', 1.0169738999496911],\n",
       " ['SSN', 1.1450812039937655],\n",
       " ['SSN', 1.058566892480252],\n",
       " ['SSN', 0.9088780381608073],\n",
       " ['SSN', 1.0360336794384175],\n",
       " ['SSN', 1.0776116532975097],\n",
       " ['SSN', 1.1982229856264366],\n",
       " ['SSN', 1.0096690425540087],\n",
       " ['SSN', 1.0917423516084785],\n",
       " ['SSN', 1.0137482879680328],\n",
       " ['SSN', 0.9518675900463691],\n",
       " ['SSN', 0.8378606758001959],\n",
       " ['SSN', 1.0050002150329045],\n",
       " ['SSN', 0.9667151957131299],\n",
       " ['SSN', 0.961631768778994],\n",
       " ['SSN', 1.0229739187086386],\n",
       " ['SSN', 1.0238178233459503],\n",
       " ['SSN', 1.1303316515213029],\n",
       " ['SSN', 0.9850343535250878],\n",
       " ['SSN', 1.0252039749025152],\n",
       " ['SSN', 1.0025609257716004],\n",
       " ['SSN', 1.3338327921748125],\n",
       " ['SSN', 0.9868276807843029],\n",
       " ['SSN', 0.9766553738515502],\n",
       " ['SSN', 1.0244628805379734],\n",
       " ['SSN', 0.9219275216725091],\n",
       " ['SSN', 0.9181828385494611],\n",
       " ['SSN', 0.9480915072639274],\n",
       " ['SSN', 0.9745105004041581],\n",
       " ['SSN', 1.0317543540740592],\n",
       " ['SSN', 1.0791560736405783],\n",
       " ['SSN', 1.0280555462741119],\n",
       " ['SSN', 1.0209543632419111],\n",
       " ['SSN', 1.0431271639045545],\n",
       " ['SSN', 0.9559492889287735],\n",
       " ['SSN', 1.0239460307611614],\n",
       " ['SSN', 0.9393506985942527],\n",
       " ['SSN', 0.995497889939258],\n",
       " ['SSN', 1.0598121367839495],\n",
       " ['SSN', 0.9698894760514276],\n",
       " ['SSN', 1.1226319441503279],\n",
       " ['SSN', 0.9961402356979977],\n",
       " ['SSN', 1.0776116532975097],\n",
       " ['SSN', 1.0536004089438225],\n",
       " ['SSN', 0.9284816795943233],\n",
       " ['SSN', 1.022940967734155],\n",
       " ['SSN', 1.032836806917293],\n",
       " ['SSN', 1.0144198937966904],\n",
       " ['SSN', 1.0776116532975097],\n",
       " ['SSN', 1.0267406318806251],\n",
       " ['SSN', 1.0899652645149618],\n",
       " ['SSN', 0.9408775230382411],\n",
       " ['SSN', 1.0665993095862647],\n",
       " ['SSN', 1.1878704464918044],\n",
       " ['SSN', 1.0357014997923415],\n",
       " ['SSN', 1.0840348184339805],\n",
       " ['SSN', 1.0129557990036815],\n",
       " ['SSN', 1.0062500128295553],\n",
       " ['SSN', 1.0041725808925404],\n",
       " ['SSN', 0.9689436876586761],\n",
       " ['SSN', 1.0135522018677567],\n",
       " ['SSN', 0.9497011451594051],\n",
       " ['SSN', 0.9965492996567014],\n",
       " ['SSN', 1.0431271639045545],\n",
       " ['SSN', 0.9682215277719582],\n",
       " ['SSN', 1.0303629987323222],\n",
       " ['SSN', 1.033765757024789],\n",
       " ['M2', 1.4595584160706843],\n",
       " ['M2', 1.4559670005005698],\n",
       " ['M2', 1.4751345902051258],\n",
       " ['M2', 1.493926146180852],\n",
       " ['M2', 1.3862143873879584],\n",
       " ['SS*', 0.6408562060887583],\n",
       " ['SS*', 0.6898093796808313],\n",
       " ['SS*', 0.6412142901480232],\n",
       " ['SS*', 0.6886363141697188],\n",
       " ['SS*', 0.64412748096612],\n",
       " ['SS*', 0.6881987249063766],\n",
       " ['SS*', 0.6416102334878572],\n",
       " ['SS*', 0.6849891091344831],\n",
       " ['SS*', 0.6142108736156765],\n",
       " ['SS*', 0.6416102334878572],\n",
       " ['SS*', 0.6142108736156765],\n",
       " ['SS*', 0.6488402884427088],\n",
       " ['SS*', 0.6408562060887583],\n",
       " ['SS*', 0.6502337055152194],\n",
       " ['SS*', 0.6820492987211024],\n",
       " ['SS*', 0.6863825262069939],\n",
       " ['SS*', 0.6834822790952775],\n",
       " ['SS*', 0.6502337055152194],\n",
       " ['SS*', 0.6431957302078704],\n",
       " ['SS*', 0.6352180507151055],\n",
       " ['SS*', 0.6412142901480232],\n",
       " ['SS*', 0.6416102334878572],\n",
       " ['SS*', 0.6818153024456064],\n",
       " ['SS*', 0.6142108736156765],\n",
       " ['SS*', 0.6475151626713903],\n",
       " ['SS*', 0.6142108736156765],\n",
       " ['SS*', 0.6142108736156765],\n",
       " ['SS*', 0.6488402884427088],\n",
       " ['SS*', 0.6142108736156765],\n",
       " ['SS*', 0.6780039115401735],\n",
       " ['SS*', 0.6412142901480232],\n",
       " ['SS*', 0.6808096200584177],\n",
       " ['SS*', 0.6820806882963096],\n",
       " ['SS*', 0.6783619955994384],\n",
       " ['SS*', 0.6475151626713903],\n",
       " ['SS*', 0.6818849686382726],\n",
       " ['SS*', 0.6142108736156765],\n",
       " ['SS*', 0.6835681540066771],\n",
       " ['SS*', 0.6142108736156765],\n",
       " ['SS*', 0.6809488714163762],\n",
       " ['SS*', 0.6142108736156765],\n",
       " ['SS*', 0.6142108736156765],\n",
       " ['SS*', 0.6142108736156765],\n",
       " ['SS*', 0.6450565612532878],\n",
       " ['SS*', 0.6431957302078704],\n",
       " ['SS*', 0.680421989462211],\n",
       " ['SS*', 0.6434908436457253],\n",
       " ['SS*', 0.6812483507741046],\n",
       " ['SS*', 0.6142108736156765],\n",
       " ['SS*', 0.6539261874774869],\n",
       " ['SS*', 0.6429150802648785],\n",
       " ['SS*', 0.6502337055152194],\n",
       " ['SS*', 0.6710021299077699],\n",
       " ['SS*', 0.6880388225484366],\n",
       " ['SS*', 0.6834822790952775],\n",
       " ['SS*', 0.6806865486435602],\n",
       " ['SS*', 0.6142108736156765],\n",
       " ['SS*', 0.6406902161061018],\n",
       " ['SS*', 0.6142108736156765],\n",
       " ['SS*', 0.6142108736156765],\n",
       " ['SS*', 0.641407288659997],\n",
       " ['SS*', 0.723990846345874],\n",
       " ['SS*', 0.6913562921725087],\n",
       " ['SS*', 0.6904087610803509],\n",
       " ['SS*', 0.6808096200584177],\n",
       " ['SS*', 0.6474781072500431],\n",
       " ['SS*', 0.6142108736156765],\n",
       " ['SS*', 0.6142108736156765],\n",
       " ['SS*', 0.678178455934906],\n",
       " ['SS*', 0.6789059522978979],\n",
       " ['SS*', 0.6412142901480232],\n",
       " ['SS*', 0.6142108736156765],\n",
       " ['SS*', 0.6827615135813231],\n",
       " ['SS*', 0.6142108736156765],\n",
       " ['SS*', 0.6142108736156765],\n",
       " ['SS*', 0.6803798981794543],\n",
       " ['SS*', 0.6406902161061018],\n",
       " ['SS*', 0.6142108736156765],\n",
       " ['SS*', 0.6471098318382534],\n",
       " ['SS*', 0.643801165964961],\n",
       " ['SS*', 0.6406902161061018],\n",
       " ['SS*', 0.6142108736156765],\n",
       " ['SS*', 0.641407288659997],\n",
       " ['SS*', 0.6142108736156765],\n",
       " ['SS*', 0.6484853208627809],\n",
       " ['SS*', 0.6142108736156765],\n",
       " ['SS*', 0.6444706128434657],\n",
       " ['SS*', 0.6792980549673435],\n",
       " ['SS*', 0.6462549812480004],\n",
       " ['SS*', 0.6412142901480232],\n",
       " ['SS*', 0.6142108736156765],\n",
       " ['SS*', 0.6865735947338477],\n",
       " ['SS*', 0.6142108736156765],\n",
       " ['SS*', 0.6406902161061018],\n",
       " ['SS*', 0.6406902161061018],\n",
       " ['SS*', 0.6142108736156765],\n",
       " ['SS*', 0.6736801988235427],\n",
       " ['SS*', 0.6142108736156765],\n",
       " ['SS*', 0.6450565612532878],\n",
       " ['SS*', 0.6142108736156765],\n",
       " ['DI', 1.561732479460924],\n",
       " ['DI', 0.9472810690598565],\n",
       " ['DI', 1.0712479343275354],\n",
       " ['DI', 0.9307613090292175],\n",
       " ['DI', 0.8743270065700719],\n",
       " ['DI', 0.9579481198805245],\n",
       " ['DI', 1.4006189698418825],\n",
       " ['DI', 1.4376984715982215],\n",
       " ['DI', 0.5387593290376468],\n",
       " ['DI', 1.1361658559428303],\n",
       " ['DI', 0.61361618981879],\n",
       " ['DI', 0.8486558575491411],\n",
       " ['DI', 1.284066368351646],\n",
       " ['DI', 1.122075101967693],\n",
       " ['DI', 1.1513414365189933],\n",
       " ['DI', 0.6764332748173033],\n",
       " ['DI', 1.0206094694969725],\n",
       " ['DI', 1.7365448974338382],\n",
       " ['DI', 1.045465300465514],\n",
       " ['DI', 1.2057436326132185],\n",
       " ['DI', 1.4288354169782813],\n",
       " ['DI', 1.182914670955206],\n",
       " ['DI', 0.9564179984522865],\n",
       " ['DI', 0.9573851676680463],\n",
       " ['DI', 0.993439628927891],\n",
       " ['DI', 0.6233329953852033],\n",
       " ['DI', 0.9588665673417772],\n",
       " ['DI', 0.9650808685098309],\n",
       " ['DI', 1.0757684056715509],\n",
       " ['DI', 0.9642486631366562],\n",
       " ['LP', 1.4905067541814148],\n",
       " ['LP', 0.5790136494937871],\n",
       " ['LP', 1.1975141577684465],\n",
       " ['LP', 0.599466454833588],\n",
       " ['LP', 1.0540348146873058],\n",
       " ['LP', 0.6286708579191415],\n",
       " ['LP', 0.6074101151388412],\n",
       " ['LP', 1.2001758057639973],\n",
       " ['LP', 0.938845883508224],\n",
       " ['LP', 0.6434176512404294],\n",
       " ['LP', 0.62671682616615],\n",
       " ['LP', 0.6053776903188627],\n",
       " ['LP', 1.1369393031147246],\n",
       " ['LP', 0.4336148344345559],\n",
       " ['LP', 0.6493845084911626],\n",
       " ['LP', 1.3045198590279068],\n",
       " ['LP', 0.7820124901117456],\n",
       " ['LP', 0.6367999853343865],\n",
       " ['LP', 0.8448329589094412],\n",
       " ['LP', 0.6603185465122116],\n",
       " ['LP', 0.5184261194059617],\n",
       " ['LP', 0.5815933308781367],\n",
       " ['LP', 0.8877482341936002],\n",
       " ['LP', 1.3011319378117336],\n",
       " ['LP', 1.1344208129082916],\n",
       " ['LP', 0.6354122051512648],\n",
       " ['LP', 0.7545802115306742],\n",
       " ['LP', 0.9911482670721098],\n",
       " ['LP', 0.7387054638148209],\n",
       " ['LP', 0.9505470122294629],\n",
       " ['MCDP', 0.9992576730680631],\n",
       " ['MCDP', 0.6854413006704185],\n",
       " ['MCDP', 0.9227599622070348],\n",
       " ['MCDP', 0.8795273631506964],\n",
       " ['MCDP', 0.8220886316925783],\n",
       " ['MCDP', 0.886063768204021],\n",
       " ['MCDP', 0.7589723826819826],\n",
       " ['MCDP', 0.9247836781033832],\n",
       " ['MCDP', 1.0510112604199107],\n",
       " ['MCDP', 0.8828407283651853],\n",
       " ['MCDP', 0.8530329449919176],\n",
       " ['MCDP', 0.8696822898054448],\n",
       " ['MCDP', 0.5955772661123925],\n",
       " ['MCDP', 0.7405582355392314],\n",
       " ['MCDP', 0.9009506699344717],\n",
       " ['MCDP', 0.8747319086711065],\n",
       " ['MCDP', 1.0299982052295091],\n",
       " ['MCDP', 0.8668917991096271],\n",
       " ['MCDP', 1.028855047720024],\n",
       " ['MCDP', 1.0821199858292443],\n",
       " ['MCDP', 0.8900253043048169],\n",
       " ['MCDP', 0.8105035436053807],\n",
       " ['MCDP', 0.900698088625733],\n",
       " ['MCDP', 0.8900418028679421],\n",
       " ['MCDP', 0.9598186394514258],\n",
       " ['MCDP', 0.9380560761243504],\n",
       " ['MCDP', 0.8439067698099354],\n",
       " ['MCDP', 0.9060354500222086],\n",
       " ['MCDP', 0.8197596643137669],\n",
       " ['MCDP', 0.8496800859433902],\n",
       " ['MCDP', 0.8672737566590837],\n",
       " ['MCDP', 0.9135293720191346],\n",
       " ['MCDP', 0.7563125709515117],\n",
       " ['MCDP', 0.8315170885407492],\n",
       " ['MCDP', 1.0619048420391002],\n",
       " ['MCDP', 0.9491562290781962],\n",
       " ['MCDP', 0.9113743100156577],\n",
       " ['MCDP', 0.8804117822980618],\n",
       " ['MCDP', 0.7724178894944893],\n",
       " ['MCDP', 0.92147923534752],\n",
       " ['MCDP', 0.9313233881665872],\n",
       " ['MCDP', 0.9360397478805121],\n",
       " ['MCDP', 0.8811174534726952],\n",
       " ['MCDP', 0.9349995369583812],\n",
       " ['MCDP', 0.9089092188251041],\n",
       " ['MCDP', 0.7486958536626892],\n",
       " ['MCDP', 0.9762750082998256],\n",
       " ['MCDP', 0.8877605898641312],\n",
       " ['MCDP', 0.9091249582748052],\n",
       " ['MCDP', 0.9324983000293471],\n",
       " ['MCDP', 1.017428783819633],\n",
       " ['MCDP', 0.9213919749110395],\n",
       " ['MCDP', 1.0156967611749719],\n",
       " ['MCDP', 1.0783509432381686],\n",
       " ['MCDP', 0.9691377306580473],\n",
       " ['MCDP', 0.818739792037654],\n",
       " ['MCDP', 0.9598043359587263],\n",
       " ['MCDP', 0.6063517557976531],\n",
       " ['MCDP', 0.9619144886500928],\n",
       " ['MCDP', 0.6812438358670092],\n",
       " ['MCDP', 0.7295482320434594],\n",
       " ['MCDP', 1.0551043231661368],\n",
       " ['MCDP', 0.8621812136596753],\n",
       " ['MCDP', 0.8677629102776987],\n",
       " ['MCDP', 0.8737527948865461],\n",
       " ['MCDP', 0.982221147380407],\n",
       " ['MCDP', 0.7579710500493876],\n",
       " ['MCDP', 0.9024257106828045],\n",
       " ['MCDP', 0.9156506489879498],\n",
       " ['MCDP', 0.95168031295094],\n",
       " ['MCDP', 0.9023111336967791],\n",
       " ['MCDP', 1.0564590554172535],\n",
       " ['MCDP', 0.9361692658782617],\n",
       " ['MCDP', 0.6499920264310789],\n",
       " ['MCDP', 1.0959329676927847],\n",
       " ['MCDP', 0.9005929969225306],\n",
       " ['MCDP', 0.7669668709611542],\n",
       " ['MCDP', 0.9454744023655893],\n",
       " ['MCDP', 0.7481734227788123],\n",
       " ['MCDP', 0.6128784656917424],\n",
       " ['MCDP', 1.032855321266953],\n",
       " ['MCDP', 0.8736525901349791],\n",
       " ['MCDP', 0.8928068757094682],\n",
       " ['MCDP', 0.9031688791939113],\n",
       " ['MCDP', 0.8118272639738024],\n",
       " ['MCDP', 0.9612670459020768],\n",
       " ['MCDP', 0.8464211357071835],\n",
       " ['MCDP', 0.7532374028609589],\n",
       " ['MCDP', 0.8911915128839926],\n",
       " ['MCDP', 0.9667371470012117],\n",
       " ['MCDP', 0.7294248039934353],\n",
       " ['MCDP', 1.0650187558786979],\n",
       " ['MCDP', 1.0340199972105564],\n",
       " ['MCDP', 1.0725614483073835],\n",
       " ['MCDP', 0.8722506169725607],\n",
       " ['MCDP', 0.9615087713450574],\n",
       " ['MCDP', 0.9033940230070634],\n",
       " ['MCDP', 0.9072739382843215],\n",
       " ['MCDP', 0.8951005944207663],\n",
       " ['MCDP', 0.9037102660619634]]"
      ]
     },
     "execution_count": 102,
     "metadata": {},
     "output_type": "execute_result"
    }
   ],
   "source": [
    "costs_array_labeled"
   ]
  },
  {
   "cell_type": "code",
   "execution_count": 143,
   "metadata": {},
   "outputs": [
    {
     "data": {
      "image/png": "[encoded data removed]",
      "text/plain": [
       "<Figure size 640x480 with 1 Axes>"
      ]
     },
     "metadata": {},
     "output_type": "display_data"
    }
   ],
   "source": [
    "summary_id = \"sumf_lam_10_dis_allcosts_v2.pkl\"\n",
    "filename = \"results/\" + summary_id\n",
    "\n",
    "with open(filename, 'rb') as f:\n",
    "    summary_list = pkl.load(f)\n",
    "\n",
    "\n",
    "df = pd.DataFrame(summary_list, columns =['Algorithm', 'Cost']) \n",
    "\n",
    "title_str = \"Summary λ=10, with Supplier Disruption\"\n",
    "\n",
    "sns.set_style(\"darkgrid\")\n",
    "\n",
    "meanprops={\"marker\":\"_\",\n",
    "            \"markerfacecolor\":\"white\", \n",
    "            \"markeredgecolor\":\"black\",\n",
    "            \"markersize\":\"48\"\n",
    "        }\n",
    "\n",
    "ax = sns.boxplot(x=df[\"Algorithm\"], y=df[\"Cost\"], width=0.8, showfliers=False, linewidth = 0.9, palette = 'GnBu').set(\n",
    "    xlabel='Dual Sourcing Algorithm', \n",
    "    ylabel='Average Discounted Cost',\n",
    "    title = title_str)\n",
    "\n",
    "file_id_prefix = file_id.split(\".pkl\")[0]\n",
    "plt.savefig(\"results/summary_boxplot_\" + file_id_prefix + '.png')\n",
    "\n",
    "plt.show()"
   ]
  },
  {
   "cell_type": "code",
   "execution_count": 145,
   "metadata": {},
   "outputs": [
    {
     "data": {
      "image/png": "[encoded data removed]",
      "text/plain": [
       "<Figure size 640x480 with 1 Axes>"
      ]
     },
     "metadata": {},
     "output_type": "display_data"
    }
   ],
   "source": [
    "summary_list_ = summary_list\n",
    "\n",
    "df = pd.DataFrame(summary_list_, columns =['Algorithm', 'Cost']) \n",
    "\n",
    "sns.set_style(\"darkgrid\")\n",
    "\n",
    "ax = sns.boxplot(x=df[\"Algorithm\"], y=df[\"Cost\"], width=0.8, showfliers=False, linewidth = 0.9, palette = 'GnBu').set(\n",
    "    xlabel='Dual Sourcing Algorithm', \n",
    "    ylabel='Average Discounted Cost',\n",
    "    title = title_str)"
   ]
  },
  {
   "cell_type": "code",
   "execution_count": null,
   "metadata": {},
   "outputs": [],
   "source": [
    "file_id_prefix = file_id.split(\".pkl\")[0]\n",
    "plt.savefig(\"results/summary_boxplot_\" + file_id_prefix + '.png')\n",
    "\n",
    "plt.show()"
   ]
  }
 ],
 "metadata": {
  "kernelspec": {
   "display_name": ".multi-sourcing-env",
   "language": "python",
   "name": "python3"
  },
  "language_info": {
   "codemirror_mode": {
    "name": "ipython",
    "version": 3
   },
   "file_extension": ".py",
   "mimetype": "text/x-python",
   "name": "python",
   "nbconvert_exporter": "python",
   "pygments_lexer": "ipython3",
   "version": "3.8.10"
  },
  "orig_nbformat": 4,
  "vscode": {
   "interpreter": {
    "hash": "cd381e17d028bd09dab022bcaf56b43c687ccc8a6f1edc8bc118936389c16b3d"
   }
  }
 },
 "nbformat": 4,
 "nbformat_minor": 2
}
