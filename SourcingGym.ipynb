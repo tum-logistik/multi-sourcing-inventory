{
 "cells": [
  {
   "cell_type": "code",
   "execution_count": 6,
   "id": "7d313941",
   "metadata": {},
   "outputs": [],
   "source": [
    "from opt.mc_sim import *\n",
    "from common.variables import *\n",
    "import torch\n",
    "import gym\n",
    "from gym import spaces\n",
    "from gym import Env\n",
    "from gym.spaces import Discrete, Box, MultiDiscrete, Tuple"
   ]
  },
  {
   "cell_type": "code",
   "execution_count": null,
   "id": "3063f17a",
   "metadata": {},
   "outputs": [],
   "source": []
  },
  {
   "cell_type": "code",
   "execution_count": 2,
   "id": "37385bfe",
   "metadata": {},
   "outputs": [],
   "source": [
    "s = SourcingEnv()"
   ]
  },
  {
   "cell_type": "code",
   "execution_count": 5,
   "id": "1475e856",
   "metadata": {},
   "outputs": [],
   "source": [
    "class SourcingGymEnv(SourcingEnv):\n",
    "    def reward(self, state, action):\n",
    "        reward_hb = H_COST * state.s if state.s >= 0 else B_PENALTY * state.s \n",
    "        reward = reward_hb + np.sum(np.multiply(action, PROCUREMENT_COST_VEC))\n",
    "        return -reward"
   ]
  },
  {
   "cell_type": "code",
   "execution_count": 7,
   "id": "983d5100",
   "metadata": {},
   "outputs": [
    {
     "data": {
      "text/plain": [
       "30"
      ]
     },
     "execution_count": 7,
     "metadata": {},
     "output_type": "execute_result"
    }
   ],
   "source": [
    "INVEN_LIMIT"
   ]
  },
  {
   "cell_type": "code",
   "execution_count": 9,
   "id": "ae236ed5",
   "metadata": {},
   "outputs": [],
   "source": [
    "Env.action_space = Discrete(INVEN_LIMIT)"
   ]
  },
  {
   "cell_type": "code",
   "execution_count": null,
   "id": "0f3f0e78",
   "metadata": {},
   "outputs": [],
   "source": []
  }
 ],
 "metadata": {
  "kernelspec": {
   "display_name": "Python 3 (ipykernel)",
   "language": "python",
   "name": "python3"
  },
  "language_info": {
   "codemirror_mode": {
    "name": "ipython",
    "version": 3
   },
   "file_extension": ".py",
   "mimetype": "text/x-python",
   "name": "python",
   "nbconvert_exporter": "python",
   "pygments_lexer": "ipython3",
   "version": "3.8.15"
  }
 },
 "nbformat": 4,
 "nbformat_minor": 5
}
