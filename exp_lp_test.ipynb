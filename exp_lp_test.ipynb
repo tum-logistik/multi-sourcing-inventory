{
 "cells": [
  {
   "cell_type": "code",
   "execution_count": 1,
   "metadata": {},
   "outputs": [],
   "source": [
    "from env.SourcingEnv import *\n",
    "import numpy as np\n",
    "import gurobipy as gp\n",
    "from gurobipy import GRB\n",
    "import pickle as pkl\n",
    "from env.HelperClasses import *\n",
    "from sim.sim_functions import *\n",
    "import itertools"
   ]
  },
  {
   "cell_type": "code",
   "execution_count": 2,
   "metadata": {},
   "outputs": [],
   "source": [
    "filename = \"output/msource_value_dic_07-04-2022-05-59-13.pkl\"\n",
    "\n",
    "with open(filename, 'rb') as f:\n",
    "    output_obj = pkl.load(f)\n",
    "\n",
    "    value_dic = output_obj[\"state_value_dic\"]\n",
    "    model_params = output_obj[\"model_params\"]\n",
    "    sourcingEnv = output_obj[\"mdp_env\"]\n",
    "\n",
    "    sourcingEnv = SourcingEnv(\n",
    "        lambda_arrival = model_params['mdp_env_params']['lambda'], # or 10\n",
    "        procurement_cost_vec = np.array(model_params['mdp_env_params']['procurement_cost_vec']),\n",
    "        supplier_lead_times_vec = np.array(model_params['mdp_env_params']['supplier_lead_times_vec']),\n",
    "        on_times = np.array([1, 1]), \n",
    "        off_times = np.array([np.Inf, np.Inf]))"
   ]
  },
  {
   "cell_type": "code",
   "execution_count": 3,
   "metadata": {},
   "outputs": [
    {
     "name": "stdout",
     "output_type": "stream",
     "text": [
      "Set parameter CSQueueTimeout to value 120\n",
      "Set parameter CSIdleTimeout to value 60\n",
      "Set parameter ServerTimeout to value 10\n",
      "Set parameter TokenServer to value \"10.162.183.44\"\n"
     ]
    }
   ],
   "source": [
    "state_backorders = list(itertools.product(range(MAX_INVEN - BACKORDER_MAX), range(sourcingEnv.n_suppliers)))\n",
    "state_s = list(range(MAX_INVEN - BACKORDER_MAX))\n",
    "state_onoff = list(itertools.product(range(2), range(sourcingEnv.n_suppliers)))\n",
    "\n",
    "possible_state_tuples = list(itertools.product(state_s, state_backorders, state_onoff))\n",
    "poss_states = [[x[0], np.array(list(x[1])), np.array(list(x[2]))] for x in possible_state_tuples]\n",
    "\n",
    "action_space_tup = list(itertools.product(range(sourcingEnv.action_size), range(sourcingEnv.n_suppliers))) \n",
    "action_space = [np.array(list(x)) for x in action_space_tup]\n",
    "\n",
    "m = gp.Model(\"MDP\")\n",
    "x = {}\n",
    "\n",
    "for state in poss_states:\n",
    "    for a in action_space:\n",
    "        state_rep = MState(state[0], sourcingEnv.n_suppliers, state[1], state[2])\n",
    "        state_rep_str = str(state_rep)\n",
    "        a_rep = repr(list(a))\n",
    "        cost = cost_calc_expected_di(sourcingEnv, a, custom_state = state_rep)\n",
    "        x[state_rep_str, a_rep] = m.addVar(obj = cost, name='x-'+str(state)+\"-\"+str(a))\n",
    "        m.addConstr(x[state_rep_str, a_rep] >= 0)\n",
    "        "
   ]
  },
  {
   "cell_type": "code",
   "execution_count": null,
   "metadata": {},
   "outputs": [],
   "source": []
  },
  {
   "cell_type": "code",
   "execution_count": 5,
   "metadata": {},
   "outputs": [
    {
     "ename": "ValueError",
     "evalue": "setting an array element with a sequence.",
     "output_type": "error",
     "traceback": [
      "\u001b[0;31m---------------------------------------------------------------------------\u001b[0m",
      "\u001b[0;31mTypeError\u001b[0m                                 Traceback (most recent call last)",
      "\u001b[0;31mTypeError\u001b[0m: only size-1 arrays can be converted to Python scalars",
      "\nThe above exception was the direct cause of the following exception:\n",
      "\u001b[0;31mValueError\u001b[0m                                Traceback (most recent call last)",
      "\u001b[1;32m/home/larkin/code/multi-sourcing-inventory/exp_lp_test.ipynb Cell 5\u001b[0m in \u001b[0;36m<cell line: 5>\u001b[0;34m()\u001b[0m\n\u001b[1;32m     <a href='vscode-notebook-cell:/home/larkin/code/multi-sourcing-inventory/exp_lp_test.ipynb#W4sZmlsZQ%3D%3D?line=11'>12</a>\u001b[0m \u001b[39mfor\u001b[39;00m k \u001b[39min\u001b[39;00m \u001b[39mrange\u001b[39m(sourcingEnv\u001b[39m.\u001b[39mn_suppliers):\n\u001b[1;32m     <a href='vscode-notebook-cell:/home/larkin/code/multi-sourcing-inventory/exp_lp_test.ipynb#W4sZmlsZQ%3D%3D?line=12'>13</a>\u001b[0m     i_state_supp \u001b[39m=\u001b[39m j_state[\u001b[39m1\u001b[39m]\n\u001b[0;32m---> <a href='vscode-notebook-cell:/home/larkin/code/multi-sourcing-inventory/exp_lp_test.ipynb#W4sZmlsZQ%3D%3D?line=13'>14</a>\u001b[0m     i_state_supp[k] \u001b[39m=\u001b[39m j_state[\u001b[39m1\u001b[39m] \u001b[39m-\u001b[39m a_i[k]\n\u001b[1;32m     <a href='vscode-notebook-cell:/home/larkin/code/multi-sourcing-inventory/exp_lp_test.ipynb#W4sZmlsZQ%3D%3D?line=14'>15</a>\u001b[0m     change_i_state \u001b[39m=\u001b[39m MState(j_state[\u001b[39m0\u001b[39m] \u001b[39m+\u001b[39m \u001b[39m1\u001b[39m, sourcingEnv\u001b[39m.\u001b[39mn_suppliers, i_state_supp, j_state[\u001b[39m2\u001b[39m])\n\u001b[1;32m     <a href='vscode-notebook-cell:/home/larkin/code/multi-sourcing-inventory/exp_lp_test.ipynb#W4sZmlsZQ%3D%3D?line=15'>16</a>\u001b[0m     poss_i_states_tuples\u001b[39m.\u001b[39mappend((a_i, change_i_state, event_probs[\u001b[39m0\u001b[39m])) \u001b[39m# Event DEMAND_ARRIVAL\u001b[39;00m\n",
      "\u001b[0;31mValueError\u001b[0m: setting an array element with a sequence."
     ]
    }
   ],
   "source": [
    "# need to write a pij function\n",
    "# tau = sourcingEnv.compute_event_arrival_time(a)\n",
    "\n",
    "\n",
    "for j_state in poss_states:\n",
    "    j_repstr = str(MState(j_state[0], sourcingEnv.n_suppliers, j_state[1], j_state[2]))\n",
    "    \n",
    "    poss_i_states_tuples = [] # possible prev. states\n",
    "\n",
    "    for a_i in action_space:\n",
    "        event_probs = sourcingEnv.get_event_probs(a_i)\n",
    "        for k in range(sourcingEnv.n_suppliers):\n",
    "            i_state_supp = j_state[1]\n",
    "            i_state_supp[k] = j_state[1] - a_i[k]\n",
    "            change_i_state = MState(j_state[0] + 1, sourcingEnv.n_suppliers, i_state_supp, j_state[2])\n",
    "            poss_i_states_tuples.append((a_i, change_i_state, event_probs[0])) # Event DEMAND_ARRIVAL\n",
    "\n",
    "            i_state_supp = j_state[1]\n",
    "            i_state_supp[k] = j_state[1] - a_i[k] + 1\n",
    "            change_i_state = MState(j_state[0] - 1, sourcingEnv.n_suppliers, i_state_supp, j_state[2])\n",
    "            index = sourcingEnv.get_event_index_from_event(Event.SUPPLY_ARRIVAL, k)\n",
    "            poss_i_states_tuples.append((a_i, change_i_state, event_probs[index])) # Event SUPPLY_ARRIVAL\n",
    "\n",
    "            i_state_v = j_state[2]\n",
    "            if j_state[k] == 1:\n",
    "                i_state_v[k] = 0\n",
    "                change_i_state = MState(j_state[0], sourcingEnv.n_suppliers, j_state[1], i_state_v)\n",
    "                index = sourcingEnv.get_event_index_from_event(Event.SUPPLIER_ON, k)\n",
    "                poss_i_states_tuples.append((a_i, change_i_state, event_probs[index])) # Event SUPPLY_ARRIVAL\n",
    "\n",
    "            i_state_v = j_state[2]\n",
    "            if j_state[k] == 0:\n",
    "                i_state_v[k] = 1\n",
    "                change_i_state = MState(j_state[0], sourcingEnv.n_suppliers, j_state[1], i_state_v)\n",
    "                index = sourcingEnv.get_event_index_from_event(Event.SUPPLIER_OFF, k)\n",
    "                poss_i_states_tuples.append((a_i, change_i_state, event_probs[index])) # Event SUPPLY_ARRIVAL\n",
    "            \n",
    "    m.addConstr(sum(x[j_repstr, repr(list(a))] for a in action_space) - sum(pij*x[str(state_i), repr(list(a_i))] for (a_i, state_i, pij) in poss_i_states_tuples) == 0)\n"
   ]
  },
  {
   "cell_type": "code",
   "execution_count": null,
   "metadata": {},
   "outputs": [],
   "source": []
  }
 ],
 "metadata": {
  "kernelspec": {
   "display_name": "Python 3.8.10 ('.multi-sourcing-env': venv)",
   "language": "python",
   "name": "python3"
  },
  "language_info": {
   "codemirror_mode": {
    "name": "ipython",
    "version": 3
   },
   "file_extension": ".py",
   "mimetype": "text/x-python",
   "name": "python",
   "nbconvert_exporter": "python",
   "pygments_lexer": "ipython3",
   "version": "3.8.10"
  },
  "orig_nbformat": 4,
  "vscode": {
   "interpreter": {
    "hash": "cd381e17d028bd09dab022bcaf56b43c687ccc8a6f1edc8bc118936389c16b3d"
   }
  }
 },
 "nbformat": 4,
 "nbformat_minor": 2
}
