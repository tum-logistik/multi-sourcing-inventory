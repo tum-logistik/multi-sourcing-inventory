{
 "cells": [
  {
   "cell_type": "code",
   "execution_count": 1,
   "metadata": {},
   "outputs": [],
   "source": [
    "from opt.mc_sim import *\n",
    "import time\n",
    "from common.variables import *"
   ]
  },
  {
   "cell_type": "code",
   "execution_count": 2,
   "metadata": {},
   "outputs": [],
   "source": [
    "import pickle as pkl\n",
    "from opt.eval_policy import *\n",
    "\n",
    "# filename = \"output/msource_value_dic_06-16-2022-09-56-03.pkl\"\n",
    "# filename = \"output/msource_value_dic_06-22-2022-03-55-05.pkl\"\n",
    "filename = \"output/msource_value_dic_06-22-2022-03-55-05.pkl\"\n",
    "\n",
    "with open(filename, 'rb') as f:\n",
    "    output_obj = pkl.load(f)\n",
    "\n",
    "value_dic = output_obj[\"state_value_dic\"]\n",
    "model_params = output_obj[\"model_params\"]\n",
    "sourcingEnv = output_obj[\"mdp_env\"]"
   ]
  },
  {
   "cell_type": "code",
   "execution_count": 3,
   "metadata": {},
   "outputs": [
    {
     "data": {
      "text/plain": [
       "{'algo_params': {'prob_epsilon': 1e-08,\n",
       "  'periods': 30,\n",
       "  'nested_mc_iters': 30,\n",
       "  'mc_episodes': 30,\n",
       "  'max_steps': 30,\n",
       "  'explore_eps': 0.05,\n",
       "  'debug_bool': 0,\n",
       "  'fixed_learn_rate': 0.1},\n",
       " 'policy_params': {'h_cost': 1,\n",
       "  'b_penalty': 5,\n",
       "  'small_s': 2,\n",
       "  'big_s': 15,\n",
       "  'n_suppliers': 2,\n",
       "  'backorder_max': -10,\n",
       "  'inven_limit': 30},\n",
       " 'mdp_env_params': {'lambda': 4,\n",
       "  'max_inven': 30,\n",
       "  'action_size': 4,\n",
       "  'discount_fac': 1.0},\n",
       " 'git_commit': 'no_git',\n",
       " 'branch_name': 'no_git'}"
      ]
     },
     "execution_count": 3,
     "metadata": {},
     "output_type": "execute_result"
    }
   ],
   "source": [
    "model_params"
   ]
  },
  {
   "cell_type": "code",
   "execution_count": 4,
   "metadata": {},
   "outputs": [],
   "source": [
    "# best_small_s, best_big_s, best_val = find_opt_ss_policy_via_mc(sourcingEnv, periods = 20, nested_mc_iters = 50)\n",
    "# best (s, S) policy found by MC:: (2, 5)"
   ]
  },
  {
   "cell_type": "code",
   "execution_count": 5,
   "metadata": {},
   "outputs": [],
   "source": [
    "# model_params['branch_name'], model_params['git_commit']"
   ]
  },
  {
   "cell_type": "code",
   "execution_count": 6,
   "metadata": {},
   "outputs": [],
   "source": [
    "# sourcingEnv = SourcingEnv(\n",
    "#         lambda_arrival = 8, # or 10\n",
    "#         procurement_cost_vec = np.array([3, 1, 2]),\n",
    "#         supplier_lead_times_vec = np.array([0.8, 0.5, 1.0]),\n",
    "#         on_times = np.array([1, 1, 2]), \n",
    "#         off_times = np.array([0.3, 1, 0.2]))\n",
    "\n",
    "# Dual Sourcing\n",
    "# sourcingEnv = SourcingEnv(\n",
    "#         lambda_arrival = LAMBDA, # or 10\n",
    "#         procurement_cost_vec = np.array([3, 1]),\n",
    "#         supplier_lead_times_vec = np.array([0.8, 0.5]),\n",
    "#         on_times = np.array([1, 1]), \n",
    "#         off_times = np.array([0.3, 1]))\n",
    "\n",
    "s_custom = MState(stock_level = 0, \n",
    "    n_suppliers = N_SUPPLIERS, \n",
    "    n_backorders = np.array([0, 0]), \n",
    "    flag_on_off = np.array([1, 1]))\n",
    "\n",
    "mc_avg_costs = mc_with_ss_policy(sourcingEnv, start_state = s_custom, \n",
    "    periods = 30,\n",
    "    nested_mc_iters = 100,\n",
    "    big_s = model_params['policy_params']['big_s'],\n",
    "    small_s = model_params['policy_params']['small_s'],\n",
    "    h_cost = model_params['policy_params']['h_cost'],\n",
    "    b_penalty = model_params['policy_params']['b_penalty'])\n",
    "\n",
    "\n",
    "# print(mc_avg_costs)"
   ]
  },
  {
   "cell_type": "code",
   "execution_count": 7,
   "metadata": {},
   "outputs": [],
   "source": [
    "# mc_avg_costs = mc_with_ss_policy(sourcingEnv, \n",
    "#     periods = 100,\n",
    "#     nested_mc_iters = 50,\n",
    "#     big_s = 5,\n",
    "#     small_s = 2,\n",
    "#     h_cost = model_params['policy_params']['h_cost'],\n",
    "#     b_penalty = model_params['policy_params']['b_penalty'])"
   ]
  },
  {
   "cell_type": "code",
   "execution_count": 8,
   "metadata": {},
   "outputs": [
    {
     "data": {
      "image/png": "[encoded data removed]",
      "text/plain": [
       "<Figure size 432x288 with 1 Axes>"
      ]
     },
     "metadata": {
      "needs_background": "light"
     },
     "output_type": "display_data"
    }
   ],
   "source": [
    "import matplotlib.pyplot as plt\n",
    "import numpy as np\n",
    "\n",
    "binwidth = 0.3\n",
    "n, bins, patches = plt.hist(mc_avg_costs, bins=np.arange( np.min(mc_avg_costs), np.max(mc_avg_costs) + binwidth, binwidth))\n",
    "# n, bins, patches = plt.hist(mc_avg_costs, density = True)\n",
    "\n",
    "\n",
    "plt.xlabel('Avg Cost')\n",
    "plt.ylabel('Probability')\n",
    "plt.title('Histogram of Avg costs')\n",
    "plt.xlim(np.min(mc_avg_costs), np.max(mc_avg_costs))\n",
    "plt.ylim(0, np.max(n))\n",
    "plt.grid(True)\n",
    "plt.show()"
   ]
  },
  {
   "cell_type": "code",
   "execution_count": 9,
   "metadata": {},
   "outputs": [
    {
     "name": "stdout",
     "output_type": "stream",
     "text": [
      "8.298666666666668\n"
     ]
    }
   ],
   "source": [
    "print(np.mean(np.array(mc_avg_costs)))"
   ]
  },
  {
   "cell_type": "code",
   "execution_count": 10,
   "metadata": {},
   "outputs": [
    {
     "data": {
      "text/plain": [
       "0.8503844882038816"
      ]
     },
     "execution_count": 10,
     "metadata": {},
     "output_type": "execute_result"
    }
   ],
   "source": [
    "np.std(np.array(mc_avg_costs))"
   ]
  },
  {
   "cell_type": "code",
   "execution_count": 11,
   "metadata": {},
   "outputs": [
    {
     "name": "stdout",
     "output_type": "stream",
     "text": [
      "Stock: 0, n backorders: [0. 0.], supplier status (on/off): [1. 1.]\n"
     ]
    }
   ],
   "source": [
    "print(sourcingEnv.reset())"
   ]
  },
  {
   "cell_type": "code",
   "execution_count": 12,
   "metadata": {},
   "outputs": [
    {
     "data": {
      "text/plain": [
       "\"'Stock: 0, n backorders: [0. 0.], supplier status (on/off): [1. 1.]'\""
      ]
     },
     "execution_count": 12,
     "metadata": {},
     "output_type": "execute_result"
    }
   ],
   "source": [
    "repr(str(sourcingEnv.reset()))"
   ]
  },
  {
   "cell_type": "code",
   "execution_count": 13,
   "metadata": {},
   "outputs": [
    {
     "data": {
      "text/plain": [
       "{'algo_params': {'prob_epsilon': 1e-08,\n",
       "  'periods': 30,\n",
       "  'nested_mc_iters': 30,\n",
       "  'mc_episodes': 30,\n",
       "  'max_steps': 30,\n",
       "  'explore_eps': 0.05,\n",
       "  'debug_bool': 0,\n",
       "  'fixed_learn_rate': 0.1},\n",
       " 'policy_params': {'h_cost': 1,\n",
       "  'b_penalty': 5,\n",
       "  'small_s': 2,\n",
       "  'big_s': 15,\n",
       "  'n_suppliers': 2,\n",
       "  'backorder_max': -10,\n",
       "  'inven_limit': 30},\n",
       " 'mdp_env_params': {'lambda': 4,\n",
       "  'max_inven': 30,\n",
       "  'action_size': 4,\n",
       "  'discount_fac': 1.0},\n",
       " 'git_commit': 'no_git',\n",
       " 'branch_name': 'no_git'}"
      ]
     },
     "execution_count": 13,
     "metadata": {},
     "output_type": "execute_result"
    }
   ],
   "source": [
    "model_params"
   ]
  },
  {
   "cell_type": "code",
   "execution_count": 14,
   "metadata": {},
   "outputs": [],
   "source": [
    "# try a bit of indifference rounding\n",
    "# for k in value_dic.keys():\n",
    "#     value_dic[k] = round(value_dic[k], 3)\n"
   ]
  },
  {
   "cell_type": "code",
   "execution_count": 15,
   "metadata": {},
   "outputs": [
    {
     "name": "stdout",
     "output_type": "stream",
     "text": [
      "MC eval iter: 0\n",
      "MC eval iter: 1\n",
      "MC eval iter: 2\n",
      "MC eval iter: 3\n",
      "MC eval iter: 4\n",
      "MC eval iter: 5\n",
      "MC eval iter: 6\n",
      "MC eval iter: 7\n",
      "MC eval iter: 8\n",
      "MC eval iter: 9\n",
      "MC eval iter: 10\n",
      "MC eval iter: 11\n",
      "MC eval iter: 12\n",
      "MC eval iter: 13\n",
      "MC eval iter: 14\n",
      "MC eval iter: 15\n",
      "MC eval iter: 16\n",
      "MC eval iter: 17\n",
      "MC eval iter: 18\n",
      "MC eval iter: 19\n",
      "MC eval iter: 20\n",
      "MC eval iter: 21\n",
      "MC eval iter: 22\n",
      "MC eval iter: 23\n",
      "MC eval iter: 24\n",
      "MC eval iter: 25\n",
      "MC eval iter: 26\n",
      "MC eval iter: 27\n",
      "MC eval iter: 28\n",
      "MC eval iter: 29\n"
     ]
    }
   ],
   "source": [
    "eval_steps = 30\n",
    "mc_eval_iter = 30\n",
    "eval_costs_ss = mc_eval_policy_perf(sourcingEnv, value_dic, \n",
    "    max_steps = eval_steps, \n",
    "    mc_iters = mc_eval_iter,\n",
    "    h_cost = model_params['policy_params']['h_cost'],\n",
    "    b_penalty = model_params['policy_params']['b_penalty'], \n",
    "    policy_callback = eval_policy_from_ss_pol)\n",
    "\n",
    "avg_eval_cost_ss = np.mean(eval_costs_ss)\n",
    "avg_eval_cost_ss"
   ]
  },
  {
   "cell_type": "code",
   "execution_count": 16,
   "metadata": {},
   "outputs": [
    {
     "data": {
      "image/png": "[encoded data removed]",
      "text/plain": [
       "<Figure size 432x288 with 1 Axes>"
      ]
     },
     "metadata": {
      "needs_background": "light"
     },
     "output_type": "display_data"
    }
   ],
   "source": [
    "import numpy as np\n",
    "\n",
    "eval_costs_scaled_ss = np.array(eval_costs_ss)/eval_steps\n",
    "binwidth = 2.0\n",
    "\n",
    "n, bins, patches = plt.hist(eval_costs_scaled_ss, bins=np.arange(min(eval_costs_scaled_ss), max(eval_costs_scaled_ss) + binwidth, binwidth), density = True)\n",
    "\n",
    "\n",
    "plt.xlabel('Avg Cost')\n",
    "plt.ylabel('Probability')\n",
    "plt.title('Histogram of Avg costs')\n",
    "plt.xlim(np.min(eval_costs_scaled_ss), np.max(eval_costs_scaled_ss))\n",
    "plt.ylim(0, np.max(n))\n",
    "plt.grid(True)\n",
    "plt.show()"
   ]
  },
  {
   "cell_type": "code",
   "execution_count": 17,
   "metadata": {},
   "outputs": [
    {
     "data": {
      "text/plain": [
       "29.11444444444444"
      ]
     },
     "execution_count": 17,
     "metadata": {},
     "output_type": "execute_result"
    }
   ],
   "source": [
    "np.mean(eval_costs_scaled_ss)"
   ]
  },
  {
   "cell_type": "code",
   "execution_count": null,
   "metadata": {},
   "outputs": [],
   "source": [
    "np.std(eval_costs_scaled_ss)"
   ]
  },
  {
   "cell_type": "code",
   "execution_count": 18,
   "metadata": {},
   "outputs": [
    {
     "name": "stdout",
     "output_type": "stream",
     "text": [
      "MC eval iter: 0\n",
      "MC eval iter: 1\n",
      "MC eval iter: 2\n",
      "MC eval iter: 3\n",
      "MC eval iter: 4\n",
      "MC eval iter: 5\n",
      "MC eval iter: 6\n",
      "MC eval iter: 7\n",
      "MC eval iter: 8\n",
      "MC eval iter: 9\n",
      "MC eval iter: 10\n",
      "MC eval iter: 11\n",
      "MC eval iter: 12\n",
      "MC eval iter: 13\n",
      "MC eval iter: 14\n",
      "MC eval iter: 15\n",
      "MC eval iter: 16\n",
      "MC eval iter: 17\n",
      "MC eval iter: 18\n",
      "MC eval iter: 19\n",
      "MC eval iter: 20\n",
      "MC eval iter: 21\n",
      "MC eval iter: 22\n",
      "MC eval iter: 23\n",
      "MC eval iter: 24\n",
      "MC eval iter: 25\n",
      "MC eval iter: 26\n",
      "MC eval iter: 27\n",
      "MC eval iter: 28\n",
      "MC eval iter: 29\n"
     ]
    }
   ],
   "source": [
    "eval_steps = 30\n",
    "mc_eval_iter = 30\n",
    "eval_costs = mc_eval_policy_perf(sourcingEnv, value_dic, \n",
    "    max_steps = eval_steps, \n",
    "    mc_iters = mc_eval_iter,\n",
    "    h_cost = model_params['policy_params']['h_cost'],\n",
    "    b_penalty = model_params['policy_params']['b_penalty'])\n",
    "\n",
    "avg_eval_cost = np.mean(eval_costs)"
   ]
  },
  {
   "cell_type": "code",
   "execution_count": 19,
   "metadata": {},
   "outputs": [
    {
     "data": {
      "text/plain": [
       "{'algo_params': {'prob_epsilon': 1e-08,\n",
       "  'periods': 30,\n",
       "  'nested_mc_iters': 30,\n",
       "  'mc_episodes': 30,\n",
       "  'max_steps': 30,\n",
       "  'explore_eps': 0.05,\n",
       "  'debug_bool': 0,\n",
       "  'fixed_learn_rate': 0.1},\n",
       " 'policy_params': {'h_cost': 1,\n",
       "  'b_penalty': 5,\n",
       "  'small_s': 2,\n",
       "  'big_s': 15,\n",
       "  'n_suppliers': 2,\n",
       "  'backorder_max': -10,\n",
       "  'inven_limit': 30},\n",
       " 'mdp_env_params': {'lambda': 4,\n",
       "  'max_inven': 30,\n",
       "  'action_size': 4,\n",
       "  'discount_fac': 1.0},\n",
       " 'git_commit': 'no_git',\n",
       " 'branch_name': 'no_git'}"
      ]
     },
     "execution_count": 19,
     "metadata": {},
     "output_type": "execute_result"
    }
   ],
   "source": [
    "model_params"
   ]
  },
  {
   "cell_type": "code",
   "execution_count": 20,
   "metadata": {},
   "outputs": [],
   "source": [
    "eval_costs_scaled = np.array(eval_costs)/eval_steps"
   ]
  },
  {
   "cell_type": "code",
   "execution_count": 21,
   "metadata": {},
   "outputs": [
    {
     "data": {
      "image/png": "[encoded data removed]",
      "text/plain": [
       "<Figure size 432x288 with 1 Axes>"
      ]
     },
     "metadata": {
      "needs_background": "light"
     },
     "output_type": "display_data"
    }
   ],
   "source": [
    "import numpy as np\n",
    "\n",
    "binwidth = 2.0\n",
    "\n",
    "n, bins, patches = plt.hist(eval_costs_scaled, bins=np.arange(min(eval_costs_scaled), max(eval_costs_scaled) + binwidth, binwidth), density = True)\n",
    "\n",
    "\n",
    "plt.xlabel('Avg Cost')\n",
    "plt.ylabel('Probability')\n",
    "plt.title('Histogram of Avg costs')\n",
    "plt.xlim(np.min(eval_costs_scaled), np.max(eval_costs_scaled))\n",
    "plt.ylim(0, np.max(n))\n",
    "plt.grid(True)\n",
    "plt.show()"
   ]
  },
  {
   "cell_type": "code",
   "execution_count": 22,
   "metadata": {},
   "outputs": [
    {
     "data": {
      "text/plain": [
       "15.583333333333332"
      ]
     },
     "execution_count": 22,
     "metadata": {},
     "output_type": "execute_result"
    }
   ],
   "source": [
    "np.median(eval_costs_scaled)"
   ]
  },
  {
   "cell_type": "code",
   "execution_count": 23,
   "metadata": {},
   "outputs": [
    {
     "data": {
      "text/plain": [
       "17.631280983972847"
      ]
     },
     "execution_count": 23,
     "metadata": {},
     "output_type": "execute_result"
    }
   ],
   "source": [
    "np.std(eval_costs_scaled)"
   ]
  },
  {
   "cell_type": "code",
   "execution_count": 24,
   "metadata": {},
   "outputs": [
    {
     "data": {
      "text/plain": [
       "72780"
      ]
     },
     "execution_count": 24,
     "metadata": {},
     "output_type": "execute_result"
    }
   ],
   "source": [
    "len(list(value_dic.keys()))"
   ]
  },
  {
   "cell_type": "code",
   "execution_count": 25,
   "metadata": {},
   "outputs": [
    {
     "data": {
      "text/plain": [
       "-7.272222222222223"
      ]
     },
     "execution_count": 25,
     "metadata": {},
     "output_type": "execute_result"
    },
    {
     "data": {
      "image/png": "[encoded data removed]",
      "text/plain": [
       "<Figure size 432x288 with 1 Axes>"
      ]
     },
     "metadata": {
      "needs_background": "light"
     },
     "output_type": "display_data"
    }
   ],
   "source": [
    "import numpy as np\n",
    "\n",
    "binwidth = 0.3\n",
    "\n",
    "state_vals = [x[0] for x in list(value_dic.values())]\n",
    "state_visits = [x[1] for x in list(value_dic.values())]\n",
    "\n",
    "n, bins, patches = plt.hist(state_vals, density = True)\n",
    "np.max(state_vals)"
   ]
  },
  {
   "cell_type": "code",
   "execution_count": null,
   "metadata": {},
   "outputs": [],
   "source": []
  },
  {
   "cell_type": "code",
   "execution_count": 26,
   "metadata": {},
   "outputs": [
    {
     "data": {
      "text/plain": [
       "99"
      ]
     },
     "execution_count": 26,
     "metadata": {},
     "output_type": "execute_result"
    },
    {
     "data": {
      "image/png": "[encoded data removed]",
      "text/plain": [
       "<Figure size 432x288 with 1 Axes>"
      ]
     },
     "metadata": {
      "needs_background": "light"
     },
     "output_type": "display_data"
    }
   ],
   "source": [
    "binwidth = 3\n",
    "state_visits.remove(1)\n",
    "state_visits_massage = [x for x in state_visits if 100 > x > 2]\n",
    "\n",
    "n, bins, patches = plt.hist(state_visits_massage, bins=np.arange(min(state_visits_massage), max(state_visits_massage) + binwidth, binwidth), density = True)\n",
    "np.max(state_visits_massage)"
   ]
  },
  {
   "cell_type": "code",
   "execution_count": 27,
   "metadata": {},
   "outputs": [
    {
     "data": {
      "text/plain": [
       "3"
      ]
     },
     "execution_count": 27,
     "metadata": {},
     "output_type": "execute_result"
    }
   ],
   "source": [
    "np.min(state_visits_massage)"
   ]
  },
  {
   "cell_type": "code",
   "execution_count": 28,
   "metadata": {},
   "outputs": [
    {
     "data": {
      "text/plain": [
       "285"
      ]
     },
     "execution_count": 28,
     "metadata": {},
     "output_type": "execute_result"
    }
   ],
   "source": [
    "len(set(state_visits))"
   ]
  },
  {
   "cell_type": "code",
   "execution_count": 29,
   "metadata": {},
   "outputs": [
    {
     "data": {
      "text/plain": [
       "-29485"
      ]
     },
     "execution_count": 29,
     "metadata": {},
     "output_type": "execute_result"
    }
   ],
   "source": [
    "len(state_visits_massage) - len(state_visits)"
   ]
  },
  {
   "cell_type": "code",
   "execution_count": 30,
   "metadata": {},
   "outputs": [
    {
     "data": {
      "text/plain": [
       "72779"
      ]
     },
     "execution_count": 30,
     "metadata": {},
     "output_type": "execute_result"
    }
   ],
   "source": [
    "len(state_visits)"
   ]
  },
  {
   "cell_type": "code",
   "execution_count": 31,
   "metadata": {},
   "outputs": [
    {
     "data": {
      "text/plain": [
       "72780"
      ]
     },
     "execution_count": 31,
     "metadata": {},
     "output_type": "execute_result"
    }
   ],
   "source": [
    "len(state_vals)"
   ]
  },
  {
   "cell_type": "code",
   "execution_count": 32,
   "metadata": {},
   "outputs": [
    {
     "data": {
      "text/plain": [
       "'[6, 1, 0, 1, 0]'"
      ]
     },
     "execution_count": 32,
     "metadata": {},
     "output_type": "execute_result"
    }
   ],
   "source": [
    "\n",
    "max(value_dic, key=value_dic.get)\n"
   ]
  },
  {
   "cell_type": "code",
   "execution_count": 33,
   "metadata": {},
   "outputs": [
    {
     "data": {
      "text/plain": [
       "'[22, 29, 45, 1, 1]'"
      ]
     },
     "execution_count": 33,
     "metadata": {},
     "output_type": "execute_result"
    }
   ],
   "source": [
    "min(value_dic, key=value_dic.get)"
   ]
  },
  {
   "cell_type": "code",
   "execution_count": 34,
   "metadata": {},
   "outputs": [],
   "source": [
    "value_dic_key_sorted = sorted(value_dic, key=value_dic.get, reverse=True)\n",
    "value_dic_value_sorted = sorted(value_dic.values(), reverse=True)"
   ]
  },
  {
   "cell_type": "code",
   "execution_count": 35,
   "metadata": {},
   "outputs": [],
   "source": [
    "value_diagnostic = list(zip(value_dic_key_sorted, value_dic_value_sorted))"
   ]
  },
  {
   "cell_type": "code",
   "execution_count": 36,
   "metadata": {},
   "outputs": [
    {
     "data": {
      "text/plain": [
       "[('[6, 1, 0, 1, 0]', (-7.272222222222223, 23)),\n",
       " ('[4, 2, 6, 1, 1]', (-7.31, 1)),\n",
       " ('[7, 3, 0, 1, 1]', (-7.382222222222221, 23)),\n",
       " ('[7, 1, 0, 0, 0]', (-7.448344444444444, 23)),\n",
       " ('[7, 2, 0, 1, 1]', (-7.457333333333333, 23)),\n",
       " ('[6, 2, 0, 1, 0]', (-7.45967, 23)),\n",
       " ('[7, 2, 0, 1, 0]', (-7.460333333333333, 66)),\n",
       " ('[6, 5, 1, 0, 1]', (-7.48111111111111, 1)),\n",
       " ('[7, 2, 0, 0, 0]', (-7.4893888888888895, 23)),\n",
       " ('[7, 4, 2, 1, 1]', (-7.513333333333334, 2)),\n",
       " ('[5, 5, 1, 1, 1]', (-7.5411111111111095, 1)),\n",
       " ('[8, 0, 0, 0, 0]', (-7.568888888888891, 22)),\n",
       " ('[8, 1, 0, 0, 0]', (-7.572601425555557, 44)),\n",
       " ('[8, 0, 0, 1, 1]', (-7.572638555555557, 22)),\n",
       " ('[2, 8, 1, 1, 1]', (-7.583333333333333, 1)),\n",
       " ('[9, 0, 0, 1, 1]', (-7.585555555555556, 21)),\n",
       " ('[5, 0, 6, 1, 1]', (-7.602222222222222, 1)),\n",
       " ('[4, 6, 0, 1, 1]', (-7.607777777777779, 1)),\n",
       " ('[4, 0, 6, 1, 1]', (-7.608888888888889, 1)),\n",
       " ('[8, 1, 2, 1, 1]', (-7.60888888888889, 1)),\n",
       " ('[4, 1, 6, 1, 1]', (-7.612222222222221, 1)),\n",
       " ('[5, 6, 1, 0, 1]', (-7.63111111111111, 1)),\n",
       " ('[7, 1, 0, 1, 1]', (-7.635522222222221, 23)),\n",
       " ('[3, 0, 8, 1, 1]', (-7.636666666666667, 1)),\n",
       " ('[4, 1, 7, 1, 1]', (-7.655555555555555, 2)),\n",
       " ('[6, 4, 1, 1, 1]', (-7.657777777777778, 1)),\n",
       " ('[5, 5, 2, 1, 1]', (-7.6611111111111105, 1)),\n",
       " ('[5, 7, 0, 1, 1]', (-7.6722222222222225, 2)),\n",
       " ('[3, 9, 0, 1, 1]', (-7.6822222222222205, 1)),\n",
       " ('[5, 6, 2, 1, 1]', (-7.682222222222223, 4)),\n",
       " ('[6, 5, 0, 1, 1]', (-7.688888888888889, 2)),\n",
       " ('[8, 1, 0, 1, 1]', (-7.691333333333334, 44)),\n",
       " ('[8, 2, 0, 0, 0]', (-7.6921655555555555, 44)),\n",
       " ('[8, 2, 0, 1, 1]', (-7.69428888888889, 44)),\n",
       " ('[7, 0, 0, 1, 0]', (-7.698444444444444, 22)),\n",
       " ('[3, 8, 0, 1, 1]', (-7.698888888888888, 1)),\n",
       " ('[9, 1, 0, 1, 1]', (-7.706111111111112, 21)),\n",
       " ('[7, 3, 0, 0, 0]', (-7.707655555555556, 23)),\n",
       " ('[3, 1, 9, 1, 1]', (-7.711111111111111, 2)),\n",
       " ('[4, 3, 7, 1, 1]', (-7.713333333333333, 2)),\n",
       " ('[5, 7, 0, 1, 0]', (-7.716666666666668, 1)),\n",
       " ('[10, 0, 0, 1, 1]', (-7.717777777777779, 21)),\n",
       " ('[6, 4, 0, 1, 0]', (-7.73611111111111, 23)),\n",
       " ('[9, 1, 2, 1, 1]', (-7.7411111111111115, 1)),\n",
       " ('[5, 6, 0, 1, 0]', (-7.745555555555556, 1)),\n",
       " ('[9, 2, 0, 1, 0]', (-7.750406894477777, 103)),\n",
       " ('[7, 4, 0, 0, 0]', (-7.750777777777778, 23)),\n",
       " ('[6, 6, 0, 0, 1]', (-7.752222222222222, 1)),\n",
       " ('[4, 7, 2, 1, 1]', (-7.756666666666666, 1)),\n",
       " ('[9, 1, 0, 1, 0]', (-7.764666666666667, 103)),\n",
       " ('[7, 1, 4, 1, 1]', (-7.76888888888889, 1)),\n",
       " ('[8, 3, 0, 1, 1]', (-7.768922222222223, 45)),\n",
       " ('[0, 3, 3, 1, 1]', (-7.769711111111111, 60)),\n",
       " ('[7, 3, 0, 1, 0]', (-7.786333333333333, 66)),\n",
       " ('[8, 2, 0, 1, 0]', (-7.787844844444445, 108)),\n",
       " ('[6, 3, 0, 1, 0]', (-7.789555555555557, 23)),\n",
       " ('[6, 5, 1, 1, 0]', (-7.79, 1)),\n",
       " ('[3, 9, 1, 1, 1]', (-7.792222222222223, 1)),\n",
       " ('[6, 5, 2, 0, 1]', (-7.797777777777778, 1)),\n",
       " ('[2, 9, 0, 1, 1]', (-7.801111111111111, 2)),\n",
       " ('[11, 0, 0, 0, 1]', (-7.803333333333333, 1)),\n",
       " ('[5, 6, 1, 1, 0]', (-7.806666666666667, 1)),\n",
       " ('[4, 6, 1, 1, 1]', (-7.816666666666666, 1)),\n",
       " ('[7, 5, 0, 0, 0]', (-7.820000000000002, 23)),\n",
       " ('[3, 1, 8, 1, 1]', (-7.822222222222222, 1)),\n",
       " ('[5, 6, 2, 0, 1]', (-7.824444444444443, 1)),\n",
       " ('[12, 1, 0, 1, 0]', (-7.828666666666665, 55)),\n",
       " ('[5, 6, 0, 0, 1]', (-7.833333333333333, 1)),\n",
       " ('[4, 7, 1, 1, 1]', (-7.834444444444444, 1)),\n",
       " ('[8, 0, 2, 1, 1]', (-7.840000000000001, 1)),\n",
       " ('[5, 7, 1, 0, 1]', (-7.846666666666667, 1)),\n",
       " ('[10, 1, 0, 0, 0]', (-7.849000000000001, 40)),\n",
       " ('[8, 0, 3, 1, 1]', (-7.853333333333333, 1)),\n",
       " ('[6, 5, 0, 1, 0]', (-7.854111111111112, 23)),\n",
       " ('[10, 0, 0, 0, 0]', (-7.854555555555555, 20)),\n",
       " ('[3, 2, 9, 1, 1]', (-7.8566666666666665, 2)),\n",
       " ('[10, 2, 0, 1, 1]', (-7.861492222222222, 42)),\n",
       " ('[4, 7, 0, 1, 1]', (-7.862222222222223, 1)),\n",
       " ('[9, 2, 0, 0, 0]', (-7.862237777777779, 21)),\n",
       " ('[8, 3, 0, 1, 0]', (-7.872866211111112, 108)),\n",
       " ('[5, 5, 3, 1, 1]', (-7.874444444444444, 1)),\n",
       " ('[2, 1, 10, 1, 1]', (-7.881111111111111, 1)),\n",
       " ('[8, 5, 0, 0, 0]', (-7.8817681111111115, 44)),\n",
       " ('[9, 1, 0, 0, 0]', (-7.882222222222223, 21)),\n",
       " ('[7, 4, 0, 1, 0]', (-7.890895033333335, 66)),\n",
       " ('[4, 8, 0, 1, 1]', (-7.892222222222222, 1)),\n",
       " ('[9, 1, 3, 1, 1]', (-7.895555555555556, 2)),\n",
       " ('[5, 1, 6, 1, 1]', (-7.8966666666666665, 1)),\n",
       " ('[4, 0, 7, 1, 1]', (-7.897777777777779, 2)),\n",
       " ('[6, 4, 0, 1, 1]', (-7.905555555555556, 1)),\n",
       " ('[9, 2, 0, 1, 1]', (-7.9084777777777795, 23)),\n",
       " ('[7, 4, 1, 1, 1]', (-7.911111111111112, 2)),\n",
       " ('[2, 8, 2, 1, 1]', (-7.912222222222223, 1)),\n",
       " ('[0, 6, 3, 1, 0]', (-7.913333333333333, 30)),\n",
       " ('[5, 7, 1, 1, 1]', (-7.913333333333333, 4)),\n",
       " ('[0, 7, 3, 1, 0]', (-7.913537777777778, 30)),\n",
       " ('[8, 4, 1, 1, 0]', (-7.914444444444445, 1)),\n",
       " ('[0, 0, 7, 1, 0]', (-7.921666666666668, 30)),\n",
       " ('[10, 1, 1, 0, 1]', (-7.9222222222222225, 19)),\n",
       " ('[3, 8, 1, 1, 1]', (-7.924444444444444, 1)),\n",
       " ('[0, 2, 8, 1, 0]', (-7.925555555555556, 30)),\n",
       " ('[2, 9, 3, 1, 0]', (-7.932222222222223, 1)),\n",
       " ('[0, 4, 0, 0, 1]', (-7.933666666666667, 30)),\n",
       " ('[7, 6, 1, 1, 0]', (-7.935555555555554, 2)),\n",
       " ('[0, 6, 0, 1, 1]', (-7.937555555555555, 30)),\n",
       " ('[6, 6, 1, 1, 1]', (-7.941111111111111, 4)),\n",
       " ('[8, 3, 0, 0, 0]', (-7.944655555555557, 44)),\n",
       " ('[0, 3, 2, 0, 1]', (-7.945333333333333, 30)),\n",
       " ('[7, 6, 0, 0, 1]', (-7.948888888888889, 2)),\n",
       " ('[6, 5, 2, 1, 0]', (-7.956666666666667, 1)),\n",
       " ('[5, 8, 0, 1, 0]', (-7.958888888888889, 1)),\n",
       " ('[2, 10, 0, 1, 1]', (-7.961111111111112, 2)),\n",
       " ('[0, 2, 0, 0, 1]', (-7.964266666666667, 30)),\n",
       " ('[11, 1, 1, 0, 0]', (-7.973, 19)),\n",
       " ('[7, 4, 0, 1, 1]', (-7.979999999999999, 25)),\n",
       " ('[0, 6, 1, 0, 1]', (-7.980222222222222, 30)),\n",
       " ('[0, 3, 0, 0, 1]', (-7.980444444444444, 30)),\n",
       " ('[4, 6, 4, 1, 1]', (-7.980888888888888, 2)),\n",
       " ('[0, 4, 1, 1, 1]', (-7.980888888888891, 60)),\n",
       " ('[0, 1, 5, 1, 0]', (-7.982333333333333, 30)),\n",
       " ('[0, 4, 0, 1, 1]', (-7.985222222222223, 30)),\n",
       " ('[6, 4, 2, 1, 1]', (-7.9866666666666655, 1)),\n",
       " ('[5, 6, 1, 1, 1]', (-7.9877777777777785, 4)),\n",
       " ('[0, 8, 1, 0, 1]', (-7.991687777777779, 30)),\n",
       " ('[0, 7, 2, 1, 1]', (-7.9944444444444445, 60)),\n",
       " ('[-1, 6, 8, 1, 1]', (-7.995555555555556, 36)),\n",
       " ('[0, 5, 7, 0, 1]', (-7.996666666666666, 32)),\n",
       " ('[6, 7, 1, 0, 1]', (-7.998888888888889, 2)),\n",
       " ('[0, 5, 0, 0, 1]', (-7.999933333333333, 30)),\n",
       " ('[10, 0, 1, 1, 1]', (-8.0, 1)),\n",
       " ('[8, 4, 0, 1, 0]', (-8.001848716666666, 109)),\n",
       " ('[4, 6, 2, 1, 1]', (-8.003333333333332, 1)),\n",
       " ('[0, 2, 1, 1, 1]', (-8.006666666666666, 60)),\n",
       " ('[3, 1, 10, 1, 1]', (-8.006666666666668, 2)),\n",
       " ('[5, 7, 0, 0, 1]', (-8.006666666666668, 1)),\n",
       " ('[0, 4, 3, 1, 1]', (-8.009522222222222, 60)),\n",
       " ('[5, 6, 3, 1, 1]', (-8.011111111111111, 4)),\n",
       " ('[8, 3, 1, 1, 1]', (-8.011111111111111, 1)),\n",
       " ('[2, 8, 3, 1, 1]', (-8.015555555555556, 2)),\n",
       " ('[8, 0, 4, 1, 1]', (-8.016666666666666, 1)),\n",
       " ('[4, 0, 8, 1, 1]', (-8.018888888888888, 3)),\n",
       " ('[4, 4, 6, 1, 1]', (-8.02, 1)),\n",
       " ('[0, 5, 4, 0, 1]', (-8.021222222222223, 30)),\n",
       " ('[8, 2, 3, 1, 1]', (-8.022222222222222, 1)),\n",
       " ('[10, 1, 0, 1, 1]', (-8.023222222222222, 41)),\n",
       " ('[0, 5, 1, 1, 1]', (-8.024414111111112, 60)),\n",
       " ('[0, 1, 4, 1, 0]', (-8.025545555555555, 30)),\n",
       " ('[0, 2, 1, 1, 0]', (-8.028455555555556, 30)),\n",
       " ('[0, 2, 2, 0, 1]', (-8.028666666666668, 30)),\n",
       " ('[5, 2, 6, 1, 1]', (-8.03111111111111, 1)),\n",
       " ('[5, 7, 2, 0, 1]', (-8.032222222222222, 1)),\n",
       " ('[9, 2, 1, 1, 1]', (-8.033333333333333, 2)),\n",
       " ('[8, 4, 0, 0, 0]', (-8.034546666666667, 44)),\n",
       " ('[8, 2, 2, 1, 1]', (-8.035555555555556, 1)),\n",
       " ('[10, 2, 0, 0, 0]', (-8.036666666666667, 40)),\n",
       " ('[0, 9, 0, 1, 1]', (-8.036866666666667, 30)),\n",
       " ('[6, 6, 2, 1, 0]', (-8.038888888888888, 2)),\n",
       " ('[0, 7, 3, 1, 1]', (-8.040622222222224, 60)),\n",
       " ('[0, 5, 5, 0, 1]', (-8.04111111111111, 30)),\n",
       " ('[2, 8, 4, 0, 1]', (-8.041111111111112, 1)),\n",
       " ('[7, 0, 5, 1, 1]', (-8.04222222222222, 1)),\n",
       " ('[5, 1, 7, 1, 1]', (-8.042222222222222, 1)),\n",
       " ('[2, 10, 1, 1, 1]', (-8.042222222222223, 2)),\n",
       " ('[0, 0, 6, 1, 0]', (-8.04375777777778, 30)),\n",
       " ('[0, 4, 11, 0, 0]', (-8.04438888888889, 30)),\n",
       " ('[0, 2, 4, 1, 1]', (-8.046327777777778, 60)),\n",
       " ('[8, 1, 3, 1, 1]', (-8.047777777777778, 1)),\n",
       " ('[4, 8, 1, 1, 1]', (-8.048888888888888, 2)),\n",
       " ('[3, 0, 9, 1, 1]', (-8.04888888888889, 2)),\n",
       " ('[8, 5, 1, 1, 0]', (-8.04888888888889, 2)),\n",
       " ('[7, 0, 4, 1, 1]', (-8.04888888888889, 1)),\n",
       " ('[7, 1, 5, 1, 1]', (-8.049999999999999, 1)),\n",
       " ('[2, 1, 11, 0, 1]', (-8.049999999999999, 1)),\n",
       " ('[4, 6, 3, 1, 1]', (-8.05111111111111, 1)),\n",
       " ('[0, 2, 2, 1, 0]', (-8.05148888888889, 30)),\n",
       " ('[0, 5, 5, 1, 0]', (-8.051777777777778, 30)),\n",
       " ('[7, 5, 1, 1, 1]', (-8.052222222222222, 6)),\n",
       " ('[0, 7, 3, 0, 1]', (-8.052365555555557, 30)),\n",
       " ('[0, 3, 7, 1, 0]', (-8.052777777777777, 30)),\n",
       " ('[6, 6, 0, 1, 0]', (-8.05488888888889, 24)),\n",
       " ('[6, 6, 2, 0, 1]', (-8.056666666666667, 2)),\n",
       " ('[2, 9, 1, 1, 1]', (-8.057777777777778, 2)),\n",
       " ('[9, 4, 0, 0, 0]', (-8.05777777777778, 21)),\n",
       " ('[0, 5, 1, 1, 0]', (-8.059222222222223, 30)),\n",
       " ('[0, 9, 0, 0, 1]', (-8.063222222222223, 30)),\n",
       " ('[3, 10, 0, 1, 1]', (-8.064444444444446, 1)),\n",
       " ('[5, 8, 0, 0, 1]', (-8.065555555555555, 1)),\n",
       " ('[0, 1, 1, 0, 1]', (-8.065555555555557, 30)),\n",
       " ('[0, 0, 2, 1, 1]', (-8.067777777777778, 30)),\n",
       " ('[7, 5, 0, 1, 0]', (-8.068231333333335, 67)),\n",
       " ('[0, 8, 4, 1, 1]', (-8.068897777777778, 60)),\n",
       " ('[0, 7, 5, 1, 0]', (-8.069333333333333, 30)),\n",
       " ('[6, 7, 1, 1, 1]', (-8.07, 6)),\n",
       " ('[10, 2, 1, 1, 1]', (-8.07, 4)),\n",
       " ('[3, 2, 8, 1, 1]', (-8.07, 1)),\n",
       " ('[9, 0, 0, 0, 0]', (-8.070000000000002, 21)),\n",
       " ('[0, 1, 1, 1, 0]', (-8.070511111111113, 30)),\n",
       " ('[6, 7, 0, 1, 1]', (-8.071088888888887, 5)),\n",
       " ('[-1, 5, 9, 1, 0]', (-8.071111111111112, 2)),\n",
       " ('[0, 4, 6, 0, 1]', (-8.071470000000003, 31)),\n",
       " ('[0, 1, 2, 1, 1]', (-8.07168888888889, 60)),\n",
       " ('[0, 4, 1, 1, 0]', (-8.073444444444446, 30)),\n",
       " ('[8, 4, 1, 1, 1]', (-8.075555555555557, 3)),\n",
       " ('[8, 3, 2, 1, 1]', (-8.075666666666667, 2)),\n",
       " ('[9, 0, 2, 1, 1]', (-8.076666666666664, 1)),\n",
       " ('[2, 8, 0, 1, 1]', (-8.078888888888889, 1)),\n",
       " ('[9, 3, 0, 1, 1]', (-8.07928888888889, 23)),\n",
       " ('[4, 2, 7, 1, 1]', (-8.081111111111111, 2)),\n",
       " ('[0, 3, 3, 1, 0]', (-8.081322222222223, 30)),\n",
       " ('[0, 6, 2, 1, 0]', (-8.08227777777778, 30)),\n",
       " ('[8, 1, 4, 1, 1]', (-8.084444444444443, 1)),\n",
       " ('[-1, 9, 4, 1, 0]', (-8.085555555555556, 1)),\n",
       " ('[4, 1, 8, 1, 1]', (-8.089777777777776, 3)),\n",
       " ('[0, 8, 0, 1, 1]', (-8.090164444444445, 30)),\n",
       " ('[0, 0, 1, 0, 1]', (-8.094444444444443, 30)),\n",
       " ('[0, 9, 4, 0, 1]', (-8.094611111111114, 33)),\n",
       " ('[0, 3, 7, 0, 1]', (-8.094888888888889, 30)),\n",
       " ('[-1, 5, 9, 1, 1]', (-8.095555555555556, 34)),\n",
       " ('[0, 9, 6, 1, 0]', (-8.096444444444446, 37)),\n",
       " ('[5, 5, 4, 1, 1]', (-8.096666666666668, 1)),\n",
       " ('[0, 4, 5, 0, 1]', (-8.098455555555557, 30)),\n",
       " ('[5, 8, 1, 0, 1]', (-8.098888888888888, 2)),\n",
       " ('[0, 1, 5, 0, 1]', (-8.099466666666666, 30)),\n",
       " ('[7, 1, 0, 1, 0]', (-8.099528543400712, 67)),\n",
       " ('[0, 2, 11, 1, 0]', (-8.101222222222223, 32)),\n",
       " ('[2, 8, 5, 1, 0]', (-8.102222222222222, 1)),\n",
       " ('[0, 0, 8, 1, 0]', (-8.104444444444443, 30)),\n",
       " ('[0, 1, 7, 0, 1]', (-8.107777777777779, 30)),\n",
       " ('[6, 4, 3, 1, 1]', (-8.10888888888889, 1)),\n",
       " ('[0, 3, 0, 1, 1]', (-8.109244444444444, 30)),\n",
       " ('[0, 9, 3, 1, 1]', (-8.111336666666666, 60)),\n",
       " ('[5, 7, 2, 1, 1]', (-8.112222222222222, 4)),\n",
       " ('[-1, 7, 2, 1, 1]', (-8.113, 30)),\n",
       " ('[0, 1, 13, 0, 1]', (-8.113037777777778, 30)),\n",
       " ('[6, 6, 1, 0, 1]', (-8.115555555555556, 2)),\n",
       " ('[0, 2, 8, 0, 1]', (-8.11588888888889, 30)),\n",
       " ('[-1, 5, 1, 1, 1]', (-8.116, 30)),\n",
       " ('[0, 7, 0, 0, 1]', (-8.11661888888889, 30)),\n",
       " ('[0, 5, 5, 1, 1]', (-8.11750377777778, 60)),\n",
       " ('[0, 2, 10, 0, 1]', (-8.120678111111111, 31)),\n",
       " ('[10, 3, 0, 1, 0]', (-8.121046161111114, 115)),\n",
       " ('[1, 4, 10, 1, 1]', (-8.12111111111111, 2)),\n",
       " ('[0, 8, 4, 1, 0]', (-8.12178888888889, 31)),\n",
       " ('[0, 6, 6, 1, 1]', (-8.123366666666668, 60)),\n",
       " ('[3, 8, 2, 1, 1]', (-8.124444444444444, 2)),\n",
       " ('[0, 2, 11, 0, 1]', (-8.124666666666666, 32)),\n",
       " ('[5, 6, 3, 1, 0]', (-8.127777777777778, 1)),\n",
       " ('[10, 1, 1, 1, 1]', (-8.128888888888888, 2)),\n",
       " ('[8, 3, 3, 1, 1]', (-8.12888888888889, 2)),\n",
       " ('[6, 5, 2, 1, 1]', (-8.129999999999999, 2)),\n",
       " ('[9, 0, 3, 1, 1]', (-8.129999999999999, 1)),\n",
       " ('[3, 9, 3, 1, 1]', (-8.13, 3)),\n",
       " ('[0, 3, 3, 0, 1]', (-8.130077777777778, 30)),\n",
       " ('[6, 0, 7, 1, 1]', (-8.131111111111112, 1)),\n",
       " ('[5, 3, 6, 1, 1]', (-8.132222222222223, 1)),\n",
       " ('[10, 3, 0, 0, 0]', (-8.134400000000001, 40)),\n",
       " ('[0, 8, 6, 1, 0]', (-8.134444444444444, 35)),\n",
       " ('[0, 6, 3, 1, 1]', (-8.134444444444446, 60)),\n",
       " ('[0, 1, 9, 1, 0]', (-8.137777777777778, 30)),\n",
       " ('[0, 3, 1, 1, 0]', (-8.137777777777778, 30)),\n",
       " ('[7, 0, 7, 1, 1]', (-8.137777777777778, 3)),\n",
       " ('[0, 4, 2, 1, 0]', (-8.13888888888889, 30)),\n",
       " ('[3, 0, 10, 1, 1]', (-8.13888888888889, 2)),\n",
       " ('[0, 4, 0, 1, 0]', (-8.139333333333333, 30)),\n",
       " ('[2, 9, 2, 1, 1]', (-8.139999999999999, 2)),\n",
       " ('[8, 5, 1, 0, 1]', (-8.14, 2)),\n",
       " ('[0, 12, 3, 1, 0]', (-8.141555555555556, 32)),\n",
       " ('[0, 6, 7, 1, 0]', (-8.143355555555555, 33)),\n",
       " ('[0, 8, 3, 1, 1]', (-8.143453333333335, 60)),\n",
       " ('[0, 8, 3, 0, 1]', (-8.144372222222222, 31)),\n",
       " ('[0, 4, 2, 0, 1]', (-8.146, 30)),\n",
       " ('[12, 0, 0, 1, 0]', (-8.146141111111111, 37)),\n",
       " ('[0, 1, 0, 1, 1]', (-8.14739111111111, 30)),\n",
       " ('[6, 4, 4, 1, 1]', (-8.14888888888889, 1)),\n",
       " ('[0, 3, 10, 1, 0]', (-8.152511111111112, 32)),\n",
       " ('[0, 2, 0, 1, 1]', (-8.1532, 30)),\n",
       " ('[0, 6, 9, 0, 0]', (-8.155333333333333, 30)),\n",
       " ('[3, 8, 4, 1, 0]', (-8.155555555555555, 1)),\n",
       " ('[-1, 3, 3, 1, 1]', (-8.15588888888889, 30)),\n",
       " ('[8, 5, 0, 1, 0]', (-8.157443066666668, 110)),\n",
       " ('[0, 6, 5, 1, 1]', (-8.158143333333333, 60)),\n",
       " ('[0, 6, 2, 0, 1]', (-8.158888888888889, 30)),\n",
       " ('[10, 1, 2, 0, 1]', (-8.158888888888889, 19)),\n",
       " ('[0, 2, 5, 1, 1]', (-8.159617111111112, 60)),\n",
       " ('[0, 7, 1, 0, 1]', (-8.159999999999998, 30)),\n",
       " ('[-2, 5, 11, 1, 1]', (-8.16, 5)),\n",
       " ('[0, 6, 1, 1, 1]', (-8.160176666666667, 60)),\n",
       " ('[0, 3, 5, 1, 0]', (-8.162222222222223, 30)),\n",
       " ('[6, 5, 3, 1, 0]', (-8.162222222222223, 1)),\n",
       " ('[0, 10, 2, 1, 0]', (-8.164555555555555, 32)),\n",
       " ('[0, 2, 6, 0, 1]', (-8.165500000000002, 30)),\n",
       " ('[5, 8, 1, 1, 0]', (-8.165555555555555, 2)),\n",
       " ('[0, 3, 1, 1, 1]', (-8.165555555555557, 60)),\n",
       " ('[11, 1, 0, 1, 1]', (-8.166304444444444, 61)),\n",
       " ('[6, 5, 3, 1, 1]', (-8.166666666666668, 2)),\n",
       " ('[0, 0, 4, 1, 0]', (-8.16777777777778, 30)),\n",
       " ('[0, 6, 3, 0, 1]', (-8.168333333333335, 30)),\n",
       " ('[9, 3, 2, 1, 1]', (-8.17, 3)),\n",
       " ('[4, 2, 9, 1, 1]', (-8.171111111111111, 3)),\n",
       " ('[0, 0, 9, 1, 0]', (-8.1715, 30)),\n",
       " ('[0, 4, 5, 1, 1]', (-8.172777777777778, 60)),\n",
       " ('[0, 2, 3, 1, 1]', (-8.173222222222224, 60)),\n",
       " ('[0, 4, 7, 1, 0]', (-8.173333333333334, 32)),\n",
       " ('[0, 3, 6, 1, 0]', (-8.174444444444443, 30)),\n",
       " ('[0, 5, 2, 1, 1]', (-8.175444444444445, 60)),\n",
       " ('[0, 9, 5, 1, 0]', (-8.175666666666666, 34)),\n",
       " ('[0, 3, 2, 1, 1]', (-8.175666666666668, 60)),\n",
       " ('[0, 11, 2, 0, 1]', (-8.176111977777778, 32)),\n",
       " ('[0, 7, 6, 1, 0]', (-8.176233333333334, 32)),\n",
       " ('[11, 1, 1, 1, 0]', (-8.176666666666668, 2)),\n",
       " ('[0, 1, 3, 1, 1]', (-8.177274788888889, 60)),\n",
       " ('[7, 5, 0, 0, 1]', (-8.177777777777779, 1)),\n",
       " ('[2, 10, 3, 0, 1]', (-8.178888888888888, 1)),\n",
       " ('[11, 1, 0, 0, 1]', (-8.18, 1)),\n",
       " ('[0, 7, 4, 1, 1]', (-8.181233333333335, 60)),\n",
       " ('[5, 0, 7, 1, 1]', (-8.18222222222222, 1)),\n",
       " ('[-1, 5, 5, 1, 1]', (-8.182222222222224, 30)),\n",
       " ('[5, 6, 2, 1, 0]', (-8.182222222222224, 1)),\n",
       " ('[0, 10, 5, 0, 1]', (-8.182666666666666, 34)),\n",
       " ('[11, 0, 2, 0, 1]', (-8.184444444444443, 20)),\n",
       " ('[8, 4, 2, 0, 0]', (-8.185555555555554, 22)),\n",
       " ('[12, 1, 1, 0, 0]', (-8.188000000000002, 18)),\n",
       " ('[0, 4, 3, 1, 0]', (-8.188509999999999, 30)),\n",
       " ('[0, 4, 4, 1, 0]', (-8.189555555555556, 30)),\n",
       " ('[0, 11, 4, 1, 0]', (-8.192222222222222, 33)),\n",
       " ('[0, 3, 6, 1, 1]', (-8.194255555555555, 60)),\n",
       " ('[0, 1, 6, 1, 0]', (-8.19518888888889, 30)),\n",
       " ('[11, 0, 0, 0, 0]', (-8.195588888888892, 38)),\n",
       " ('[0, 3, 7, 1, 1]', (-8.19654388888889, 60)),\n",
       " ('[0, 1, 3, 1, 0]', (-8.196633333333333, 30)),\n",
       " ('[0, 5, 6, 1, 1]', (-8.197577777777777, 60)),\n",
       " ('[0, 1, 9, 1, 1]', (-8.198333333333334, 60)),\n",
       " ('[8, 1, 0, 1, 0]', (-8.198410040881996, 109)),\n",
       " ('[0, 8, 2, 1, 0]', (-8.199466666666668, 31)),\n",
       " ('[-1, 8, 6, 1, 0]', (-8.200000000000001, 3)),\n",
       " ('[1, 8, 4, 1, 1]', (-8.200000000000001, 1)),\n",
       " ('[0, 10, 1, 0, 1]', (-8.200519811111112, 30)),\n",
       " ('[0, 3, 8, 0, 1]', (-8.200555555555555, 31)),\n",
       " ('[6, 5, 3, 0, 1]', (-8.20111111111111, 1)),\n",
       " ('[5, 6, 3, 0, 1]', (-8.202222222222222, 1)),\n",
       " ('[9, 3, 0, 1, 0]', (-8.203222355555557, 103)),\n",
       " ('[5, 9, 0, 1, 1]', (-8.203333333333335, 6)),\n",
       " ('[2, 1, 12, 1, 1]', (-8.205555555555556, 4)),\n",
       " ('[4, 10, 1, 1, 1]', (-8.205555555555556, 3)),\n",
       " ('[0, 4, 1, 0, 1]', (-8.205580333333335, 30)),\n",
       " ('[0, 2, 4, 0, 1]', (-8.206666666666665, 30)),\n",
       " ('[0, 2, 2, 1, 1]', (-8.207266666666666, 60)),\n",
       " ('[-1, 1, 2, 1, 1]', (-8.207877777777778, 30)),\n",
       " ('[0, 8, 2, 1, 1]', (-8.210923552380953, 61)),\n",
       " ('[4, 9, 0, 1, 1]', (-8.21111111111111, 2)),\n",
       " ('[-1, 10, 4, 0, 1]', (-8.211111111111112, 1)),\n",
       " ('[4, 0, 9, 1, 1]', (-8.212222222222222, 3)),\n",
       " ('[4, 3, 8, 1, 1]', (-8.213333333333333, 3)),\n",
       " ('[9, 3, 1, 1, 1]', (-8.213333333333335, 2)),\n",
       " ('[7, 3, 4, 1, 1]', (-8.213333333333335, 1)),\n",
       " ('[11, 2, 0, 0, 0]', (-8.21525511111111, 57)),\n",
       " ('[0, 1, 8, 1, 1]', (-8.216529111111113, 60)),\n",
       " ('[12, 0, 0, 0, 1]', (-8.216666666666667, 1)),\n",
       " ('[0, 3, 2, 1, 0]', (-8.217544444444446, 30)),\n",
       " ('[3, 8, 3, 0, 1]', (-8.217777777777778, 1)),\n",
       " ('[0, 2, 0, 1, 0]', (-8.218333333333334, 30)),\n",
       " ('[0, 3, 1, 0, 1]', (-8.218715555555557, 30)),\n",
       " ('[0, 7, 8, 1, 0]', (-8.21888888888889, 37)),\n",
       " ('[9, 3, 0, 0, 0]', (-8.21888888888889, 21)),\n",
       " ('[1, 9, 4, 1, 1]', (-8.22, 2)),\n",
       " ('[0, 6, 4, 1, 1]', (-8.221075244444444, 60)),\n",
       " ('[1, 1, 10, 1, 1]', (-8.22111111111111, 2)),\n",
       " ('[0, 6, 8, 0, 1]', (-8.2219, 36)),\n",
       " ('[10, 1, 3, 0, 1]', (-8.222222222222221, 39)),\n",
       " ('[1, 3, 11, 0, 1]', (-8.222222222222221, 1)),\n",
       " ('[0, 10, 0, 0, 1]', (-8.223333333333333, 30)),\n",
       " ('[8, 4, 0, 0, 1]', (-8.224444444444446, 1)),\n",
       " ('[0, 2, 5, 0, 1]', (-8.22478888888889, 30)),\n",
       " ('[0, 4, 2, 1, 1]', (-8.224954705555557, 60)),\n",
       " ('[0, 5, 0, 1, 0]', (-8.22531888888889, 30)),\n",
       " ('[0, 0, 6, 0, 1]', (-8.225444444444445, 30)),\n",
       " ('[7, 5, 1, 0, 1]', (-8.225555555555555, 1)),\n",
       " ('[0, 1, 6, 0, 1]', (-8.226222222222223, 30)),\n",
       " ('[7, 6, 0, 1, 0]', (-8.226297077777778, 68)),\n",
       " ('[11, 1, 0, 0, 0]', (-8.226555555555557, 57)),\n",
       " ('[3, 11, 0, 1, 1]', (-8.226666666666667, 1)),\n",
       " ('[2, 10, 3, 1, 0]', (-8.226666666666667, 1)),\n",
       " ('[2, 11, 1, 1, 1]', (-8.227777777777778, 3)),\n",
       " ('[7, 5, 1, 1, 0]', (-8.22777777777778, 1)),\n",
       " ('[0, 4, 9, 1, 0]', (-8.22998888888889, 33)),\n",
       " ('[-2, 4, 10, 1, 1]', (-8.23, 3)),\n",
       " ('[11, 0, 1, 0, 1]', (-8.231111111111112, 19)),\n",
       " ('[5, 6, 4, 1, 0]', (-8.231111111111112, 2)),\n",
       " ('[4, 8, 2, 1, 0]', (-8.232222222222223, 1)),\n",
       " ('[7, 2, 4, 1, 1]', (-8.232222222222223, 1)),\n",
       " ('[0, 5, 6, 0, 1]', (-8.233555555555554, 31)),\n",
       " ('[0, 0, 2, 1, 0]', (-8.234111111111112, 30)),\n",
       " ('[0, 5, 3, 0, 1]', (-8.235144444444447, 30)),\n",
       " ('[11, 2, 0, 0, 1]', (-8.235555555555555, 1)),\n",
       " ('[5, 9, 1, 1, 1]', (-8.236333333333333, 9)),\n",
       " ('[-1, 5, 8, 1, 0]', (-8.237777777777778, 1)),\n",
       " ('[0, 10, 2, 1, 1]', (-8.239008888888891, 60)),\n",
       " ('[3, 9, 3, 1, 0]', (-8.24, 1)),\n",
       " ('[0, 3, 4, 0, 1]', (-8.240144444444445, 30)),\n",
       " ('[0, 5, 3, 1, 0]', (-8.24089577777778, 30)),\n",
       " ('[5, 9, 0, 0, 1]', (-8.242222222222221, 1)),\n",
       " ('[0, 5, 6, 1, 0]', (-8.243542222222223, 31)),\n",
       " ('[-1, 7, 7, 1, 1]', (-8.243937777777777, 34)),\n",
       " ('[8, 4, 2, 1, 1]', (-8.244444444444445, 26)),\n",
       " ('[0, 5, 10, 1, 0]', (-8.244555555555557, 37)),\n",
       " ('[0, 7, 0, 1, 1]', (-8.245555555555557, 30)),\n",
       " ('[10, 0, 2, 1, 1]', (-8.245555555555557, 2)),\n",
       " ('[-1, 8, 2, 1, 1]', (-8.246666666666666, 31)),\n",
       " ('[0, 6, 5, 0, 1]', (-8.246666666666666, 30)),\n",
       " ('[9, 5, 0, 1, 0]', (-8.248266179111116, 103)),\n",
       " ('[8, 0, 0, 1, 0]', (-8.24913796551724, 66)),\n",
       " ('[0, 3, 4, 1, 0]', (-8.249443333333335, 30)),\n",
       " ('[0, 0, 10, 1, 0]', (-8.249444444444443, 30)),\n",
       " ('[1, 9, 5, 0, 1]', (-8.249555555555556, 28)),\n",
       " ('[-1, 4, 2, 1, 1]', (-8.250245555555557, 30)),\n",
       " ('[7, 4, 3, 1, 1]', (-8.251111111111111, 2)),\n",
       " ('[-1, 4, 9, 1, 0]', (-8.251111111111111, 1)),\n",
       " ('[10, 3, 0, 1, 1]', (-8.251777777777779, 43)),\n",
       " ('[0, 3, 10, 0, 1]', (-8.252222222222223, 32)),\n",
       " ('[0, 1, 10, 0, 1]', (-8.252222222222223, 30)),\n",
       " ('[9, 4, 0, 1, 0]', (-8.252563588222223, 103)),\n",
       " ('[0, 2, 5, 1, 0]', (-8.253244444444444, 30)),\n",
       " ('[11, 2, 1, 0, 1]', (-8.253333333333334, 3)),\n",
       " ('[0, 3, 11, 1, 1]', (-8.254211137777776, 61)),\n",
       " ('[-1, 6, 7, 1, 1]', (-8.255555555555556, 33)),\n",
       " ('[0, 5, 2, 1, 0]', (-8.25611888888889, 30)),\n",
       " ('[4, 1, 9, 1, 1]', (-8.256666666666668, 3)),\n",
       " ('[9, 4, 1, 1, 1]', (-8.256666666666668, 3)),\n",
       " ('[0, 5, 0, 1, 1]', (-8.25728888888889, 30)),\n",
       " ('[0, 1, 6, 1, 1]', (-8.257320000000002, 60)),\n",
       " ('[0, 4, 4, 1, 1]', (-8.257722222222222, 60)),\n",
       " ('[0, 10, 1, 1, 0]', (-8.257777777777779, 30)),\n",
       " ('[0, 10, 1, 1, 1]', (-8.25785211111111, 60)),\n",
       " ('[0, 1, 2, 1, 0]', (-8.258822222222221, 30)),\n",
       " ('[-1, 5, 6, 1, 1]', (-8.259555555555556, 31)),\n",
       " ('[0, 5, 4, 1, 1]', (-8.260181222222226, 60)),\n",
       " ('[3, 10, 1, 1, 1]', (-8.262222222222222, 1)),\n",
       " ('[0, 9, 3, 1, 0]', (-8.26235111111111, 32)),\n",
       " ('[-1, 6, 1, 1, 1]', (-8.262402222222224, 30)),\n",
       " ('[0, 4, 8, 1, 1]', (-8.262603044444445, 60)),\n",
       " ('[11, 2, 2, 0, 1]', (-8.263333333333332, 4)),\n",
       " ('[0, 4, 6, 1, 0]', (-8.264194666666667, 31)),\n",
       " ('[0, 0, 3, 1, 1]', (-8.264522222222222, 30)),\n",
       " ('[4, 0, 11, 1, 1]', (-8.265333333333336, 5)),\n",
       " ('[0, 7, 1, 1, 1]', (-8.265555555555556, 60)),\n",
       " ('[5, 7, 1, 1, 0]', (-8.265555555555556, 1)),\n",
       " ('[0, 12, 1, 1, 0]', (-8.266111111111112, 30)),\n",
       " ('[5, 7, 2, 1, 0]', (-8.266666666666666, 1)),\n",
       " ('[0, 8, 2, 0, 1]', (-8.267411111111109, 31)),\n",
       " ('[11, 0, 1, 1, 0]', (-8.267777777777775, 1)),\n",
       " ('[0, 0, 9, 1, 1]', (-8.26859777777778, 30)),\n",
       " ('[5, 7, 3, 0, 1]', (-8.26888888888889, 1)),\n",
       " ('[0, 0, 4, 0, 1]', (-8.2689, 30)),\n",
       " ('[0, 6, 8, 1, 0]', (-8.269933333333334, 36)),\n",
       " ('[-1, 12, 4, 1, 1]', (-8.270177777777779, 33)),\n",
       " ('[7, 5, 2, 0, 1]', (-8.27111111111111, 1)),\n",
       " ('[4, 1, 10, 1, 1]', (-8.272222222222222, 4)),\n",
       " ('[1, 9, 3, 1, 1]', (-8.273333333333333, 1)),\n",
       " ('[11, 1, 2, 0, 0]', (-8.274200000000002, 19)),\n",
       " ('[0, 3, 5, 0, 1]', (-8.276639999999999, 30)),\n",
       " ('[5, 8, 0, 1, 1]', (-8.276666666666667, 5)),\n",
       " ('[1, 2, 11, 1, 1]', (-8.276666666666667, 3)),\n",
       " ('[-1, 8, 4, 0, 1]', (-8.276666666666667, 1)),\n",
       " ('[0, 5, 4, 1, 0]', (-8.277166666666668, 30)),\n",
       " ('[0, 6, 4, 0, 1]', (-8.277277777777776, 30)),\n",
       " ('[7, 6, 0, 0, 0]', (-8.278, 23)),\n",
       " ('[0, 2, 7, 0, 1]', (-8.27842222222222, 30)),\n",
       " ('[-1, 7, 8, 1, 0]', (-8.278888888888888, 2)),\n",
       " ('[0, 0, 0, 0, 1]', (-8.27888888888889, 30)),\n",
       " ('[8, 4, 2, 1, 0]', (-8.27888888888889, 1)),\n",
       " ('[0, 0, 5, 1, 0]', (-8.279233333333334, 30)),\n",
       " ('[0, 0, 0, 1, 0]', (-8.279666666666667, 30)),\n",
       " ('[0, 1, 7, 1, 1]', (-8.280689173333336, 60)),\n",
       " ('[0, 2, 3, 1, 0]', (-8.281222222222222, 30)),\n",
       " ('[7, 0, 6, 1, 1]', (-8.282222222222222, 3)),\n",
       " ('[-1, 6, 7, 0, 1]', (-8.282222222222222, 1)),\n",
       " ('[0, 11, 0, 0, 1]', (-8.282802222222223, 30)),\n",
       " ('[1, 8, 5, 1, 1]', (-8.284444444444444, 1)),\n",
       " ('[-1, 6, 2, 1, 1]', (-8.284999999999998, 30)),\n",
       " ('[0, 2, 1, 0, 1]', (-8.285093333333332, 30)),\n",
       " ('[0, 3, 0, 1, 0]', (-8.285388888888889, 30)),\n",
       " ('[0, 3, 5, 1, 1]', (-8.285488888888889, 60)),\n",
       " ('[0, 6, 0, 0, 1]', (-8.285777777777778, 30)),\n",
       " ('[0, 1, 8, 1, 0]', (-8.286, 30)),\n",
       " ('[0, 1, 8, 0, 1]', (-8.286666666666667, 30)),\n",
       " ('[2, 12, 0, 1, 1]', (-8.286666666666667, 3)),\n",
       " ('[0, 5, 2, 0, 1]', (-8.286666666666669, 30)),\n",
       " ('[0, 4, 8, 1, 0]', (-8.287444444444445, 33)),\n",
       " ('[5, 2, 7, 1, 1]', (-8.287777777777778, 1)),\n",
       " ('[2, 2, 10, 1, 1]', (-8.287777777777778, 1)),\n",
       " ('[-1, 10, 6, 0, 1]', (-8.288888888888888, 3)),\n",
       " ('[0, 1, 0, 0, 1]', (-8.28888888888889, 30)),\n",
       " ('[10, 2, 0, 1, 0]', (-8.28898237777778, 115)),\n",
       " ('[0, 9, 4, 1, 0]', (-8.290000000000001, 33)),\n",
       " ('[0, 14, 1, 1, 0]', (-8.290666666666667, 30)),\n",
       " ('[0, 12, 0, 0, 1]', (-8.291066666666667, 30)),\n",
       " ('[-1, 5, 2, 1, 1]', (-8.29111111111111, 30)),\n",
       " ('[-1, 8, 8, 1, 1]', (-8.291666666666666, 40)),\n",
       " ('[0, 6, 2, 1, 1]', (-8.292333333333332, 60)),\n",
       " ('[0, 5, 1, 0, 1]', (-8.293288888888888, 30)),\n",
       " ('[2, 0, 11, 1, 1]', (-8.294666666666664, 3)),\n",
       " ('[6, 6, 1, 1, 0]', (-8.295555555555557, 2)),\n",
       " ('[8, 1, 5, 1, 1]', (-8.296666666666665, 2)),\n",
       " ('[0, 7, 2, 1, 0]', (-8.297500777777776, 30)),\n",
       " ('[2, 2, 11, 1, 0]', (-8.297777777777776, 1)),\n",
       " ('[2, 0, 10, 1, 1]', (-8.29888888888889, 1)),\n",
       " ('[0, 4, 4, 0, 1]', (-8.299666666666667, 30)),\n",
       " ('[8, 4, 1, 0, 1]', (-8.30111111111111, 1)),\n",
       " ('[4, 9, 1, 1, 1]', (-8.301111111111112, 3)),\n",
       " ('[0, 8, 7, 1, 0]', (-8.303500000000003, 37)),\n",
       " ('[0, 2, 4, 1, 0]', (-8.303555555555555, 30)),\n",
       " ('[0, 2, 7, 1, 0]', (-8.303644444444444, 30)),\n",
       " ('[0, 1, 9, 0, 1]', (-8.304222222222224, 30)),\n",
       " ('[0, 11, 2, 1, 0]', (-8.304874444444444, 32)),\n",
       " ('[9, 4, 0, 1, 1]', (-8.305555555555555, 24)),\n",
       " ('[0, 6, 0, 1, 0]', (-8.305611111111112, 30)),\n",
       " ('[0, 2, 9, 1, 0]', (-8.305844444444446, 30)),\n",
       " ('[0, 4, 8, 0, 1]', (-8.305913333333335, 33)),\n",
       " ('[2, 1, 11, 1, 0]', (-8.306666666666667, 1)),\n",
       " ('[0, 5, 8, 0, 1]', (-8.306696666666667, 34)),\n",
       " ('[0, 9, 1, 1, 1]', (-8.307121777777777, 60)),\n",
       " ('[0, 5, 7, 1, 1]', (-8.307146666666666, 60)),\n",
       " ('[-1, 8, 4, 1, 0]', (-8.307777777777778, 1)),\n",
       " ('[0, 14, 0, 1, 0]', (-8.308215555555556, 30)),\n",
       " ('[-1, 10, 4, 1, 0]', (-8.30888888888889, 1)),\n",
       " ('[0, 1, 12, 1, 0]', (-8.309666666666667, 30)),\n",
       " ('[7, 4, 2, 0, 1]', (-8.309744444444444, 22)),\n",
       " ('[4, 3, 6, 1, 1]', (-8.309999999999999, 1)),\n",
       " ('[2, 9, 3, 0, 1]', (-8.31, 1)),\n",
       " ('[0, 7, 7, 1, 0]', (-8.310032592222223, 34)),\n",
       " ('[0, 2, 3, 0, 1]', (-8.310122222222223, 30)),\n",
       " ('[2, 12, 1, 1, 1]', (-8.311111111111112, 3)),\n",
       " ('[0, 3, 12, 0, 1]', (-8.311532222222223, 35)),\n",
       " ('[0, 8, 1, 1, 0]', (-8.312305366666667, 30)),\n",
       " ('[0, 2, 7, 1, 1]', (-8.312494444444443, 60)),\n",
       " ('[-1, 4, 1, 1, 1]', (-8.312777777777777, 30)),\n",
       " ('[0, 1, 11, 1, 0]', (-8.313304555555554, 30)),\n",
       " ('[5, 4, 6, 1, 1]', (-8.314444444444444, 1)),\n",
       " ('[0, 10, 3, 1, 0]', (-8.314566666666666, 32)),\n",
       " ('[0, 11, 1, 1, 1]', (-8.314666666666668, 60)),\n",
       " ('[-1, 4, 3, 1, 1]', (-8.31476777777778, 30)),\n",
       " ('[0, 1, 5, 1, 1]', (-8.315385555555554, 60)),\n",
       " ('[0, 8, 3, 1, 0]', (-8.315555555555555, 31)),\n",
       " ('[0, 13, 0, 0, 1]', (-8.315555555555555, 30)),\n",
       " ('[0, 3, 6, 0, 1]', (-8.315555555555557, 30)),\n",
       " ('[-1, 5, 4, 1, 1]', (-8.316666666666668, 30)),\n",
       " ('[0, 5, 9, 0, 1]', (-8.317555555555554, 34)),\n",
       " ('[0, 0, 2, 0, 1]', (-8.317777777777776, 30)),\n",
       " ('[1, 1, 13, 1, 1]', (-8.317777777777776, 3)),\n",
       " ('[0, 4, 7, 0, 1]', (-8.318144444444444, 32)),\n",
       " ('[0, 1, 7, 1, 0]', (-8.318258888888888, 30)),\n",
       " ('[0, 1, 10, 1, 1]', (-8.318693333333336, 60)),\n",
       " ('[2, 11, 0, 1, 1]', (-8.318888888888889, 3)),\n",
       " ('[2, 8, 4, 1, 0]', (-8.318888888888889, 1)),\n",
       " ('[0, 7, 0, 1, 0]', (-8.318977777777777, 30)),\n",
       " ('[0, 6, 6, 0, 1]', (-8.32, 31)),\n",
       " ('[-1, 5, 8, 0, 1]', (-8.322222222222223, 1)),\n",
       " ('[-1, 2, 1, 1, 1]', (-8.322740000000001, 30)),\n",
       " ('[0, 13, 2, 1, 0]', (-8.322988888888888, 32)),\n",
       " ('[0, 4, 3, 0, 1]', (-8.323488888888889, 30)),\n",
       " ('[0, 5, 11, 1, 0]', (-8.323566666666666, 38)),\n",
       " ('[-1, 4, 6, 1, 1]', (-8.323666666666666, 31)),\n",
       " ('[0, 11, 4, 1, 1]', (-8.324553488888892, 60)),\n",
       " ('[6, 6, 2, 1, 1]', (-8.32487777777778, 4)),\n",
       " ('[-1, 3, 4, 1, 1]', (-8.3269, 30)),\n",
       " ('[-1, 3, 0, 1, 1]', (-8.329466666666667, 30)),\n",
       " ('[0, 3, 9, 1, 1]', (-8.329692222222222, 60)),\n",
       " ('[0, 5, 9, 1, 0]', (-8.331111111111111, 34)),\n",
       " ('[-1, 13, 3, 0, 1]', (-8.331111111111111, 1)),\n",
       " ('[-1, 8, 1, 1, 1]', (-8.331500000000002, 30)),\n",
       " ('[7, 7, 0, 0, 0]', (-8.331999999999999, 23)),\n",
       " ('[0, 1, 10, 1, 0]', (-8.332222222222223, 30)),\n",
       " ('[4, 7, 4, 1, 1]', (-8.333333333333334, 2)),\n",
       " ('[7, 5, 2, 1, 0]', (-8.333333333333334, 1)),\n",
       " ('[4, 8, 3, 1, 0]', (-8.333333333333334, 1)),\n",
       " ('[6, 1, 7, 1, 1]', (-8.333333333333334, 1)),\n",
       " ('[0, 5, 3, 1, 1]', (-8.334528000000002, 60)),\n",
       " ('[0, 4, 5, 1, 0]', (-8.335855555555556, 30)),\n",
       " ('[0, 8, 4, 0, 1]', (-8.336155555555557, 31)),\n",
       " ('[0, 7, 4, 0, 1]', (-8.337666666666667, 30)),\n",
       " ('[2, 8, 5, 0, 1]', (-8.337777777777779, 1)),\n",
       " ('[0, 9, 5, 0, 1]', (-8.340255555555556, 34)),\n",
       " ('[0, 8, 0, 0, 1]', (-8.340333333333334, 30)),\n",
       " ('[0, 10, 4, 0, 1]', (-8.34057777777778, 33)),\n",
       " ('[0, 8, 0, 1, 0]', (-8.340666666666667, 30)),\n",
       " ('[0, 0, 9, 0, 1]', (-8.341111111111111, 30)),\n",
       " ('[12, 1, 0, 0, 0]', (-8.34118363056664, 578)),\n",
       " ('[-1, 6, 3, 1, 1]', (-8.342222222222222, 30)),\n",
       " ('[0, 9, 6, 1, 1]', (-8.342611111111113, 60)),\n",
       " ('[-1, 9, 1, 1, 1]', (-8.343499999999999, 30)),\n",
       " ('[-1, 6, 9, 1, 1]', (-8.344444444444445, 36)),\n",
       " ('[0, 0, 3, 1, 0]', (-8.344566666666665, 30)),\n",
       " ('[0, 7, 7, 1, 1]', (-8.345222222222223, 60)),\n",
       " ('[0, 10, 3, 0, 1]', (-8.345666666666666, 32)),\n",
       " ('[0, 8, 1, 1, 1]', (-8.34599888888889, 60)),\n",
       " ('[0, 2, 6, 1, 0]', (-8.346111111111112, 30)),\n",
       " ('[0, 10, 4, 1, 0]', (-8.346666666666666, 33)),\n",
       " ('[0, 0, 12, 1, 0]', (-8.346666666666668, 30)),\n",
       " ('[-1, 9, 7, 1, 1]', (-8.347222222222221, 39)),\n",
       " ('[0, 4, 6, 1, 1]', (-8.347313319607846, 61)),\n",
       " ('[0, 7, 5, 0, 1]', (-8.347777777777777, 30)),\n",
       " ('[0, 12, 0, 1, 1]', (-8.348055555555556, 30)),\n",
       " ('[0, 7, 7, 0, 1]', (-8.348722222222221, 34)),\n",
       " ('[-1, 8, 8, 0, 1]', (-8.348888888888888, 4)),\n",
       " ('[-1, 10, 6, 1, 0]', (-8.348888888888888, 3)),\n",
       " ('[1, 2, 10, 1, 1]', (-8.35, 2)),\n",
       " ('[6, 7, 0, 0, 1]', (-8.35, 1)),\n",
       " ('[-1, 3, 1, 1, 1]', (-8.350888888888889, 30)),\n",
       " ('[-1, 7, 6, 1, 0]', (-8.351111111111111, 1)),\n",
       " ('[0, 7, 6, 0, 1]', (-8.351555555555557, 32)),\n",
       " ('[0, 3, 4, 1, 1]', (-8.352252444444444, 60)),\n",
       " ('[0, 6, 1, 1, 0]', (-8.352777777777778, 30)),\n",
       " ('[-1, 5, 10, 1, 1]', (-8.353333333333333, 37)),\n",
       " ('[-1, 7, 1, 1, 1]', (-8.353555555555555, 30)),\n",
       " ('[0, 2, 6, 1, 1]', (-8.35431, 60)),\n",
       " ('[0, 1, 3, 0, 1]', (-8.354444444444443, 30)),\n",
       " ('[-1, 2, 13, 1, 1]', (-8.354444444444445, 34)),\n",
       " ('[5, 7, 3, 1, 1]', (-8.354444444444447, 4)),\n",
       " ('[0, 9, 2, 0, 1]', (-8.35498, 32)),\n",
       " ('[0, 0, 3, 0, 1]', (-8.355222222222224, 30)),\n",
       " ('[3, 0, 11, 1, 1]', (-8.355555555555556, 3)),\n",
       " ('[1, 3, 10, 1, 1]', (-8.356666666666667, 2)),\n",
       " ('[-1, 5, 3, 1, 1]', (-8.356732222222224, 30)),\n",
       " ('[0, 9, 3, 0, 1]', (-8.356944444444444, 32)),\n",
       " ('[2, 10, 2, 1, 1]', (-8.357777777777777, 2)),\n",
       " ('[4, 8, 3, 1, 1]', (-8.357777777777779, 3)),\n",
       " ('[0, 11, 3, 0, 1]', (-8.358111111111112, 32)),\n",
       " ('[0, 2, 9, 1, 1]', (-8.358555555555556, 60)),\n",
       " ('[-1, 10, 6, 1, 1]', (-8.35871, 37)),\n",
       " ('[0, 5, 8, 1, 0]', (-8.358788888888888, 34)),\n",
       " ('[0, 6, 7, 0, 1]', (-8.358907777777778, 33)),\n",
       " ('[0, 13, 0, 1, 1]', (-8.359555555555556, 30)),\n",
       " ('[0, 6, 5, 1, 0]', (-8.359633333333333, 30)),\n",
       " ('[0, 6, 6, 1, 0]', (-8.360000000000001, 31)),\n",
       " ('[-1, 4, 10, 1, 1]', (-8.360404555555556, 35)),\n",
       " ('[-1, 6, 4, 1, 1]', (-8.360977777777778, 30)),\n",
       " ('[4, 0, 10, 1, 1]', (-8.36111111111111, 4)),\n",
       " ('[0, 5, 10, 0, 1]', (-8.361192222222224, 37)),\n",
       " ('[-1, 2, 9, 1, 1]', (-8.361645555555555, 30)),\n",
       " ('[3, 9, 2, 1, 1]', (-8.363333333333333, 3)),\n",
       " ('[4, 8, 2, 0, 1]', (-8.363333333333333, 1)),\n",
       " ('[0, 8, 6, 0, 1]', (-8.364166666666666, 35)),\n",
       " ('[-2, 8, 9, 1, 1]', (-8.364444444444443, 5)),\n",
       " ('[10, 0, 3, 1, 1]', (-8.364444444444443, 4)),\n",
       " ('[0, 0, 1, 1, 0]', (-8.364444444444446, 30)),\n",
       " ('[0, 0, 5, 0, 1]', (-8.3645, 30)),\n",
       " ('[0, 10, 4, 1, 1]', (-8.364555555555556, 60)),\n",
       " ('[0, 1, 4, 1, 1]', (-8.365241111111112, 60)),\n",
       " ('[7, 7, 0, 0, 1]', (-8.365555555555556, 3)),\n",
       " ('[6, 5, 4, 0, 1]', (-8.366666666666667, 1)),\n",
       " ('[0, 11, 1, 1, 0]', (-8.367555555555557, 30)),\n",
       " ('[3, 8, 4, 0, 1]', (-8.367777777777778, 1)),\n",
       " ('[-2, 3, 10, 1, 1]', (-8.36888888888889, 2)),\n",
       " ('[0, 8, 5, 1, 0]', (-8.37, 32)),\n",
       " ('[0, 9, 6, 0, 1]', (-8.3704, 37)),\n",
       " ('[0, 3, 9, 1, 0]', (-8.371333333333334, 31)),\n",
       " ('[-1, 11, 2, 1, 1]', (-8.371655555555556, 32)),\n",
       " ('[0, 7, 1, 1, 0]', (-8.37288888888889, 30)),\n",
       " ('[0, 6, 9, 1, 0]', (-8.3735, 36)),\n",
       " ('[-1, 4, 8, 1, 1]', (-8.374160400000003, 33)),\n",
       " ('[-1, 9, 2, 1, 1]', (-8.374555555555554, 32)),\n",
       " ('[-1, 6, 8, 1, 0]', (-8.375555555555556, 2)),\n",
       " ('[4, 7, 3, 1, 1]', (-8.376666666666667, 1)),\n",
       " ('[7, 6, 1, 1, 1]', (-8.377777777777778, 9)),\n",
       " ('[-1, 6, 0, 1, 1]', (-8.3787, 30)),\n",
       " ('[0, 13, 1, 0, 1]', (-8.379377777777778, 30)),\n",
       " ('[7, 1, 6, 1, 1]', (-8.37938888888889, 3)),\n",
       " ('[0, 0, 15, 0, 1]', (-8.379555555555555, 30)),\n",
       " ('[11, 1, 2, 1, 1]', (-8.381111111111112, 29)),\n",
       " ('[-1, 3, 8, 1, 1]', (-8.381333333333334, 31)),\n",
       " ('[11, 2, 0, 1, 1]', (-8.381666666666668, 63)),\n",
       " ('[0, 2, 10, 1, 0]', (-8.381866666666667, 31)),\n",
       " ('[0, 10, 3, 1, 1]', (-8.381886666666666, 60)),\n",
       " ('[0, 2, 9, 0, 1]', (-8.38202888888889, 30)),\n",
       " ('[0, 13, 1, 1, 0]', (-8.38222, 30)),\n",
       " ('[2, 0, 12, 1, 1]', (-8.383333333333333, 4)),\n",
       " ('[3, 4, 8, 1, 1]', (-8.383333333333333, 1)),\n",
       " ('[5, 7, 3, 1, 0]', (-8.383333333333335, 1)),\n",
       " ('[0, 0, 4, 1, 1]', (-8.383942222222224, 30)),\n",
       " ('[0, 4, 11, 1, 1]', (-8.383968866666667, 91)),\n",
       " ('[0, 0, 11, 1, 0]', (-8.384044444444443, 30)),\n",
       " ('[0, 11, 3, 1, 0]', (-8.384444444444444, 32)),\n",
       " ('[-1, 2, 12, 1, 0]', (-8.384444444444444, 2)),\n",
       " ('[-1, 7, 0, 1, 1]', (-8.385444444444445, 30)),\n",
       " ('[10, 1, 2, 1, 1]', (-8.385555555555554, 3)),\n",
       " ('[3, 11, 1, 1, 1]', (-8.385555555555554, 1)),\n",
       " ('[12, 1, 1, 1, 0]', (-8.385555555555555, 4)),\n",
       " ('[-1, 14, 2, 1, 1]', (-8.385666666666667, 32)),\n",
       " ('[0, 7, 2, 0, 1]', (-8.385988888888887, 30)),\n",
       " ('[11, 0, 1, 1, 1]', (-8.386666666666667, 5)),\n",
       " ('[0, 1, 4, 0, 1]', (-8.38888888888889, 30)),\n",
       " ('[-1, 1, 5, 1, 1]', (-8.388941111111112, 30)),\n",
       " ('[0, 10, 0, 1, 1]', (-8.389322222222221, 30)),\n",
       " ('[0, 9, 0, 1, 0]', (-8.389633333333332, 30)),\n",
       " ('[0, 11, 1, 0, 1]', (-8.390333333333334, 30)),\n",
       " ('[0, 6, 9, 1, 1]', (-8.390537, 90)),\n",
       " ('[-1, 7, 3, 1, 1]', (-8.3917, 30)),\n",
       " ('[8, 5, 0, 0, 1]', (-8.392222222222221, 2)),\n",
       " ('[0, 7, 5, 1, 1]', (-8.392333333333335, 60)),\n",
       " ('[6, 5, 1, 1, 1]', (-8.39260341880342, 3)),\n",
       " ('[10, 0, 5, 0, 1]', (-8.392777777777779, 20)),\n",
       " ('[-1, 2, 6, 1, 1]', (-8.393155555555555, 30)),\n",
       " ('[-1, 4, 12, 1, 1]', (-8.393877777777778, 38)),\n",
       " ('[0, 0, 7, 0, 1]', (-8.395555555555555, 30)),\n",
       " ('[-1, 0, 6, 1, 1]', (-8.39588888888889, 30)),\n",
       " ('[0, 1, 11, 1, 1]', (-8.397526111111112, 60)),\n",
       " ('[7, 0, 8, 1, 1]', (-8.398888888888887, 3)),\n",
       " ('[2, 10, 4, 1, 1]', (-8.4, 3)),\n",
       " ('[3, 2, 10, 1, 1]', (-8.4, 2)),\n",
       " ('[0, 13, 2, 0, 1]', (-8.400194444444443, 32)),\n",
       " ('[-1, 6, 10, 0, 1]', (-8.400966666666667, 36)),\n",
       " ('[10, 2, 2, 1, 1]', (-8.40111111111111, 5)),\n",
       " ('[0, 0, 13, 1, 1]', (-8.40227777777778, 30)),\n",
       " ('[2, 9, 4, 0, 1]', (-8.403333333333332, 2)),\n",
       " ('[0, 11, 2, 1, 1]', (-8.40377311111111, 60)),\n",
       " ('[6, 7, 0, 1, 0]', (-8.404222222222222, 24)),\n",
       " ('[0, 4, 10, 0, 1]', (-8.404409366666668, 35)),\n",
       " ('[7, 6, 2, 0, 1]', (-8.404444444444444, 2)),\n",
       " ('[0, 3, 11, 0, 1]', (-8.404555555555554, 33)),\n",
       " ('[8, 6, 0, 1, 0]', (-8.404847925467777, 111)),\n",
       " ('[5, 0, 8, 1, 1]', (-8.405555555555555, 2)),\n",
       " ('[-2, 6, 6, 1, 1]', (-8.405555555555555, 1)),\n",
       " ('[0, 12, 2, 0, 1]', (-8.405555555555557, 32)),\n",
       " ('[0, 8, 7, 0, 1]', (-8.407666666666666, 37)),\n",
       " ('[4, 10, 0, 1, 1]', (-8.407777777777778, 2)),\n",
       " ('[0, 11, 3, 1, 1]', (-8.408885222222223, 60)),\n",
       " ('[-1, 1, 6, 1, 1]', (-8.408888888888887, 30)),\n",
       " ('[3, 8, 3, 1, 0]', (-8.408888888888889, 1)),\n",
       " ('[10, 4, 0, 1, 0]', (-8.408942244444445, 116)),\n",
       " ('[5, 0, 9, 1, 1]', (-8.41111111111111, 2)),\n",
       " ('[-1, 3, 12, 1, 0]', (-8.411111111111111, 3)),\n",
       " ('[3, 0, 12, 1, 1]', (-8.411222222222221, 4)),\n",
       " ('[0, 9, 5, 1, 1]', (-8.413585555555557, 60)),\n",
       " ('[0, 0, 10, 0, 1]', (-8.415, 30)),\n",
       " ('[-1, 6, 7, 1, 0]', (-8.415555555555555, 1)),\n",
       " ('[0, 0, 5, 1, 1]', (-8.417514444444446, 30)),\n",
       " ('[0, 2, 8, 1, 1]', (-8.417644444444445, 60)),\n",
       " ('[0, 4, 10, 1, 0]', (-8.417666666666666, 35)),\n",
       " ('[0, 2, 12, 1, 0]', (-8.418806588888891, 33)),\n",
       " ('[0, 0, 13, 0, 1]', (-8.419222222222222, 30)),\n",
       " ('[7, 5, 2, 1, 1]', (-8.419999999999998, 6)),\n",
       " ('[4, 2, 8, 1, 1]', (-8.42, 3)),\n",
       " ('[9, 2, 2, 1, 1]', (-8.42, 3)),\n",
       " ('[0, 3, 8, 1, 0]', (-8.422102222222223, 31)),\n",
       " ('[0, 4, 11, 1, 0]', (-8.422222222222222, 36)),\n",
       " ('[0, 12, 1, 0, 1]', (-8.422322222222224, 30)),\n",
       " ('[-1, 6, 6, 1, 0]', (-8.423333333333334, 1)),\n",
       " ('[6, 7, 1, 1, 0]', (-8.424444444444445, 2)),\n",
       " ('[-1, 10, 5, 1, 0]', (-8.425555555555555, 1)),\n",
       " ('[-1, 8, 7, 1, 1]', (-8.426111111111114, 37)),\n",
       " ('[0, 10, 0, 1, 0]', (-8.426666666666668, 30)),\n",
       " ('[-1, 4, 12, 0, 1]', (-8.427111111111111, 34)),\n",
       " ('[12, 1, 0, 0, 1]', (-8.427555555555555, 21)),\n",
       " ('[-1, 2, 13, 0, 1]', (-8.427777777777777, 2)),\n",
       " ('[1, 1, 11, 1, 1]', (-8.427777777777779, 3)),\n",
       " ('[-1, 10, 5, 1, 1]', (-8.428233333333331, 34)),\n",
       " ('[0, 12, 1, 1, 1]', (-8.428988888888888, 60)),\n",
       " ('[0, 2, 13, 1, 0]', (-8.430222222222223, 34)),\n",
       " ('[0, 11, 0, 1, 1]', (-8.430911111111111, 30)),\n",
       " ('[1, 4, 11, 0, 1]', (-8.431111111111111, 1)),\n",
       " ('[-1, 4, 4, 1, 1]', (-8.432422222222224, 30)),\n",
       " ('[0, 10, 5, 1, 0]', (-8.433222222222224, 34)),\n",
       " ('[-1, 11, 5, 0, 1]', (-8.434444444444445, 2)),\n",
       " ('[-1, 8, 5, 1, 0]', (-8.434444444444445, 1)),\n",
       " ('[11, 3, 0, 1, 1]', (-8.435111111111109, 64)),\n",
       " ('[7, 6, 1, 0, 1]', (-8.435555555555554, 2)),\n",
       " ('[-1, 2, 8, 1, 1]', (-8.436, 30)),\n",
       " ('[0, 9, 2, 1, 0]', (-8.43661111111111, 32)),\n",
       " ('[11, 0, 2, 1, 0]', (-8.436666666666666, 2)),\n",
       " ('[0, 10, 5, 1, 1]', (-8.436900000000001, 60)),\n",
       " ('[8, 5, 1, 1, 1]', (-8.437777777777779, 6)),\n",
       " ('[-1, 9, 5, 1, 0]', (-8.437777777777779, 1)),\n",
       " ('[0, 2, 12, 0, 1]', (-8.438096666666668, 33)),\n",
       " ('[-1, 3, 7, 1, 1]', (-8.438198888888891, 30)),\n",
       " ('[0, 9, 1, 1, 0]', (-8.438666666666668, 30)),\n",
       " ('[11, 2, 0, 1, 0]', (-8.43887380588889, 113)),\n",
       " ('[5, 10, 0, 1, 0]', (-8.43888888888889, 1)),\n",
       " ('[0, 7, 8, 0, 1]', (-8.439854444444444, 37)),\n",
       " ('[0, 5, 7, 1, 0]', (-8.440000000000001, 32)),\n",
       " ('[-1, 2, 3, 1, 1]', (-8.440488888888888, 30)),\n",
       " ('[0, 11, 0, 1, 0]', (-8.44081111111111, 30)),\n",
       " ('[0, 6, 4, 1, 0]', (-8.441666666666666, 30)),\n",
       " ('[0, 14, 1, 1, 1]', (-8.441848888888888, 60)),\n",
       " ('[0, 12, 2, 1, 0]', (-8.442033333333335, 32)),\n",
       " ('[10, 4, 1, 1, 1]', (-8.442222222222222, 7)),\n",
       " ('[3, 3, 8, 1, 1]', (-8.442222222222222, 1)),\n",
       " ('[-1, 3, 9, 1, 1]', (-8.442455555555556, 31)),\n",
       " ('[-1, 2, 14, 1, 0]', (-8.443000000000001, 2)),\n",
       " ('[6, 0, 9, 1, 1]', (-8.443333333333332, 2)),\n",
       " ('[0, 0, 11, 0, 1]', (-8.443333333333333, 30)),\n",
       " ('[0, 1, 0, 1, 0]', (-8.443777777777779, 30)),\n",
       " ('[0, 1, 2, 0, 1]', (-8.443777777777779, 30)),\n",
       " ('[9, 1, 4, 1, 1]', (-8.444444444444445, 3)),\n",
       " ('[11, 2, 1, 1, 0]', (-8.446666666666665, 3)),\n",
       " ('[0, 0, 13, 1, 0]', (-8.447333333333333, 30)),\n",
       " ('[7, 7, 0, 1, 0]', (-8.447649046666665, 69)),\n",
       " ('[-1, 6, 6, 0, 1]', (-8.447777777777777, 1)),\n",
       " ('[-1, 3, 5, 1, 1]', (-8.447855555555556, 30)),\n",
       " ('[-1, 6, 9, 0, 1]', (-8.447936666666669, 33)),\n",
       " ('[-1, 9, 3, 1, 1]', (-8.449177777777777, 32)),\n",
       " ('[0, 8, 8, 0, 1]', (-8.449444444444445, 40)),\n",
       " ('[-1, 8, 3, 1, 1]', (-8.45, 31)),\n",
       " ('[7, 2, 5, 1, 1]', (-8.45, 1)),\n",
       " ('[0, 3, 12, 1, 0]', (-8.450777777777779, 35)),\n",
       " ('[0, 4, 9, 1, 1]', (-8.451065333333332, 60)),\n",
       " ('[3, 10, 2, 1, 1]', (-8.45111111111111, 3)),\n",
       " ('[0, 0, 7, 1, 1]', (-8.451803777777778, 30)),\n",
       " ('[1, 2, 12, 1, 1]', (-8.453333333333333, 3)),\n",
       " ('[-1, 8, 5, 1, 1]', (-8.453555555555557, 32)),\n",
       " ('[-1, 4, 10, 0, 1]', (-8.454444444444444, 3)),\n",
       " ('[-1, 11, 5, 1, 0]', (-8.454444444444444, 2)),\n",
       " ('[0, 0, 8, 1, 1]', (-8.454777777777778, 30)),\n",
       " ('[-1, 5, 7, 1, 1]', (-8.455666666666668, 32)),\n",
       " ('[8, 7, 0, 0, 0]', (-8.457444444444445, 44)),\n",
       " ('[2, 10, 3, 1, 1]', (-8.45888888888889, 3)),\n",
       " ('[6, 8, 0, 1, 0]', (-8.459222222222222, 25)),\n",
       " ('[-1, 7, 6, 1, 1]', (-8.459666666666667, 32)),\n",
       " ('[-1, 12, 3, 1, 0]', (-8.46, 1)),\n",
       " ('[-1, 10, 1, 1, 1]', (-8.461312222222222, 30)),\n",
       " ('[-1, 10, 3, 1, 1]', (-8.461333333333332, 32)),\n",
       " ('[0, 1, 13, 1, 0]', (-8.461777777777778, 30)),\n",
       " ('[0, 12, 0, 1, 0]', (-8.462987777777778, 30)),\n",
       " ('[2, 9, 4, 1, 0]', (-8.463333333333335, 2)),\n",
       " ('[7, 6, 2, 1, 1]', (-8.463466666666665, 10)),\n",
       " ('[-1, 10, 2, 1, 1]', (-8.464011111111112, 32)),\n",
       " ('[-1, 9, 6, 1, 1]', (-8.464444444444444, 37)),\n",
       " ('[8, 0, 5, 1, 1]', (-8.464444444444444, 2)),\n",
       " ('[2, 8, 5, 1, 1]', (-8.464444444444444, 2)),\n",
       " ('[-1, 0, 8, 1, 1]', (-8.465555555555556, 30)),\n",
       " ('[0, 15, 0, 1, 1]', (-8.466366666666666, 30)),\n",
       " ('[5, 9, 2, 1, 0]', (-8.466666666666667, 3)),\n",
       " ('[5, 1, 8, 1, 1]', (-8.466666666666669, 2)),\n",
       " ('[-1, 7, 5, 1, 1]', (-8.468455555555554, 30)),\n",
       " ('[-1, 2, 4, 1, 1]', (-8.468888888888888, 30)),\n",
       " ('[0, 7, 4, 1, 0]', (-8.471222222222224, 30)),\n",
       " ('[12, 0, 2, 1, 0]', (-8.472222222222223, 2)),\n",
       " ('[3, 8, 4, 1, 1]', (-8.472222222222223, 2)),\n",
       " ('[-1, 9, 4, 1, 1]', (-8.47311111111111, 33)),\n",
       " ('[6, 4, 5, 1, 1]', (-8.473333333333333, 1)),\n",
       " ('[1, 11, 3, 1, 1]', (-8.473333333333334, 1)),\n",
       " ('[-1, 2, 11, 1, 0]', (-8.474444444444442, 2)),\n",
       " ('[9, 2, 3, 1, 1]', (-8.475555555555555, 4)),\n",
       " ('[7, 4, 3, 0, 1]', (-8.475666666666667, 22)),\n",
       " ('[0, 5, 11, 1, 1]', (-8.476044444444446, 61)),\n",
       " ('[0, 14, 0, 0, 1]', (-8.477333333333334, 30)),\n",
       " ('[0, 12, 3, 0, 1]', (-8.477333333333336, 32)),\n",
       " ('[-1, 2, 2, 1, 1]', (-8.477777777777778, 30)),\n",
       " ('[6, 8, 0, 0, 1]', (-8.477777777777778, 2)),\n",
       " ('[8, 6, 1, 1, 0]', (-8.478888888888887, 3)),\n",
       " ('[-1, 5, 10, 0, 1]', (-8.47888888888889, 4)),\n",
       " ('[0, 14, 0, 1, 1]', (-8.47998011111111, 30)),\n",
       " ('[0, 14, 2, 1, 0]', (-8.481111111111112, 32)),\n",
       " ('[-2, 7, 10, 1, 1]', (-8.482222222222225, 6)),\n",
       " ('[-2, 8, 4, 1, 1]', (-8.483333333333333, 1)),\n",
       " ('[7, 4, 4, 0, 1]', (-8.484444444444444, 22)),\n",
       " ('[-2, 8, 8, 1, 1]', (-8.484444444444444, 4)),\n",
       " ('[2, 1, 12, 1, 0]', (-8.485555555555555, 1)),\n",
       " ('[-1, 1, 7, 1, 1]', (-8.486432222222225, 30)),\n",
       " ('[4, 5, 6, 1, 1]', (-8.486666666666666, 1)),\n",
       " ('[-1, 4, 7, 1, 1]', (-8.487422222222222, 32)),\n",
       " ('[1, 1, 12, 1, 1]', (-8.487777777777778, 3)),\n",
       " ('[0, 0, 6, 1, 1]', (-8.488888888888889, 30)),\n",
       " ('[0, 3, 11, 1, 0]', (-8.49, 33)),\n",
       " ('[-1, 1, 14, 1, 1]', (-8.491735555555556, 30)),\n",
       " ('[10, 3, 1, 1, 1]', (-8.492222222222223, 5)),\n",
       " ('[0, 15, 0, 1, 0]', (-8.492448888888891, 30)),\n",
       " ('[0, 14, 1, 0, 1]', (-8.492455555555555, 30)),\n",
       " ('[10, 0, 4, 1, 1]', (-8.492655555555556, 6)),\n",
       " ('[0, 0, 14, 1, 0]', (-8.493333333333334, 30)),\n",
       " ('[1, 3, 11, 1, 0]', (-8.493333333333334, 1)),\n",
       " ('[0, 1, 12, 0, 1]', (-8.494444444444445, 30)),\n",
       " ('[-2, 12, 4, 1, 1]', (-8.495555555555557, 2)),\n",
       " ('[10, 1, 0, 1, 0]', (-8.496243063826137, 116)),\n",
       " ('[0, 4, 12, 0, 1]', (-8.496777777777776, 38)),\n",
       " ('[0, 7, 8, 1, 1]', (-8.497444444444445, 60)),\n",
       " ('[4, 4, 7, 1, 1]', (-8.497777777777777, 2)),\n",
       " ('[-1, 3, 10, 0, 1]', (-8.499999999999998, 2)),\n",
       " ('[8, 6, 0, 0, 1]', (-8.5, 3)),\n",
       " ('[-1, 9, 7, 1, 0]', (-8.5, 3)),\n",
       " ('[0, 9, 2, 1, 1]', (-8.500101380020388, 61)),\n",
       " ('[0, 1, 12, 1, 1]', (-8.500533333333333, 60)),\n",
       " ('[12, 3, 0, 0, 1]', (-8.501111111111111, 4)),\n",
       " ('[-1, 7, 7, 1, 0]', (-8.501111111111111, 1)),\n",
       " ('[6, 5, 4, 1, 0]', (-8.50222222222222, 1)),\n",
       " ('[8, 5, 2, 1, 1]', (-8.502746666666667, 7)),\n",
       " ('[0, 1, 1, 1, 1]', (-8.504333333333332, 60)),\n",
       " ('[12, 0, 1, 0, 0]', (-8.504666666666669, 18)),\n",
       " ('[7, 5, 0, 1, 1]', (-8.506411602339183, 29)),\n",
       " ('[1, 0, 10, 1, 1]', (-8.506666666666666, 2)),\n",
       " ('[5, 2, 8, 1, 1]', (-8.507777777777779, 2)),\n",
       " ('[-1, 2, 14, 1, 1]', (-8.508333333333333, 34)),\n",
       " ('[10, 4, 0, 0, 1]', (-8.5085599, 42)),\n",
       " ('[-1, 9, 6, 0, 1]', (-8.508888888888889, 3)),\n",
       " ('[-1, 11, 4, 0, 1]', (-8.508888888888889, 2)),\n",
       " ('[-1, 12, 3, 0, 1]', (-8.508888888888889, 1)),\n",
       " ('[0, 1, 14, 1, 1]', (-8.509356666666667, 60)),\n",
       " ('[12, 2, 0, 0, 1]', (-8.51, 3)),\n",
       " ('[-1, 11, 5, 1, 1]', (-8.511944444444444, 34)),\n",
       " ('[-1, 3, 12, 1, 1]', (-8.512117777777778, 35)),\n",
       " ('[7, 2, 6, 1, 1]', (-8.512222222222222, 3)),\n",
       " ('[6, 0, 8, 1, 1]', (-8.512222222222222, 2)),\n",
       " ('[4, 8, 3, 0, 1]', (-8.512222222222222, 1)),\n",
       " ('[-1, 11, 1, 1, 1]', (-8.513333333333332, 30)),\n",
       " ('[9, 0, 5, 1, 1]', (-8.514111111111111, 3)),\n",
       " ('[-1, 8, 5, 0, 1]', (-8.514444444444445, 1)),\n",
       " ('[-1, 1, 1, 1, 1]', (-8.515555555555554, 30)),\n",
       " ('[-2, 6, 7, 1, 1]', (-8.515555555555554, 1)),\n",
       " ('[-1, 11, 3, 0, 1]', (-8.516666666666666, 1)),\n",
       " ('[6, 8, 1, 1, 0]', (-8.516666666666667, 4)),\n",
       " ('[-1, 4, 10, 1, 0]', (-8.517777777777777, 3)),\n",
       " ('[11, 0, 4, 1, 0]', (-8.518333333333333, 4)),\n",
       " ('[-1, 1, 10, 1, 1]', (-8.519666666666666, 30)),\n",
       " ('[-1, 2, 5, 1, 1]', (-8.519755555555555, 30)),\n",
       " ('[-1, 9, 5, 1, 1]', (-8.51977777777778, 34)),\n",
       " ('[0, 5, 9, 1, 1]', (-8.520389999999999, 60)),\n",
       " ('[0, 12, 2, 1, 1]', (-8.520777777777777, 60)),\n",
       " ('[0, 7, 9, 1, 0]', (-8.521111111111109, 37)),\n",
       " ('[2, 11, 3, 1, 0]', (-8.52111111111111, 1)),\n",
       " ('[-1, 11, 0, 1, 1]', (-8.521300000000002, 30)),\n",
       " ('[13, 0, 1, 1, 0]', (-8.52222222222222, 3)),\n",
       " ('[-1, 7, 9, 1, 1]', (-8.522441111111108, 37)),\n",
       " ('[-1, 6, 9, 1, 0]', (-8.523333333333333, 3)),\n",
       " ('[-1, 4, 9, 0, 1]', (-8.523333333333333, 1)),\n",
       " ('[9, 5, 0, 1, 1]', (-8.524155555555554, 25)),\n",
       " ('[-1, 0, 0, 1, 1]', (-8.524444444444445, 30)),\n",
       " ('[0, 3, 10, 1, 1]', (-8.524554444444442, 60)),\n",
       " ('[0, 8, 7, 1, 1]', (-8.525333333333334, 60)),\n",
       " ('[-1, 3, 13, 1, 0]', (-8.526666666666666, 4)),\n",
       " ('[3, 3, 9, 1, 1]', (-8.526666666666667, 2)),\n",
       " ('[8, 2, 4, 1, 1]', (-8.527777777777777, 1)),\n",
       " ('[11, 3, 0, 1, 0]', (-8.529036594444445, 113)),\n",
       " ('[-1, 2, 11, 1, 1]', (-8.529900000000001, 32)),\n",
       " ('[13, 0, 0, 0, 0]', (-8.530000245860837, 529)),\n",
       " ('[7, 6, 2, 1, 0]', (-8.53111111111111, 2)),\n",
       " ('[5, 8, 2, 1, 0]', (-8.532222222222222, 3)),\n",
       " ('[-1, 1, 9, 1, 1]', (-8.532666666666668, 30)),\n",
       " ('[8, 4, 3, 1, 0]', (-8.533333333333333, 1)),\n",
       " ('[-1, 7, 6, 0, 1]', (-8.534444444444444, 1)),\n",
       " ('[-2, 6, 8, 1, 1]', (-8.535555555555554, 2)),\n",
       " ('[-1, 2, 12, 0, 1]', (-8.535555555555556, 2)),\n",
       " ('[7, 8, 0, 1, 1]', (-8.537022222222221, 32)),\n",
       " ('[7, 7, 1, 0, 1]', (-8.537666666666665, 3)),\n",
       " ('[5, 6, 0, 1, 1]', (-8.53787338501292, 3)),\n",
       " ('[0, 0, 10, 1, 1]', (-8.538222222222224, 30)),\n",
       " ('[-1, 9, 6, 1, 0]', (-8.53888888888889, 3)),\n",
       " ('[0, 8, 5, 1, 1]', (-8.538904761904764, 61)),\n",
       " ('[10, 1, 4, 1, 0]', (-8.539222222222222, 20)),\n",
       " ('[-2, 11, 5, 1, 1]', (-8.54, 2)),\n",
       " ('[6, 6, 3, 1, 1]', (-8.540000000000001, 4)),\n",
       " ('[-1, 11, 4, 1, 1]', (-8.540116666666666, 33)),\n",
       " ('[0, 0, 14, 1, 1]', (-8.540222222222221, 30)),\n",
       " ('[0, 10, 2, 0, 1]', (-8.541066666666666, 32)),\n",
       " ('[11, 3, 0, 0, 0]', (-8.5417, 57)),\n",
       " ('[12, 1, 2, 1, 0]', (-8.544444444444444, 5)),\n",
       " ('[6, 2, 7, 1, 1]', (-8.544444444444444, 1)),\n",
       " ('[-2, 9, 4, 1, 1]', (-8.544444444444444, 1)),\n",
       " ('[-1, 2, 14, 0, 1]', (-8.544444444444446, 2)),\n",
       " ('[-1, 1, 4, 1, 1]', (-8.545555555555556, 30)),\n",
       " ('[10, 3, 2, 1, 1]', (-8.545555555555556, 6)),\n",
       " ('[3, 1, 12, 1, 1]', (-8.546666666666665, 4)),\n",
       " ('[8, 0, 6, 1, 1]', (-8.546666666666665, 3)),\n",
       " ('[5, 1, 9, 1, 1]', (-8.547777777777778, 2)),\n",
       " ('[-1, 7, 8, 1, 1]', (-8.548011111111112, 37)),\n",
       " ('[-1, 0, 10, 1, 1]', (-8.548333333333332, 30)),\n",
       " ('[1, 9, 5, 1, 1]', (-8.548666666666668, 2)),\n",
       " ('[-1, 7, 4, 1, 1]', (-8.54888888888889, 30)),\n",
       " ('[0, 6, 10, 1, 1]', (-8.549231666666667, 90)),\n",
       " ('[-1, 4, 12, 1, 0]', (-8.549888888888889, 4)),\n",
       " ('[4, 11, 0, 1, 1]', (-8.55, 2)),\n",
       " ('[-2, 10, 5, 1, 1]', (-8.55, 1)),\n",
       " ('[1, 3, 12, 0, 1]', (-8.55, 1)),\n",
       " ('[0, 1, 13, 1, 1]', (-8.550473333333334, 60)),\n",
       " ('[0, 1, 15, 1, 1]', (-8.55111111111111, 60)),\n",
       " ('[12, 2, 1, 0, 1]', (-8.55111111111111, 5)),\n",
       " ('[13, 0, 0, 0, 1]', (-8.551333333333336, 52)),\n",
       " ('[8, 6, 0, 0, 0]', (-8.553333333333333, 44)),\n",
       " ('[5, 6, 4, 0, 1]', (-8.553333333333333, 2)),\n",
       " ('[3, 1, 11, 1, 1]', (-8.553333333333335, 3)),\n",
       " ('[0, 13, 2, 1, 1]', (-8.554766666666668, 60)),\n",
       " ('[-1, 2, 12, 1, 1]', (-8.554777777777778, 33)),\n",
       " ('[6, 7, 2, 1, 0]', (-8.55511111111111, 2)),\n",
       " ('[0, 3, 9, 0, 1]', (-8.556666666666667, 31)),\n",
       " ('[6, 9, 0, 0, 1]', (-8.556666666666668, 2)),\n",
       " ('[-1, 8, 0, 1, 1]', (-8.55877777777778, 30)),\n",
       " ('[-1, 3, 11, 1, 0]', (-8.55888888888889, 3)),\n",
       " ('[2, 2, 11, 1, 1]', (-8.55888888888889, 3)),\n",
       " ('[8, 4, 3, 0, 1]', (-8.56, 22)),\n",
       " ('[-2, 12, 5, 1, 1]', (-8.562222222222223, 2)),\n",
       " ('[-1, 5, 9, 0, 1]', (-8.563333333333334, 2)),\n",
       " ('[-1, 13, 3, 1, 0]', (-8.564444444444442, 1)),\n",
       " ('[0, 2, 13, 0, 1]', (-8.564666666666666, 34)),\n",
       " ('[-1, 12, 3, 1, 1]', (-8.564922222222222, 32)),\n",
       " ('[-1, 12, 0, 1, 1]', (-8.566379999999999, 30)),\n",
       " ('[-2, 5, 10, 1, 1]', (-8.56777777777778, 4)),\n",
       " ('[5, 9, 1, 1, 0]', (-8.56777777777778, 2)),\n",
       " ('[0, 10, 6, 1, 0]', (-8.567788888888892, 37)),\n",
       " ('[0, 4, 9, 0, 1]', (-8.568666666666665, 33)),\n",
       " ('[-1, 7, 9, 0, 1]', (-8.568888888888889, 3)),\n",
       " ('[-2, 11, 3, 1, 1]', (-8.568888888888889, 1)),\n",
       " ('[0, 0, 1, 1, 1]', (-8.569555555555555, 30)),\n",
       " ...]"
      ]
     },
     "execution_count": 36,
     "metadata": {},
     "output_type": "execute_result"
    }
   ],
   "source": [
    "value_diagnostic"
   ]
  },
  {
   "cell_type": "code",
   "execution_count": 37,
   "metadata": {},
   "outputs": [],
   "source": [
    "with open('output/diagnostic_output.txt', 'w') as f:\n",
    "    for item in value_diagnostic:\n",
    "        f.write(\"{i}\\n\".format(i = str(item)) )"
   ]
  },
  {
   "cell_type": "code",
   "execution_count": 38,
   "metadata": {},
   "outputs": [
    {
     "data": {
      "text/plain": [
       "('[22, 29, 45, 1, 1]', (-86.83222222222221, 1))"
      ]
     },
     "execution_count": 38,
     "metadata": {},
     "output_type": "execute_result"
    }
   ],
   "source": [
    "item"
   ]
  },
  {
   "cell_type": "code",
   "execution_count": 39,
   "metadata": {},
   "outputs": [
    {
     "data": {
      "text/plain": [
       "72780"
      ]
     },
     "execution_count": 39,
     "metadata": {},
     "output_type": "execute_result"
    }
   ],
   "source": [
    "len(value_dic)"
   ]
  },
  {
   "cell_type": "code",
   "execution_count": null,
   "metadata": {},
   "outputs": [],
   "source": []
  }
 ],
 "metadata": {
  "kernelspec": {
   "display_name": "Python 3.8.10 ('.multi-sourcing-env': venv)",
   "language": "python",
   "name": "python3"
  },
  "language_info": {
   "codemirror_mode": {
    "name": "ipython",
    "version": 3
   },
   "file_extension": ".py",
   "mimetype": "text/x-python",
   "name": "python",
   "nbconvert_exporter": "python",
   "pygments_lexer": "ipython3",
   "version": "3.8.10"
  },
  "orig_nbformat": 4,
  "vscode": {
   "interpreter": {
    "hash": "cd381e17d028bd09dab022bcaf56b43c687ccc8a6f1edc8bc118936389c16b3d"
   }
  }
 },
 "nbformat": 4,
 "nbformat_minor": 2
}
