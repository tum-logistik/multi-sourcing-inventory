{
 "cells": [
  {
   "cell_type": "code",
   "execution_count": 1,
   "metadata": {},
   "outputs": [],
   "source": [
    "from opt.mc_sim import *\n",
    "import time\n",
    "from common.variables import *"
   ]
  },
  {
   "cell_type": "code",
   "execution_count": 30,
   "metadata": {},
   "outputs": [],
   "source": [
    "# sourcingEnv = SourcingEnv(\n",
    "#         lambda_arrival = 8, # or 10\n",
    "#         procurement_cost_vec = np.array([3, 1, 2]),\n",
    "#         supplier_lead_times_vec = np.array([0.8, 0.5, 1.0]),\n",
    "#         on_times = np.array([1, 1, 2]), \n",
    "#         off_times = np.array([0.3, 1, 0.2]))\n",
    "\n",
    "# Dual Sourcing\n",
    "sourcingEnv = SourcingEnv(\n",
    "        lambda_arrival = LAMBDA, # or 10\n",
    "        procurement_cost_vec = np.array([3, 1]),\n",
    "        supplier_lead_times_vec = np.array([0.8, 0.5]),\n",
    "        on_times = np.array([1, 1]), \n",
    "        off_times = np.array([0.3, 1]))\n",
    "\n",
    "s_custom = MState(stock_level = 0, \n",
    "    n_suppliers = N_SUPPLIERS, \n",
    "    n_backorders = np.array([0, 0]), \n",
    "    flag_on_off = np.array([1, 1]))\n",
    "\n",
    "mc_avg_costs = mc_with_ss_policy(sourcingEnv, start_state = s_custom, \n",
    "    periods = 50,\n",
    "    nested_mc_iters = 500,\n",
    "    big_s = 10,\n",
    "    small_s = 3)\n",
    "\n",
    "# print(mc_avg_costs)"
   ]
  },
  {
   "cell_type": "code",
   "execution_count": 31,
   "metadata": {},
   "outputs": [
    {
     "name": "stdout",
     "output_type": "stream",
     "text": [
      "Stock: 0, n backorders: [0 0], supplier status (on/off): [1 1]\n"
     ]
    }
   ],
   "source": [
    "print(s_custom)"
   ]
  },
  {
   "cell_type": "code",
   "execution_count": 32,
   "metadata": {},
   "outputs": [
    {
     "data": {
      "image/png": "[encoded data removed]",
      "text/plain": [
       "<Figure size 432x288 with 1 Axes>"
      ]
     },
     "metadata": {
      "needs_background": "light"
     },
     "output_type": "display_data"
    }
   ],
   "source": [
    "import matplotlib.pyplot as plt\n",
    "import numpy as np\n",
    "\n",
    "binwidth = 2\n",
    "n, bins, patches = plt.hist(mc_avg_costs, bins=np.arange( np.min(mc_avg_costs), np.max(mc_avg_costs) + binwidth, binwidth))\n",
    "# n, bins, patches = plt.hist(mc_avg_costs, density = True)\n",
    "\n",
    "\n",
    "plt.xlabel('Avg Cost')\n",
    "plt.ylabel('Probability')\n",
    "plt.title('Histogram of Avg costs')\n",
    "plt.xlim(np.min(mc_avg_costs), np.max(mc_avg_costs))\n",
    "plt.ylim(0, np.max(n))\n",
    "plt.grid(True)\n",
    "plt.show()"
   ]
  },
  {
   "cell_type": "code",
   "execution_count": 33,
   "metadata": {},
   "outputs": [
    {
     "name": "stdout",
     "output_type": "stream",
     "text": [
      "5.795559999999999\n"
     ]
    }
   ],
   "source": [
    "print(np.mean(np.array(mc_avg_costs)))"
   ]
  },
  {
   "cell_type": "code",
   "execution_count": 34,
   "metadata": {},
   "outputs": [
    {
     "data": {
      "text/plain": [
       "1.526115685785321"
      ]
     },
     "execution_count": 34,
     "metadata": {},
     "output_type": "execute_result"
    }
   ],
   "source": [
    "np.std(np.array(mc_avg_costs))"
   ]
  },
  {
   "cell_type": "code",
   "execution_count": 7,
   "metadata": {},
   "outputs": [
    {
     "name": "stdout",
     "output_type": "stream",
     "text": [
      "Stock: 0, n backorders: [0. 0.], supplier status (on/off): [1. 1.]\n"
     ]
    }
   ],
   "source": [
    "print(sourcingEnv.reset())"
   ]
  },
  {
   "cell_type": "code",
   "execution_count": 8,
   "metadata": {},
   "outputs": [
    {
     "data": {
      "text/plain": [
       "\"'Stock: 0, n backorders: [0. 0.], supplier status (on/off): [1. 1.]'\""
      ]
     },
     "execution_count": 8,
     "metadata": {},
     "output_type": "execute_result"
    }
   ],
   "source": [
    "repr(str(sourcingEnv.reset()))"
   ]
  },
  {
   "cell_type": "code",
   "execution_count": 9,
   "metadata": {},
   "outputs": [],
   "source": [
    "import pickle as pkl\n",
    "from opt.eval_policy import *\n",
    "\n",
    "filename = \"saved_models/msource_value_dic_06-16-2022-09-56-03.pkl\"\n",
    "\n",
    "with open(filename, 'rb') as f:\n",
    "    value_dic = pkl.load(f)"
   ]
  },
  {
   "cell_type": "code",
   "execution_count": 10,
   "metadata": {},
   "outputs": [
    {
     "name": "stdout",
     "output_type": "stream",
     "text": [
      "MC eval iter: 0\n",
      "MC eval iter: 1\n",
      "MC eval iter: 2\n",
      "MC eval iter: 3\n",
      "MC eval iter: 4\n",
      "MC eval iter: 5\n",
      "MC eval iter: 6\n",
      "MC eval iter: 7\n",
      "MC eval iter: 8\n",
      "MC eval iter: 9\n",
      "MC eval iter: 10\n",
      "MC eval iter: 11\n",
      "MC eval iter: 12\n",
      "MC eval iter: 13\n",
      "MC eval iter: 14\n",
      "MC eval iter: 15\n",
      "MC eval iter: 16\n",
      "MC eval iter: 17\n",
      "MC eval iter: 18\n",
      "MC eval iter: 19\n",
      "MC eval iter: 20\n",
      "MC eval iter: 21\n",
      "MC eval iter: 22\n",
      "MC eval iter: 23\n",
      "MC eval iter: 24\n",
      "MC eval iter: 25\n",
      "MC eval iter: 26\n",
      "MC eval iter: 27\n",
      "MC eval iter: 28\n",
      "MC eval iter: 29\n",
      "MC eval iter: 30\n",
      "MC eval iter: 31\n",
      "MC eval iter: 32\n",
      "MC eval iter: 33\n",
      "MC eval iter: 34\n",
      "MC eval iter: 35\n",
      "MC eval iter: 36\n",
      "MC eval iter: 37\n",
      "MC eval iter: 38\n",
      "MC eval iter: 39\n",
      "MC eval iter: 40\n",
      "MC eval iter: 41\n",
      "MC eval iter: 42\n",
      "MC eval iter: 43\n",
      "MC eval iter: 44\n",
      "MC eval iter: 45\n",
      "MC eval iter: 46\n",
      "MC eval iter: 47\n",
      "MC eval iter: 48\n",
      "MC eval iter: 49\n"
     ]
    }
   ],
   "source": [
    "eval_steps = 50\n",
    "mc_eval_iter = 50\n",
    "eval_costs = mc_eval_policy_from_value_dic(sourcingEnv, value_dic, \n",
    "    max_steps = eval_steps, mc_iters = mc_eval_iter)\n",
    "\n",
    "avg_eval_cost = np.mean(eval_costs)"
   ]
  },
  {
   "cell_type": "code",
   "execution_count": 12,
   "metadata": {},
   "outputs": [],
   "source": [
    "eval_costs_scaled = np.array(eval_costs)/len(eval_costs)"
   ]
  },
  {
   "cell_type": "code",
   "execution_count": 13,
   "metadata": {},
   "outputs": [
    {
     "data": {
      "image/png": "[encoded data removed]",
      "text/plain": [
       "<Figure size 432x288 with 1 Axes>"
      ]
     },
     "metadata": {
      "needs_background": "light"
     },
     "output_type": "display_data"
    }
   ],
   "source": [
    "import numpy as np\n",
    "\n",
    "binwidth = 0.3\n",
    "\n",
    "n, bins, patches = plt.hist(eval_costs_scaled, bins=np.arange(min(eval_costs_scaled), max(eval_costs_scaled) + binwidth, binwidth), density = True)\n",
    "\n",
    "\n",
    "plt.xlabel('Avg Cost')\n",
    "plt.ylabel('Probability')\n",
    "plt.title('Histogram of Avg costs')\n",
    "plt.xlim(np.min(eval_costs_scaled), np.max(eval_costs_scaled))\n",
    "plt.ylim(0, np.max(n))\n",
    "plt.grid(True)\n",
    "plt.show()"
   ]
  },
  {
   "cell_type": "code",
   "execution_count": 14,
   "metadata": {},
   "outputs": [
    {
     "data": {
      "text/plain": [
       "6.098000000000001"
      ]
     },
     "execution_count": 14,
     "metadata": {},
     "output_type": "execute_result"
    }
   ],
   "source": [
    "np.mean(eval_costs_scaled)"
   ]
  },
  {
   "cell_type": "code",
   "execution_count": 15,
   "metadata": {},
   "outputs": [
    {
     "data": {
      "text/plain": [
       "1.0190210988983497"
      ]
     },
     "execution_count": 15,
     "metadata": {},
     "output_type": "execute_result"
    }
   ],
   "source": [
    "np.std(eval_costs_scaled)"
   ]
  },
  {
   "cell_type": "code",
   "execution_count": 16,
   "metadata": {},
   "outputs": [
    {
     "data": {
      "text/plain": [
       "-7.037139689578714"
      ]
     },
     "execution_count": 16,
     "metadata": {},
     "output_type": "execute_result"
    },
    {
     "data": {
      "image/png": "[encoded data removed]",
      "text/plain": [
       "<Figure size 432x288 with 1 Axes>"
      ]
     },
     "metadata": {
      "needs_background": "light"
     },
     "output_type": "display_data"
    }
   ],
   "source": [
    "import numpy as np\n",
    "\n",
    "binwidth = 0.3\n",
    "\n",
    "state_vals = list(value_dic.values())\n",
    "\n",
    "n, bins, patches = plt.hist(state_vals, density = True)\n",
    "np.max(state_vals)"
   ]
  },
  {
   "cell_type": "code",
   "execution_count": null,
   "metadata": {},
   "outputs": [],
   "source": []
  }
 ],
 "metadata": {
  "kernelspec": {
   "display_name": "Python 3.8.10 ('.multi-sourcing-env': venv)",
   "language": "python",
   "name": "python3"
  },
  "language_info": {
   "codemirror_mode": {
    "name": "ipython",
    "version": 3
   },
   "file_extension": ".py",
   "mimetype": "text/x-python",
   "name": "python",
   "nbconvert_exporter": "python",
   "pygments_lexer": "ipython3",
   "version": "3.8.10"
  },
  "orig_nbformat": 4,
  "vscode": {
   "interpreter": {
    "hash": "cd381e17d028bd09dab022bcaf56b43c687ccc8a6f1edc8bc118936389c16b3d"
   }
  }
 },
 "nbformat": 4,
 "nbformat_minor": 2
}
