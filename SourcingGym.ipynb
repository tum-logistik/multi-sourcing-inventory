{
 "cells": [
  {
   "cell_type": "code",
   "execution_count": 2,
   "id": "7d313941",
   "metadata": {},
   "outputs": [
    {
     "name": "stderr",
     "output_type": "stream",
     "text": [
      "/usr/local/lib/python3.8/site-packages/tqdm/auto.py:22: TqdmWarning: IProgress not found. Please update jupyter and ipywidgets. See https://ipywidgets.readthedocs.io/en/stable/user_install.html\n",
      "  from .autonotebook import tqdm as notebook_tqdm\n"
     ]
    }
   ],
   "source": [
    "from opt.mc_sim import *\n",
    "from common.variables import *\n",
    "from sim.sim_functions import *\n",
    "import torch\n",
    "import gym\n",
    "from gym import spaces\n",
    "from gym import Env\n",
    "from gym.spaces import Discrete, Box, MultiDiscrete, Tuple, MultiBinary"
   ]
  },
  {
   "cell_type": "code",
   "execution_count": 3,
   "id": "3063f17a",
   "metadata": {},
   "outputs": [],
   "source": [
    "s = SourcingEnv()"
   ]
  },
  {
   "cell_type": "code",
   "execution_count": 4,
   "id": "37385bfe",
   "metadata": {},
   "outputs": [],
   "source": [
    "class CustomGymEnv(Env):\n",
    "    #metadata = {'render.modes': ['human']}  \n",
    "    \n",
    "    def __init__(self, sourcing_env):\n",
    "        self.SourcingEnv = sourcing_env\n",
    "        self.counter = 0\n",
    "        \n",
    "        # Actions we can take, down, stay, up\n",
    "        self.action_space = MultiDiscrete([30,30])\n",
    "\n",
    "        # Inventory Observation State\n",
    "        self.observation_space = Box(low=np.array([-30, 0, 0, 0, 0]), high=np.array([30, 30, 30, 1, 1]), shape=(5,), dtype=int)\n",
    "        #Tuple(Box(-30,30,shape=(1,), dtype=int), Discrete(30), Discrete(30), MultiBinary(2))\n",
    "                                       \n",
    "    \n",
    "    def step(self, action):        \n",
    "        reward = self.reward_func(self.SourcingEnv.current_state, action)\n",
    "        next_state, event, i, event_probs, supplier_index = self.SourcingEnv.step(action)\n",
    "        self.counter += 1\n",
    "        \n",
    "        info = {}\n",
    "        \n",
    "        if self.counter < PERIODS:\n",
    "            done = False\n",
    "        else:\n",
    "            done = True\n",
    "        \n",
    "        next_state_array = np.array(next_state.get_list_repr())\n",
    "        return next_state_array, reward, done, info\n",
    "    \n",
    "    def reset(self):\n",
    "        self.SourcingEnv = SourcingEnv()\n",
    "        return np.array(self.SourcingEnv.current_state.get_list_repr())\n",
    "        \n",
    "    def reward_func(self, state, action):\n",
    "        reward_hb = H_COST * state.s if state.s >= 0 else  -B_PENALTY * state.s \n",
    "        reward = reward_hb + np.sum(np.multiply(action, PROCUREMENT_COST_VEC))\n",
    "        reward = float(reward)\n",
    "        return -reward\n",
    "    \n",
    "    #def render(self):\n",
    "        # Implement viz\n",
    "       # pass"
   ]
  },
  {
   "cell_type": "code",
   "execution_count": 5,
   "id": "983d5100",
   "metadata": {},
   "outputs": [
    {
     "data": {
      "text/plain": [
       "Discrete(30)"
      ]
     },
     "execution_count": 5,
     "metadata": {},
     "output_type": "execute_result"
    }
   ],
   "source": [
    "Discrete(INVEN_LIMIT)"
   ]
  },
  {
   "cell_type": "code",
   "execution_count": 6,
   "id": "d20b2d67",
   "metadata": {},
   "outputs": [
    {
     "data": {
      "text/plain": [
       "array([4, 2])"
      ]
     },
     "execution_count": 6,
     "metadata": {},
     "output_type": "execute_result"
    }
   ],
   "source": [
    "MultiDiscrete([5,5]).sample()"
   ]
  },
  {
   "cell_type": "code",
   "execution_count": 7,
   "id": "ae236ed5",
   "metadata": {},
   "outputs": [],
   "source": [
    "s = SourcingEnv()"
   ]
  },
  {
   "cell_type": "code",
   "execution_count": 8,
   "id": "0f3f0e78",
   "metadata": {},
   "outputs": [],
   "source": [
    "custom_gym_env = CustomGymEnv(s)"
   ]
  },
  {
   "cell_type": "code",
   "execution_count": 9,
   "id": "3305f174",
   "metadata": {},
   "outputs": [
    {
     "data": {
      "text/plain": [
       "[0, 0, 0, 1, 1]"
      ]
     },
     "execution_count": 9,
     "metadata": {},
     "output_type": "execute_result"
    }
   ],
   "source": [
    "m_state = custom_gym_env.SourcingEnv.current_state\n",
    "m_state.get_list_repr()"
   ]
  },
  {
   "cell_type": "code",
   "execution_count": 10,
   "id": "e6d9d092",
   "metadata": {},
   "outputs": [
    {
     "data": {
      "text/plain": [
       "'Stock: 0, n backorders: [0. 0.], supplier status (on/off): [1. 1.]'"
      ]
     },
     "execution_count": 10,
     "metadata": {},
     "output_type": "execute_result"
    }
   ],
   "source": [
    "str(m_state)"
   ]
  },
  {
   "cell_type": "code",
   "execution_count": 11,
   "id": "560ccf8b",
   "metadata": {},
   "outputs": [
    {
     "data": {
      "text/plain": [
       "10"
      ]
     },
     "execution_count": 11,
     "metadata": {},
     "output_type": "execute_result"
    }
   ],
   "source": [
    "PERIODS"
   ]
  },
  {
   "cell_type": "code",
   "execution_count": 12,
   "id": "14fe29c8",
   "metadata": {},
   "outputs": [
    {
     "data": {
      "text/plain": [
       "(array([0, 1, 3, 1, 1]), -60.0, False, {})"
      ]
     },
     "execution_count": 12,
     "metadata": {},
     "output_type": "execute_result"
    }
   ],
   "source": [
    "custom_gym_env.step(np.array([1,3]))"
   ]
  },
  {
   "cell_type": "code",
   "execution_count": 13,
   "id": "1457550b",
   "metadata": {},
   "outputs": [],
   "source": [
    "from stable_baselines3.common.env_checker import check_env"
   ]
  },
  {
   "cell_type": "code",
   "execution_count": 14,
   "id": "985a9658",
   "metadata": {},
   "outputs": [],
   "source": [
    "check_env(custom_gym_env) #warn=True)"
   ]
  },
  {
   "cell_type": "code",
   "execution_count": null,
   "id": "45932b18",
   "metadata": {},
   "outputs": [],
   "source": []
  },
  {
   "cell_type": "code",
   "execution_count": 15,
   "id": "a728ad57",
   "metadata": {},
   "outputs": [
    {
     "name": "stdout",
     "output_type": "stream",
     "text": [
      "Episode:1 Cost:-300.0 Observation (array([15, 10, 15,  1,  1]), -300.0, True, {})\n",
      "Episode:2 Cost:-765.0 Observation (array([18, 30, 18,  1,  1]), -765.0, True, {})\n",
      "Episode:3 Cost:-520.0 Observation (array([14, 20, 14,  1,  1]), -520.0, True, {})\n",
      "Episode:4 Cost:-1140.0 Observation (array([23, 23, 42,  1,  1]), -1140.0, True, {})\n",
      "Episode:5 Cost:-385.0 Observation (array([ 8,  8, 10,  1,  1]), -385.0, True, {})\n",
      "Episode:6 Cost:-670.0 Observation (array([14, 14, 16,  1,  1]), -670.0, True, {})\n",
      "Episode:7 Cost:-980.0 Observation (array([19, 19, 50,  1,  1]), -980.0, True, {})\n",
      "Episode:8 Cost:-955.0 Observation (array([19, 19, 40,  1,  1]), -955.0, True, {})\n",
      "Episode:9 Cost:-1315.0 Observation (array([27, 27, 40,  1,  1]), -1315.0, True, {})\n",
      "Episode:10 Cost:-465.0 Observation (array([21, 16, 21,  1,  1]), -465.0, True, {})\n",
      "Episode:11 Cost:-515.0 Observation (array([10, 10, 26,  1,  1]), -515.0, True, {})\n",
      "Episode:12 Cost:-1240.0 Observation (array([25, 25, 46,  1,  1]), -1240.0, True, {})\n",
      "Episode:13 Cost:-440.0 Observation (array([ 8,  8, 32,  1,  1]), -440.0, True, {})\n",
      "Episode:14 Cost:-1255.0 Observation (array([25, 25, 52,  1,  1]), -1255.0, True, {})\n",
      "Episode:15 Cost:-935.0 Observation (array([18, 18, 50,  1,  1]), -935.0, True, {})\n"
     ]
    }
   ],
   "source": [
    "episodes = 15\n",
    "for episode in range(1, episodes+1):\n",
    "    state = custom_gym_env.reset()\n",
    "    done = False\n",
    "    cost = 0\n",
    "    \n",
    "    \n",
    "    while not done:\n",
    "        #env.render()\n",
    "        action = custom_gym_env.action_space.sample()\n",
    "        n_state, reward, done, info = custom_gym_env.step(action)\n",
    "        cost+=reward\n",
    "        observation = custom_gym_env.step(action)\n",
    "    print('Episode:{} Cost:{} Observation {}' .format(episode, cost, observation))\n",
    "    \n",
    "\n",
    "custom_gym_env.close()"
   ]
  },
  {
   "cell_type": "code",
   "execution_count": 16,
   "id": "b1681b60",
   "metadata": {},
   "outputs": [
    {
     "data": {
      "text/plain": [
       "Box([-30   0   0   0   0], [30 30 30  1  1], (5,), int64)"
      ]
     },
     "execution_count": 16,
     "metadata": {},
     "output_type": "execute_result"
    }
   ],
   "source": [
    "custom_gym_env.observation_space"
   ]
  },
  {
   "cell_type": "code",
   "execution_count": null,
   "id": "999623c7",
   "metadata": {},
   "outputs": [],
   "source": []
  },
  {
   "cell_type": "code",
   "execution_count": 17,
   "id": "e912f2c1",
   "metadata": {},
   "outputs": [],
   "source": [
    "import os\n",
    "from stable_baselines3 import PPO\n",
    "from stable_baselines3.common.vec_env import VecFrameStack\n",
    "from stable_baselines3.common.evaluation import evaluate_policy"
   ]
  },
  {
   "cell_type": "code",
   "execution_count": 18,
   "id": "1c5a5c1a",
   "metadata": {},
   "outputs": [],
   "source": [
    "log_path = os.path.join('Training', 'Logs')"
   ]
  },
  {
   "cell_type": "code",
   "execution_count": 19,
   "id": "ff5d8e0a",
   "metadata": {},
   "outputs": [
    {
     "name": "stdout",
     "output_type": "stream",
     "text": [
      "Using cpu device\n",
      "Wrapping the env with a `Monitor` wrapper\n",
      "Wrapping the env in a DummyVecEnv.\n"
     ]
    }
   ],
   "source": [
    "model = PPO(\"MlpPolicy\", custom_gym_env, verbose=1, tensorboard_log=log_path)"
   ]
  },
  {
   "cell_type": "code",
   "execution_count": 20,
   "id": "7efe9308",
   "metadata": {},
   "outputs": [
    {
     "name": "stdout",
     "output_type": "stream",
     "text": [
      "Logging to Training/Logs/PPO_1\n",
      "---------------------------------\n",
      "| rollout/           |          |\n",
      "|    ep_len_mean     | 1        |\n",
      "|    ep_rew_mean     | -673     |\n",
      "| time/              |          |\n",
      "|    fps             | 1174     |\n",
      "|    iterations      | 1        |\n",
      "|    time_elapsed    | 1        |\n",
      "|    total_timesteps | 2048     |\n",
      "---------------------------------\n"
     ]
    },
    {
     "data": {
      "text/plain": [
       "<stable_baselines3.ppo.ppo.PPO at 0x7f07300bc670>"
      ]
     },
     "execution_count": 20,
     "metadata": {},
     "output_type": "execute_result"
    }
   ],
   "source": [
    "model.learn(total_timesteps=100)"
   ]
  },
  {
   "cell_type": "code",
   "execution_count": 21,
   "id": "a9b6e395",
   "metadata": {},
   "outputs": [
    {
     "name": "stdout",
     "output_type": "stream",
     "text": [
      "Logging to Training/Logs/PPO_2\n",
      "---------------------------------\n",
      "| rollout/           |          |\n",
      "|    ep_len_mean     | 1        |\n",
      "|    ep_rew_mean     | -673     |\n",
      "| time/              |          |\n",
      "|    fps             | 1178     |\n",
      "|    iterations      | 1        |\n",
      "|    time_elapsed    | 1        |\n",
      "|    total_timesteps | 2048     |\n",
      "---------------------------------\n"
     ]
    },
    {
     "data": {
      "text/plain": [
       "<stable_baselines3.ppo.ppo.PPO at 0x7f07300bc670>"
      ]
     },
     "execution_count": 21,
     "metadata": {},
     "output_type": "execute_result"
    }
   ],
   "source": [
    "model.learn(total_timesteps=100)"
   ]
  },
  {
   "cell_type": "code",
   "execution_count": 22,
   "id": "73ab2636",
   "metadata": {},
   "outputs": [
    {
     "name": "stdout",
     "output_type": "stream",
     "text": [
      "Logging to Training/Logs/PPO_3\n",
      "---------------------------------\n",
      "| rollout/           |          |\n",
      "|    ep_len_mean     | 1        |\n",
      "|    ep_rew_mean     | -570     |\n",
      "| time/              |          |\n",
      "|    fps             | 1153     |\n",
      "|    iterations      | 1        |\n",
      "|    time_elapsed    | 1        |\n",
      "|    total_timesteps | 2048     |\n",
      "---------------------------------\n"
     ]
    },
    {
     "data": {
      "text/plain": [
       "<stable_baselines3.ppo.ppo.PPO at 0x7f07300bc670>"
      ]
     },
     "execution_count": 22,
     "metadata": {},
     "output_type": "execute_result"
    }
   ],
   "source": [
    "model.learn(total_timesteps=100)"
   ]
  },
  {
   "cell_type": "code",
   "execution_count": 23,
   "id": "4aafa477",
   "metadata": {},
   "outputs": [
    {
     "name": "stdout",
     "output_type": "stream",
     "text": [
      "Logging to Training/Logs/PPO_4\n",
      "---------------------------------\n",
      "| rollout/           |          |\n",
      "|    ep_len_mean     | 1        |\n",
      "|    ep_rew_mean     | -456     |\n",
      "| time/              |          |\n",
      "|    fps             | 1171     |\n",
      "|    iterations      | 1        |\n",
      "|    time_elapsed    | 1        |\n",
      "|    total_timesteps | 2048     |\n",
      "---------------------------------\n"
     ]
    },
    {
     "data": {
      "text/plain": [
       "<stable_baselines3.ppo.ppo.PPO at 0x7f07300bc670>"
      ]
     },
     "execution_count": 23,
     "metadata": {},
     "output_type": "execute_result"
    }
   ],
   "source": [
    "model.learn(total_timesteps=100)"
   ]
  },
  {
   "cell_type": "code",
   "execution_count": 24,
   "id": "855a6fee",
   "metadata": {},
   "outputs": [
    {
     "name": "stdout",
     "output_type": "stream",
     "text": [
      "Logging to Training/Logs/PPO_5\n",
      "---------------------------------\n",
      "| rollout/           |          |\n",
      "|    ep_len_mean     | 1        |\n",
      "|    ep_rew_mean     | -442     |\n",
      "| time/              |          |\n",
      "|    fps             | 1173     |\n",
      "|    iterations      | 1        |\n",
      "|    time_elapsed    | 1        |\n",
      "|    total_timesteps | 2048     |\n",
      "---------------------------------\n"
     ]
    },
    {
     "data": {
      "text/plain": [
       "<stable_baselines3.ppo.ppo.PPO at 0x7f07300bc670>"
      ]
     },
     "execution_count": 24,
     "metadata": {},
     "output_type": "execute_result"
    }
   ],
   "source": [
    "model.learn(total_timesteps=100)"
   ]
  },
  {
   "cell_type": "code",
   "execution_count": 25,
   "id": "b702c00c",
   "metadata": {},
   "outputs": [
    {
     "name": "stdout",
     "output_type": "stream",
     "text": [
      "Logging to Training/Logs/PPO_6\n",
      "---------------------------------\n",
      "| rollout/           |          |\n",
      "|    ep_len_mean     | 1        |\n",
      "|    ep_rew_mean     | -425     |\n",
      "| time/              |          |\n",
      "|    fps             | 1193     |\n",
      "|    iterations      | 1        |\n",
      "|    time_elapsed    | 1        |\n",
      "|    total_timesteps | 2048     |\n",
      "---------------------------------\n"
     ]
    },
    {
     "data": {
      "text/plain": [
       "<stable_baselines3.ppo.ppo.PPO at 0x7f07300bc670>"
      ]
     },
     "execution_count": 25,
     "metadata": {},
     "output_type": "execute_result"
    }
   ],
   "source": [
    "model.learn(total_timesteps=100)"
   ]
  },
  {
   "cell_type": "code",
   "execution_count": 26,
   "id": "59126e4d",
   "metadata": {},
   "outputs": [
    {
     "name": "stdout",
     "output_type": "stream",
     "text": [
      "Logging to Training/Logs/PPO_7\n",
      "---------------------------------\n",
      "| rollout/           |          |\n",
      "|    ep_len_mean     | 1        |\n",
      "|    ep_rew_mean     | -257     |\n",
      "| time/              |          |\n",
      "|    fps             | 1191     |\n",
      "|    iterations      | 1        |\n",
      "|    time_elapsed    | 1        |\n",
      "|    total_timesteps | 2048     |\n",
      "---------------------------------\n"
     ]
    },
    {
     "data": {
      "text/plain": [
       "<stable_baselines3.ppo.ppo.PPO at 0x7f07300bc670>"
      ]
     },
     "execution_count": 26,
     "metadata": {},
     "output_type": "execute_result"
    }
   ],
   "source": [
    "model.learn(total_timesteps=100)"
   ]
  },
  {
   "cell_type": "code",
   "execution_count": 27,
   "id": "36868516",
   "metadata": {},
   "outputs": [
    {
     "name": "stdout",
     "output_type": "stream",
     "text": [
      "Logging to Training/Logs/PPO_8\n",
      "---------------------------------\n",
      "| rollout/           |          |\n",
      "|    ep_len_mean     | 1        |\n",
      "|    ep_rew_mean     | -244     |\n",
      "| time/              |          |\n",
      "|    fps             | 1177     |\n",
      "|    iterations      | 1        |\n",
      "|    time_elapsed    | 1        |\n",
      "|    total_timesteps | 2048     |\n",
      "---------------------------------\n"
     ]
    },
    {
     "data": {
      "text/plain": [
       "<stable_baselines3.ppo.ppo.PPO at 0x7f07300bc670>"
      ]
     },
     "execution_count": 27,
     "metadata": {},
     "output_type": "execute_result"
    }
   ],
   "source": [
    "model.learn(total_timesteps=100)"
   ]
  },
  {
   "cell_type": "code",
   "execution_count": 28,
   "id": "0b3b7db7",
   "metadata": {},
   "outputs": [
    {
     "name": "stdout",
     "output_type": "stream",
     "text": [
      "Logging to Training/Logs/PPO_9\n",
      "---------------------------------\n",
      "| rollout/           |          |\n",
      "|    ep_len_mean     | 1        |\n",
      "|    ep_rew_mean     | -226     |\n",
      "| time/              |          |\n",
      "|    fps             | 1212     |\n",
      "|    iterations      | 1        |\n",
      "|    time_elapsed    | 1        |\n",
      "|    total_timesteps | 2048     |\n",
      "---------------------------------\n"
     ]
    },
    {
     "data": {
      "text/plain": [
       "<stable_baselines3.ppo.ppo.PPO at 0x7f07300bc670>"
      ]
     },
     "execution_count": 28,
     "metadata": {},
     "output_type": "execute_result"
    }
   ],
   "source": [
    "model.learn(total_timesteps=100)"
   ]
  },
  {
   "cell_type": "code",
   "execution_count": 29,
   "id": "c70645c7",
   "metadata": {},
   "outputs": [
    {
     "name": "stdout",
     "output_type": "stream",
     "text": [
      "Logging to Training/Logs/PPO_10\n",
      "---------------------------------\n",
      "| rollout/           |          |\n",
      "|    ep_len_mean     | 1        |\n",
      "|    ep_rew_mean     | -183     |\n",
      "| time/              |          |\n",
      "|    fps             | 1184     |\n",
      "|    iterations      | 1        |\n",
      "|    time_elapsed    | 1        |\n",
      "|    total_timesteps | 2048     |\n",
      "---------------------------------\n"
     ]
    },
    {
     "data": {
      "text/plain": [
       "<stable_baselines3.ppo.ppo.PPO at 0x7f07300bc670>"
      ]
     },
     "execution_count": 29,
     "metadata": {},
     "output_type": "execute_result"
    }
   ],
   "source": [
    "model.learn(total_timesteps=100)"
   ]
  },
  {
   "cell_type": "code",
   "execution_count": 33,
   "id": "51148936",
   "metadata": {},
   "outputs": [
    {
     "data": {
      "text/plain": [
       "(array([ 0, 18, 25,  1,  1]), -935.0, True, {})"
      ]
     },
     "execution_count": 33,
     "metadata": {},
     "output_type": "execute_result"
    }
   ],
   "source": [
    "custom_gym_env.step(action)"
   ]
  },
  {
   "cell_type": "code",
   "execution_count": null,
   "id": "aee43b38",
   "metadata": {},
   "outputs": [],
   "source": []
  },
  {
   "cell_type": "code",
   "execution_count": null,
   "id": "8c643e04",
   "metadata": {},
   "outputs": [],
   "source": []
  },
  {
   "cell_type": "code",
   "execution_count": null,
   "id": "f588e1a2",
   "metadata": {},
   "outputs": [],
   "source": []
  },
  {
   "cell_type": "code",
   "execution_count": null,
   "id": "d0368e73",
   "metadata": {},
   "outputs": [],
   "source": []
  },
  {
   "cell_type": "code",
   "execution_count": null,
   "id": "97ea3407",
   "metadata": {},
   "outputs": [],
   "source": []
  },
  {
   "cell_type": "code",
   "execution_count": null,
   "id": "225bf8c6",
   "metadata": {},
   "outputs": [],
   "source": []
  },
  {
   "cell_type": "code",
   "execution_count": null,
   "id": "c2b4bb17",
   "metadata": {},
   "outputs": [],
   "source": []
  },
  {
   "cell_type": "code",
   "execution_count": 30,
   "id": "3c89134c",
   "metadata": {},
   "outputs": [],
   "source": [
    "model.save('PPO')"
   ]
  },
  {
   "cell_type": "code",
   "execution_count": null,
   "id": "006fd6ea",
   "metadata": {},
   "outputs": [],
   "source": []
  },
  {
   "cell_type": "code",
   "execution_count": 32,
   "id": "70c383d7",
   "metadata": {},
   "outputs": [
    {
     "data": {
      "text/plain": [
       "(0.0, 0.0)"
      ]
     },
     "execution_count": 32,
     "metadata": {},
     "output_type": "execute_result"
    }
   ],
   "source": [
    "evaluate_policy(model, custom_gym_env, n_eval_episodes=10, render=False)"
   ]
  },
  {
   "cell_type": "code",
   "execution_count": null,
   "id": "3e5d8341",
   "metadata": {},
   "outputs": [],
   "source": []
  },
  {
   "cell_type": "code",
   "execution_count": null,
   "id": "5bb22fda",
   "metadata": {},
   "outputs": [],
   "source": [
    "import matplotlib.pyplot as plt"
   ]
  },
  {
   "cell_type": "code",
   "execution_count": null,
   "id": "3ed8e247",
   "metadata": {},
   "outputs": [],
   "source": []
  },
  {
   "cell_type": "code",
   "execution_count": null,
   "id": "796170dc",
   "metadata": {},
   "outputs": [],
   "source": []
  },
  {
   "cell_type": "code",
   "execution_count": null,
   "id": "66eacfaf",
   "metadata": {},
   "outputs": [],
   "source": []
  },
  {
   "cell_type": "code",
   "execution_count": null,
   "id": "1b8884e8",
   "metadata": {},
   "outputs": [],
   "source": []
  },
  {
   "cell_type": "code",
   "execution_count": null,
   "id": "53c0d0b2",
   "metadata": {},
   "outputs": [],
   "source": []
  },
  {
   "cell_type": "code",
   "execution_count": null,
   "id": "3bf80e56",
   "metadata": {},
   "outputs": [],
   "source": []
  }
 ],
 "metadata": {
  "kernelspec": {
   "display_name": "Python 3 (ipykernel)",
   "language": "python",
   "name": "python3"
  },
  "language_info": {
   "codemirror_mode": {
    "name": "ipython",
    "version": 3
   },
   "file_extension": ".py",
   "mimetype": "text/x-python",
   "name": "python",
   "nbconvert_exporter": "python",
   "pygments_lexer": "ipython3",
   "version": "3.8.15"
  }
 },
 "nbformat": 4,
 "nbformat_minor": 5
}
