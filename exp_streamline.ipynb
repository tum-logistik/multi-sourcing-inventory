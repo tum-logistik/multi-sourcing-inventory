{
 "cells": [
  {
   "cell_type": "code",
   "execution_count": 109,
   "metadata": {
    "notebookRunGroups": {
     "groupValue": "12"
    }
   },
   "outputs": [],
   "source": [
    "import pickle as pkl\n",
    "from opt.mc_sim import *\n",
    "import time\n",
    "from common.variables import *\n",
    "from opt.eval_policy import *\n",
    "\n",
    "filename = \"output/msource_value_dic_12-17-2022-11-11-41.pkl\"\n",
    "\n",
    "with open(filename, 'rb') as f:\n",
    "    output_obj = pkl.load(f)\n",
    "\n",
    "value_dic = output_obj[\"state_value_dic\"]\n",
    "model_params = output_obj[\"model_params\"]\n",
    "sourcingEnv = output_obj[\"mdp_env\"]\n",
    "\n",
    "# sourcingEnv2 = SourcingEnv(\n",
    "#     lambda_arrival = model_params['mdp_env_params']['lambda'], # or 10\n",
    "#     procurement_cost_vec = np.array(model_params['mdp_env_params']['procurement_cost_vec']),\n",
    "\n",
    "#     supplier_lead_times_vec = np.array(model_params['mdp_env_params']['supplier_lead_times_vec']),\n",
    "#     on_times = np.array(model_params['mdp_env_params']['on_times']), \n",
    "#     off_times = np.array(model_params['mdp_env_params']['off_times']),\n",
    "#     fixed_costs = np.array(model_params['mdp_env_params']['fixed_costs'])) # np.array([np.Inf, np.Inf])) \n",
    "\n",
    "sourcingEnv2 = sourcingEnv\n",
    "\n",
    "s_custom = MState(stock_level = 0, \n",
    "    n_suppliers = N_SUPPLIERS, \n",
    "    n_backorders = np.array([0, 0]), \n",
    "    flag_on_off = np.array([1, 1]))"
   ]
  },
  {
   "cell_type": "code",
   "execution_count": 115,
   "metadata": {},
   "outputs": [
    {
     "data": {
      "text/plain": [
       "dict_keys(['state_value_dic', 'model_params', 'mdp_env', 'approx_di_cost'])"
      ]
     },
     "execution_count": 115,
     "metadata": {},
     "output_type": "execute_result"
    }
   ],
   "source": [
    "output_obj.keys()"
   ]
  },
  {
   "cell_type": "code",
   "execution_count": 88,
   "metadata": {},
   "outputs": [
    {
     "data": {
      "text/plain": [
       "50"
      ]
     },
     "execution_count": 88,
     "metadata": {},
     "output_type": "execute_result"
    }
   ],
   "source": [
    "sourcingEnv2.lambda_arrival"
   ]
  },
  {
   "cell_type": "code",
   "execution_count": 89,
   "metadata": {},
   "outputs": [
    {
     "data": {
      "text/plain": [
       "('larkin/unif', '15e93c3ab603f45074af3321342fc1af0c715be9')"
      ]
     },
     "execution_count": 89,
     "metadata": {},
     "output_type": "execute_result"
    }
   ],
   "source": [
    "model_params[\"branch_name\"], model_params[\"git_commit\"]"
   ]
  },
  {
   "cell_type": "code",
   "execution_count": 90,
   "metadata": {},
   "outputs": [],
   "source": [
    "# sourcingEnv2.lambda_arrival = 100\n",
    "kwargs = {\"periods\" : 60,\n",
    "    \"nested_mc_iters\" : 5,\n",
    "    \"h_cost\": model_params['policy_params']['h_cost'],\n",
    "    \"b_penalty\" : model_params['policy_params']['b_penalty'],\n",
    "    \"supplier_index\": 1,\n",
    "    \"h_cost\": 2,\n",
    "    \"b_penalty\": 10\n",
    "}"
   ]
  },
  {
   "cell_type": "code",
   "execution_count": 91,
   "metadata": {},
   "outputs": [
    {
     "name": "stderr",
     "output_type": "stream",
     "text": [
      "100%|██████████| 30/30 [00:00<00:00, 42.20it/s]"
     ]
    },
    {
     "name": "stdout",
     "output_type": "stream",
     "text": [
      "9.899999999999999\n",
      "9.9\n",
      "1.7763568394002505e-15\n"
     ]
    },
    {
     "name": "stderr",
     "output_type": "stream",
     "text": [
      "\n"
     ]
    }
   ],
   "source": [
    "dummy_cost = mc_with_policy(sourcingEnv2, start_state = s_custom, \n",
    "        periods = 100,\n",
    "        nested_mc_iters = 30,\n",
    "        big_s = model_params['policy_params']['big_s'],\n",
    "        small_s = model_params['policy_params']['small_s'],\n",
    "        h_cost = model_params['policy_params']['h_cost'],\n",
    "        b_penalty = model_params['policy_params']['b_penalty'],\n",
    "        max_order = 6, # BIG_S,\n",
    "        policy_callback=dummy_explore_policy,\n",
    "        use_tqdm = True\n",
    "    )\n",
    "\n",
    "print(np.mean(dummy_cost))\n",
    "print(np.median(np.array(dummy_cost)))\n",
    "print(np.std(np.array(dummy_cost)))"
   ]
  },
  {
   "cell_type": "code",
   "execution_count": 92,
   "metadata": {},
   "outputs": [
    {
     "name": "stderr",
     "output_type": "stream",
     "text": [
      "100%|██████████| 30/30 [01:18<00:00,  2.61s/it]"
     ]
    },
    {
     "name": "stdout",
     "output_type": "stream",
     "text": [
      "5.131612359458878\n",
      "5.0451292602134705\n",
      "0.42002220719230005\n"
     ]
    },
    {
     "name": "stderr",
     "output_type": "stream",
     "text": [
      "\n"
     ]
    }
   ],
   "source": [
    "mc_avg_costs_di = mc_with_policy(sourcingEnv2, start_state = s_custom, \n",
    "    periods = 100,\n",
    "    nested_mc_iters = 30,\n",
    "    big_s = model_params['policy_params']['big_s'],\n",
    "    small_s = model_params['policy_params']['small_s'],\n",
    "    h_cost = model_params['policy_params']['h_cost'],\n",
    "    b_penalty = model_params['policy_params']['b_penalty'],\n",
    "    max_order = 6, # BIG_S,\n",
    "    policy_callback=dual_index_policy,\n",
    "    use_tqdm = True\n",
    ")\n",
    "\n",
    "\n",
    "print(np.mean(np.array(mc_avg_costs_di)))\n",
    "print(np.median(np.array(mc_avg_costs_di)))\n",
    "print(np.std(np.array(mc_avg_costs_di)))"
   ]
  },
  {
   "cell_type": "code",
   "execution_count": 93,
   "metadata": {},
   "outputs": [
    {
     "data": {
      "image/png": "[encoded data removed]",
      "text/plain": [
       "<Figure size 640x480 with 1 Axes>"
      ]
     },
     "metadata": {},
     "output_type": "display_data"
    }
   ],
   "source": [
    "import matplotlib.pyplot as plt\n",
    "import numpy as np\n",
    "\n",
    "binwidth = 10\n",
    "n, bins, patches = plt.hist(mc_avg_costs_di, bins=np.arange( np.min(mc_avg_costs_di), np.max(mc_avg_costs_di) + binwidth, binwidth))\n",
    "# n, bins, patches = plt.hist(mc_avg_costs, density = True)\n",
    "\n",
    "\n",
    "plt.xlabel('Avg Cost')\n",
    "plt.ylabel('Probability')\n",
    "plt.title('Histogram of Avg costs')\n",
    "plt.xlim(np.min(mc_avg_costs_di), np.max(mc_avg_costs_di))\n",
    "plt.ylim(0, np.max(n))\n",
    "plt.grid(True)\n",
    "plt.show()"
   ]
  },
  {
   "cell_type": "code",
   "execution_count": 94,
   "metadata": {},
   "outputs": [
    {
     "data": {
      "text/plain": [
       "{'lambda': 50,\n",
       " 'max_inven': 30,\n",
       " 'action_size': 4,\n",
       " 'discount_fac': 1.0,\n",
       " 'procurement_cost_vec': [25, 5],\n",
       " 'supplier_lead_times_vec': [0.036, 0.4],\n",
       " 'on_times': [1, 1],\n",
       " 'off_times': 'no_disrup',\n",
       " 'fixed_costs': [0, 0]}"
      ]
     },
     "execution_count": 94,
     "metadata": {},
     "output_type": "execute_result"
    }
   ],
   "source": [
    "# sourcingEnv2.lambda_arrival = 50\n",
    "# sourcingEnv2.supplier_lead_times_vec = np.array([0.008, 0.04])\n",
    "\n",
    "model_params['mdp_env_params']"
   ]
  },
  {
   "cell_type": "code",
   "execution_count": 95,
   "metadata": {},
   "outputs": [],
   "source": [
    "# output_obj['adp_cost'], output_obj['approx_di_cost'], output_obj['ss_cost']"
   ]
  },
  {
   "cell_type": "code",
   "execution_count": 104,
   "metadata": {},
   "outputs": [
    {
     "name": "stderr",
     "output_type": "stream",
     "text": [
      "100%|██████████| 100/100 [00:06<00:00, 15.91it/s]"
     ]
    },
    {
     "name": "stdout",
     "output_type": "stream",
     "text": [
      "14.921106304662244\n",
      "14.860334565994481\n",
      "0.5801147924014632\n"
     ]
    },
    {
     "name": "stderr",
     "output_type": "stream",
     "text": [
      "\n"
     ]
    }
   ],
   "source": [
    "mc_avg_costs_ss = mc_with_policy(sourcingEnv2, start_state = s_custom, \n",
    "    periods = 100,\n",
    "    nested_mc_iters = 100,\n",
    "    policy_callback = ss_policy_fastest_supp_backlog,\n",
    "    big_s = model_params['policy_params']['big_s'],\n",
    "    small_s = model_params['policy_params']['small_s'],\n",
    "    h_cost = model_params['policy_params']['h_cost'],\n",
    "    b_penalty = model_params['policy_params']['b_penalty'],\n",
    "    use_tqdm = True)\n",
    "\n",
    "print(np.mean(np.array(mc_avg_costs_ss)))\n",
    "print(np.median(np.array(mc_avg_costs_ss)))\n",
    "print(np.std(np.array(mc_avg_costs_ss)))"
   ]
  },
  {
   "cell_type": "code",
   "execution_count": 97,
   "metadata": {},
   "outputs": [
    {
     "data": {
      "image/png": "[encoded data removed]",
      "text/plain": [
       "<Figure size 640x480 with 1 Axes>"
      ]
     },
     "metadata": {},
     "output_type": "display_data"
    }
   ],
   "source": [
    "import matplotlib.pyplot as plt\n",
    "import numpy as np\n",
    "\n",
    "binwidth = 10\n",
    "n, bins, patches = plt.hist(mc_avg_costs_ss, bins=np.arange( np.min(mc_avg_costs_ss), np.max(mc_avg_costs_ss) + binwidth, binwidth))\n",
    "# n, bins, patches = plt.hist(mc_avg_costs, density = True)\n",
    "\n",
    "\n",
    "plt.xlabel('Avg Cost')\n",
    "plt.ylabel('Probability')\n",
    "plt.title('Histogram of Avg costs')\n",
    "plt.xlim(np.min(mc_avg_costs_ss), np.max(mc_avg_costs_ss))\n",
    "plt.ylim(0, np.max(n))\n",
    "plt.grid(True)\n",
    "plt.show()"
   ]
  },
  {
   "cell_type": "code",
   "execution_count": 98,
   "metadata": {},
   "outputs": [],
   "source": [
    "# import matplotlib.pyplot as plt\n",
    "\n",
    "# costs, avg_cost_per_period = mc_episode_with_policy(sourcingEnv2, policy = ss_policy_fastest_supp_backlog, periods = 1000,\n",
    "#     nested_mc_iters = 100,\n",
    "#     policy_callback = ss_policy_fastest_supp_backlog,\n",
    "#     big_s = model_params['policy_params']['big_s'],\n",
    "#     small_s = model_params['policy_params']['small_s'],\n",
    "#     h_cost = model_params['policy_params']['h_cost'],\n",
    "#     b_penalty = model_params['policy_params']['b_penalty'],\n",
    "#     use_tqdm = True)\n",
    "\n",
    "# # costs\n",
    "# plt.plot(costs)"
   ]
  },
  {
   "cell_type": "code",
   "execution_count": 99,
   "metadata": {},
   "outputs": [
    {
     "name": "stderr",
     "output_type": "stream",
     "text": [
      "100%|██████████| 100/100 [00:05<00:00, 17.14it/s]\n",
      "100%|██████████| 100/100 [00:05<00:00, 17.50it/s]"
     ]
    },
    {
     "name": "stdout",
     "output_type": "stream",
     "text": [
      "[21.101518813604436, 6.0615913982565415]\n",
      "6.0615913982565415\n"
     ]
    },
    {
     "name": "stderr",
     "output_type": "stream",
     "text": [
      "\n"
     ]
    }
   ],
   "source": [
    "single_supplier_mean_costs = []\n",
    "sing_supp_mean_cost = np.Inf\n",
    "for s in range(sourcingEnv2.n_suppliers):\n",
    "\n",
    "    kwargs = {\"periods\" : 100,\n",
    "        \"nested_mc_iters\" : 100,\n",
    "        \"h_cost\": model_params['policy_params']['h_cost'],\n",
    "        \"b_penalty\" : model_params['policy_params']['b_penalty'],\n",
    "        \"supplier_index\": s\n",
    "    }\n",
    "\n",
    "    single_supplier_costs = mc_with_policy(sourcingEnv2, start_state = s_custom, \n",
    "        use_tqdm = True,\n",
    "        policy_callback = single_source_orderupto_policy,\n",
    "        **kwargs)\n",
    "    \n",
    "    sing_supp_mean_cost_i = np.mean(single_supplier_costs)\n",
    "    single_supplier_mean_costs.append(sing_supp_mean_cost_i)\n",
    "    if sing_supp_mean_cost_i < sing_supp_mean_cost:\n",
    "        single_supplier_costs_select = single_supplier_costs\n",
    "        sing_supp_mean_cost = sing_supp_mean_cost_i\n",
    "\n",
    "print(single_supplier_mean_costs)\n",
    "print(np.min(single_supplier_mean_costs))"
   ]
  },
  {
   "cell_type": "code",
   "execution_count": 100,
   "metadata": {},
   "outputs": [
    {
     "data": {
      "image/png": "[encoded data removed]",
      "text/plain": [
       "<Figure size 640x480 with 1 Axes>"
      ]
     },
     "metadata": {},
     "output_type": "display_data"
    }
   ],
   "source": [
    "import matplotlib.pyplot as plt\n",
    "import numpy as np\n",
    "\n",
    "binwidth = 10\n",
    "n, bins, patches = plt.hist(single_supplier_costs_select, bins=np.arange( np.min(single_supplier_costs_select), np.max(single_supplier_costs_select) + binwidth, binwidth))\n",
    "# n, bins, patches = plt.hist(mc_avg_costs, density = True)\n",
    "\n",
    "\n",
    "plt.xlabel('Avg Cost')\n",
    "plt.ylabel('Probability')\n",
    "plt.title('Histogram of Avg costs')\n",
    "plt.xlim(np.min(single_supplier_costs_select), np.max(single_supplier_costs_select))\n",
    "plt.ylim(0, np.max(n))\n",
    "plt.grid(True)\n",
    "plt.show()"
   ]
  },
  {
   "cell_type": "code",
   "execution_count": 101,
   "metadata": {},
   "outputs": [
    {
     "name": "stderr",
     "output_type": "stream",
     "text": [
      "100%|██████████| 30/30 [00:02<00:00, 12.10it/s]"
     ]
    },
    {
     "name": "stdout",
     "output_type": "stream",
     "text": [
      "7.1485356222877225\n",
      "6.687618558534526\n",
      "2.1224261773439976\n"
     ]
    },
    {
     "name": "stderr",
     "output_type": "stream",
     "text": [
      "\n"
     ]
    }
   ],
   "source": [
    "from sim.dual_index_v1 import *\n",
    "mc_avg_costs_di = mc_with_policy(sourcingEnv2, start_state = s_custom, \n",
    "    periods = 30,\n",
    "    nested_mc_iters = 30,\n",
    "    big_s = model_params['policy_params']['big_s'],\n",
    "    small_s = model_params['policy_params']['small_s'],\n",
    "    h_cost = model_params['policy_params']['h_cost'],\n",
    "    b_penalty = model_params['policy_params']['b_penalty'],\n",
    "    policy_callback=dual_index_policy_v1,\n",
    "    use_tqdm = True)\n",
    "\n",
    "print(np.mean(np.array(mc_avg_costs_di)))\n",
    "print(np.median(np.array(mc_avg_costs_di)))\n",
    "print(np.std(np.array(mc_avg_costs_di)))"
   ]
  },
  {
   "cell_type": "code",
   "execution_count": 102,
   "metadata": {},
   "outputs": [
    {
     "data": {
      "image/png": "[encoded data removed]",
      "text/plain": [
       "<Figure size 640x480 with 1 Axes>"
      ]
     },
     "metadata": {},
     "output_type": "display_data"
    }
   ],
   "source": [
    "import matplotlib.pyplot as plt\n",
    "import numpy as np\n",
    "\n",
    "binwidth = 10\n",
    "n, bins, patches = plt.hist(mc_avg_costs_di, bins=np.arange(np.min(mc_avg_costs_di), np.max(mc_avg_costs_di) + binwidth, binwidth))\n",
    "# n, bins, patches = plt.hist(mc_avg_costs, density = True)\n",
    "\n",
    "\n",
    "plt.xlabel('Avg Cost')\n",
    "plt.ylabel('Probability')\n",
    "plt.title('Histogram of Avg costs')\n",
    "plt.xlim(np.min(mc_avg_costs_di), np.max(mc_avg_costs_di))\n",
    "plt.ylim(0, np.max(n))\n",
    "plt.grid(True)\n",
    "plt.show()"
   ]
  },
  {
   "cell_type": "code",
   "execution_count": 105,
   "metadata": {},
   "outputs": [
    {
     "name": "stderr",
     "output_type": "stream",
     "text": [
      "100%|██████████| 3/3 [05:04<00:00, 101.51s/it]"
     ]
    },
    {
     "name": "stdout",
     "output_type": "stream",
     "text": [
      "4.649733280574293\n",
      "4.707653227710985\n",
      "0.13901770494554394\n"
     ]
    },
    {
     "name": "stderr",
     "output_type": "stream",
     "text": [
      "\n"
     ]
    }
   ],
   "source": [
    "myopic_cost = mc_with_policy(sourcingEnv2, start_state = s_custom, \n",
    "    periods = 100,\n",
    "    nested_mc_iters = 3,\n",
    "    big_s = model_params['policy_params']['big_s'],\n",
    "    small_s = model_params['policy_params']['small_s'],\n",
    "    h_cost = model_params['policy_params']['h_cost'],\n",
    "    b_penalty = model_params['policy_params']['b_penalty'],\n",
    "    max_order = 6, # BIG_S,\n",
    "    policy_callback=myopic2_policy,\n",
    "    use_tqdm = True)\n",
    "\n",
    "print(np.mean(myopic_cost))\n",
    "print(np.median(np.array(myopic_cost)))\n",
    "print(np.std(np.array(myopic_cost)))"
   ]
  },
  {
   "cell_type": "code",
   "execution_count": 106,
   "metadata": {},
   "outputs": [
    {
     "data": {
      "text/plain": [
       "[4.707653227710985, 4.783478080215744, 4.458068533796149]"
      ]
     },
     "execution_count": 106,
     "metadata": {},
     "output_type": "execute_result"
    }
   ],
   "source": [
    "myopic_cost"
   ]
  },
  {
   "cell_type": "code",
   "execution_count": 107,
   "metadata": {},
   "outputs": [
    {
     "data": {
      "image/png": "[encoded data removed]",
      "text/plain": [
       "<Figure size 640x480 with 1 Axes>"
      ]
     },
     "metadata": {},
     "output_type": "display_data"
    }
   ],
   "source": [
    "import matplotlib.pyplot as plt\n",
    "import numpy as np\n",
    "\n",
    "binwidth = 10\n",
    "n, bins, patches = plt.hist(myopic_cost, bins=np.arange( np.min(myopic_cost), np.max(myopic_cost) + binwidth, binwidth))\n",
    "# n, bins, patches = plt.hist(mc_avg_costs, density = True)\n",
    "\n",
    "plt.xlabel('Avg Cost')\n",
    "plt.ylabel('Probability')\n",
    "plt.title('Histogram of Avg costs')\n",
    "plt.xlim(np.min(myopic_cost), np.max(myopic_cost))\n",
    "plt.ylim(0, np.max(n))\n",
    "plt.grid(True)\n",
    "plt.show()"
   ]
  },
  {
   "cell_type": "code",
   "execution_count": 108,
   "metadata": {},
   "outputs": [
    {
     "name": "stderr",
     "output_type": "stream",
     "text": [
      " 33%|███▎      | 1/3 [02:32<05:05, 152.76s/it]\n"
     ]
    },
    {
     "ename": "KeyboardInterrupt",
     "evalue": "",
     "output_type": "error",
     "traceback": [
      "\u001b[0;31m---------------------------------------------------------------------------\u001b[0m",
      "\u001b[0;31mKeyboardInterrupt\u001b[0m                         Traceback (most recent call last)",
      "Cell \u001b[0;32mIn [108], line 18\u001b[0m\n\u001b[1;32m      1\u001b[0m kwargs \u001b[39m=\u001b[39m {\n\u001b[1;32m      2\u001b[0m     \u001b[39m\"\u001b[39m\u001b[39mvalue_dic\u001b[39m\u001b[39m\"\u001b[39m: value_dic, \n\u001b[1;32m      3\u001b[0m     \u001b[39m\"\u001b[39m\u001b[39mperiods\u001b[39m\u001b[39m\"\u001b[39m: \u001b[39m20\u001b[39m, \n\u001b[0;32m   (...)\u001b[0m\n\u001b[1;32m     15\u001b[0m     \u001b[39m\"\u001b[39m\u001b[39mapprox_eval\u001b[39m\u001b[39m\"\u001b[39m: \u001b[39mTrue\u001b[39;00m\n\u001b[1;32m     16\u001b[0m }\n\u001b[0;32m---> 18\u001b[0m mc_avg_costs \u001b[39m=\u001b[39m mc_with_policy(sourcingEnv2, \n\u001b[1;32m     19\u001b[0m     start_state \u001b[39m=\u001b[39;49m s_custom, \n\u001b[1;32m     20\u001b[0m     use_tqdm \u001b[39m=\u001b[39;49m \u001b[39mTrue\u001b[39;49;00m,\n\u001b[1;32m     21\u001b[0m     policy_callback \u001b[39m=\u001b[39;49m eval_policy_from_value_dic,\n\u001b[1;32m     22\u001b[0m     \u001b[39m*\u001b[39;49m\u001b[39m*\u001b[39;49mkwargs)\n\u001b[1;32m     24\u001b[0m \u001b[39mprint\u001b[39m(np\u001b[39m.\u001b[39mmean(mc_avg_costs))\n\u001b[1;32m     25\u001b[0m \u001b[39mprint\u001b[39m(np\u001b[39m.\u001b[39mmedian(mc_avg_costs))\n",
      "File \u001b[0;32m~/code/multi-sourcing-inventory/sim/policies.py:344\u001b[0m, in \u001b[0;36mmc_with_policy\u001b[0;34m(sourcingEnv, start_state, policy_callback, nested_mc_iters, use_tqdm, **kwargs)\u001b[0m\n\u001b[1;32m    341\u001b[0m     sourcingEnv\u001b[39m.\u001b[39mcurrent_state \u001b[39m=\u001b[39m start_state\n\u001b[1;32m    343\u001b[0m start_time \u001b[39m=\u001b[39m time\u001b[39m.\u001b[39mtime()\n\u001b[0;32m--> 344\u001b[0m _, avg_cost \u001b[39m=\u001b[39m mc_episode_with_policy(sourcingEnv, policy \u001b[39m=\u001b[39;49m policy_callback, \u001b[39m*\u001b[39;49m\u001b[39m*\u001b[39;49mkwargs)\n\u001b[1;32m    345\u001b[0m mc_avg_costs\u001b[39m.\u001b[39mappend(avg_cost)\n\u001b[1;32m    346\u001b[0m run_time \u001b[39m=\u001b[39m time\u001b[39m.\u001b[39mtime() \u001b[39m-\u001b[39m start_time\n",
      "File \u001b[0;32m~/code/multi-sourcing-inventory/sim/policies.py:296\u001b[0m, in \u001b[0;36mmc_episode_with_policy\u001b[0;34m(sourcingEnv, policy, **kwargs)\u001b[0m\n\u001b[1;32m    293\u001b[0m tau_sum \u001b[39m=\u001b[39m \u001b[39m0.0\u001b[39m\n\u001b[1;32m    294\u001b[0m \u001b[39mfor\u001b[39;00m i \u001b[39min\u001b[39;00m \u001b[39mrange\u001b[39m(periods):\n\u001b[0;32m--> 296\u001b[0m     policy_action \u001b[39m=\u001b[39m policy(sourcingEnv, \u001b[39m*\u001b[39;49m\u001b[39m*\u001b[39;49mkwargs)\n\u001b[1;32m    298\u001b[0m     cost \u001b[39m=\u001b[39m cost_calc(sourcingEnv\u001b[39m.\u001b[39mcurrent_state, h_cost \u001b[39m=\u001b[39m h_cost, b_penalty \u001b[39m=\u001b[39m b_penalty)\n\u001b[1;32m    300\u001b[0m     \u001b[39mif\u001b[39;00m \u001b[39mhasattr\u001b[39m(sourcingEnv, \u001b[39m'\u001b[39m\u001b[39mfixed_costs\u001b[39m\u001b[39m'\u001b[39m):\n",
      "File \u001b[0;32m~/code/multi-sourcing-inventory/opt/eval_policy.py:97\u001b[0m, in \u001b[0;36meval_policy_from_value_dic\u001b[0;34m(sourcingEnv, default_policy, **kwargs)\u001b[0m\n\u001b[1;32m     95\u001b[0m sourcingEnvCopy \u001b[39m=\u001b[39m copy\u001b[39m.\u001b[39mdeepcopy(sourcingEnv)\n\u001b[1;32m     96\u001b[0m sourcingEnvCopy\u001b[39m.\u001b[39mcurrent_state \u001b[39m=\u001b[39m potential_next_state\n\u001b[0;32m---> 97\u001b[0m eval_costs \u001b[39m=\u001b[39m optimistic_lowest_cost_func(sourcingEnvCopy, potential_next_state, big_s, small_s)\n\u001b[1;32m     98\u001b[0m \u001b[39m# eval_costs = eval_costs_ss\u001b[39;00m\n\u001b[1;32m    100\u001b[0m potential_state_value \u001b[39m=\u001b[39m np\u001b[39m.\u001b[39mmean(eval_costs)\n",
      "File \u001b[0;32m~/code/multi-sourcing-inventory/opt/mc_sim.py:181\u001b[0m, in \u001b[0;36moptimistic_lowest_cost_func\u001b[0;34m(sourcingEnv, potential_state, big_s, small_s)\u001b[0m\n\u001b[1;32m    179\u001b[0m \u001b[39mdef\u001b[39;00m \u001b[39moptimistic_lowest_cost_func\u001b[39m(sourcingEnv, potential_state, big_s, small_s):\n\u001b[1;32m    180\u001b[0m     eval_costs_ss \u001b[39m=\u001b[39m mc_with_policy(sourcingEnv, potential_state, big_s \u001b[39m=\u001b[39m big_s, small_s \u001b[39m=\u001b[39m small_s, policy_callback \u001b[39m=\u001b[39m ss_policy_fastest_supp_backlog)\n\u001b[0;32m--> 181\u001b[0m     eval_costs_s0 \u001b[39m=\u001b[39m mc_with_policy(sourcingEnv, potential_state, big_s \u001b[39m=\u001b[39;49m big_s, small_s \u001b[39m=\u001b[39;49m small_s, policy_callback \u001b[39m=\u001b[39;49m single_source_orderupto_policy, supplier_index \u001b[39m=\u001b[39;49m \u001b[39m0\u001b[39;49m)\n\u001b[1;32m    182\u001b[0m     eval_costs_s1 \u001b[39m=\u001b[39m mc_with_policy(sourcingEnv, potential_state, big_s \u001b[39m=\u001b[39m big_s, small_s \u001b[39m=\u001b[39m small_s, policy_callback \u001b[39m=\u001b[39m single_source_orderupto_policy, supplier_index \u001b[39m=\u001b[39m \u001b[39m1\u001b[39m)\n\u001b[1;32m    183\u001b[0m     value_estimates \u001b[39m=\u001b[39m np\u001b[39m.\u001b[39mmin([np\u001b[39m.\u001b[39mmean(eval_costs_ss), np\u001b[39m.\u001b[39mmean(eval_costs_s0), np\u001b[39m.\u001b[39mmean(eval_costs_s1)])\n",
      "File \u001b[0;32m~/code/multi-sourcing-inventory/sim/policies.py:344\u001b[0m, in \u001b[0;36mmc_with_policy\u001b[0;34m(sourcingEnv, start_state, policy_callback, nested_mc_iters, use_tqdm, **kwargs)\u001b[0m\n\u001b[1;32m    341\u001b[0m     sourcingEnv\u001b[39m.\u001b[39mcurrent_state \u001b[39m=\u001b[39m start_state\n\u001b[1;32m    343\u001b[0m start_time \u001b[39m=\u001b[39m time\u001b[39m.\u001b[39mtime()\n\u001b[0;32m--> 344\u001b[0m _, avg_cost \u001b[39m=\u001b[39m mc_episode_with_policy(sourcingEnv, policy \u001b[39m=\u001b[39;49m policy_callback, \u001b[39m*\u001b[39;49m\u001b[39m*\u001b[39;49mkwargs)\n\u001b[1;32m    345\u001b[0m mc_avg_costs\u001b[39m.\u001b[39mappend(avg_cost)\n\u001b[1;32m    346\u001b[0m run_time \u001b[39m=\u001b[39m time\u001b[39m.\u001b[39mtime() \u001b[39m-\u001b[39m start_time\n",
      "File \u001b[0;32m~/code/multi-sourcing-inventory/sim/policies.py:312\u001b[0m, in \u001b[0;36mmc_episode_with_policy\u001b[0;34m(sourcingEnv, policy, **kwargs)\u001b[0m\n\u001b[1;32m    309\u001b[0m total_cost \u001b[39m=\u001b[39m cost \u001b[39m+\u001b[39m total_procurement_cost\n\u001b[1;32m    310\u001b[0m total_costs\u001b[39m.\u001b[39mappend(total_cost)\n\u001b[0;32m--> 312\u001b[0m next_state, event, event_index, probs, supplier_index \u001b[39m=\u001b[39m sourcingEnv\u001b[39m.\u001b[39;49mstep(policy_action)\n\u001b[1;32m    313\u001b[0m tau_sum \u001b[39m+\u001b[39m\u001b[39m=\u001b[39m sourcingEnv\u001b[39m.\u001b[39mcurrent_state\u001b[39m.\u001b[39mstate_tau\n\u001b[1;32m    314\u001b[0m event_tracker\u001b[39m.\u001b[39mappend([event, event_index, policy_action, next_state\u001b[39m.\u001b[39mget_nested_list_repr(), total_cost ])\n",
      "File \u001b[0;32m~/code/multi-sourcing-inventory/env/SourcingEnv.py:186\u001b[0m, in \u001b[0;36mSourcingEnv.step\u001b[0;34m(self, order_quantity_vec, force_event_tuple)\u001b[0m\n\u001b[1;32m    183\u001b[0m \u001b[39massert\u001b[39;00m order_quantity_vec\u001b[39m.\u001b[39mall() \u001b[39m>\u001b[39m\u001b[39m=\u001b[39m \u001b[39m0\u001b[39m, \u001b[39m\"\u001b[39m\u001b[39mAssertion Failed: Negative order quantity!\u001b[39m\u001b[39m\"\u001b[39m\n\u001b[1;32m    185\u001b[0m \u001b[39mif\u001b[39;00m \u001b[39mnot\u001b[39;00m force_event_tuple: \n\u001b[0;32m--> 186\u001b[0m     event_probs \u001b[39m=\u001b[39m \u001b[39mself\u001b[39;49m\u001b[39m.\u001b[39;49mget_event_probs(order_quantity_vec)\n\u001b[1;32m    187\u001b[0m     event_indexes \u001b[39m=\u001b[39m np\u001b[39m.\u001b[39marray(\u001b[39mrange\u001b[39m(\u001b[39mlen\u001b[39m(event_probs)))            \n\u001b[1;32m    188\u001b[0m     i \u001b[39m=\u001b[39m np\u001b[39m.\u001b[39mrandom\u001b[39m.\u001b[39mchoice(event_indexes, \u001b[39m1\u001b[39m, p \u001b[39m=\u001b[39m event_probs)[\u001b[39m0\u001b[39m]\n",
      "File \u001b[0;32m~/code/multi-sourcing-inventory/env/SourcingEnv.py:143\u001b[0m, in \u001b[0;36mSourcingEnv.get_event_probs\u001b[0;34m(self, order_quantity_vec)\u001b[0m\n\u001b[1;32m    140\u001b[0m \u001b[39mdef\u001b[39;00m \u001b[39mget_event_probs\u001b[39m(\u001b[39mself\u001b[39m, order_quantity_vec):\n\u001b[1;32m    142\u001b[0m     demand_arrival_prob \u001b[39m=\u001b[39m \u001b[39mself\u001b[39m\u001b[39m.\u001b[39mcompute_trans_prob(order_quantity_vec, Event\u001b[39m.\u001b[39mDEMAND_ARRIVAL)\n\u001b[0;32m--> 143\u001b[0m     supply_arrival_probs \u001b[39m=\u001b[39m [\u001b[39mself\u001b[39m\u001b[39m.\u001b[39mcompute_trans_prob(order_quantity_vec, Event\u001b[39m.\u001b[39mSUPPLY_ARRIVAL, k \u001b[39m=\u001b[39m i) \u001b[39mfor\u001b[39;00m i \u001b[39min\u001b[39;00m \u001b[39mrange\u001b[39m(\u001b[39mself\u001b[39m\u001b[39m.\u001b[39mn_suppliers)]\n\u001b[1;32m    144\u001b[0m     supply_on_probs \u001b[39m=\u001b[39m [\u001b[39mself\u001b[39m\u001b[39m.\u001b[39mcompute_trans_prob(order_quantity_vec, Event\u001b[39m.\u001b[39mSUPPLIER_ON, k \u001b[39m=\u001b[39m i) \u001b[39mfor\u001b[39;00m i \u001b[39min\u001b[39;00m \u001b[39mrange\u001b[39m(\u001b[39mself\u001b[39m\u001b[39m.\u001b[39mn_suppliers)]\n\u001b[1;32m    145\u001b[0m     supply_off_probs \u001b[39m=\u001b[39m [\u001b[39mself\u001b[39m\u001b[39m.\u001b[39mcompute_trans_prob(order_quantity_vec, Event\u001b[39m.\u001b[39mSUPPLIER_OFF, k \u001b[39m=\u001b[39m i) \u001b[39mfor\u001b[39;00m i \u001b[39min\u001b[39;00m \u001b[39mrange\u001b[39m(\u001b[39mself\u001b[39m\u001b[39m.\u001b[39mn_suppliers)]\n",
      "File \u001b[0;32m~/code/multi-sourcing-inventory/env/SourcingEnv.py:143\u001b[0m, in \u001b[0;36m<listcomp>\u001b[0;34m(.0)\u001b[0m\n\u001b[1;32m    140\u001b[0m \u001b[39mdef\u001b[39;00m \u001b[39mget_event_probs\u001b[39m(\u001b[39mself\u001b[39m, order_quantity_vec):\n\u001b[1;32m    142\u001b[0m     demand_arrival_prob \u001b[39m=\u001b[39m \u001b[39mself\u001b[39m\u001b[39m.\u001b[39mcompute_trans_prob(order_quantity_vec, Event\u001b[39m.\u001b[39mDEMAND_ARRIVAL)\n\u001b[0;32m--> 143\u001b[0m     supply_arrival_probs \u001b[39m=\u001b[39m [\u001b[39mself\u001b[39;49m\u001b[39m.\u001b[39;49mcompute_trans_prob(order_quantity_vec, Event\u001b[39m.\u001b[39;49mSUPPLY_ARRIVAL, k \u001b[39m=\u001b[39;49m i) \u001b[39mfor\u001b[39;00m i \u001b[39min\u001b[39;00m \u001b[39mrange\u001b[39m(\u001b[39mself\u001b[39m\u001b[39m.\u001b[39mn_suppliers)]\n\u001b[1;32m    144\u001b[0m     supply_on_probs \u001b[39m=\u001b[39m [\u001b[39mself\u001b[39m\u001b[39m.\u001b[39mcompute_trans_prob(order_quantity_vec, Event\u001b[39m.\u001b[39mSUPPLIER_ON, k \u001b[39m=\u001b[39m i) \u001b[39mfor\u001b[39;00m i \u001b[39min\u001b[39;00m \u001b[39mrange\u001b[39m(\u001b[39mself\u001b[39m\u001b[39m.\u001b[39mn_suppliers)]\n\u001b[1;32m    145\u001b[0m     supply_off_probs \u001b[39m=\u001b[39m [\u001b[39mself\u001b[39m\u001b[39m.\u001b[39mcompute_trans_prob(order_quantity_vec, Event\u001b[39m.\u001b[39mSUPPLIER_OFF, k \u001b[39m=\u001b[39m i) \u001b[39mfor\u001b[39;00m i \u001b[39min\u001b[39;00m \u001b[39mrange\u001b[39m(\u001b[39mself\u001b[39m\u001b[39m.\u001b[39mn_suppliers)]\n",
      "File \u001b[0;32m~/code/multi-sourcing-inventory/env/SourcingEnv.py:119\u001b[0m, in \u001b[0;36mSourcingEnv.compute_trans_prob\u001b[0;34m(self, order_quantity_vec, event_type, k, state_obj, tau_event)\u001b[0m\n\u001b[1;32m    117\u001b[0m     state_obj \u001b[39m=\u001b[39m \u001b[39mself\u001b[39m\u001b[39m.\u001b[39mcurrent_state\n\u001b[1;32m    118\u001b[0m \u001b[39mif\u001b[39;00m tau_event \u001b[39m==\u001b[39m \u001b[39mNone\u001b[39;00m:\n\u001b[0;32m--> 119\u001b[0m     tau_event \u001b[39m=\u001b[39m \u001b[39mself\u001b[39;49m\u001b[39m.\u001b[39;49mcompute_event_arrival_time(order_quantity_vec)\n\u001b[1;32m    121\u001b[0m \u001b[39mif\u001b[39;00m event_type \u001b[39m==\u001b[39m Event\u001b[39m.\u001b[39mDEMAND_ARRIVAL:\n\u001b[1;32m    122\u001b[0m     \u001b[39mreturn\u001b[39;00m \u001b[39mself\u001b[39m\u001b[39m.\u001b[39mlambda_arrival \u001b[39m*\u001b[39m tau_event\n",
      "File \u001b[0;32m~/code/multi-sourcing-inventory/env/SourcingEnv.py:99\u001b[0m, in \u001b[0;36mSourcingEnv.compute_event_arrival_time\u001b[0;34m(self, order_quantity_vec, state_obj, lambda_arrival, mu_lt_rate, mu_on_times, mu_off_times)\u001b[0m\n\u001b[1;32m     96\u001b[0m onoff_status \u001b[39m=\u001b[39m state_obj\u001b[39m.\u001b[39mflag_on_off\n\u001b[1;32m     98\u001b[0m lead_time_comps \u001b[39m=\u001b[39m np\u001b[39m.\u001b[39mmultiply(order_quantity_vec \u001b[39m+\u001b[39m outstd_orders, mu_lt_rate)\n\u001b[0;32m---> 99\u001b[0m lead_time_comp \u001b[39m=\u001b[39m np\u001b[39m.\u001b[39;49msum(lead_time_comps)\n\u001b[1;32m    101\u001b[0m mu_off_comp \u001b[39m=\u001b[39m np\u001b[39m.\u001b[39msum(np\u001b[39m.\u001b[39mmultiply(onoff_status, mu_off_times))\n\u001b[1;32m    102\u001b[0m mu_on_comp \u001b[39m=\u001b[39m np\u001b[39m.\u001b[39msum(np\u001b[39m.\u001b[39mmultiply(\u001b[39m1\u001b[39m \u001b[39m-\u001b[39m onoff_status, mu_on_times))\n",
      "File \u001b[0;32m<__array_function__ internals>:180\u001b[0m, in \u001b[0;36msum\u001b[0;34m(*args, **kwargs)\u001b[0m\n",
      "File \u001b[0;32m~/code/multi-sourcing-inventory/.multi-sourcing-env/lib/python3.8/site-packages/numpy/core/fromnumeric.py:2296\u001b[0m, in \u001b[0;36msum\u001b[0;34m(a, axis, dtype, out, keepdims, initial, where)\u001b[0m\n\u001b[1;32m   2293\u001b[0m         \u001b[39mreturn\u001b[39;00m out\n\u001b[1;32m   2294\u001b[0m     \u001b[39mreturn\u001b[39;00m res\n\u001b[0;32m-> 2296\u001b[0m \u001b[39mreturn\u001b[39;00m _wrapreduction(a, np\u001b[39m.\u001b[39;49madd, \u001b[39m'\u001b[39;49m\u001b[39msum\u001b[39;49m\u001b[39m'\u001b[39;49m, axis, dtype, out, keepdims\u001b[39m=\u001b[39;49mkeepdims,\n\u001b[1;32m   2297\u001b[0m                       initial\u001b[39m=\u001b[39;49minitial, where\u001b[39m=\u001b[39;49mwhere)\n",
      "File \u001b[0;32m~/code/multi-sourcing-inventory/.multi-sourcing-env/lib/python3.8/site-packages/numpy/core/fromnumeric.py:86\u001b[0m, in \u001b[0;36m_wrapreduction\u001b[0;34m(obj, ufunc, method, axis, dtype, out, **kwargs)\u001b[0m\n\u001b[1;32m     83\u001b[0m         \u001b[39melse\u001b[39;00m:\n\u001b[1;32m     84\u001b[0m             \u001b[39mreturn\u001b[39;00m reduction(axis\u001b[39m=\u001b[39maxis, out\u001b[39m=\u001b[39mout, \u001b[39m*\u001b[39m\u001b[39m*\u001b[39mpasskwargs)\n\u001b[0;32m---> 86\u001b[0m \u001b[39mreturn\u001b[39;00m ufunc\u001b[39m.\u001b[39;49mreduce(obj, axis, dtype, out, \u001b[39m*\u001b[39;49m\u001b[39m*\u001b[39;49mpasskwargs)\n",
      "\u001b[0;31mKeyboardInterrupt\u001b[0m: "
     ]
    }
   ],
   "source": [
    "kwargs = {\n",
    "    \"value_dic\": value_dic, \n",
    "    \"periods\": 20, \n",
    "    \"periods_val_it\": 30,\n",
    "    \"nested_mc_iters\": 3,\n",
    "    \"max_stock\": 3, # BIG_S,\n",
    "    \"discount_fac\": DISCOUNT_FAC,\n",
    "    \"h_cost\": model_params['policy_params']['h_cost'],\n",
    "    \"b_penalty\": model_params['policy_params']['b_penalty'],\n",
    "    \"n_visit_lim\": N_VISIT_LIM,\n",
    "    \"default_ss_policy\": ss_policy_fastest_supp_backlog,\n",
    "    \"safe_factor\": 1.1, #SAFE_FACTOR,\n",
    "    \"sub_eval_periods\": SUB_EVAL_PERIODS,\n",
    "    \"sub_nested_mc_iter\": SUB_NESTED_MC_ITER,\n",
    "    \"approx_eval\": True\n",
    "}\n",
    "\n",
    "mc_avg_costs = mc_with_policy(sourcingEnv2, \n",
    "    start_state = s_custom, \n",
    "    use_tqdm = True,\n",
    "    policy_callback = eval_policy_from_value_dic,\n",
    "    **kwargs)\n",
    "\n",
    "print(np.mean(mc_avg_costs))\n",
    "print(np.median(mc_avg_costs))\n",
    "print(np.std(mc_avg_costs))"
   ]
  },
  {
   "cell_type": "code",
   "execution_count": null,
   "metadata": {},
   "outputs": [
    {
     "data": {
      "text/plain": [
       "[7.413420607935275, 6.61504710091386, 8.824472548156855]"
      ]
     },
     "execution_count": 84,
     "metadata": {},
     "output_type": "execute_result"
    }
   ],
   "source": [
    "mc_avg_costs"
   ]
  },
  {
   "cell_type": "code",
   "execution_count": null,
   "metadata": {},
   "outputs": [
    {
     "data": {
      "image/png": "[encoded data removed]",
      "text/plain": [
       "<Figure size 640x480 with 1 Axes>"
      ]
     },
     "metadata": {},
     "output_type": "display_data"
    }
   ],
   "source": [
    "import matplotlib.pyplot as plt\n",
    "import numpy as np\n",
    "\n",
    "binwidth = 3\n",
    "n, bins, patches = plt.hist(mc_avg_costs, bins=np.arange( np.min(mc_avg_costs) - binwidth, np.max(mc_avg_costs) + binwidth, binwidth))\n",
    "# n, bins, patches = plt.hist(mc_avg_costs, density = True)\n",
    "\n",
    "plt.xlabel('Avg Cost')\n",
    "plt.ylabel('Probability')\n",
    "plt.title('Histogram of Avg costs')\n",
    "plt.xlim(np.min(mc_avg_costs), np.max(mc_avg_costs))\n",
    "plt.ylim(0, np.max(n))\n",
    "plt.grid(True)\n",
    "plt.show()"
   ]
  },
  {
   "cell_type": "code",
   "execution_count": null,
   "metadata": {},
   "outputs": [],
   "source": []
  }
 ],
 "metadata": {
  "kernelspec": {
   "display_name": ".multi-sourcing-env",
   "language": "python",
   "name": "python3"
  },
  "language_info": {
   "codemirror_mode": {
    "name": "ipython",
    "version": 3
   },
   "file_extension": ".py",
   "mimetype": "text/x-python",
   "name": "python",
   "nbconvert_exporter": "python",
   "pygments_lexer": "ipython3",
   "version": "3.8.10"
  },
  "orig_nbformat": 4,
  "vscode": {
   "interpreter": {
    "hash": "cd381e17d028bd09dab022bcaf56b43c687ccc8a6f1edc8bc118936389c16b3d"
   }
  }
 },
 "nbformat": 4,
 "nbformat_minor": 2
}
