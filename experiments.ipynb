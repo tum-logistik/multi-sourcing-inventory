{
 "cells": [
  {
   "cell_type": "code",
   "execution_count": 1,
   "metadata": {},
   "outputs": [],
   "source": [
    "from opt.mc_sim import *\n",
    "import time\n",
    "from common.variables import *"
   ]
  },
  {
   "cell_type": "code",
   "execution_count": 2,
   "metadata": {},
   "outputs": [],
   "source": [
    "import pickle as pkl\n",
    "from opt.eval_policy import *\n",
    "\n",
    "# filename = \"output/msource_value_dic_06-16-2022-09-56-03.pkl\"\n",
    "# filename = \"output/msource_value_dic_06-22-2022-03-55-05.pkl\"\n",
    "# filename = \"output/msource_value_dic_06-22-2022-20-55-01.pkl\"\n",
    "filename = \"output/msource_value_dic_06-25-2022-07-31-29.pkl\"\n",
    "\n",
    "with open(filename, 'rb') as f:\n",
    "    output_obj = pkl.load(f)\n",
    "\n",
    "value_dic = output_obj[\"state_value_dic\"]\n",
    "model_params = output_obj[\"model_params\"]\n",
    "sourcingEnv = output_obj[\"mdp_env\"]"
   ]
  },
  {
   "cell_type": "code",
   "execution_count": 3,
   "metadata": {},
   "outputs": [
    {
     "data": {
      "text/plain": [
       "{'algo_params': {'prob_epsilon': 1e-08,\n",
       "  'periods': 50,\n",
       "  'nested_mc_iters': 50,\n",
       "  'mc_episodes': 50,\n",
       "  'max_steps': 50,\n",
       "  'explore_eps': 0.05,\n",
       "  'debug_bool': 0,\n",
       "  'fixed_learn_rate': 0.1},\n",
       " 'policy_params': {'h_cost': 3,\n",
       "  'b_penalty': 5,\n",
       "  'small_s': 1,\n",
       "  'big_s': 6,\n",
       "  'n_suppliers': 2,\n",
       "  'backorder_max': -10,\n",
       "  'inven_limit': 30},\n",
       " 'mdp_env_params': {'lambda': 9,\n",
       "  'max_inven': 30,\n",
       "  'action_size': 4,\n",
       "  'discount_fac': 1.0},\n",
       " 'eval_params': {'safe_factor': 1.1,\n",
       "  'n_visit_limit': 2,\n",
       "  'sub_eval_periods': 30,\n",
       "  'sub_nested_mc_iter': 30},\n",
       " 'git_commit': 'no_git',\n",
       " 'branch_name': 'no_git'}"
      ]
     },
     "execution_count": 3,
     "metadata": {},
     "output_type": "execute_result"
    }
   ],
   "source": [
    "model_params"
   ]
  },
  {
   "cell_type": "code",
   "execution_count": 4,
   "metadata": {},
   "outputs": [],
   "source": [
    "# best_small_s, best_big_s, best_val = find_opt_ss_policy_via_mc(sourcingEnv, periods = 20, nested_mc_iters = 50)\n",
    "# best (s, S) policy found by MC:: (2, 5)"
   ]
  },
  {
   "cell_type": "code",
   "execution_count": 5,
   "metadata": {},
   "outputs": [],
   "source": [
    "# model_params['branch_name'], model_params['git_commit']"
   ]
  },
  {
   "cell_type": "code",
   "execution_count": 6,
   "metadata": {},
   "outputs": [
    {
     "name": "stderr",
     "output_type": "stream",
     "text": [
      "100%|██████████| 100/100 [00:00<00:00, 175.66it/s]\n"
     ]
    }
   ],
   "source": [
    "# sourcingEnv = SourcingEnv(\n",
    "#         lambda_arrival = 8, # or 10\n",
    "#         procurement_cost_vec = np.array([3, 1, 2]),\n",
    "#         supplier_lead_times_vec = np.array([0.8, 0.5, 1.0]),\n",
    "#         on_times = np.array([1, 1, 2]), \n",
    "#         off_times = np.array([0.3, 1, 0.2]))\n",
    "\n",
    "# Dual Sourcing\n",
    "# sourcingEnv = SourcingEnv(\n",
    "#         lambda_arrival = LAMBDA, # or 10\n",
    "#         procurement_cost_vec = np.array([3, 1]),\n",
    "#         supplier_lead_times_vec = np.array([0.8, 0.5]),\n",
    "#         on_times = np.array([1, 1]), \n",
    "#         off_times = np.array([0.3, 1]))\n",
    "\n",
    "s_custom = MState(stock_level = 0, \n",
    "    n_suppliers = N_SUPPLIERS, \n",
    "    n_backorders = np.array([0, 0]), \n",
    "    flag_on_off = np.array([1, 1]))\n",
    "\n",
    "mc_avg_costs = mc_with_policy(sourcingEnv, start_state = s_custom, \n",
    "    periods = 30,\n",
    "    nested_mc_iters = 100,\n",
    "    big_s = model_params['policy_params']['big_s'],\n",
    "    small_s = model_params['policy_params']['small_s'],\n",
    "    h_cost = model_params['policy_params']['h_cost'],\n",
    "    b_penalty = model_params['policy_params']['b_penalty'],\n",
    "    use_tqdm = True)\n",
    "\n",
    "# print(mc_avg_costs)"
   ]
  },
  {
   "cell_type": "code",
   "execution_count": 7,
   "metadata": {},
   "outputs": [],
   "source": [
    "# mc_avg_costs = mc_with_ss_policy(sourcingEnv, \n",
    "#     periods = 100,\n",
    "#     nested_mc_iters = 50,\n",
    "#     big_s = 5,\n",
    "#     small_s = 2,\n",
    "#     h_cost = model_params['policy_params']['h_cost'],\n",
    "#     b_penalty = model_params['policy_params']['b_penalty'])"
   ]
  },
  {
   "cell_type": "code",
   "execution_count": 8,
   "metadata": {},
   "outputs": [
    {
     "data": {
      "image/png": "[encoded data removed]",
      "text/plain": [
       "<Figure size 432x288 with 1 Axes>"
      ]
     },
     "metadata": {
      "needs_background": "light"
     },
     "output_type": "display_data"
    }
   ],
   "source": [
    "import matplotlib.pyplot as plt\n",
    "import numpy as np\n",
    "\n",
    "binwidth = 0.3\n",
    "n, bins, patches = plt.hist(mc_avg_costs, bins=np.arange( np.min(mc_avg_costs), np.max(mc_avg_costs) + binwidth, binwidth))\n",
    "# n, bins, patches = plt.hist(mc_avg_costs, density = True)\n",
    "\n",
    "\n",
    "plt.xlabel('Avg Cost')\n",
    "plt.ylabel('Probability')\n",
    "plt.title('Histogram of Avg costs')\n",
    "plt.xlim(np.min(mc_avg_costs), np.max(mc_avg_costs))\n",
    "plt.ylim(0, np.max(n))\n",
    "plt.grid(True)\n",
    "plt.show()"
   ]
  },
  {
   "cell_type": "code",
   "execution_count": 9,
   "metadata": {},
   "outputs": [
    {
     "name": "stdout",
     "output_type": "stream",
     "text": [
      "9.831666666666667\n"
     ]
    }
   ],
   "source": [
    "print(np.mean(np.array(mc_avg_costs)))"
   ]
  },
  {
   "cell_type": "code",
   "execution_count": 10,
   "metadata": {},
   "outputs": [
    {
     "name": "stdout",
     "output_type": "stream",
     "text": [
      "9.649999999999999\n"
     ]
    }
   ],
   "source": [
    "print(np.median(np.array(mc_avg_costs)))"
   ]
  },
  {
   "cell_type": "code",
   "execution_count": 11,
   "metadata": {},
   "outputs": [
    {
     "data": {
      "text/plain": [
       "1.2837737339578188"
      ]
     },
     "execution_count": 11,
     "metadata": {},
     "output_type": "execute_result"
    }
   ],
   "source": [
    "np.std(np.array(mc_avg_costs))"
   ]
  },
  {
   "cell_type": "code",
   "execution_count": 12,
   "metadata": {},
   "outputs": [
    {
     "data": {
      "text/plain": [
       "array([3, 1])"
      ]
     },
     "execution_count": 12,
     "metadata": {},
     "output_type": "execute_result"
    }
   ],
   "source": [
    "sourcingEnv.procurement_cost_vec"
   ]
  },
  {
   "cell_type": "code",
   "execution_count": 13,
   "metadata": {},
   "outputs": [],
   "source": [
    "sourcingEnv2 = SourcingEnv(\n",
    "    lambda_arrival = LAMBDA, # or 10\n",
    "    procurement_cost_vec = sourcingEnv.procurement_cost_vec,\n",
    "    supplier_lead_times_vec = sourcingEnv.supplier_lead_times_vec,\n",
    "    on_times = sourcingEnv.on_times, \n",
    "    off_times = sourcingEnv.off_times)"
   ]
  },
  {
   "cell_type": "code",
   "execution_count": 14,
   "metadata": {},
   "outputs": [
    {
     "name": "stderr",
     "output_type": "stream",
     "text": [
      "  0%|          | 0/100 [00:00<?, ?it/s]/home/larkin/code/multi-sourcing-inventory/sim/policies.py:71: VisibleDeprecationWarning: Creating an ndarray from ragged nested sequences (which is a list-or-tuple of lists-or-tuples-or ndarrays with different lengths or shapes) is deprecated. If you meant to do this, you must specify 'dtype=object' when creating the ndarray.\n",
      "  overshoot_range = np.array([x for x in sourcingEnv.action_history_tuple if tmark_reg < x[0] < tmark_exp])\n",
      " 31%|███       | 31/100 [10:32<23:27, 20.39s/it]\n"
     ]
    },
    {
     "ename": "KeyboardInterrupt",
     "evalue": "",
     "output_type": "error",
     "traceback": [
      "\u001b[0;31m---------------------------------------------------------------------------\u001b[0m",
      "\u001b[0;31mKeyboardInterrupt\u001b[0m                         Traceback (most recent call last)",
      "\u001b[1;32m/home/larkin/code/multi-sourcing-inventory/experiments.ipynb Cell 14'\u001b[0m in \u001b[0;36m<cell line: 1>\u001b[0;34m()\u001b[0m\n\u001b[0;32m----> <a href='vscode-notebook-cell:/home/larkin/code/multi-sourcing-inventory/experiments.ipynb#ch0000013?line=0'>1</a>\u001b[0m mc_avg_costs \u001b[39m=\u001b[39m mc_with_policy(sourcingEnv2, start_state \u001b[39m=\u001b[39;49m s_custom, \n\u001b[1;32m      <a href='vscode-notebook-cell:/home/larkin/code/multi-sourcing-inventory/experiments.ipynb#ch0000013?line=1'>2</a>\u001b[0m     periods \u001b[39m=\u001b[39;49m \u001b[39m30\u001b[39;49m,\n\u001b[1;32m      <a href='vscode-notebook-cell:/home/larkin/code/multi-sourcing-inventory/experiments.ipynb#ch0000013?line=2'>3</a>\u001b[0m     nested_mc_iters \u001b[39m=\u001b[39;49m \u001b[39m100\u001b[39;49m,\n\u001b[1;32m      <a href='vscode-notebook-cell:/home/larkin/code/multi-sourcing-inventory/experiments.ipynb#ch0000013?line=3'>4</a>\u001b[0m     big_s \u001b[39m=\u001b[39;49m model_params[\u001b[39m'\u001b[39;49m\u001b[39mpolicy_params\u001b[39;49m\u001b[39m'\u001b[39;49m][\u001b[39m'\u001b[39;49m\u001b[39mbig_s\u001b[39;49m\u001b[39m'\u001b[39;49m],\n\u001b[1;32m      <a href='vscode-notebook-cell:/home/larkin/code/multi-sourcing-inventory/experiments.ipynb#ch0000013?line=4'>5</a>\u001b[0m     small_s \u001b[39m=\u001b[39;49m model_params[\u001b[39m'\u001b[39;49m\u001b[39mpolicy_params\u001b[39;49m\u001b[39m'\u001b[39;49m][\u001b[39m'\u001b[39;49m\u001b[39msmall_s\u001b[39;49m\u001b[39m'\u001b[39;49m],\n\u001b[1;32m      <a href='vscode-notebook-cell:/home/larkin/code/multi-sourcing-inventory/experiments.ipynb#ch0000013?line=5'>6</a>\u001b[0m     h_cost \u001b[39m=\u001b[39;49m model_params[\u001b[39m'\u001b[39;49m\u001b[39mpolicy_params\u001b[39;49m\u001b[39m'\u001b[39;49m][\u001b[39m'\u001b[39;49m\u001b[39mh_cost\u001b[39;49m\u001b[39m'\u001b[39;49m],\n\u001b[1;32m      <a href='vscode-notebook-cell:/home/larkin/code/multi-sourcing-inventory/experiments.ipynb#ch0000013?line=6'>7</a>\u001b[0m     b_penalty \u001b[39m=\u001b[39;49m model_params[\u001b[39m'\u001b[39;49m\u001b[39mpolicy_params\u001b[39;49m\u001b[39m'\u001b[39;49m][\u001b[39m'\u001b[39;49m\u001b[39mb_penalty\u001b[39;49m\u001b[39m'\u001b[39;49m],\n\u001b[1;32m      <a href='vscode-notebook-cell:/home/larkin/code/multi-sourcing-inventory/experiments.ipynb#ch0000013?line=7'>8</a>\u001b[0m     policy_callback \u001b[39m=\u001b[39;49m dual_index_policy,\n\u001b[1;32m      <a href='vscode-notebook-cell:/home/larkin/code/multi-sourcing-inventory/experiments.ipynb#ch0000013?line=8'>9</a>\u001b[0m     use_tqdm \u001b[39m=\u001b[39;49m \u001b[39mTrue\u001b[39;49;00m)\n",
      "File \u001b[0;32m~/code/multi-sourcing-inventory/opt/mc_sim.py:53\u001b[0m, in \u001b[0;36mmc_with_policy\u001b[0;34m(sourcingEnv, start_state, h_cost, b_penalty, small_s, big_s, periods, policy_callback, nested_mc_iters, use_tqdm)\u001b[0m\n\u001b[1;32m     50\u001b[0m     sourcingEnv\u001b[39m.\u001b[39mcurrent_state \u001b[39m=\u001b[39m start_state\n\u001b[1;32m     52\u001b[0m start_time \u001b[39m=\u001b[39m time\u001b[39m.\u001b[39mtime()\n\u001b[0;32m---> 53\u001b[0m _, avg_cost \u001b[39m=\u001b[39m mc_episode_with_policy(sourcingEnv, h_cost \u001b[39m=\u001b[39;49m h_cost, b_penalty \u001b[39m=\u001b[39;49m b_penalty, small_s \u001b[39m=\u001b[39;49m small_s, big_s \u001b[39m=\u001b[39;49m big_s, periods \u001b[39m=\u001b[39;49m periods, policy \u001b[39m=\u001b[39;49m policy_callback)\n\u001b[1;32m     54\u001b[0m mc_avg_costs\u001b[39m.\u001b[39mappend(avg_cost)\n\u001b[1;32m     55\u001b[0m run_time \u001b[39m=\u001b[39m time\u001b[39m.\u001b[39mtime() \u001b[39m-\u001b[39m start_time\n",
      "File \u001b[0;32m~/code/multi-sourcing-inventory/opt/mc_sim.py:26\u001b[0m, in \u001b[0;36mmc_episode_with_policy\u001b[0;34m(sourcingEnv, h_cost, b_penalty, small_s, big_s, periods, policy)\u001b[0m\n\u001b[1;32m     23\u001b[0m total_costs \u001b[39m=\u001b[39m [cost]\n\u001b[1;32m     24\u001b[0m \u001b[39mfor\u001b[39;00m i \u001b[39min\u001b[39;00m \u001b[39mrange\u001b[39m(periods):\n\u001b[0;32m---> 26\u001b[0m     policy_action \u001b[39m=\u001b[39m policy(sourcingEnv, small_s \u001b[39m=\u001b[39;49m small_s, big_s \u001b[39m=\u001b[39;49m big_s)\n\u001b[1;32m     27\u001b[0m     next_state, event, event_index, probs, supplier_index \u001b[39m=\u001b[39m sourcingEnv\u001b[39m.\u001b[39mstep(policy_action)\n\u001b[1;32m     28\u001b[0m     cost \u001b[39m=\u001b[39m cost_calc(next_state, h_cost \u001b[39m=\u001b[39m h_cost, b_penalty \u001b[39m=\u001b[39m b_penalty)\n",
      "File \u001b[0;32m~/code/multi-sourcing-inventory/sim/policies.py:97\u001b[0m, in \u001b[0;36mdual_index_policy\u001b[0;34m(sourcingEnv, h_cost, b_penalty, big_s, small_s, delta_cand_range)\u001b[0m\n\u001b[1;32m     94\u001b[0m perc_cand \u001b[39m=\u001b[39m \u001b[39m1\u001b[39m \u001b[39m-\u001b[39m poisson\u001b[39m.\u001b[39mcdf(adj_val, sourcingEnv\u001b[39m.\u001b[39mlambda_arrival)\n\u001b[1;32m     95\u001b[0m ze_perc_cand \u001b[39m=\u001b[39m cf\u001b[39m*\u001b[39mperc_cand\n\u001b[0;32m---> 97\u001b[0m ze_cand, gap \u001b[39m=\u001b[39m inv_poisson(ze_perc_cand, sourcingEnv\u001b[39m.\u001b[39;49mlambda_arrival)\n\u001b[1;32m     99\u001b[0m \u001b[39mif\u001b[39;00m np\u001b[39m.\u001b[39mabs(perc_cand \u001b[39m-\u001b[39m cf) \u001b[39m<\u001b[39m gap:\n\u001b[1;32m    100\u001b[0m     gap \u001b[39m=\u001b[39m np\u001b[39m.\u001b[39mabs(perc_cand \u001b[39m-\u001b[39m cf)\n",
      "File \u001b[0;32m~/code/multi-sourcing-inventory/sim/policies.py:133\u001b[0m, in \u001b[0;36minv_poisson\u001b[0;34m(perc, lambda_arrival, x_lim, delt)\u001b[0m\n\u001b[1;32m    131\u001b[0m x_opt \u001b[39m=\u001b[39m \u001b[39m0\u001b[39m\n\u001b[1;32m    132\u001b[0m \u001b[39mfor\u001b[39;00m x \u001b[39min\u001b[39;00m \u001b[39mrange\u001b[39m(x_lim):\n\u001b[0;32m--> 133\u001b[0m     perc_cand \u001b[39m=\u001b[39m \u001b[39m1\u001b[39m \u001b[39m-\u001b[39m poisson\u001b[39m.\u001b[39;49mcdf(x \u001b[39m+\u001b[39;49m delt, lambda_arrival)\n\u001b[1;32m    134\u001b[0m     \u001b[39mif\u001b[39;00m np\u001b[39m.\u001b[39mabs(perc \u001b[39m-\u001b[39m perc_cand) \u001b[39m<\u001b[39m gap:\n\u001b[1;32m    135\u001b[0m         gap \u001b[39m=\u001b[39m np\u001b[39m.\u001b[39mabs(perc \u001b[39m-\u001b[39m perc_cand)\n",
      "File \u001b[0;32m~/code/multi-sourcing-inventory/.multi-sourcing-env/lib/python3.8/site-packages/scipy/stats/_distn_infrastructure.py:3255\u001b[0m, in \u001b[0;36mrv_discrete.cdf\u001b[0;34m(self, k, *args, **kwds)\u001b[0m\n\u001b[1;32m   3253\u001b[0m cond \u001b[39m=\u001b[39m cond0 \u001b[39m&\u001b[39m cond1\n\u001b[1;32m   3254\u001b[0m output \u001b[39m=\u001b[39m zeros(shape(cond), \u001b[39m'\u001b[39m\u001b[39md\u001b[39m\u001b[39m'\u001b[39m)\n\u001b[0;32m-> 3255\u001b[0m place(output, cond2\u001b[39m*\u001b[39m(cond0 \u001b[39m==\u001b[39;49m cond0), \u001b[39m1.0\u001b[39m)\n\u001b[1;32m   3256\u001b[0m place(output, (\u001b[39m1\u001b[39m\u001b[39m-\u001b[39mcond0) \u001b[39m+\u001b[39m np\u001b[39m.\u001b[39misnan(k), \u001b[39mself\u001b[39m\u001b[39m.\u001b[39mbadvalue)\n\u001b[1;32m   3258\u001b[0m \u001b[39mif\u001b[39;00m np\u001b[39m.\u001b[39many(cond):\n",
      "\u001b[0;31mKeyboardInterrupt\u001b[0m: "
     ]
    }
   ],
   "source": [
    "mc_avg_costs = mc_with_policy(sourcingEnv2, start_state = s_custom, \n",
    "    periods = 30,\n",
    "    nested_mc_iters = 100,\n",
    "    big_s = model_params['policy_params']['big_s'],\n",
    "    small_s = model_params['policy_params']['small_s'],\n",
    "    h_cost = model_params['policy_params']['h_cost'],\n",
    "    b_penalty = model_params['policy_params']['b_penalty'],\n",
    "    policy_callback = dual_index_policy,\n",
    "    use_tqdm = True)"
   ]
  },
  {
   "cell_type": "code",
   "execution_count": null,
   "metadata": {},
   "outputs": [
    {
     "name": "stdout",
     "output_type": "stream",
     "text": [
      "34.92966666666667\n"
     ]
    }
   ],
   "source": [
    "print(np.mean(np.array(mc_avg_costs)))"
   ]
  },
  {
   "cell_type": "code",
   "execution_count": null,
   "metadata": {},
   "outputs": [
    {
     "name": "stdout",
     "output_type": "stream",
     "text": [
      "26.733333333333334\n"
     ]
    }
   ],
   "source": [
    "print(np.median(np.array(mc_avg_costs)))"
   ]
  },
  {
   "cell_type": "code",
   "execution_count": null,
   "metadata": {},
   "outputs": [
    {
     "data": {
      "text/plain": [
       "23.893346770364523"
      ]
     },
     "execution_count": 17,
     "metadata": {},
     "output_type": "execute_result"
    }
   ],
   "source": [
    "np.std(np.array(mc_avg_costs))"
   ]
  },
  {
   "cell_type": "code",
   "execution_count": null,
   "metadata": {},
   "outputs": [
    {
     "name": "stderr",
     "output_type": "stream",
     "text": [
      "100%|██████████| 10/10 [23:44<00:00, 142.43s/it]\n"
     ]
    }
   ],
   "source": [
    "eval_steps = 10\n",
    "mc_eval_iter = 10\n",
    "eval_costs = mc_eval_policy_perf(sourcingEnv, value_dic, \n",
    "    max_steps = eval_steps, \n",
    "    mc_iters = mc_eval_iter,\n",
    "    h_cost = model_params['policy_params']['h_cost'],\n",
    "    b_penalty = model_params['policy_params']['b_penalty'])\n",
    "\n",
    "avg_eval_cost = np.mean(eval_costs)"
   ]
  },
  {
   "cell_type": "code",
   "execution_count": null,
   "metadata": {},
   "outputs": [],
   "source": [
    "eval_costs_scaled = np.array(eval_costs)/eval_steps"
   ]
  },
  {
   "cell_type": "code",
   "execution_count": null,
   "metadata": {},
   "outputs": [
    {
     "data": {
      "image/png": "[encoded data removed]",
      "text/plain": [
       "<Figure size 432x288 with 1 Axes>"
      ]
     },
     "metadata": {
      "needs_background": "light"
     },
     "output_type": "display_data"
    }
   ],
   "source": [
    "import numpy as np\n",
    "\n",
    "binwidth = 0.2\n",
    "\n",
    "n, bins, patches = plt.hist(eval_costs_scaled, bins=np.arange(min(eval_costs_scaled), max(eval_costs_scaled) + binwidth, binwidth), density = True)\n",
    "\n",
    "\n",
    "plt.xlabel('Avg Cost')\n",
    "plt.ylabel('Probability')\n",
    "plt.title('Histogram of Avg costs')\n",
    "plt.xlim(np.min(eval_costs_scaled), np.max(eval_costs_scaled))\n",
    "plt.ylim(0, np.max(n))\n",
    "plt.grid(True)\n",
    "plt.show()"
   ]
  },
  {
   "cell_type": "code",
   "execution_count": null,
   "metadata": {},
   "outputs": [
    {
     "data": {
      "text/plain": [
       "7.160000000000001"
      ]
     },
     "execution_count": 21,
     "metadata": {},
     "output_type": "execute_result"
    }
   ],
   "source": [
    "np.mean(eval_costs_scaled)"
   ]
  },
  {
   "cell_type": "code",
   "execution_count": null,
   "metadata": {},
   "outputs": [
    {
     "data": {
      "text/plain": [
       "7.3"
      ]
     },
     "execution_count": 22,
     "metadata": {},
     "output_type": "execute_result"
    }
   ],
   "source": [
    "np.median(eval_costs_scaled)"
   ]
  },
  {
   "cell_type": "code",
   "execution_count": null,
   "metadata": {},
   "outputs": [
    {
     "data": {
      "text/plain": [
       "1.303993865016243"
      ]
     },
     "execution_count": 23,
     "metadata": {},
     "output_type": "execute_result"
    }
   ],
   "source": [
    "np.std(eval_costs_scaled)"
   ]
  },
  {
   "cell_type": "code",
   "execution_count": null,
   "metadata": {},
   "outputs": [
    {
     "data": {
      "text/plain": [
       "72568"
      ]
     },
     "execution_count": 24,
     "metadata": {},
     "output_type": "execute_result"
    }
   ],
   "source": [
    "len(list(value_dic.keys()))"
   ]
  },
  {
   "cell_type": "code",
   "execution_count": null,
   "metadata": {},
   "outputs": [
    {
     "data": {
      "text/plain": [
       "-7.6096"
      ]
     },
     "execution_count": 25,
     "metadata": {},
     "output_type": "execute_result"
    },
    {
     "data": {
      "image/png": "[encoded data removed]",
      "text/plain": [
       "<Figure size 432x288 with 1 Axes>"
      ]
     },
     "metadata": {
      "needs_background": "light"
     },
     "output_type": "display_data"
    }
   ],
   "source": [
    "import numpy as np\n",
    "\n",
    "binwidth = 0.3\n",
    "\n",
    "state_vals = [x[0] for x in list(value_dic.values())]\n",
    "state_visits = [x[1] for x in list(value_dic.values())]\n",
    "\n",
    "n, bins, patches = plt.hist(state_vals, density = True)\n",
    "np.max(state_vals)"
   ]
  },
  {
   "cell_type": "code",
   "execution_count": null,
   "metadata": {},
   "outputs": [
    {
     "data": {
      "text/plain": [
       "99"
      ]
     },
     "execution_count": 26,
     "metadata": {},
     "output_type": "execute_result"
    },
    {
     "data": {
      "image/png": "[encoded data removed]",
      "text/plain": [
       "<Figure size 432x288 with 1 Axes>"
      ]
     },
     "metadata": {
      "needs_background": "light"
     },
     "output_type": "display_data"
    }
   ],
   "source": [
    "binwidth = 3\n",
    "state_visits.remove(1)\n",
    "state_visits_massage = [x for x in state_visits if 100 > x > 2]\n",
    "\n",
    "n, bins, patches = plt.hist(state_visits_massage, bins=np.arange(min(state_visits_massage), max(state_visits_massage) + binwidth, binwidth), density = True)\n",
    "np.max(state_visits_massage)"
   ]
  },
  {
   "cell_type": "code",
   "execution_count": null,
   "metadata": {},
   "outputs": [
    {
     "data": {
      "text/plain": [
       "3"
      ]
     },
     "execution_count": 27,
     "metadata": {},
     "output_type": "execute_result"
    }
   ],
   "source": [
    "np.min(state_visits_massage)"
   ]
  },
  {
   "cell_type": "code",
   "execution_count": null,
   "metadata": {},
   "outputs": [
    {
     "data": {
      "text/plain": [
       "102"
      ]
     },
     "execution_count": 28,
     "metadata": {},
     "output_type": "execute_result"
    }
   ],
   "source": [
    "len(set(state_visits))"
   ]
  },
  {
   "cell_type": "code",
   "execution_count": null,
   "metadata": {},
   "outputs": [
    {
     "data": {
      "text/plain": [
       "-42983"
      ]
     },
     "execution_count": 29,
     "metadata": {},
     "output_type": "execute_result"
    }
   ],
   "source": [
    "len(state_visits_massage) - len(state_visits)"
   ]
  },
  {
   "cell_type": "code",
   "execution_count": null,
   "metadata": {},
   "outputs": [
    {
     "data": {
      "text/plain": [
       "72567"
      ]
     },
     "execution_count": 30,
     "metadata": {},
     "output_type": "execute_result"
    }
   ],
   "source": [
    "len(state_visits)"
   ]
  },
  {
   "cell_type": "code",
   "execution_count": null,
   "metadata": {},
   "outputs": [
    {
     "data": {
      "text/plain": [
       "72568"
      ]
     },
     "execution_count": 31,
     "metadata": {},
     "output_type": "execute_result"
    }
   ],
   "source": [
    "len(state_vals)"
   ]
  },
  {
   "cell_type": "code",
   "execution_count": null,
   "metadata": {},
   "outputs": [
    {
     "data": {
      "text/plain": [
       "'[9, 5, 40, 1, 1]'"
      ]
     },
     "execution_count": 32,
     "metadata": {},
     "output_type": "execute_result"
    }
   ],
   "source": [
    "\n",
    "max(value_dic, key=value_dic.get)\n"
   ]
  },
  {
   "cell_type": "code",
   "execution_count": null,
   "metadata": {},
   "outputs": [
    {
     "data": {
      "text/plain": [
       "'[29, 0, 0, 1, 1]'"
      ]
     },
     "execution_count": 33,
     "metadata": {},
     "output_type": "execute_result"
    }
   ],
   "source": [
    "min(value_dic, key=value_dic.get)"
   ]
  },
  {
   "cell_type": "code",
   "execution_count": null,
   "metadata": {},
   "outputs": [],
   "source": [
    "value_dic_key_sorted = sorted(value_dic, key=value_dic.get, reverse=True)\n",
    "value_dic_value_sorted = sorted(value_dic.values(), reverse=True)"
   ]
  },
  {
   "cell_type": "code",
   "execution_count": null,
   "metadata": {},
   "outputs": [],
   "source": [
    "value_diagnostic = list(zip(value_dic_key_sorted, value_dic_value_sorted))"
   ]
  },
  {
   "cell_type": "code",
   "execution_count": null,
   "metadata": {},
   "outputs": [
    {
     "data": {
      "text/plain": [
       "[('[9, 5, 40, 1, 1]', (-7.6096, 1)),\n",
       " ('[23, 26, 40, 1, 1]', (-7.8012, 3)),\n",
       " ('[1, 54, 44, 1, 0]', (-7.8244, 1)),\n",
       " ('[-1, 28, 39, 1, 0]', (-7.839999999999999, 7)),\n",
       " ('[23, 15, 10, 1, 1]', (-7.848799999999999, 1)),\n",
       " ('[5, 22, 51, 0, 1]', (-7.8512, 1)),\n",
       " ('[4, 27, 34, 1, 1]', (-7.858, 1)),\n",
       " ('[1, 0, 43, 1, 1]', (-7.863199999999999, 1)),\n",
       " ('[0, 45, 44, 1, 1]', (-7.8664, 1)),\n",
       " ('[29, 53, 24, 1, 1]', (-7.8675999999999995, 4)),\n",
       " ('[41, 36, 13, 1, 1]', (-7.8708, 1)),\n",
       " ('[17, 27, 23, 0, 1]', (-7.873999999999999, 1)),\n",
       " ('[-1, 4, 25, 1, 1]', (-7.880799999999999, 53)),\n",
       " ('[17, 24, 33, 1, 1]', (-7.8824000000000005, 3)),\n",
       " ('[21, 15, 57, 1, 1]', (-7.8828, 2)),\n",
       " ('[1, 29, 31, 1, 1]', (-7.8831999999999995, 1)),\n",
       " ('[1, 46, 44, 1, 0]', (-7.8844, 1)),\n",
       " ('[1, 53, 28, 0, 1]', (-7.8912, 1)),\n",
       " ('[16, 20, 39, 1, 1]', (-7.8912, 1)),\n",
       " ('[19, 1, 49, 1, 1]', (-7.8924, 2)),\n",
       " ('[22, 8, 45, 1, 1]', (-7.893199999999999, 4)),\n",
       " ('[3, 5, 22, 1, 1]', (-7.895199999999999, 1)),\n",
       " ('[18, 11, 1, 1, 1]', (-7.8952, 1)),\n",
       " ('[28, 57, 25, 1, 1]', (-7.895600000000001, 1)),\n",
       " ('[9, 42, 30, 1, 0]', (-7.8964, 1)),\n",
       " ('[26, 18, 2, 1, 1]', (-7.898000000000001, 1)),\n",
       " ('[20, 32, 20, 1, 0]', (-7.8996, 1)),\n",
       " ('[54, 1, 0, 1, 0]', (-7.9, 5)),\n",
       " ('[14, 28, 27, 1, 1]', (-7.905999999999999, 1)),\n",
       " ('[9, 36, 45, 1, 0]', (-7.9060000000000015, 1)),\n",
       " ('[1, 52, 32, 0, 1]', (-7.9064, 1)),\n",
       " ('[29, 14, 27, 1, 1]', (-7.9068000000000005, 4)),\n",
       " ('[15, 28, 32, 1, 1]', (-7.9072, 1)),\n",
       " ('[0, 32, 10, 0, 1]', (-7.9079999999999995, 1)),\n",
       " ('[9, 0, 31, 1, 1]', (-7.909200000000001, 1)),\n",
       " ('[28, 17, 29, 1, 1]', (-7.9108, 4)),\n",
       " ('[20, 20, 47, 1, 1]', (-7.911199999999999, 2)),\n",
       " ('[19, 13, 50, 1, 1]', (-7.9116, 2)),\n",
       " ('[-1, 44, 5, 1, 1]', (-7.9116, 1)),\n",
       " ('[1, 21, 24, 1, 1]', (-7.9124, 1)),\n",
       " ('[22, 27, 48, 1, 1]', (-7.9168, 4)),\n",
       " ('[28, 42, 27, 1, 1]', (-7.917160000000001, 5)),\n",
       " ('[5, 45, 6, 1, 1]', (-7.917199999999999, 1)),\n",
       " ('[24, 29, 39, 1, 1]', (-7.9176, 2)),\n",
       " ('[-1, 29, 40, 0, 1]', (-7.917999999999999, 7)),\n",
       " ('[3, 13, 39, 1, 1]', (-7.918000000000001, 1)),\n",
       " ('[15, 53, 23, 1, 1]', (-7.9188, 1)),\n",
       " ('[9, 32, 39, 0, 1]', (-7.9204, 1)),\n",
       " ('[0, 15, 52, 0, 1]', (-7.9212, 3)),\n",
       " ('[21, 10, 35, 1, 1]', (-7.9216, 5)),\n",
       " ('[27, 11, 56, 1, 1]', (-7.921600000000001, 4)),\n",
       " ('[2, 42, 23, 1, 1]', (-7.9224, 1)),\n",
       " ('[22, 6, 6, 1, 1]', (-7.9232000000000005, 2)),\n",
       " ('[3, 55, 22, 1, 0]', (-7.9236, 1)),\n",
       " ('[1, 53, 31, 0, 1]', (-7.9239999999999995, 1)),\n",
       " ('[22, 4, 26, 0, 1]', (-7.924799999999999, 1)),\n",
       " ('[3, 17, 15, 1, 1]', (-7.927199999999999, 1)),\n",
       " ('[14, 2, 29, 1, 1]', (-7.9276, 1)),\n",
       " ('[44, 33, 8, 1, 1]', (-7.928, 1)),\n",
       " ('[26, 1, 3, 0, 1]', (-7.928399999999999, 2)),\n",
       " ('[4, 39, 37, 1, 1]', (-7.9288, 1)),\n",
       " ('[0, 56, 23, 0, 1]', (-7.929599999999999, 4)),\n",
       " ('[9, 7, 35, 1, 1]', (-7.9296000000000015, 1)),\n",
       " ('[46, 7, 0, 1, 1]', (-7.9308000000000005, 1)),\n",
       " ('[25, 16, 28, 1, 1]', (-7.931200000000001, 4)),\n",
       " ('[-1, 39, 35, 0, 1]', (-7.9324, 7)),\n",
       " ('[5, 45, 32, 1, 0]', (-7.9324, 1)),\n",
       " ('[0, 51, 6, 1, 0]', (-7.932799999999999, 1)),\n",
       " ('[21, 13, 28, 1, 1]', (-7.933599999999999, 4)),\n",
       " ('[0, 53, 33, 0, 1]', (-7.933639999999999, 21)),\n",
       " ('[34, 31, 8, 1, 1]', (-7.933999999999998, 1)),\n",
       " ('[24, 6, 30, 1, 1]', (-7.934799999999999, 2)),\n",
       " ('[22, 8, 49, 1, 1]', (-7.9352, 5)),\n",
       " ('[26, 13, 21, 1, 1]', (-7.936, 3)),\n",
       " ('[16, 4, 38, 1, 1]', (-7.936000000000002, 1)),\n",
       " ('[24, 3, 1, 1, 0]', (-7.9364, 1)),\n",
       " ('[0, 43, 14, 1, 0]', (-7.9368, 2)),\n",
       " ('[18, 19, 7, 1, 1]', (-7.937599999999999, 1)),\n",
       " ('[22, 26, 46, 1, 1]', (-7.9376, 4)),\n",
       " ('[5, 28, 48, 1, 0]', (-7.9376, 1)),\n",
       " ('[24, 11, 46, 1, 1]', (-7.938, 2)),\n",
       " ('[21, 37, 28, 1, 0]', (-7.938400000000001, 1)),\n",
       " ('[23, 16, 33, 1, 1]', (-7.9392, 3)),\n",
       " ('[9, 3, 39, 1, 1]', (-7.9392, 1)),\n",
       " ('[14, 9, 35, 1, 1]', (-7.9392, 1)),\n",
       " ('[0, 48, 57, 1, 0]', (-7.94, 11)),\n",
       " ('[-1, 21, 35, 0, 1]', (-7.94, 3)),\n",
       " ('[26, 12, 44, 1, 1]', (-7.94, 3)),\n",
       " ('[21, 31, 7, 1, 1]', (-7.9408, 1)),\n",
       " ('[23, 0, 3, 0, 1]', (-7.941599999999999, 18)),\n",
       " ('[-2, 36, 46, 1, 1]', (-7.9424, 7)),\n",
       " ('[1, 27, 18, 1, 1]', (-7.942799999999998, 1)),\n",
       " ('[21, 36, 8, 1, 1]', (-7.9428, 1)),\n",
       " ('[30, 1, 3, 1, 1]', (-7.942800000000001, 3)),\n",
       " ('[0, 47, 38, 0, 1]', (-7.943720000000002, 35)),\n",
       " ('[12, 24, 29, 1, 1]', (-7.944400000000001, 1)),\n",
       " ('[29, 13, 15, 1, 1]', (-7.944799999999999, 1)),\n",
       " ('[29, 43, 20, 1, 1]', (-7.9448, 6)),\n",
       " ('[46, 2, 7, 1, 1]', (-7.945600000000001, 1)),\n",
       " ('[29, 0, 23, 1, 1]', (-7.9460000000000015, 2)),\n",
       " ('[-1, 51, 24, 1, 1]', (-7.9464, 14)),\n",
       " ('[0, 41, 13, 1, 0]', (-7.9468000000000005, 2)),\n",
       " ('[19, 37, 22, 1, 1]', (-7.947199999999999, 4)),\n",
       " ('[1, 38, 43, 1, 0]', (-7.9475999999999996, 1)),\n",
       " ('[26, 7, 41, 1, 1]', (-7.9483999999999995, 3)),\n",
       " ('[28, 28, 31, 1, 1]', (-7.9488, 3)),\n",
       " ('[1, 7, 44, 1, 1]', (-7.9488, 1)),\n",
       " ('[3, 19, 17, 1, 1]', (-7.9488, 1)),\n",
       " ('[29, 40, 4, 1, 1]', (-7.949199999999999, 6)),\n",
       " ('[20, 7, 37, 1, 1]', (-7.949200000000001, 2)),\n",
       " ('[0, 50, 29, 1, 0]', (-7.9496, 33)),\n",
       " ('[44, 27, 6, 1, 1]', (-7.9496, 1)),\n",
       " ('[30, 17, 43, 1, 1]', (-7.95, 1)),\n",
       " ('[0, 28, 2, 0, 1]', (-7.950399999999999, 50)),\n",
       " ('[25, 2, 45, 1, 1]', (-7.950399999999999, 5)),\n",
       " ('[22, 26, 48, 1, 1]', (-7.950400000000001, 4)),\n",
       " ('[21, 31, 23, 1, 1]', (-7.950799999999999, 2)),\n",
       " ('[26, 25, 54, 1, 1]', (-7.9516, 1)),\n",
       " ('[25, 27, 47, 1, 1]', (-7.951999999999999, 5)),\n",
       " ('[14, 41, 40, 1, 1]', (-7.952399999999999, 1)),\n",
       " ('[9, 15, 51, 1, 1]', (-7.9524, 1)),\n",
       " ('[15, 42, 39, 0, 1]', (-7.9536, 1)),\n",
       " ('[13, 10, 25, 1, 1]', (-7.953999999999999, 1)),\n",
       " ('[0, 14, 40, 1, 0]', (-7.954400000000001, 6)),\n",
       " ('[41, 32, 14, 1, 1]', (-7.954400000000001, 1)),\n",
       " ('[23, 5, 47, 0, 1]', (-7.9556, 1)),\n",
       " ('[15, 35, 37, 1, 1]', (-7.9556000000000004, 1)),\n",
       " ('[25, 34, 26, 1, 1]', (-7.9559999999999995, 6)),\n",
       " ('[0, 52, 20, 1, 1]', (-7.9563999999999995, 1)),\n",
       " ('[0, 58, 58, 1, 0]', (-7.9563999999999995, 1)),\n",
       " ('[69, 11, 4, 1, 1]', (-7.956400000000001, 1)),\n",
       " ('[-2, 22, 50, 1, 1]', (-7.956799999999999, 4)),\n",
       " ('[30, 5, 35, 1, 1]', (-7.956799999999999, 1)),\n",
       " ('[5, 39, 23, 1, 1]', (-7.9568, 1)),\n",
       " ('[17, 53, 21, 1, 1]', (-7.9572, 3)),\n",
       " ('[23, 16, 18, 1, 1]', (-7.9572, 1)),\n",
       " ('[13, 24, 22, 1, 1]', (-7.9572, 1)),\n",
       " ('[19, 5, 43, 1, 1]', (-7.9576, 2)),\n",
       " ('[34, 45, 22, 1, 1]', (-7.957999999999999, 1)),\n",
       " ('[51, 2, 29, 1, 1]', (-7.957999999999999, 1)),\n",
       " ('[-1, 48, 39, 1, 0]', (-7.958000000000001, 7)),\n",
       " ('[24, 22, 23, 1, 1]', (-7.958399999999999, 3)),\n",
       " ('[1, 37, 22, 1, 0]', (-7.9584, 1)),\n",
       " ('[30, 13, 43, 1, 1]', (-7.9588, 1)),\n",
       " ('[22, 27, 25, 1, 1]', (-7.959999999999999, 6)),\n",
       " ('[1, 33, 35, 0, 1]', (-7.959999999999999, 1)),\n",
       " ('[5, 45, 49, 1, 0]', (-7.959999999999999, 1)),\n",
       " ('[29, 33, 28, 1, 1]', (-7.96, 6)),\n",
       " ('[3, 12, 13, 1, 1]', (-7.96, 1)),\n",
       " ('[9, 46, 42, 0, 1]', (-7.96, 1)),\n",
       " ('[0, 28, 24, 1, 0]', (-7.960640000000001, 67)),\n",
       " ('[-1, 35, 56, 1, 0]', (-7.960800000000001, 4)),\n",
       " ('[1, 38, 39, 1, 0]', (-7.961199999999999, 1)),\n",
       " ('[23, 23, 36, 1, 1]', (-7.9612, 3)),\n",
       " ('[12, 19, 7, 1, 1]', (-7.9612, 1)),\n",
       " ('[0, 51, 37, 1, 0]', (-7.962, 28)),\n",
       " ('[21, 21, 26, 1, 1]', (-7.962000000000001, 3)),\n",
       " ('[3, 6, 34, 1, 1]', (-7.962399999999999, 1)),\n",
       " ('[17, 28, 7, 1, 1]', (-7.9624, 3)),\n",
       " ('[9, 33, 38, 1, 0]', (-7.9624, 1)),\n",
       " ('[8, 36, 36, 1, 1]', (-7.9624000000000015, 1)),\n",
       " ('[22, 28, 39, 1, 1]', (-7.9628, 4)),\n",
       " ('[23, 16, 54, 1, 1]', (-7.9636000000000005, 2)),\n",
       " ('[21, 1, 28, 0, 1]', (-7.9636000000000005, 2)),\n",
       " ('[3, 53, 27, 1, 0]', (-7.9636000000000005, 1)),\n",
       " ('[34, 35, 0, 1, 1]', (-7.9636000000000005, 1)),\n",
       " ('[14, 7, 52, 1, 1]', (-7.964000000000001, 1)),\n",
       " ('[19, 27, 36, 0, 1]', (-7.964799999999999, 1)),\n",
       " ('[26, 24, 0, 1, 0]', (-7.965199999999999, 1)),\n",
       " ('[18, 5, 23, 1, 1]', (-7.965200000000002, 1)),\n",
       " ('[1, 52, 38, 1, 0]', (-7.965599999999999, 1)),\n",
       " ('[24, 4, 5, 0, 1]', (-7.9656, 3)),\n",
       " ('[4, 37, 45, 1, 1]', (-7.965999999999999, 1)),\n",
       " ('[28, 15, 48, 1, 1]', (-7.9664, 2)),\n",
       " ('[4, 41, 45, 1, 1]', (-7.966400000000001, 1)),\n",
       " ('[-1, 43, 57, 0, 1]', (-7.966799999999998, 3)),\n",
       " ('[27, 35, 27, 1, 1]', (-7.966800000000001, 4)),\n",
       " ('[47, 7, 14, 1, 1]', (-7.966800000000001, 1)),\n",
       " ('[25, 20, 19, 1, 1]', (-7.967199999999999, 2)),\n",
       " ('[29, 23, 12, 1, 1]', (-7.9672, 2)),\n",
       " ('[25, 30, 2, 1, 1]', (-7.9672399999999985, 12)),\n",
       " ('[22, 7, 25, 1, 1]', (-7.9676, 5)),\n",
       " ('[21, 53, 25, 1, 1]', (-7.9676, 1)),\n",
       " ('[45, 9, 31, 1, 1]', (-7.967600000000001, 1)),\n",
       " ('[38, 10, 29, 1, 1]', (-7.968, 1)),\n",
       " ('[0, 25, 44, 0, 1]', (-7.9684, 26)),\n",
       " ('[3, 52, 14, 0, 1]', (-7.9684, 1)),\n",
       " ('[24, 9, 32, 1, 1]', (-7.9688, 2)),\n",
       " ('[5, 46, 8, 1, 1]', (-7.9688, 1)),\n",
       " ('[35, 49, 15, 1, 1]', (-7.9688, 1)),\n",
       " ('[28, 10, 29, 1, 1]', (-7.968800000000001, 4)),\n",
       " ('[41, 38, 13, 1, 1]', (-7.968800000000001, 1)),\n",
       " ('[30, 10, 28, 1, 1]', (-7.9692, 1)),\n",
       " ('[1, 50, 41, 1, 0]', (-7.969200000000001, 1)),\n",
       " ('[17, 3, 24, 1, 1]', (-7.969599999999999, 2)),\n",
       " ('[26, 19, 41, 1, 1]', (-7.97, 3)),\n",
       " ('[24, 5, 25, 1, 1]', (-7.97, 3)),\n",
       " ('[17, 45, 18, 1, 1]', (-7.97, 3)),\n",
       " ('[5, 32, 35, 0, 1]', (-7.97, 1)),\n",
       " ('[26, 26, 29, 1, 1]', (-7.970400000000001, 6)),\n",
       " ('[-1, 20, 30, 1, 0]', (-7.970400000000001, 3)),\n",
       " ('[20, 28, 20, 1, 0]', (-7.970799999999998, 1)),\n",
       " ('[10, 5, 52, 1, 1]', (-7.9708, 1)),\n",
       " ('[20, 23, 55, 1, 1]', (-7.9708, 1)),\n",
       " ('[30, 3, 23, 1, 1]', (-7.9708000000000006, 1)),\n",
       " ('[23, 26, 57, 1, 1]', (-7.971199999999999, 1)),\n",
       " ('[9, 12, 41, 1, 1]', (-7.971199999999999, 1)),\n",
       " ('[28, 19, 54, 1, 1]', (-7.9712, 2)),\n",
       " ('[-1, 21, 57, 1, 1]', (-7.971200000000001, 3)),\n",
       " ('[38, 20, 40, 1, 1]', (-7.971200000000001, 1)),\n",
       " ('[21, 31, 7, 1, 0]', (-7.971599999999999, 1)),\n",
       " ('[23, 0, 54, 1, 1]', (-7.9716, 2)),\n",
       " ('[24, 12, 32, 1, 1]', (-7.9716, 2)),\n",
       " ('[10, 2, 55, 1, 1]', (-7.9716000000000005, 1)),\n",
       " ('[-2, 35, 48, 1, 1]', (-7.971640000000001, 7)),\n",
       " ('[22, 10, 31, 1, 1]', (-7.972, 5)),\n",
       " ('[44, 0, 34, 1, 1]', (-7.972, 4)),\n",
       " ('[5, 50, 25, 1, 1]', (-7.972, 1)),\n",
       " ('[22, 25, 52, 1, 1]', (-7.9724, 3)),\n",
       " ('[52, 4, 4, 1, 1]', (-7.9724, 1)),\n",
       " ('[23, 18, 3, 1, 1]', (-7.972799999999999, 1)),\n",
       " ('[21, 28, 4, 0, 1]', (-7.972800000000001, 1)),\n",
       " ('[19, 1, 25, 1, 1]', (-7.9731999999999985, 1)),\n",
       " ('[34, 36, 12, 1, 1]', (-7.973199999999999, 1)),\n",
       " ('[28, 5, 33, 1, 1]', (-7.9732, 3)),\n",
       " ('[5, 32, 16, 1, 1]', (-7.9736, 1)),\n",
       " ('[13, 42, 2, 1, 1]', (-7.974, 1)),\n",
       " ('[32, 7, 20, 1, 1]', (-7.9744, 1)),\n",
       " ('[5, 23, 24, 1, 1]', (-7.9744, 1)),\n",
       " ('[23, 28, 13, 1, 1]', (-7.974799999999999, 4)),\n",
       " ('[46, 37, 12, 1, 1]', (-7.974799999999999, 1)),\n",
       " ('[1, 40, 19, 0, 1]', (-7.9748, 1)),\n",
       " ('[26, 21, 47, 1, 1]', (-7.974800000000001, 2)),\n",
       " ('[23, 25, 23, 1, 1]', (-7.975599999999999, 5)),\n",
       " ('[3, 25, 25, 1, 1]', (-7.975599999999999, 1)),\n",
       " ('[25, 52, 3, 1, 1]', (-7.975600000000001, 2)),\n",
       " ('[1, 33, 30, 0, 1]', (-7.975600000000001, 1)),\n",
       " ('[1, 56, 18, 1, 0]', (-7.975600000000001, 1)),\n",
       " ('[18, 40, 30, 1, 1]', (-7.975600000000001, 1)),\n",
       " ('[13, 46, 16, 1, 1]', (-7.975999999999999, 1)),\n",
       " ('[-1, 39, 16, 1, 1]', (-7.976400000000001, 2)),\n",
       " ('[25, 44, 1, 0, 1]', (-7.976400000000001, 1)),\n",
       " ('[17, 18, 44, 1, 1]', (-7.976800000000001, 3)),\n",
       " ('[44, 25, 8, 1, 1]', (-7.976800000000001, 1)),\n",
       " ('[5, 38, 45, 0, 1]', (-7.977199999999999, 1)),\n",
       " ('[21, 28, 3, 1, 1]', (-7.977199999999999, 1)),\n",
       " ('[20, 2, 41, 1, 1]', (-7.977200000000002, 2)),\n",
       " ('[-1, 25, 55, 1, 0]', (-7.9776, 1)),\n",
       " ('[13, 20, 4, 1, 1]', (-7.9776, 1)),\n",
       " ('[-1, 27, 30, 1, 0]', (-7.978, 5)),\n",
       " ('[18, 27, 11, 1, 1]', (-7.978, 1)),\n",
       " ('[43, 2, 4, 1, 1]', (-7.978, 1)),\n",
       " ('[3, 42, 24, 1, 0]', (-7.978, 1)),\n",
       " ('[22, 13, 38, 1, 1]', (-7.978000000000001, 4)),\n",
       " ('[0, 13, 19, 1, 0]', (-7.9780560000000005, 53)),\n",
       " ('[-2, 19, 26, 1, 1]', (-7.978799999999999, 2)),\n",
       " ('[19, 48, 22, 1, 1]', (-7.9792, 4)),\n",
       " ('[46, 29, 6, 1, 1]', (-7.9792, 1)),\n",
       " ('[27, 3, 1, 1, 0]', (-7.9792000000000005, 10)),\n",
       " ('[19, 0, 37, 1, 1]', (-7.9792000000000005, 2)),\n",
       " ('[10, 27, 34, 1, 1]', (-7.9792000000000005, 1)),\n",
       " ('[-1, 41, 34, 0, 1]', (-7.979559999999999, 7)),\n",
       " ('[3, 53, 25, 1, 0]', (-7.9796, 1)),\n",
       " ('[25, 16, 47, 1, 1]', (-7.9796000000000005, 5)),\n",
       " ('[-1, 27, 54, 1, 0]', (-7.9796000000000005, 3)),\n",
       " ('[18, 22, 20, 1, 1]', (-7.9796000000000005, 1)),\n",
       " ('[3, 26, 33, 1, 1]', (-7.980000000000001, 1)),\n",
       " ('[16, 21, 32, 1, 1]', (-7.9803999999999995, 1)),\n",
       " ('[0, 39, 53, 0, 1]', (-7.9804, 26)),\n",
       " ('[23, 23, 15, 1, 1]', (-7.9812, 3)),\n",
       " ('[20, 11, 29, 1, 1]', (-7.9812, 2)),\n",
       " ('[5, 28, 53, 0, 1]', (-7.9812, 1)),\n",
       " ('[26, 27, 5, 1, 1]', (-7.981200000000001, 3)),\n",
       " ('[22, 0, 39, 1, 1]', (-7.981599999999999, 4)),\n",
       " ('[24, 47, 24, 1, 1]', (-7.981999999999999, 2)),\n",
       " ('[19, 30, 54, 1, 1]', (-7.981999999999999, 1)),\n",
       " ('[19, 57, 23, 1, 1]', (-7.982, 1)),\n",
       " ('[13, 3, 8, 1, 1]', (-7.982, 1)),\n",
       " ('[26, 28, 34, 1, 1]', (-7.982000000000002, 3)),\n",
       " ('[24, 18, 42, 1, 1]', (-7.982399999999999, 2)),\n",
       " ('[30, 26, 37, 1, 1]', (-7.982399999999999, 1)),\n",
       " ('[26, 16, 1, 1, 1]', (-7.9824, 1)),\n",
       " ('[28, 3, 37, 1, 1]', (-7.982400000000001, 3)),\n",
       " ('[17, 10, 23, 1, 1]', (-7.9826, 2)),\n",
       " ('[21, 44, 11, 1, 1]', (-7.9828, 1)),\n",
       " ('[23, 45, 21, 1, 1]', (-7.982800000000001, 3)),\n",
       " ('[10, 16, 37, 1, 1]', (-7.983199999999999, 1)),\n",
       " ('[14, 19, 51, 1, 1]', (-7.9832, 1)),\n",
       " ('[1, 49, 38, 0, 1]', (-7.9836, 1)),\n",
       " ('[21, 9, 50, 1, 1]', (-7.984, 5)),\n",
       " ('[28, 9, 44, 1, 1]', (-7.984, 3)),\n",
       " ('[9, 44, 33, 1, 0]', (-7.984799999999999, 1)),\n",
       " ('[44, 13, 32, 1, 1]', (-7.9848, 2)),\n",
       " ('[19, 40, 16, 1, 1]', (-7.9852, 4)),\n",
       " ('[22, 27, 46, 1, 1]', (-7.9852, 4)),\n",
       " ('[28, 27, 41, 1, 1]', (-7.9852, 3)),\n",
       " ('[14, 20, 39, 1, 1]', (-7.985599999999998, 1)),\n",
       " ('[47, 8, 20, 1, 1]', (-7.985599999999998, 1)),\n",
       " ('[-2, 44, 26, 1, 1]', (-7.9856, 4)),\n",
       " ('[52, 0, 6, 1, 1]', (-7.9856, 1)),\n",
       " ('[0, 9, 53, 1, 0]', (-7.985600000000001, 1)),\n",
       " ('[26, 5, 35, 1, 1]', (-7.9860000000000015, 3)),\n",
       " ('[5, 23, 25, 1, 1]', (-7.9860000000000015, 1)),\n",
       " ('[24, 14, 34, 1, 1]', (-7.9864, 2)),\n",
       " ('[19, 29, 30, 0, 1]', (-7.9868, 2)),\n",
       " ('[21, 25, 39, 1, 1]', (-7.987199999999999, 5)),\n",
       " ('[21, 14, 29, 1, 1]', (-7.9872000000000005, 5)),\n",
       " ('[15, 52, 20, 1, 1]', (-7.9872000000000005, 1)),\n",
       " ('[3, 48, 33, 0, 1]', (-7.9876, 1)),\n",
       " ('[22, 54, 6, 1, 1]', (-7.988, 2)),\n",
       " ('[20, 4, 42, 1, 1]', (-7.988, 2)),\n",
       " ('[1, 57, 43, 1, 0]', (-7.988, 1)),\n",
       " ('[26, 0, 31, 0, 1]', (-7.988, 1)),\n",
       " ('[2, 38, 19, 1, 1]', (-7.9883999999999995, 1)),\n",
       " ('[34, 23, 5, 1, 1]', (-7.9883999999999995, 1)),\n",
       " ('[16, 14, 30, 1, 1]', (-7.9884, 1)),\n",
       " ('[29, 18, 50, 1, 1]', (-7.9888, 5)),\n",
       " ('[20, 29, 38, 1, 1]', (-7.9888, 2)),\n",
       " ('[14, 31, 29, 1, 1]', (-7.9888, 1)),\n",
       " ('[20, 28, 53, 1, 1]', (-7.989199999999999, 2)),\n",
       " ('[1, 52, 23, 1, 0]', (-7.989199999999999, 1)),\n",
       " ('[27, 25, 56, 1, 1]', (-7.9892, 4)),\n",
       " ('[3, 10, 26, 1, 1]', (-7.9892, 1)),\n",
       " ('[-1, 12, 40, 1, 1]', (-7.989599999999999, 5)),\n",
       " ('[27, 57, 21, 1, 1]', (-7.989599999999999, 1)),\n",
       " ('[9, 24, 40, 1, 1]', (-7.989600000000001, 1)),\n",
       " ('[28, 40, 13, 1, 1]', (-7.989999999999998, 5)),\n",
       " ('[9, 47, 31, 0, 1]', (-7.989999999999998, 1)),\n",
       " ('[3, 33, 19, 1, 0]', (-7.99, 1)),\n",
       " ('[28, 8, 27, 1, 1]', (-7.990000000000001, 2)),\n",
       " ('[15, 45, 1, 1, 1]', (-7.990000000000001, 1)),\n",
       " ('[17, 28, 8, 1, 1]', (-7.990399999999998, 3)),\n",
       " ('[44, 1, 37, 1, 1]', (-7.990399999999999, 2)),\n",
       " ('[25, 9, 0, 1, 1]', (-7.990400000000001, 10)),\n",
       " ('[3, 42, 36, 1, 0]', (-7.990400000000001, 1)),\n",
       " ('[32, 17, 28, 1, 1]', (-7.990400000000001, 1)),\n",
       " ('[16, 33, 36, 1, 1]', (-7.990799999999999, 1)),\n",
       " ('[25, 31, 24, 1, 1]', (-7.9908, 6)),\n",
       " ('[24, 29, 2, 1, 1]', (-7.9908, 3)),\n",
       " ('[28, 56, 17, 1, 1]', (-7.9908, 1)),\n",
       " ('[16, 29, 25, 0, 1]', (-7.9908, 1)),\n",
       " ('[29, 20, 33, 1, 1]', (-7.9912, 6)),\n",
       " ('[12, 20, 0, 1, 1]', (-7.9912, 1)),\n",
       " ('[34, 41, 12, 1, 1]', (-7.9912, 1)),\n",
       " ('[21, 44, 28, 1, 1]', (-7.9912, 1)),\n",
       " ('[26, 26, 11, 1, 1]', (-7.991200000000001, 3)),\n",
       " ('[19, 28, 28, 1, 0]', (-7.991600000000001, 2)),\n",
       " ('[20, 35, 17, 0, 1]', (-7.991600000000001, 1)),\n",
       " ('[13, 25, 22, 1, 1]', (-7.992000000000001, 1)),\n",
       " ('[0, 41, 50, 1, 0]', (-7.992016000000001, 31)),\n",
       " ('[10, 15, 45, 1, 1]', (-7.9924, 1)),\n",
       " ('[28, 48, 22, 1, 1]', (-7.9928, 5)),\n",
       " ('[2, 43, 27, 1, 1]', (-7.993199999999999, 1)),\n",
       " ('[0, 29, 50, 0, 1]', (-7.993599999999999, 33)),\n",
       " ('[15, 52, 7, 1, 1]', (-7.993599999999999, 1)),\n",
       " ('[22, 0, 41, 1, 1]', (-7.9936, 4)),\n",
       " ('[27, 40, 29, 1, 1]', (-7.9936, 4)),\n",
       " ('[24, 10, 0, 1, 1]', (-7.994, 19)),\n",
       " ('[19, 51, 12, 1, 1]', (-7.9944, 4)),\n",
       " ('[9, 7, 46, 1, 1]', (-7.9944, 1)),\n",
       " ('[24, 37, 15, 1, 1]', (-7.994400000000001, 3)),\n",
       " ('[25, 9, 25, 1, 1]', (-7.994400000000001, 2)),\n",
       " ('[0, 36, 31, 0, 1]', (-7.994479999999999, 41)),\n",
       " ('[32, 4, 4, 1, 1]', (-7.994799999999999, 1)),\n",
       " ('[0, 19, 49, 1, 0]', (-7.995120000000001, 6)),\n",
       " ('[28, 58, 16, 1, 1]', (-7.9952, 1)),\n",
       " ('[28, 12, 52, 1, 1]', (-7.9956000000000005, 2)),\n",
       " ('[26, 17, 48, 1, 1]', (-7.9956000000000005, 2)),\n",
       " ('[25, 9, 3, 0, 1]', (-7.9956000000000005, 1)),\n",
       " ('[0, 9, 13, 0, 1]', (-7.996, 52)),\n",
       " ('[0, 17, 39, 1, 0]', (-7.996, 8)),\n",
       " ('[3, 1, 37, 1, 1]', (-7.996, 1)),\n",
       " ('[15, 36, 29, 0, 1]', (-7.996, 1)),\n",
       " ('[14, 20, 28, 1, 1]', (-7.996, 1)),\n",
       " ('[29, 28, 48, 1, 1]', (-7.996000000000001, 5)),\n",
       " ('[20, 10, 43, 1, 1]', (-7.996000000000001, 2)),\n",
       " ('[29, 9, 47, 1, 1]', (-7.9963999999999995, 5)),\n",
       " ('[24, 3, 20, 1, 1]', (-7.9963999999999995, 3)),\n",
       " ('[24, 49, 23, 1, 1]', (-7.9963999999999995, 2)),\n",
       " ('[-1, 22, 56, 1, 1]', (-7.996400000000001, 6)),\n",
       " ('[26, 9, 35, 1, 1]', (-7.9967999999999995, 3)),\n",
       " ('[17, 42, 3, 1, 1]', (-7.9967999999999995, 3)),\n",
       " ('[26, 18, 54, 1, 1]', (-7.9967999999999995, 1)),\n",
       " ('[25, 9, 35, 1, 1]', (-7.997199999999999, 5)),\n",
       " ('[19, 14, 57, 1, 1]', (-7.997199999999999, 1)),\n",
       " ('[0, 48, 11, 1, 0]', (-7.997199999999999, 1)),\n",
       " ('[-1, 23, 34, 1, 0]', (-7.9972, 4)),\n",
       " ('[12, 5, 14, 1, 1]', (-7.9972, 1)),\n",
       " ('[3, 21, 15, 1, 1]', (-7.9972, 1)),\n",
       " ('[35, 40, 15, 1, 1]', (-7.9972, 1)),\n",
       " ('[28, 30, 1, 1, 1]', (-7.997200000000001, 9)),\n",
       " ('[0, 10, 47, 1, 0]', (-7.9975999999999985, 3)),\n",
       " ('[27, 7, 38, 1, 1]', (-7.997600000000001, 6)),\n",
       " ('[-2, 53, 44, 1, 1]', (-7.997600000000001, 3)),\n",
       " ('[26, 15, 22, 1, 1]', (-7.997999999999999, 3)),\n",
       " ('[27, 40, 27, 1, 1]', (-7.998000000000001, 4)),\n",
       " ('[23, 29, 6, 0, 1]', (-7.998000000000001, 2)),\n",
       " ('[1, 43, 43, 0, 1]', (-7.998399999999999, 1)),\n",
       " ('[29, 6, 31, 1, 1]', (-7.9984, 6)),\n",
       " ('[34, 25, 9, 1, 1]', (-7.9984, 1)),\n",
       " ('[9, 22, 44, 1, 1]', (-7.9984, 1)),\n",
       " ('[35, 32, 15, 1, 1]', (-7.9984, 1)),\n",
       " ('[15, 43, 17, 1, 1]', (-7.998799999999999, 1)),\n",
       " ('[28, 53, 7, 1, 1]', (-7.9988, 3)),\n",
       " ('[28, 5, 49, 1, 1]', (-7.9988, 3)),\n",
       " ('[28, 1, 17, 1, 1]', (-7.9988, 1)),\n",
       " ('[21, 35, 11, 0, 1]', (-7.9988, 1)),\n",
       " ('[-1, 43, 34, 0, 1]', (-7.999199999999999, 7)),\n",
       " ('[29, 43, 6, 1, 1]', (-7.999200000000001, 6)),\n",
       " ('[44, 5, 34, 1, 1]', (-7.999200000000001, 4)),\n",
       " ('[44, 29, 7, 1, 1]', (-7.999599999999999, 2)),\n",
       " ('[18, 26, 32, 1, 1]', (-7.9996, 2)),\n",
       " ('[10, 0, 47, 1, 1]', (-7.9996, 1)),\n",
       " ('[25, 35, 28, 1, 1]', (-7.999999999999999, 6)),\n",
       " ('[25, 34, 0, 1, 0]', (-8.000000000000002, 31)),\n",
       " ('[5, 46, 2, 1, 1]', (-8.000399999999999, 1)),\n",
       " ('[5, 35, 30, 0, 1]', (-8.000399999999999, 1)),\n",
       " ('[-1, 19, 25, 1, 0]', (-8.000720000000001, 2)),\n",
       " ('[0, 22, 56, 0, 1]', (-8.0008, 6)),\n",
       " ('[-1, 51, 54, 0, 1]', (-8.0008, 4)),\n",
       " ('[17, 13, 32, 1, 1]', (-8.0008, 3)),\n",
       " ('[-1, 27, 54, 0, 1]', (-8.0008, 3)),\n",
       " ('[20, 9, 46, 1, 1]', (-8.0008, 2)),\n",
       " ('[28, 32, 22, 1, 1]', (-8.000988, 6)),\n",
       " ('[25, 20, 7, 1, 1]', (-8.001199999999999, 2)),\n",
       " ('[16, 31, 30, 1, 1]', (-8.001199999999999, 2)),\n",
       " ('[17, 6, 24, 1, 1]', (-8.0012, 2)),\n",
       " ('[8, 35, 45, 1, 1]', (-8.0012, 1)),\n",
       " ('[-2, 34, 57, 1, 1]', (-8.0016, 3)),\n",
       " ('[22, 3, 55, 1, 1]', (-8.001600000000002, 2)),\n",
       " ('[-1, 48, 53, 1, 0]', (-8.001999999999999, 7)),\n",
       " ('[3, 40, 28, 0, 1]', (-8.001999999999999, 1)),\n",
       " ('[21, 7, 32, 1, 0]', (-8.002, 2)),\n",
       " ('[19, 25, 31, 0, 1]', (-8.002, 1)),\n",
       " ('[13, 27, 26, 1, 1]', (-8.002, 1)),\n",
       " ('[22, 48, 2, 1, 1]', (-8.0024, 6)),\n",
       " ('[14, 38, 34, 1, 1]', (-8.0024, 1)),\n",
       " ('[5, 26, 37, 0, 1]', (-8.0024, 1)),\n",
       " ('[29, 27, 50, 1, 1]', (-8.002400000000002, 5)),\n",
       " ('[9, 36, 46, 0, 1]', (-8.002400000000002, 1)),\n",
       " ('[-1, 55, 35, 1, 1]', (-8.002799999999999, 15)),\n",
       " ('[32, 2, 12, 1, 1]', (-8.002799999999999, 1)),\n",
       " ('[-2, 37, 24, 1, 1]', (-8.0028, 3)),\n",
       " ('[-2, 56, 57, 1, 1]', (-8.0028, 2)),\n",
       " ('[1, 9, 25, 1, 1]', (-8.0028, 1)),\n",
       " ('[16, 14, 42, 1, 1]', (-8.0028, 1)),\n",
       " ('[20, 1, 34, 1, 1]', (-8.0032, 2)),\n",
       " ('[41, 31, 7, 1, 1]', (-8.0032, 1)),\n",
       " ('[0, 41, 32, 1, 0]', (-8.003200000000001, 39)),\n",
       " ('[19, 33, 24, 1, 1]', (-8.0036, 4)),\n",
       " ('[22, 16, 18, 1, 1]', (-8.0036, 1)),\n",
       " ('[14, 13, 26, 1, 1]', (-8.0036, 1)),\n",
       " ('[13, 8, 25, 1, 1]', (-8.0036, 1)),\n",
       " ('[27, 3, 45, 1, 1]', (-8.003759999999998, 6)),\n",
       " ('[-1, 23, 40, 0, 1]', (-8.004, 4)),\n",
       " ('[0, 12, 40, 1, 0]', (-8.004399999999999, 5)),\n",
       " ('[22, 46, 23, 1, 1]', (-8.004399999999999, 4)),\n",
       " ('[-1, 22, 42, 1, 0]', (-8.0044, 4)),\n",
       " ('[27, 18, 50, 1, 1]', (-8.00468, 6)),\n",
       " ('[29, 14, 36, 1, 1]', (-8.0048, 6)),\n",
       " ('[18, 19, 27, 1, 1]', (-8.0048, 1)),\n",
       " ('[26, 1, 4, 0, 1]', (-8.0048, 1)),\n",
       " ('[3, 20, 28, 1, 1]', (-8.0048, 1)),\n",
       " ('[23, 8, 52, 1, 0]', (-8.0048, 1)),\n",
       " ('[16, 3, 28, 1, 1]', (-8.0048, 1)),\n",
       " ('[22, 48, 8, 0, 1]', (-8.004800000000001, 1)),\n",
       " ('[23, 45, 6, 1, 1]', (-8.00488, 4)),\n",
       " ('[19, 41, 19, 1, 1]', (-8.0052, 4)),\n",
       " ('[22, 22, 52, 1, 1]', (-8.0052, 3)),\n",
       " ('[30, 12, 32, 1, 1]', (-8.0052, 1)),\n",
       " ('[15, 44, 9, 1, 1]', (-8.0052, 1)),\n",
       " ('[2, 45, 27, 1, 1]', (-8.0052, 1)),\n",
       " ('[8, 41, 36, 1, 1]', (-8.0052, 1)),\n",
       " ('[24, 6, 18, 1, 1]', (-8.005200000000002, 1)),\n",
       " ('[-1, 56, 39, 1, 1]', (-8.00556, 12)),\n",
       " ('[25, 44, 0, 1, 1]', (-8.0056, 6)),\n",
       " ('[23, 6, 4, 1, 0]', (-8.0056, 1)),\n",
       " ('[3, 22, 29, 1, 1]', (-8.005600000000001, 1)),\n",
       " ('[5, 41, 1, 1, 1]', (-8.005600000000001, 1)),\n",
       " ('[0, 5, 0, 1, 0]', (-8.00568, 50)),\n",
       " ('[28, 24, 28, 1, 1]', (-8.006, 5)),\n",
       " ('[20, 26, 49, 1, 1]', (-8.006, 2)),\n",
       " ('[5, 23, 37, 0, 1]', (-8.006, 1)),\n",
       " ('[-1, 50, 48, 1, 0]', (-8.006000000000002, 5)),\n",
       " ('[1, 38, 28, 1, 0]', (-8.006000000000002, 1)),\n",
       " ('[19, 0, 46, 1, 1]', (-8.0064, 2)),\n",
       " ('[20, 16, 33, 1, 1]', (-8.0064, 2)),\n",
       " ('[28, 13, 19, 1, 1]', (-8.0064, 2)),\n",
       " ('[0, 47, 11, 0, 1]', (-8.0064, 1)),\n",
       " ('[0, 19, 43, 0, 1]', (-8.006400000000001, 7)),\n",
       " ('[29, 41, 21, 1, 1]', (-8.006400000000001, 6)),\n",
       " ('[24, 1, 2, 1, 0]', (-8.006400000000001, 1)),\n",
       " ('[-1, 25, 28, 0, 1]', (-8.006799999999998, 4)),\n",
       " ('[19, 39, 0, 1, 1]', (-8.0068, 4)),\n",
       " ('[21, 32, 28, 1, 0]', (-8.0068, 1)),\n",
       " ('[9, 35, 31, 0, 1]', (-8.0068, 1)),\n",
       " ('[22, 55, 20, 1, 1]', (-8.0072, 1)),\n",
       " ('[0, 21, 3, 1, 0]', (-8.007272, 50)),\n",
       " ('[0, 22, 13, 1, 0]', (-8.007524, 53)),\n",
       " ('[22, 29, 42, 1, 1]', (-8.0076, 4)),\n",
       " ('[26, 13, 35, 1, 1]', (-8.0076, 3)),\n",
       " ('[3, 19, 24, 1, 1]', (-8.007600000000002, 1)),\n",
       " ('[4, 24, 40, 1, 1]', (-8.007600000000002, 1)),\n",
       " ('[26, 38, 18, 1, 1]', (-8.008000000000001, 6)),\n",
       " ('[-1, 51, 33, 1, 0]', (-8.0084, 4)),\n",
       " ('[25, 5, 55, 1, 1]', (-8.0084, 3)),\n",
       " ('[17, 36, 1, 1, 1]', (-8.0084, 3)),\n",
       " ('[23, 17, 13, 1, 1]', (-8.0084, 1)),\n",
       " ('[24, 15, 34, 1, 1]', (-8.008400000000002, 2)),\n",
       " ('[30, 11, 39, 1, 1]', (-8.0088, 1)),\n",
       " ('[14, 19, 30, 1, 1]', (-8.0088, 1)),\n",
       " ('[16, 9, 29, 1, 1]', (-8.0088, 1)),\n",
       " ('[46, 33, 9, 1, 1]', (-8.0092, 2)),\n",
       " ('[1, 34, 18, 0, 1]', (-8.0092, 1)),\n",
       " ('[14, 35, 35, 1, 1]', (-8.0092, 1)),\n",
       " ('[22, 35, 22, 1, 0]', (-8.0092, 1)),\n",
       " ('[13, 4, 16, 1, 1]', (-8.0092, 1)),\n",
       " ('[0, 13, 33, 1, 1]', (-8.0092, 1)),\n",
       " ('[5, 35, 44, 0, 1]', (-8.009200000000002, 1)),\n",
       " ('[24, 42, 6, 1, 1]', (-8.009599999999999, 3)),\n",
       " ('[27, 47, 0, 1, 0]', (-8.009599999999999, 1)),\n",
       " ('[-1, 47, 48, 0, 1]', (-8.0096, 7)),\n",
       " ('[0, 38, 40, 1, 1]', (-8.0096, 1)),\n",
       " ('[32, 4, 12, 1, 1]', (-8.0096, 1)),\n",
       " ('[21, 47, 12, 1, 1]', (-8.009999999999998, 2)),\n",
       " ('[4, 36, 37, 1, 1]', (-8.009999999999998, 1)),\n",
       " ('[24, 1, 50, 0, 1]', (-8.010399999999999, 1)),\n",
       " ('[21, 33, 7, 1, 0]', (-8.010399999999999, 1)),\n",
       " ('[-1, 25, 30, 0, 1]', (-8.0104, 4)),\n",
       " ('[9, 30, 26, 1, 0]', (-8.0104, 1)),\n",
       " ('[25, 17, 38, 1, 1]', (-8.0108, 5)),\n",
       " ('[28, 23, 11, 1, 1]', (-8.0108, 3)),\n",
       " ('[18, 8, 5, 1, 1]', (-8.0108, 1)),\n",
       " ('[45, 1, 32, 1, 1]', (-8.0108, 1)),\n",
       " ('[15, 33, 27, 1, 0]', (-8.0108, 1)),\n",
       " ('[41, 43, 2, 1, 1]', (-8.0108, 1)),\n",
       " ('[24, 48, 22, 1, 1]', (-8.011199999999999, 2)),\n",
       " ('[17, 48, 29, 1, 1]', (-8.0112, 3)),\n",
       " ('[0, 21, 57, 1, 0]', (-8.0112, 3)),\n",
       " ('[17, 25, 9, 1, 1]', (-8.0112, 1)),\n",
       " ('[8, 34, 35, 1, 1]', (-8.0112, 1)),\n",
       " ('[22, 6, 27, 0, 1]', (-8.0116, 1)),\n",
       " ('[23, 8, 48, 0, 1]', (-8.0116, 1)),\n",
       " ('[5, 46, 41, 0, 1]', (-8.011600000000001, 1)),\n",
       " ('[22, 20, 36, 1, 1]', (-8.011999999999999, 4)),\n",
       " ('[1, 39, 27, 0, 1]', (-8.011999999999999, 1)),\n",
       " ('[13, 57, 5, 1, 1]', (-8.012, 1)),\n",
       " ('[25, 24, 20, 1, 1]', (-8.0124, 5)),\n",
       " ('[30, 17, 46, 1, 1]', (-8.0124, 1)),\n",
       " ('[22, 7, 23, 0, 1]', (-8.0124, 1)),\n",
       " ('[14, 17, 46, 1, 1]', (-8.0124, 1)),\n",
       " ('[13, 7, 3, 1, 1]', (-8.0124, 1)),\n",
       " ('[24, 7, 41, 1, 1]', (-8.012799999999999, 2)),\n",
       " ('[0, 52, 57, 0, 1]', (-8.0128, 8)),\n",
       " ('[26, 21, 23, 1, 1]', (-8.0128, 4)),\n",
       " ('[23, 34, 12, 1, 1]', (-8.0128, 4)),\n",
       " ('[28, 17, 39, 1, 1]', (-8.0128, 3)),\n",
       " ('[1, 19, 25, 1, 1]', (-8.0128, 1)),\n",
       " ('[72, 3, 2, 1, 1]', (-8.0128, 1)),\n",
       " ('[27, 15, 28, 1, 1]', (-8.013200000000001, 4)),\n",
       " ('[17, 4, 51, 1, 1]', (-8.013200000000001, 3)),\n",
       " ('[41, 30, 1, 1, 1]', (-8.013200000000001, 1)),\n",
       " ('[4, 35, 48, 1, 1]', (-8.013200000000001, 1)),\n",
       " ('[25, 56, 11, 1, 1]', (-8.013599999999999, 1)),\n",
       " ('[44, 11, 25, 1, 1]', (-8.0136, 2)),\n",
       " ('[3, 7, 27, 1, 1]', (-8.0136, 1)),\n",
       " ('[19, 9, 41, 1, 1]', (-8.014, 2)),\n",
       " ('[4, 43, 53, 1, 1]', (-8.014, 1)),\n",
       " ('[3, 25, 40, 1, 1]', (-8.014000000000001, 1)),\n",
       " ('[27, 15, 48, 1, 1]', (-8.0144, 6)),\n",
       " ('[22, 28, 37, 1, 1]', (-8.0144, 4)),\n",
       " ('[19, 12, 36, 1, 1]', (-8.0144, 2)),\n",
       " ('[26, 19, 51, 1, 1]', (-8.0144, 1)),\n",
       " ('[22, 30, 26, 1, 0]', (-8.0144, 1)),\n",
       " ('[0, 2, 39, 1, 1]', (-8.0144, 1)),\n",
       " ('[29, 0, 21, 1, 1]', (-8.0144, 1)),\n",
       " ('[24, 0, 1, 0, 0]', (-8.014800000000001, 6)),\n",
       " ('[22, 28, 19, 1, 1]', (-8.014800000000001, 4)),\n",
       " ('[28, 20, 32, 1, 1]', (-8.014800000000001, 3)),\n",
       " ('[17, 50, 17, 1, 1]', (-8.014800000000001, 3)),\n",
       " ('[1, 13, 29, 1, 1]', (-8.014800000000001, 1)),\n",
       " ('[29, 28, 17, 1, 1]', (-8.0152, 6)),\n",
       " ('[26, 17, 25, 1, 1]', (-8.0152, 3)),\n",
       " ('[15, 36, 40, 1, 0]', (-8.0152, 1)),\n",
       " ('[25, 3, 26, 0, 1]', (-8.0152, 1)),\n",
       " ('[45, 2, 9, 1, 1]', (-8.0152, 1)),\n",
       " ('[44, 31, 1, 1, 1]', (-8.0156, 2)),\n",
       " ('[14, 0, 29, 1, 1]', (-8.0156, 1)),\n",
       " ('[9, 3, 41, 1, 1]', (-8.015600000000001, 1)),\n",
       " ('[0, 24, 47, 0, 1]', (-8.015999999999998, 21)),\n",
       " ('[25, 21, 20, 1, 1]', (-8.015999999999998, 3)),\n",
       " ('[8, 37, 31, 1, 1]', (-8.015999999999998, 1)),\n",
       " ('[16, 34, 29, 1, 0]', (-8.015999999999998, 1)),\n",
       " ('[26, 31, 8, 1, 1]', (-8.016, 6)),\n",
       " ('[5, 32, 47, 0, 1]', (-8.016, 1)),\n",
       " ('[26, 13, 37, 1, 1]', (-8.016000000000002, 3)),\n",
       " ('[9, 29, 26, 0, 1]', (-8.016000000000002, 1)),\n",
       " ('[-2, 33, 41, 1, 1]', (-8.016399999999999, 7)),\n",
       " ('[28, 34, 14, 1, 1]', (-8.016399999999999, 6)),\n",
       " ('[29, 9, 39, 1, 1]', (-8.016399999999999, 6)),\n",
       " ('[0, 6, 31, 0, 1]', (-8.016399999999999, 3)),\n",
       " ('[3, 43, 29, 1, 0]', (-8.016399999999999, 1)),\n",
       " ('[21, 33, 36, 1, 0]', (-8.016399999999999, 1)),\n",
       " ('[29, 5, 41, 1, 1]', (-8.0166, 6)),\n",
       " ('[0, 24, 37, 1, 0]', (-8.0168, 24)),\n",
       " ('[1, 26, 19, 1, 1]', (-8.0168, 1)),\n",
       " ('[30, 27, 38, 1, 1]', (-8.0168, 1)),\n",
       " ('[5, 45, 16, 1, 1]', (-8.0168, 1)),\n",
       " ('[5, 47, 9, 1, 1]', (-8.0168, 1)),\n",
       " ('[16, 34, 31, 0, 1]', (-8.0168, 1)),\n",
       " ('[21, 1, 32, 1, 1]', (-8.016960000000001, 6)),\n",
       " ('[28, 39, 29, 1, 1]', (-8.017199999999999, 6)),\n",
       " ('[20, 12, 44, 1, 1]', (-8.017199999999999, 2)),\n",
       " ('[17, 35, 33, 1, 0]', (-8.017199999999999, 2)),\n",
       " ('[35, 41, 10, 1, 1]', (-8.017199999999999, 1)),\n",
       " ('[-2, 46, 27, 1, 1]', (-8.0172, 7)),\n",
       " ('[25, 17, 49, 1, 1]', (-8.0172, 5)),\n",
       " ('[24, 38, 0, 1, 1]', (-8.0172, 3)),\n",
       " ('[18, 5, 2, 1, 1]', (-8.0172, 1)),\n",
       " ('[41, 42, 12, 1, 1]', (-8.0172, 1)),\n",
       " ('[24, 2, 46, 0, 1]', (-8.0172, 1)),\n",
       " ('[29, 4, 19, 1, 1]', (-8.0172, 1)),\n",
       " ('[13, 46, 5, 1, 1]', (-8.017599999999998, 1)),\n",
       " ('[-1, 38, 39, 0, 1]', (-8.0176, 7)),\n",
       " ('[43, 12, 30, 1, 1]', (-8.0176, 1)),\n",
       " ('[0, 4, 39, 1, 0]', (-8.017600000000002, 3)),\n",
       " ('[13, 23, 18, 1, 1]', (-8.017600000000002, 1)),\n",
       " ('[-1, 38, 51, 1, 1]', (-8.01784, 32)),\n",
       " ('[-1, 34, 26, 0, 0]', (-8.017999999999999, 31)),\n",
       " ('[19, 37, 30, 1, 0]', (-8.017999999999999, 1)),\n",
       " ('[32, 16, 37, 1, 1]', (-8.017999999999999, 1)),\n",
       " ('[17, 9, 56, 1, 1]', (-8.017999999999999, 1)),\n",
       " ('[46, 33, 11, 1, 1]', (-8.017999999999999, 1)),\n",
       " ('[18, 7, 1, 1, 1]', (-8.018, 1)),\n",
       " ('[1, 43, 39, 0, 1]', (-8.018, 1)),\n",
       " ('[3, 37, 28, 1, 0]', (-8.018, 1)),\n",
       " ('[21, 36, 32, 1, 0]', (-8.018, 1)),\n",
       " ('[25, 2, 37, 1, 1]', (-8.01832, 5)),\n",
       " ('[26, 16, 24, 1, 1]', (-8.0184, 3)),\n",
       " ('[22, 48, 8, 1, 0]', (-8.0184, 1)),\n",
       " ('[34, 22, 7, 1, 1]', (-8.0184, 1)),\n",
       " ('[10, 11, 56, 1, 1]', (-8.0184, 1)),\n",
       " ('[14, 9, 52, 1, 1]', (-8.0184, 1)),\n",
       " ('[25, 30, 41, 1, 1]', (-8.018400000000002, 1)),\n",
       " ('[-1, 55, 30, 1, 0]', (-8.0188, 3)),\n",
       " ('[-1, 18, 23, 1, 0]', (-8.0188, 2)),\n",
       " ('[1, 22, 24, 1, 1]', (-8.0188, 1)),\n",
       " ('[30, 16, 45, 1, 1]', (-8.0188, 1)),\n",
       " ('[22, 35, 22, 0, 1]', (-8.0188, 1)),\n",
       " ('[-1, 40, 48, 1, 0]', (-8.019, 7)),\n",
       " ('[30, 1, 21, 1, 1]', (-8.0192, 1)),\n",
       " ('[25, 6, 1, 0, 1]', (-8.0192, 1)),\n",
       " ('[13, 32, 24, 1, 1]', (-8.0192, 1)),\n",
       " ('[21, 44, 19, 1, 1]', (-8.0192, 1)),\n",
       " ('[-1, 37, 29, 1, 1]', (-8.019200000000001, 41)),\n",
       " ('[13, 29, 15, 1, 1]', (-8.019200000000001, 2)),\n",
       " ('[1, 56, 27, 0, 1]', (-8.019200000000001, 1)),\n",
       " ('[0, 17, 51, 0, 1]', (-8.019599999999999, 5)),\n",
       " ('[23, 16, 56, 1, 1]', (-8.019599999999999, 1)),\n",
       " ('[9, 3, 42, 1, 1]', (-8.0196, 1)),\n",
       " ('[0, 19, 41, 1, 0]', (-8.02, 9)),\n",
       " ('[26, 10, 36, 1, 1]', (-8.02, 3)),\n",
       " ('[23, 5, 22, 1, 1]', (-8.020280000000001, 3)),\n",
       " ('[25, 32, 27, 1, 1]', (-8.0204, 6)),\n",
       " ('[8, 32, 30, 1, 1]', (-8.0204, 1)),\n",
       " ('[0, 43, 24, 1, 1]', (-8.0208, 1)),\n",
       " ('[3, 31, 28, 0, 1]', (-8.0208, 1)),\n",
       " ('[5, 30, 36, 1, 0]', (-8.0208, 1)),\n",
       " ('[22, 53, 8, 1, 1]', (-8.0208, 1)),\n",
       " ('[20, 29, 12, 0, 1]', (-8.0208, 1)),\n",
       " ('[19, 12, 55, 1, 1]', (-8.020800000000001, 1)),\n",
       " ('[25, 1, 30, 0, 1]', (-8.020800000000001, 1)),\n",
       " ('[13, 14, 26, 1, 1]', (-8.020800000000001, 1)),\n",
       " ('[0, 51, 55, 0, 1]', (-8.021199999999999, 13)),\n",
       " ('[42, 10, 5, 1, 1]', (-8.021199999999999, 1)),\n",
       " ('[24, 29, 26, 1, 1]', (-8.0212, 5)),\n",
       " ('[-1, 45, 44, 0, 1]', (-8.0216, 7)),\n",
       " ('[-1, 41, 56, 1, 0]', (-8.0216, 4)),\n",
       " ('[26, 15, 18, 1, 1]', (-8.0216, 2)),\n",
       " ('[21, 55, 19, 1, 1]', (-8.0216, 1)),\n",
       " ('[29, 21, 39, 1, 1]', (-8.022, 6)),\n",
       " ('[-1, 14, 46, 1, 1]', (-8.0224, 4)),\n",
       " ('[-1, 24, 43, 1, 0]', (-8.0224, 4)),\n",
       " ('[0, 47, 19, 1, 1]', (-8.0224, 1)),\n",
       " ('[47, 30, 6, 1, 1]', (-8.0224, 1)),\n",
       " ('[26, 4, 53, 1, 1]', (-8.0224, 1)),\n",
       " ('[0, 57, 32, 0, 1]', (-8.0228, 9)),\n",
       " ('[22, 5, 33, 1, 1]', (-8.0228, 6)),\n",
       " ('[25, 16, 53, 1, 1]', (-8.0228, 4)),\n",
       " ('[21, 3, 24, 1, 1]', (-8.0228, 4)),\n",
       " ('[3, 26, 34, 1, 1]', (-8.0228, 1)),\n",
       " ('[15, 40, 8, 1, 1]', (-8.0228, 1)),\n",
       " ('[15, 35, 28, 1, 1]', (-8.0228, 1)),\n",
       " ('[13, 18, 26, 1, 1]', (-8.0228, 1)),\n",
       " ('[26, 13, 51, 1, 1]', (-8.0232, 1)),\n",
       " ('[22, 29, 0, 1, 0]', (-8.023200000000001, 7)),\n",
       " ('[26, 14, 29, 1, 1]', (-8.023200000000001, 4)),\n",
       " ('[19, 13, 34, 1, 1]', (-8.023200000000001, 2)),\n",
       " ('[0, 21, 54, 0, 1]', (-8.023599999999998, 9)),\n",
       " ('[1, 24, 45, 1, 1]', (-8.023599999999998, 1)),\n",
       " ('[30, 6, 41, 1, 1]', (-8.023599999999998, 1)),\n",
       " ('[15, 48, 12, 1, 1]', (-8.023600000000002, 1)),\n",
       " ('[27, 39, 7, 1, 1]', (-8.024, 4)),\n",
       " ('[23, 44, 23, 1, 1]', (-8.024, 3)),\n",
       " ('[22, 11, 53, 1, 1]', (-8.024, 3)),\n",
       " ('[19, 11, 27, 1, 1]', (-8.024, 2)),\n",
       " ('[24, 5, 7, 0, 1]', (-8.024, 2)),\n",
       " ('[17, 30, 28, 1, 1]', (-8.024000000000001, 5)),\n",
       " ('[22, 3, 25, 1, 1]', (-8.024000000000001, 5)),\n",
       " ('[9, 12, 52, 1, 1]', (-8.024000000000001, 1)),\n",
       " ('[0, 25, 31, 1, 0]', (-8.0244, 29)),\n",
       " ('[27, 18, 36, 1, 1]', (-8.0244, 6)),\n",
       " ('[3, 50, 38, 1, 0]', (-8.0244, 1)),\n",
       " ('[13, 34, 14, 1, 1]', (-8.0244, 1)),\n",
       " ('[13, 51, 8, 1, 1]', (-8.0244, 1)),\n",
       " ('[27, 10, 36, 1, 1]', (-8.0248, 6)),\n",
       " ('[25, 18, 31, 1, 1]', (-8.0248, 5)),\n",
       " ('[25, 26, 39, 1, 1]', (-8.0248, 5)),\n",
       " ('[26, 26, 22, 1, 1]', (-8.0248, 5)),\n",
       " ('[22, 46, 16, 1, 1]', (-8.0248, 4)),\n",
       " ('[44, 5, 29, 1, 1]', (-8.0248, 4)),\n",
       " ('[0, 3, 37, 0, 1]', (-8.0248, 3)),\n",
       " ('[24, 30, 5, 1, 1]', (-8.0248, 3)),\n",
       " ('[-1, 21, 24, 0, 1]', (-8.0248, 2)),\n",
       " ('[9, 20, 43, 1, 1]', (-8.0248, 1)),\n",
       " ('[9, 32, 36, 1, 0]', (-8.0248, 1)),\n",
       " ('[35, 35, 1, 1, 1]', (-8.0248, 1)),\n",
       " ('[19, 27, 26, 0, 1]', (-8.0248, 1)),\n",
       " ('[14, 2, 45, 1, 1]', (-8.0248, 1)),\n",
       " ('[-1, 33, 44, 1, 0]', (-8.025079999999999, 7)),\n",
       " ('[9, 46, 30, 0, 1]', (-8.025199999999998, 1)),\n",
       " ('[-1, 27, 37, 0, 1]', (-8.0252, 5)),\n",
       " ('[23, 35, 16, 1, 1]', (-8.0252, 4)),\n",
       " ('[25, 6, 55, 1, 1]', (-8.0252, 3)),\n",
       " ('[30, 16, 30, 1, 1]', (-8.0252, 1)),\n",
       " ('[5, 35, 25, 1, 1]', (-8.0252, 1)),\n",
       " ('[38, 4, 28, 1, 1]', (-8.0252, 1)),\n",
       " ('[9, 49, 43, 0, 1]', (-8.0252, 1)),\n",
       " ('[29, 2, 13, 1, 1]', (-8.0252, 1)),\n",
       " ('[29, 34, 29, 1, 1]', (-8.025200000000002, 6)),\n",
       " ('[19, 13, 31, 1, 1]', (-8.025200000000002, 2)),\n",
       " ('[-2, 33, 42, 1, 1]', (-8.02532, 7)),\n",
       " ('[21, 29, 50, 1, 1]', (-8.025599999999999, 5)),\n",
       " ('[17, 42, 0, 1, 1]', (-8.025599999999999, 3)),\n",
       " ('[12, 17, 19, 1, 1]', (-8.025599999999999, 1)),\n",
       " ('[-1, 35, 9, 1, 1]', (-8.025599999999999, 1)),\n",
       " ('[9, 23, 28, 1, 1]', (-8.025599999999999, 1)),\n",
       " ('[14, 21, 28, 1, 1]', (-8.025599999999999, 1)),\n",
       " ('[21, 34, 28, 0, 1]', (-8.0256, 1)),\n",
       " ('[-1, 0, 24, 1, 1]', (-8.025759999999998, 51)),\n",
       " ('[22, 10, 21, 1, 1]', (-8.025960000000003, 2)),\n",
       " ('[24, 21, 42, 1, 1]', (-8.025999999999998, 2)),\n",
       " ('[47, 1, 3, 1, 1]', (-8.026, 1)),\n",
       " ('[-2, 27, 49, 1, 1]', (-8.026000000000002, 5)),\n",
       " ('[0, 44, 46, 0, 1]', (-8.0262, 36)),\n",
       " ('[3, 43, 13, 1, 0]', (-8.026399999999999, 1)),\n",
       " ('[25, 37, 16, 1, 1]', (-8.0264, 6)),\n",
       " ('[22, 8, 22, 1, 1]', (-8.0264, 3)),\n",
       " ('[28, 1, 30, 0, 1]', (-8.0264, 1)),\n",
       " ('[15, 47, 16, 1, 1]', (-8.0264, 1)),\n",
       " ('[16, 38, 27, 1, 1]', (-8.0264, 1)),\n",
       " ('[28, 32, 17, 1, 1]', (-8.0268, 6)),\n",
       " ('[26, 13, 26, 1, 1]', (-8.0268, 3)),\n",
       " ('[43, 3, 35, 1, 1]', (-8.0268, 1)),\n",
       " ('[9, 8, 33, 1, 1]', (-8.0268, 1)),\n",
       " ('[28, 13, 10, 1, 1]', (-8.0268, 1)),\n",
       " ('[-1, 37, 29, 0, 1]', (-8.026800000000001, 7)),\n",
       " ('[25, 23, 28, 1, 1]', (-8.027184, 9)),\n",
       " ('[27, 49, 8, 1, 1]', (-8.027199999999999, 3)),\n",
       " ('[23, 30, 11, 1, 1]', (-8.0272, 4)),\n",
       " ('[26, 4, 7, 0, 1]', (-8.0272, 1)),\n",
       " ('[24, 58, 12, 1, 1]', (-8.0272, 1)),\n",
       " ('[14, 19, 47, 1, 1]', (-8.0272, 1)),\n",
       " ('[13, 2, 10, 1, 1]', (-8.0272, 1)),\n",
       " ('[16, 26, 41, 1, 1]', (-8.0276, 2)),\n",
       " ('[12, 17, 13, 1, 1]', (-8.0276, 1)),\n",
       " ('[15, 43, 12, 1, 1]', (-8.0276, 1)),\n",
       " ('[5, 36, 50, 1, 0]', (-8.0276, 1)),\n",
       " ('[10, 19, 46, 1, 1]', (-8.0276, 1)),\n",
       " ('[19, 50, 29, 1, 1]', (-8.027999999999999, 3)),\n",
       " ('[0, 12, 54, 0, 1]', (-8.027999999999999, 2)),\n",
       " ('[0, 15, 54, 1, 0]', (-8.027999999999999, 2)),\n",
       " ('[19, 7, 28, 1, 1]', (-8.028, 2)),\n",
       " ('[-1, 57, 51, 0, 1]', (-8.028, 2)),\n",
       " ('[10, 11, 51, 1, 1]', (-8.028399999999998, 1)),\n",
       " ('[22, 10, 45, 1, 1]', (-8.0284, 4)),\n",
       " ('[27, 30, 14, 1, 1]', (-8.0284, 4)),\n",
       " ('[17, 28, 43, 1, 1]', (-8.0284, 3)),\n",
       " ('[20, 27, 34, 1, 1]', (-8.0284, 2)),\n",
       " ('[18, 9, 28, 1, 1]', (-8.0284, 1)),\n",
       " ('[21, 30, 14, 1, 1]', (-8.0284, 1)),\n",
       " ('[-1, 51, 50, 0, 1]', (-8.028400000000001, 4)),\n",
       " ('[-2, 38, 38, 1, 1]', (-8.028799999999999, 7)),\n",
       " ('[13, 49, 4, 1, 1]', (-8.028799999999999, 1)),\n",
       " ('[0, 19, 34, 1, 0]', (-8.0288, 9)),\n",
       " ('[0, 12, 47, 0, 1]', (-8.0288, 3)),\n",
       " ('[1, 30, 43, 0, 1]', (-8.0288, 1)),\n",
       " ('[25, 3, 58, 1, 1]', (-8.0288, 1)),\n",
       " ('[16, 11, 25, 1, 1]', (-8.0288, 1)),\n",
       " ('[0, 26, 46, 1, 0]', (-8.0292, 29)),\n",
       " ('[23, 13, 45, 1, 1]', (-8.0292, 3)),\n",
       " ('[1, 38, 34, 1, 0]', (-8.0292, 1)),\n",
       " ('[26, 3, 57, 1, 1]', (-8.0292, 1)),\n",
       " ('[23, 8, 47, 1, 0]', (-8.0292, 1)),\n",
       " ('[22, 10, 38, 1, 1]', (-8.029200000000001, 4)),\n",
       " ('[25, 51, 9, 1, 1]', (-8.029200000000001, 3)),\n",
       " ('[46, 30, 10, 1, 1]', (-8.029200000000001, 2)),\n",
       " ('[28, 14, 51, 1, 1]', (-8.029200000000001, 2)),\n",
       " ('[-1, 46, 8, 1, 1]', (-8.029200000000001, 1)),\n",
       " ('[10, 5, 41, 1, 1]', (-8.029200000000001, 1)),\n",
       " ('[-1, 25, 48, 1, 0]', (-8.029599999999999, 4)),\n",
       " ('[23, 37, 16, 1, 1]', (-8.029599999999999, 4)),\n",
       " ('[23, 26, 2, 0, 1]', (-8.029599999999999, 2)),\n",
       " ('[32, 11, 35, 1, 1]', (-8.029599999999999, 1)),\n",
       " ('[3, 43, 21, 0, 1]', (-8.029599999999999, 1)),\n",
       " ('[22, 55, 26, 1, 1]', (-8.029599999999999, 1)),\n",
       " ('[-1, 14, 27, 1, 1]', (-8.029919999999999, 55)),\n",
       " ('[26, 44, 10, 1, 1]', (-8.03, 5)),\n",
       " ('[40, 31, 5, 1, 1]', (-8.03, 2)),\n",
       " ('[5, 34, 6, 1, 1]', (-8.03, 1)),\n",
       " ('[17, 9, 39, 1, 1]', (-8.030000000000001, 3)),\n",
       " ('[17, 25, 14, 1, 1]', (-8.030000000000001, 1)),\n",
       " ('[5, 23, 45, 0, 1]', (-8.030000000000001, 1)),\n",
       " ('[1, 50, 45, 0, 1]', (-8.030399999999998, 1)),\n",
       " ('[-1, 17, 36, 1, 1]', (-8.0304, 8)),\n",
       " ('[28, 51, 1, 1, 1]', (-8.0304, 4)),\n",
       " ('[-2, 32, 26, 1, 1]', (-8.0304, 4)),\n",
       " ('[20, 2, 39, 1, 1]', (-8.0304, 2)),\n",
       " ('[1, 43, 23, 0, 1]', (-8.0304, 1)),\n",
       " ('[35, 35, 3, 1, 1]', (-8.0304, 1)),\n",
       " ('[13, 41, 21, 1, 1]', (-8.0304, 1)),\n",
       " ('[-1, 39, 55, 1, 1]', (-8.0308, 18)),\n",
       " ('[-2, 53, 35, 1, 1]', (-8.0308, 3)),\n",
       " ('[10, 3, 54, 1, 1]', (-8.0308, 1)),\n",
       " ('[-1, 17, 45, 1, 1]', (-8.030800000000001, 6)),\n",
       " ('[19, 47, 13, 1, 1]', (-8.030800000000001, 4)),\n",
       " ('[-1, 53, 29, 1, 0]', (-8.030800000000001, 3)),\n",
       " ('[19, 6, 29, 1, 1]', (-8.030800000000001, 2)),\n",
       " ('[3, 54, 12, 0, 1]', (-8.030800000000001, 1)),\n",
       " ('[4, 41, 39, 1, 1]', (-8.030800000000001, 1)),\n",
       " ('[9, 47, 39, 1, 0]', (-8.030800000000001, 1)),\n",
       " ('[44, 25, 10, 1, 1]', (-8.030800000000001, 1)),\n",
       " ('[-1, 51, 38, 1, 1]', (-8.031199999999998, 28)),\n",
       " ('[14, 8, 52, 1, 1]', (-8.031199999999998, 1)),\n",
       " ('[13, 45, 1, 1, 1]', (-8.031199999999998, 1)),\n",
       " ('[-1, 29, 41, 0, 1]', (-8.0312, 7)),\n",
       " ('[-1, 55, 47, 0, 1]', (-8.0312, 3)),\n",
       " ('[9, 32, 36, 0, 1]', (-8.0312, 1)),\n",
       " ('[10, 21, 36, 1, 1]', (-8.0312, 1)),\n",
       " ('[14, 18, 35, 1, 1]', (-8.0312, 1)),\n",
       " ('[-2, 43, 48, 1, 1]', (-8.031200000000002, 7)),\n",
       " ('[-1, 3, 9, 1, 1]', (-8.031447200000002, 50)),\n",
       " ('[-1, 57, 28, 1, 1]', (-8.0316, 7)),\n",
       " ('[25, 17, 28, 1, 1]', (-8.0316, 4)),\n",
       " ('[0, 2, 44, 0, 1]', (-8.0316, 1)),\n",
       " ('[1, 41, 30, 1, 0]', (-8.0316, 1)),\n",
       " ('[2, 35, 36, 1, 1]', (-8.0316, 1)),\n",
       " ('[-1, 42, 12, 1, 1]', (-8.0316, 1)),\n",
       " ('[14, 4, 24, 1, 1]', (-8.0316, 1)),\n",
       " ('[16, 19, 26, 1, 1]', (-8.0316, 1)),\n",
       " ('[27, 14, 21, 1, 1]', (-8.0316, 1)),\n",
       " ('[24, 43, 5, 1, 1]', (-8.031600000000001, 3)),\n",
       " ('[-2, 37, 23, 1, 1]', (-8.031600000000001, 2)),\n",
       " ('[3, 29, 32, 1, 0]', (-8.031600000000001, 1)),\n",
       " ('[34, 27, 6, 1, 1]', (-8.031600000000001, 1)),\n",
       " ('[8, 49, 41, 1, 1]', (-8.031600000000001, 1)),\n",
       " ('[16, 32, 27, 1, 0]', (-8.031600000000001, 1)),\n",
       " ('[28, 5, 23, 1, 1]', (-8.03172, 2)),\n",
       " ('[22, 30, 0, 1, 1]', (-8.032, 5)),\n",
       " ('[25, 21, 6, 1, 1]', (-8.032, 3)),\n",
       " ('[1, 44, 43, 0, 1]', (-8.032, 1)),\n",
       " ('[12, 16, 2, 1, 1]', (-8.032, 1)),\n",
       " ('[3, 49, 33, 0, 1]', (-8.032, 1)),\n",
       " ('[9, 12, 27, 1, 1]', (-8.032, 1)),\n",
       " ('[9, 29, 27, 1, 0]', (-8.032, 1)),\n",
       " ('[16, 38, 29, 0, 1]', (-8.032, 1)),\n",
       " ('[26, 28, 31, 1, 1]', (-8.0322, 3)),\n",
       " ('[0, 13, 34, 0, 1]', (-8.032399999999999, 5)),\n",
       " ('[-1, 21, 30, 1, 0]', (-8.0324, 3)),\n",
       " ('[17, 6, 50, 1, 1]', (-8.0324, 3)),\n",
       " ('[24, 7, 40, 1, 1]', (-8.0324, 2)),\n",
       " ('[10, 5, 45, 1, 1]', (-8.0324, 1)),\n",
       " ('[25, 4, 23, 1, 1]', (-8.0324, 1)),\n",
       " ('[1, 54, 18, 0, 1]', (-8.032799999999998, 1)),\n",
       " ('[25, 21, 7, 1, 1]', (-8.0328, 3)),\n",
       " ('[25, 20, 21, 1, 1]', (-8.0328, 2)),\n",
       " ('[1, 29, 21, 0, 1]', (-8.0328, 1)),\n",
       " ('[25, 55, 19, 1, 1]', (-8.0328, 1)),\n",
       " ('[27, 37, 1, 1, 1]', (-8.032800000000002, 4)),\n",
       " ('[21, 19, 55, 1, 1]', (-8.032800000000002, 2)),\n",
       " ('[42, 6, 4, 1, 1]', (-8.032800000000002, 1)),\n",
       " ('[0, 17, 7, 0, 1]', (-8.032836, 50)),\n",
       " ('[28, 35, 22, 1, 1]', (-8.03284, 6)),\n",
       " ('[0, 35, 36, 1, 0]', (-8.033, 40)),\n",
       " ('[0, 58, 48, 1, 0]', (-8.033199999999999, 5)),\n",
       " ('[49, 32, 8, 1, 1]', (-8.033199999999999, 1)),\n",
       " ('[5, 48, 6, 1, 1]', (-8.033199999999999, 1)),\n",
       " ('[17, 16, 24, 1, 1]', (-8.0332, 2)),\n",
       " ('[21, 30, 43, 1, 1]', (-8.0332, 1)),\n",
       " ('[5, 41, 44, 1, 0]', (-8.0332, 1)),\n",
       " ('[9, 29, 32, 1, 1]', (-8.0332, 1)),\n",
       " ('[38, 15, 32, 1, 1]', (-8.0332, 1)),\n",
       " ('[14, 8, 34, 1, 1]', (-8.0332, 1)),\n",
       " ('[26, 12, 23, 1, 1]', (-8.03348, 3)),\n",
       " ('[28, 34, 22, 1, 1]', (-8.0336, 6)),\n",
       " ('[21, 1, 36, 1, 1]', (-8.0336, 5)),\n",
       " ('[19, 24, 27, 1, 1]', (-8.0336, 4)),\n",
       " ('[0, 53, 15, 0, 1]', (-8.0336, 1)),\n",
       " ('[22, 29, 31, 1, 1]', (-8.033999999999999, 5)),\n",
       " ('[26, 17, 22, 1, 1]', (-8.033999999999999, 3)),\n",
       " ('[15, 30, 10, 1, 1]', (-8.033999999999999, 1)),\n",
       " ('[13, 8, 6, 1, 1]', (-8.033999999999999, 1)),\n",
       " ('[21, 36, 19, 1, 1]', (-8.033999999999999, 1)),\n",
       " ('[21, 31, 12, 1, 0]', (-8.033999999999999, 1)),\n",
       " ('[0, 40, 48, 1, 0]', (-8.034, 34)),\n",
       " ('[0, 50, 11, 0, 1]', (-8.034, 1)),\n",
       " ('[-1, 57, 48, 1, 1]', (-8.03404, 7)),\n",
       " ('[27, 10, 46, 1, 1]', (-8.0344, 6)),\n",
       " ('[17, 0, 40, 1, 1]', (-8.0344, 3)),\n",
       " ('[0, 58, 25, 0, 1]', (-8.0344, 3)),\n",
       " ('[19, 5, 54, 1, 1]', (-8.0344, 2)),\n",
       " ('[18, 39, 28, 1, 1]', (-8.0344, 1)),\n",
       " ('[26, 49, 2, 1, 0]', (-8.0344, 1)),\n",
       " ('[8, 41, 27, 1, 1]', (-8.0344, 1)),\n",
       " ('[9, 44, 44, 0, 1]', (-8.0344, 1)),\n",
       " ('[14, 9, 50, 1, 1]', (-8.0344, 1)),\n",
       " ('[13, 44, 11, 1, 1]', (-8.0344, 1)),\n",
       " ('[21, 32, 15, 1, 1]', (-8.0344, 1)),\n",
       " ('[44, 9, 2, 1, 1]', (-8.034400000000002, 1)),\n",
       " ('[-2, 33, 56, 1, 1]', (-8.0346, 4)),\n",
       " ('[-2, 58, 38, 1, 1]', (-8.034799999999999, 2)),\n",
       " ('[20, 20, 46, 1, 1]', (-8.034799999999999, 2)),\n",
       " ('[25, 3, 38, 1, 1]', (-8.0348, 5)),\n",
       " ('[27, 37, 4, 1, 1]', (-8.0348, 4)),\n",
       " ('[23, 3, 20, 1, 1]', (-8.0348, 2)),\n",
       " ('[3, 6, 24, 1, 1]', (-8.0348, 1)),\n",
       " ('[5, 29, 30, 0, 1]', (-8.0348, 1)),\n",
       " ('[23, 17, 5, 1, 1]', (-8.0348, 1)),\n",
       " ('[15, 31, 13, 1, 1]', (-8.035199999999998, 1)),\n",
       " ('[0, 53, 53, 1, 0]', (-8.0352, 12)),\n",
       " ('[-2, 40, 36, 1, 1]', (-8.0352, 7)),\n",
       " ('[24, 2, 43, 1, 1]', (-8.0352, 2)),\n",
       " ('[28, 2, 21, 1, 1]', (-8.0352, 2)),\n",
       " ('[21, 7, 56, 1, 1]', (-8.0352, 2)),\n",
       " ('[1, 42, 45, 0, 1]', (-8.0352, 1)),\n",
       " ('[12, 16, 24, 1, 1]', (-8.0352, 1)),\n",
       " ('[3, 18, 18, 1, 1]', (-8.0352, 1)),\n",
       " ('[32, 7, 19, 1, 1]', (-8.0352, 1)),\n",
       " ('[5, 34, 38, 1, 0]', (-8.0352, 1)),\n",
       " ('[20, 27, 15, 1, 0]', (-8.035200000000001, 1)),\n",
       " ('[-1, 55, 50, 0, 1]', (-8.03532, 3)),\n",
       " ('[17, 37, 30, 1, 0]', (-8.035599999999999, 2)),\n",
       " ('[44, 9, 7, 1, 1]', (-8.035599999999999, 1)),\n",
       " ('[21, 55, 2, 1, 1]', (-8.035599999999999, 1)),\n",
       " ('[35, 43, 6, 1, 1]', (-8.0356, 1)),\n",
       " ('[17, 37, 24, 1, 0]', (-8.0356, 1)),\n",
       " ('[52, 6, 3, 1, 1]', (-8.035600000000002, 1)),\n",
       " ('[-2, 25, 49, 1, 1]', (-8.036, 4)),\n",
       " ('[42, 7, 0, 1, 1]', (-8.036, 1)),\n",
       " ('[32, 11, 17, 1, 1]', (-8.036, 1)),\n",
       " ('[5, 31, 23, 1, 1]', (-8.036, 1)),\n",
       " ('[13, 10, 13, 1, 1]', (-8.036, 1)),\n",
       " ('[26, 41, 10, 1, 0]', (-8.036, 1)),\n",
       " ('[20, 36, 20, 0, 1]', (-8.036, 1)),\n",
       " ('[29, 11, 55, 1, 1]', (-8.036000000000001, 3)),\n",
       " ('[0, 5, 30, 1, 1]', (-8.036000000000001, 1)),\n",
       " ('[5, 33, 46, 0, 1]', (-8.036000000000003, 1)),\n",
       " ('[28, 29, 25, 1, 1]', (-8.0364, 7)),\n",
       " ('[-1, 44, 39, 0, 1]', (-8.0364, 7)),\n",
       " ('[28, 24, 17, 1, 1]', (-8.0364, 4)),\n",
       " ('[29, 28, 58, 1, 1]', (-8.0364, 1)),\n",
       " ('[41, 37, 7, 1, 1]', (-8.0364, 1)),\n",
       " ('[16, 38, 31, 1, 1]', (-8.036799999999998, 2)),\n",
       " ('[22, 29, 23, 1, 1]', (-8.0368, 6)),\n",
       " ('[27, 15, 53, 1, 1]', (-8.0368, 5)),\n",
       " ('[22, 34, 15, 1, 1]', (-8.0368, 4)),\n",
       " ('[3, 43, 18, 0, 1]', (-8.0368, 1)),\n",
       " ('[25, 19, 5, 1, 1]', (-8.0368, 1)),\n",
       " ('[1, 48, 36, 0, 1]', (-8.036800000000001, 1)),\n",
       " ('[10, 0, 33, 1, 1]', (-8.036800000000001, 1)),\n",
       " ('[0, 12, 12, 1, 0]', (-8.036879999999998, 51)),\n",
       " ('[0, 16, 45, 1, 0]', (-8.0372, 5)),\n",
       " ('[22, 25, 34, 1, 1]', (-8.0372, 5)),\n",
       " ('[22, 49, 24, 1, 1]', (-8.0372, 2)),\n",
       " ('[33, 6, 48, 1, 1]', (-8.0372, 1)),\n",
       " ('[46, 26, 8, 1, 1]', (-8.0372, 1)),\n",
       " ('[43, 6, 33, 1, 1]', (-8.0372, 1)),\n",
       " ('[9, 4, 27, 1, 1]', (-8.0372, 1)),\n",
       " ('[14, 13, 38, 1, 1]', (-8.0372, 1)),\n",
       " ('[23, 18, 10, 1, 1]', (-8.037200000000002, 1)),\n",
       " ('[28, 4, 2, 1, 1]', (-8.0376, 10)),\n",
       " ('[19, 39, 27, 1, 1]', (-8.0376, 4)),\n",
       " ('[25, 13, 56, 1, 1]', (-8.0376, 3)),\n",
       " ('[27, 21, 2, 1, 1]', (-8.0376, 2)),\n",
       " ('[18, 1, 20, 1, 1]', (-8.0376, 1)),\n",
       " ('[18, 18, 3, 1, 1]', (-8.0376, 1)),\n",
       " ('[3, 39, 37, 0, 1]', (-8.0376, 1)),\n",
       " ('[9, 18, 51, 1, 1]', (-8.0376, 1)),\n",
       " ('[-1, 36, 37, 1, 1]', (-8.037726800000002, 40)),\n",
       " ('[28, 48, 5, 1, 1]', (-8.03792, 5)),\n",
       " ...]"
      ]
     },
     "execution_count": 36,
     "metadata": {},
     "output_type": "execute_result"
    }
   ],
   "source": [
    "value_diagnostic"
   ]
  },
  {
   "cell_type": "code",
   "execution_count": null,
   "metadata": {},
   "outputs": [],
   "source": [
    "with open('output/diagnostic_output.txt', 'w') as f:\n",
    "    for item in value_diagnostic:\n",
    "        f.write(\"{i}\\n\".format(i = str(item)) )"
   ]
  },
  {
   "cell_type": "code",
   "execution_count": null,
   "metadata": {},
   "outputs": [
    {
     "data": {
      "text/plain": [
       "('[29, 0, 0, 1, 1]', (-114.81457733355218, 36))"
      ]
     },
     "execution_count": 38,
     "metadata": {},
     "output_type": "execute_result"
    }
   ],
   "source": [
    "item"
   ]
  },
  {
   "cell_type": "code",
   "execution_count": null,
   "metadata": {},
   "outputs": [
    {
     "data": {
      "text/plain": [
       "72568"
      ]
     },
     "execution_count": 39,
     "metadata": {},
     "output_type": "execute_result"
    }
   ],
   "source": [
    "len(value_dic)"
   ]
  },
  {
   "cell_type": "code",
   "execution_count": null,
   "metadata": {},
   "outputs": [],
   "source": []
  },
  {
   "cell_type": "code",
   "execution_count": null,
   "metadata": {},
   "outputs": [],
   "source": []
  }
 ],
 "metadata": {
  "kernelspec": {
   "display_name": "Python 3.8.10 ('.multi-sourcing-env': venv)",
   "language": "python",
   "name": "python3"
  },
  "language_info": {
   "codemirror_mode": {
    "name": "ipython",
    "version": 3
   },
   "file_extension": ".py",
   "mimetype": "text/x-python",
   "name": "python",
   "nbconvert_exporter": "python",
   "pygments_lexer": "ipython3",
   "version": "3.8.10"
  },
  "orig_nbformat": 4,
  "vscode": {
   "interpreter": {
    "hash": "cd381e17d028bd09dab022bcaf56b43c687ccc8a6f1edc8bc118936389c16b3d"
   }
  }
 },
 "nbformat": 4,
 "nbformat_minor": 2
}
