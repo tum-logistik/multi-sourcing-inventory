{
 "cells": [
  {
   "cell_type": "code",
   "execution_count": 2,
   "id": "01fdb7a0",
   "metadata": {},
   "outputs": [
    {
     "name": "stderr",
     "output_type": "stream",
     "text": [
      "/usr/local/lib/python3.8/site-packages/tqdm/auto.py:22: TqdmWarning: IProgress not found. Please update jupyter and ipywidgets. See https://ipywidgets.readthedocs.io/en/stable/user_install.html\n",
      "  from .autonotebook import tqdm as notebook_tqdm\n",
      "2022-11-28 08:22:33.380322: I tensorflow/core/platform/cpu_feature_guard.cc:193] This TensorFlow binary is optimized with oneAPI Deep Neural Network Library (oneDNN) to use the following CPU instructions in performance-critical operations:  AVX2 FMA\n",
      "To enable them in other operations, rebuild TensorFlow with the appropriate compiler flags.\n",
      "2022-11-28 08:22:34.023746: W tensorflow/compiler/xla/stream_executor/platform/default/dso_loader.cc:64] Could not load dynamic library 'libnvinfer.so.7'; dlerror: libnvinfer.so.7: cannot open shared object file: No such file or directory; LD_LIBRARY_PATH: /usr/local/lib/python3.8/site-packages/cv2/../../lib64:\n",
      "2022-11-28 08:22:34.023808: W tensorflow/compiler/xla/stream_executor/platform/default/dso_loader.cc:64] Could not load dynamic library 'libnvinfer_plugin.so.7'; dlerror: libnvinfer_plugin.so.7: cannot open shared object file: No such file or directory; LD_LIBRARY_PATH: /usr/local/lib/python3.8/site-packages/cv2/../../lib64:\n",
      "2022-11-28 08:22:34.023815: W tensorflow/compiler/tf2tensorrt/utils/py_utils.cc:38] TF-TRT Warning: Cannot dlopen some TensorRT libraries. If you would like to use Nvidia GPU with TensorRT, please make sure the missing libraries mentioned above are installed properly.\n"
     ]
    },
    {
     "name": "stdout",
     "output_type": "stream",
     "text": [
      "2.11.0\n"
     ]
    }
   ],
   "source": [
    "from opt.mc_sim import *\n",
    "from common.variables import *\n",
    "from sim.sim_functions import *\n",
    "import torch\n",
    "import gym\n",
    "from gym import spaces\n",
    "from gym import Env\n",
    "from gym.spaces import Discrete, Box, MultiDiscrete, Tuple, MultiBinary\n",
    "import tensorflow as tf; print(tf.__version__)"
   ]
  },
  {
   "cell_type": "code",
   "execution_count": 3,
   "id": "fe4c7945",
   "metadata": {},
   "outputs": [],
   "source": [
    "s = SourcingEnv()"
   ]
  },
  {
   "cell_type": "code",
   "execution_count": 4,
   "id": "34aa87a7",
   "metadata": {},
   "outputs": [],
   "source": [
    "class CustomGymEnv(Env):\n",
    "        \n",
    "    def __init__(self, sourcing_env):\n",
    "        self.SourcingEnv = sourcing_env\n",
    "        self.counter = 0\n",
    "        \n",
    "        # Actions we can take, down, stay, up\n",
    "        self.action_space = MultiDiscrete([INVEN_LIMIT,INVEN_LIMIT])\n",
    "\n",
    "        # Inventory Observation State\n",
    "        self.observation_space = Box(low=np.array([-30, 0, 0, 0, 0]), high=np.array([30, 30, 30, 1, 1]), shape=(5,), dtype=int)\n",
    "                                               \n",
    "    \n",
    "    def step(self, action):        \n",
    "        reward = self.reward_func(self.SourcingEnv.current_state, action)\n",
    "        next_state, event, i, event_probs, supplier_index = self.SourcingEnv.step(action)\n",
    "        self.counter += 1\n",
    "        \n",
    "        info = {}\n",
    "        \n",
    "        if self.counter < PERIODS:\n",
    "            done = False\n",
    "        else:\n",
    "            done = True\n",
    "        \n",
    "        next_state_array = np.array(next_state.get_list_repr())\n",
    "        return next_state_array, reward, done, info\n",
    "    \n",
    "    def reset(self):\n",
    "        self.SourcingEnv = SourcingEnv()\n",
    "        return np.array(self.SourcingEnv.current_state.get_list_repr())\n",
    "        \n",
    "    def reward_func(self, state, action):\n",
    "        reward_hb = H_COST * state.s if state.s >= 0 else (-B_PENALTY * state.s )\n",
    "        reward = reward_hb + np.sum(np.multiply(action, PROCUREMENT_COST_VEC))\n",
    "        reward = float(reward)\n",
    "        return -reward"
   ]
  },
  {
   "cell_type": "code",
   "execution_count": 5,
   "id": "0a85ef11",
   "metadata": {},
   "outputs": [],
   "source": [
    "#INVEN_LIMIT"
   ]
  },
  {
   "cell_type": "code",
   "execution_count": 6,
   "id": "fa020c9c",
   "metadata": {},
   "outputs": [],
   "source": [
    "#Discrete(INVEN_LIMIT)"
   ]
  },
  {
   "cell_type": "code",
   "execution_count": 7,
   "id": "e6520ba0",
   "metadata": {},
   "outputs": [],
   "source": [
    "s = SourcingEnv()"
   ]
  },
  {
   "cell_type": "code",
   "execution_count": 8,
   "id": "1a593a65",
   "metadata": {},
   "outputs": [],
   "source": [
    "custom_gym_env = CustomGymEnv(s)"
   ]
  },
  {
   "cell_type": "code",
   "execution_count": 9,
   "id": "0896f072",
   "metadata": {},
   "outputs": [
    {
     "data": {
      "text/plain": [
       "'Stock: 0, n backorders: [0. 0.], supplier status (on/off): [1. 1.]'"
      ]
     },
     "execution_count": 9,
     "metadata": {},
     "output_type": "execute_result"
    }
   ],
   "source": [
    "m_state = custom_gym_env.SourcingEnv.current_state\n",
    "\n",
    "str(m_state)"
   ]
  },
  {
   "cell_type": "code",
   "execution_count": 10,
   "id": "4488f454",
   "metadata": {},
   "outputs": [],
   "source": [
    "#PERIODS"
   ]
  },
  {
   "cell_type": "code",
   "execution_count": 11,
   "id": "3bf2fe41",
   "metadata": {},
   "outputs": [],
   "source": [
    "next_state_array, reward, done, info = custom_gym_env.step(np.array([2, 2]))"
   ]
  },
  {
   "cell_type": "code",
   "execution_count": 12,
   "id": "672a84f9",
   "metadata": {},
   "outputs": [
    {
     "data": {
      "text/plain": [
       "'[-1  2  2  1  1]'"
      ]
     },
     "execution_count": 12,
     "metadata": {},
     "output_type": "execute_result"
    }
   ],
   "source": [
    "str(next_state_array)"
   ]
  },
  {
   "cell_type": "code",
   "execution_count": 13,
   "id": "b2987d4c",
   "metadata": {},
   "outputs": [
    {
     "data": {
      "text/plain": [
       "-100.0"
      ]
     },
     "execution_count": 13,
     "metadata": {},
     "output_type": "execute_result"
    }
   ],
   "source": [
    "reward"
   ]
  },
  {
   "cell_type": "code",
   "execution_count": 14,
   "id": "e99875b9",
   "metadata": {},
   "outputs": [
    {
     "data": {
      "text/plain": [
       "array([0, 0, 0, 1, 1])"
      ]
     },
     "execution_count": 14,
     "metadata": {},
     "output_type": "execute_result"
    }
   ],
   "source": [
    "custom_gym_env.reset()"
   ]
  },
  {
   "cell_type": "code",
   "execution_count": 15,
   "id": "828e598e",
   "metadata": {},
   "outputs": [],
   "source": [
    "next_state_array, reward, done, info = custom_gym_env.step(np.array([0, 0]))"
   ]
  },
  {
   "cell_type": "code",
   "execution_count": 16,
   "id": "64559f32",
   "metadata": {},
   "outputs": [
    {
     "data": {
      "text/plain": [
       "'[-1  0  0  1  1]'"
      ]
     },
     "execution_count": 16,
     "metadata": {},
     "output_type": "execute_result"
    }
   ],
   "source": [
    "str(next_state_array)"
   ]
  },
  {
   "cell_type": "code",
   "execution_count": 17,
   "id": "db61ba4e",
   "metadata": {},
   "outputs": [
    {
     "data": {
      "text/plain": [
       "-0.0"
      ]
     },
     "execution_count": 17,
     "metadata": {},
     "output_type": "execute_result"
    }
   ],
   "source": [
    "reward"
   ]
  },
  {
   "cell_type": "code",
   "execution_count": 18,
   "id": "212bcc6f",
   "metadata": {},
   "outputs": [],
   "source": [
    "next_state_array, reward, done, info = custom_gym_env.step(np.array([0, 0]))"
   ]
  },
  {
   "cell_type": "code",
   "execution_count": 19,
   "id": "247cebbe",
   "metadata": {},
   "outputs": [
    {
     "data": {
      "text/plain": [
       "'[-2  0  0  1  1]'"
      ]
     },
     "execution_count": 19,
     "metadata": {},
     "output_type": "execute_result"
    }
   ],
   "source": [
    "str(next_state_array)"
   ]
  },
  {
   "cell_type": "code",
   "execution_count": 20,
   "id": "f541066b",
   "metadata": {},
   "outputs": [
    {
     "data": {
      "text/plain": [
       "-10.0"
      ]
     },
     "execution_count": 20,
     "metadata": {},
     "output_type": "execute_result"
    }
   ],
   "source": [
    "reward"
   ]
  },
  {
   "cell_type": "code",
   "execution_count": 21,
   "id": "265c8f88",
   "metadata": {},
   "outputs": [],
   "source": [
    "next_state_array, reward, done, info = custom_gym_env.step(np.array([0, 0]))"
   ]
  },
  {
   "cell_type": "code",
   "execution_count": 22,
   "id": "d94a6165",
   "metadata": {},
   "outputs": [
    {
     "data": {
      "text/plain": [
       "'[-3  0  0  1  1]'"
      ]
     },
     "execution_count": 22,
     "metadata": {},
     "output_type": "execute_result"
    }
   ],
   "source": [
    "str(next_state_array)"
   ]
  },
  {
   "cell_type": "code",
   "execution_count": 23,
   "id": "e3dabfbc",
   "metadata": {},
   "outputs": [
    {
     "data": {
      "text/plain": [
       "-20.0"
      ]
     },
     "execution_count": 23,
     "metadata": {},
     "output_type": "execute_result"
    }
   ],
   "source": [
    "reward"
   ]
  },
  {
   "cell_type": "code",
   "execution_count": 24,
   "id": "b96a0c24",
   "metadata": {},
   "outputs": [],
   "source": [
    "next_state_array, reward, done, info = custom_gym_env.step(np.array([0, 0]))"
   ]
  },
  {
   "cell_type": "code",
   "execution_count": 25,
   "id": "0964d88a",
   "metadata": {},
   "outputs": [
    {
     "data": {
      "text/plain": [
       "'[-4  0  0  1  1]'"
      ]
     },
     "execution_count": 25,
     "metadata": {},
     "output_type": "execute_result"
    }
   ],
   "source": [
    "str(next_state_array)"
   ]
  },
  {
   "cell_type": "code",
   "execution_count": 26,
   "id": "e3700f79",
   "metadata": {},
   "outputs": [
    {
     "data": {
      "text/plain": [
       "-30.0"
      ]
     },
     "execution_count": 26,
     "metadata": {},
     "output_type": "execute_result"
    }
   ],
   "source": [
    "reward"
   ]
  },
  {
   "cell_type": "code",
   "execution_count": 27,
   "id": "4bb445eb",
   "metadata": {},
   "outputs": [],
   "source": [
    "next_state_array, reward, done, info = custom_gym_env.step(np.array([0, 0]))"
   ]
  },
  {
   "cell_type": "code",
   "execution_count": 28,
   "id": "1e13714b",
   "metadata": {},
   "outputs": [
    {
     "data": {
      "text/plain": [
       "'[-5  0  0  1  1]'"
      ]
     },
     "execution_count": 28,
     "metadata": {},
     "output_type": "execute_result"
    }
   ],
   "source": [
    "str(next_state_array)"
   ]
  },
  {
   "cell_type": "code",
   "execution_count": 29,
   "id": "028ced90",
   "metadata": {},
   "outputs": [
    {
     "data": {
      "text/plain": [
       "-40.0"
      ]
     },
     "execution_count": 29,
     "metadata": {},
     "output_type": "execute_result"
    }
   ],
   "source": [
    "reward"
   ]
  },
  {
   "cell_type": "code",
   "execution_count": 30,
   "id": "6d3ce51c",
   "metadata": {},
   "outputs": [],
   "source": [
    "next_state_array, reward, done, info = custom_gym_env.step(np.array([0, 0]))"
   ]
  },
  {
   "cell_type": "code",
   "execution_count": 31,
   "id": "aa80e0e4",
   "metadata": {},
   "outputs": [
    {
     "data": {
      "text/plain": [
       "'[-6  0  0  1  1]'"
      ]
     },
     "execution_count": 31,
     "metadata": {},
     "output_type": "execute_result"
    }
   ],
   "source": [
    "str(next_state_array)"
   ]
  },
  {
   "cell_type": "code",
   "execution_count": 32,
   "id": "242f0d27",
   "metadata": {},
   "outputs": [
    {
     "data": {
      "text/plain": [
       "-50.0"
      ]
     },
     "execution_count": 32,
     "metadata": {},
     "output_type": "execute_result"
    }
   ],
   "source": [
    "reward"
   ]
  },
  {
   "cell_type": "code",
   "execution_count": 33,
   "id": "afa5f393",
   "metadata": {},
   "outputs": [],
   "source": [
    "next_state_array, reward, done, info = custom_gym_env.step(np.array([0, 0]))"
   ]
  },
  {
   "cell_type": "code",
   "execution_count": 34,
   "id": "73647a48",
   "metadata": {},
   "outputs": [
    {
     "data": {
      "text/plain": [
       "'[-7  0  0  1  1]'"
      ]
     },
     "execution_count": 34,
     "metadata": {},
     "output_type": "execute_result"
    }
   ],
   "source": [
    "str(next_state_array)"
   ]
  },
  {
   "cell_type": "code",
   "execution_count": 35,
   "id": "174f39c7",
   "metadata": {},
   "outputs": [
    {
     "data": {
      "text/plain": [
       "-60.0"
      ]
     },
     "execution_count": 35,
     "metadata": {},
     "output_type": "execute_result"
    }
   ],
   "source": [
    "reward"
   ]
  },
  {
   "cell_type": "code",
   "execution_count": 36,
   "id": "c2fccbde",
   "metadata": {},
   "outputs": [],
   "source": [
    "next_state_array, reward, done, info = custom_gym_env.step(np.array([0, 0]))\n"
   ]
  },
  {
   "cell_type": "code",
   "execution_count": 37,
   "id": "8f1e7f24",
   "metadata": {},
   "outputs": [
    {
     "data": {
      "text/plain": [
       "'[-7  0  0  1  0]'"
      ]
     },
     "execution_count": 37,
     "metadata": {},
     "output_type": "execute_result"
    }
   ],
   "source": [
    "str(next_state_array)"
   ]
  },
  {
   "cell_type": "code",
   "execution_count": 38,
   "id": "b7c53b06",
   "metadata": {},
   "outputs": [
    {
     "data": {
      "text/plain": [
       "-70.0"
      ]
     },
     "execution_count": 38,
     "metadata": {},
     "output_type": "execute_result"
    }
   ],
   "source": [
    "reward"
   ]
  },
  {
   "cell_type": "code",
   "execution_count": null,
   "id": "9f9db659",
   "metadata": {},
   "outputs": [],
   "source": []
  },
  {
   "cell_type": "code",
   "execution_count": null,
   "id": "0a70611f",
   "metadata": {},
   "outputs": [],
   "source": []
  },
  {
   "cell_type": "code",
   "execution_count": null,
   "id": "4a8bda82",
   "metadata": {},
   "outputs": [],
   "source": []
  },
  {
   "cell_type": "code",
   "execution_count": null,
   "id": "c8fcb4b3",
   "metadata": {},
   "outputs": [],
   "source": []
  },
  {
   "cell_type": "code",
   "execution_count": 39,
   "id": "c16ba931",
   "metadata": {},
   "outputs": [],
   "source": [
    "from stable_baselines3.common.env_checker import check_env"
   ]
  },
  {
   "cell_type": "code",
   "execution_count": 40,
   "id": "4b2afd7d",
   "metadata": {},
   "outputs": [],
   "source": [
    "check_env(custom_gym_env) #warn=True)"
   ]
  },
  {
   "cell_type": "raw",
   "id": "e91d4fea",
   "metadata": {},
   "source": [
    "##I would like to know what is happening to check if it is working properly... (observation function)"
   ]
  },
  {
   "cell_type": "code",
   "execution_count": 41,
   "id": "3d2211a9",
   "metadata": {},
   "outputs": [
    {
     "name": "stdout",
     "output_type": "stream",
     "text": [
      "Episode:1 Cost:-970.0 Observation:(array([20, 20, 28,  1,  1]), -970.0, True, {})\n",
      "Episode:2 Cost:-450.0 Observation:(array([-1, 14, 54,  1,  1]), -450.0, True, {})\n",
      "Episode:3 Cost:-675.0 Observation:(array([12, 12, 54,  1,  1]), -675.0, True, {})\n",
      "Episode:4 Cost:-230.0 Observation:(array([ 3,  3, 38,  1,  1]), -230.0, True, {})\n",
      "Episode:5 Cost:-810.0 Observation:(array([27, 30, 27,  1,  1]), -810.0, True, {})\n",
      "Episode:6 Cost:-320.0 Observation:(array([7, 7, 2, 1, 1]), -320.0, True, {})\n",
      "Episode:7 Cost:-145.0 Observation:(array([20,  2, 20,  1,  1]), -145.0, True, {})\n",
      "Episode:8 Cost:-375.0 Observation:(array([ 7,  7, 24,  1,  1]), -375.0, True, {})\n",
      "Episode:9 Cost:-1040.0 Observation:(array([10, 44, 10,  1,  1]), -1040.0, True, {})\n",
      "Episode:10 Cost:-985.0 Observation:(array([20, 20, 34,  1,  1]), -985.0, True, {})\n"
     ]
    }
   ],
   "source": [
    "episodes = 10\n",
    "for episode in range(1, episodes+1):\n",
    "    state = custom_gym_env.reset()\n",
    "    done = False\n",
    "    cost = 0\n",
    "    \n",
    "    \n",
    "    while not done:\n",
    "        \n",
    "        action = custom_gym_env.action_space.sample()\n",
    "        n_state, reward, done, info = custom_gym_env.step(action)\n",
    "        cost=reward\n",
    "        observation = custom_gym_env.step(action)\n",
    "    print('Episode:{} Cost:{} Observation:{}' .format(episode, cost, observation))   #Observation: {}(, observation)\n",
    "custom_gym_env.close()"
   ]
  },
  {
   "cell_type": "raw",
   "id": "e5f5c494",
   "metadata": {},
   "source": [
    "#custom_gym_env.step"
   ]
  },
  {
   "cell_type": "code",
   "execution_count": null,
   "id": "c53cd3c8",
   "metadata": {},
   "outputs": [],
   "source": []
  },
  {
   "cell_type": "code",
   "execution_count": 42,
   "id": "7b7edc34",
   "metadata": {},
   "outputs": [],
   "source": [
    "from stable_baselines3 import A2C, DDPG, DQN, PPO, TD3, SAC\n",
    "import os\n",
    "\n"
   ]
  },
  {
   "cell_type": "code",
   "execution_count": 43,
   "id": "209b4816",
   "metadata": {},
   "outputs": [],
   "source": [
    "env = custom_gym_env"
   ]
  },
  {
   "cell_type": "code",
   "execution_count": 44,
   "id": "10d91da4",
   "metadata": {},
   "outputs": [],
   "source": [
    "log_path = os.path.join('A2C', 'Training', 'Logs')"
   ]
  },
  {
   "cell_type": "code",
   "execution_count": 45,
   "id": "931c5eb3",
   "metadata": {},
   "outputs": [
    {
     "name": "stdout",
     "output_type": "stream",
     "text": [
      "Using cpu device\n",
      "Wrapping the env with a `Monitor` wrapper\n",
      "Wrapping the env in a DummyVecEnv.\n",
      "Logging to A2C/Training/Logs/A2C_1\n"
     ]
    },
    {
     "data": {
      "text/plain": [
       "<stable_baselines3.a2c.a2c.A2C at 0x7f93897dd280>"
      ]
     },
     "execution_count": 45,
     "metadata": {},
     "output_type": "execute_result"
    }
   ],
   "source": [
    "from stable_baselines3 import A2C\n",
    "policy_kwargs = dict(net_arch=[dict(pi=[256, 256, 128], vf=[256, 256, 128])])\n",
    "model = A2C(\"MlpPolicy\", env, verbose=1,  learning_rate=(0.001),\\\n",
    " n_steps=50, gamma=0.8, gae_lambda=1.0, ent_coef=0.2, vf_coef=0.2, \\\n",
    "tensorboard_log=log_path, seed=50, device='cuda' )\n",
    "model.learn(total_timesteps=10)"
   ]
  },
  {
   "cell_type": "code",
   "execution_count": 46,
   "id": "c44f6912",
   "metadata": {},
   "outputs": [
    {
     "name": "stdout",
     "output_type": "stream",
     "text": [
      "Logging to A2C/Training/Logs/A2C_2\n"
     ]
    },
    {
     "data": {
      "text/plain": [
       "<stable_baselines3.a2c.a2c.A2C at 0x7f93897dd280>"
      ]
     },
     "execution_count": 46,
     "metadata": {},
     "output_type": "execute_result"
    }
   ],
   "source": [
    "model.learn(total_timesteps=10)"
   ]
  },
  {
   "cell_type": "code",
   "execution_count": 47,
   "id": "9353a61d",
   "metadata": {},
   "outputs": [],
   "source": [
    "#import gym\n",
    "#from stable_baselines3 import A2C\n",
    "#policy_kwargs = dict(activation_fn=th.nn.ReLU,\n",
    " #                    net_arch=[dict(pi=[256, 256, 128], vf=[256, 256, 128])])\n",
    "#model = A2C(\"MlpPolicy\", env, verbose=1,  learning_rate=linear_schedule(0.001),\\\n",
    " #n_steps=50, gamma=0.8, gae_lambda=1.0, ent_coef=0.2, vf_coef=0.2, \\\n",
    "#tensorboard_log=logdir,  policy_kwargs=policy_kwargs, seed=50, device='cuda' )\n",
    "#model.learn(total_timesteps=50000)"
   ]
  },
  {
   "cell_type": "code",
   "execution_count": 48,
   "id": "6ba1c71d",
   "metadata": {},
   "outputs": [],
   "source": [
    "model.save('A2C')"
   ]
  },
  {
   "cell_type": "code",
   "execution_count": 49,
   "id": "c50e501a",
   "metadata": {},
   "outputs": [
    {
     "name": "stderr",
     "output_type": "stream",
     "text": [
      "/usr/local/lib/python3.8/site-packages/stable_baselines3/common/evaluation.py:65: UserWarning: Evaluation environment is not wrapped with a ``Monitor`` wrapper. This may result in reporting modified episode lengths and rewards, if other wrappers happen to modify these. Consider wrapping environment first with ``Monitor`` wrapper.\n",
      "  warnings.warn(\n"
     ]
    },
    {
     "data": {
      "text/plain": [
       "(-390.0, 0.0)"
      ]
     },
     "execution_count": 49,
     "metadata": {},
     "output_type": "execute_result"
    }
   ],
   "source": [
    "from stable_baselines3.common.evaluation import evaluate_policy\n",
    "evaluate_policy(model, custom_gym_env, n_eval_episodes=10, render=False)"
   ]
  },
  {
   "cell_type": "code",
   "execution_count": null,
   "id": "8b3d3254",
   "metadata": {},
   "outputs": [],
   "source": []
  },
  {
   "cell_type": "code",
   "execution_count": 50,
   "id": "b432fafa",
   "metadata": {},
   "outputs": [
    {
     "data": {
      "text/plain": [
       "Box([-30   0   0   0   0], [30 30 30  1  1], (5,), int64)"
      ]
     },
     "execution_count": 50,
     "metadata": {},
     "output_type": "execute_result"
    }
   ],
   "source": [
    "custom_gym_env.observation_space"
   ]
  },
  {
   "cell_type": "code",
   "execution_count": null,
   "id": "31944b6a",
   "metadata": {},
   "outputs": [],
   "source": []
  },
  {
   "cell_type": "code",
   "execution_count": null,
   "id": "4b0a2a43",
   "metadata": {},
   "outputs": [],
   "source": []
  },
  {
   "cell_type": "code",
   "execution_count": null,
   "id": "6451c16e",
   "metadata": {},
   "outputs": [],
   "source": []
  },
  {
   "cell_type": "code",
   "execution_count": null,
   "id": "98acf8d2",
   "metadata": {},
   "outputs": [],
   "source": []
  },
  {
   "cell_type": "code",
   "execution_count": null,
   "id": "8ffbeead",
   "metadata": {},
   "outputs": [],
   "source": []
  },
  {
   "cell_type": "code",
   "execution_count": null,
   "id": "22307847",
   "metadata": {},
   "outputs": [],
   "source": []
  },
  {
   "cell_type": "code",
   "execution_count": 51,
   "id": "fffdb14c",
   "metadata": {},
   "outputs": [],
   "source": [
    "import os\n",
    "from stable_baselines3 import PPO\n",
    "from stable_baselines3.common.vec_env import VecFrameStack\n",
    "from stable_baselines3.common.evaluation import evaluate_policy"
   ]
  },
  {
   "cell_type": "code",
   "execution_count": 52,
   "id": "6341042d",
   "metadata": {},
   "outputs": [],
   "source": [
    "log_path = os.path.join('PPO','Training', 'Logs')"
   ]
  },
  {
   "cell_type": "code",
   "execution_count": 53,
   "id": "2e2e8559",
   "metadata": {},
   "outputs": [
    {
     "name": "stdout",
     "output_type": "stream",
     "text": [
      "Using cpu device\n",
      "Wrapping the env with a `Monitor` wrapper\n",
      "Wrapping the env in a DummyVecEnv.\n"
     ]
    }
   ],
   "source": [
    "model = PPO(\"MlpPolicy\", custom_gym_env, verbose=1, tensorboard_log=log_path, learning_rate=0.01, device='cuda')"
   ]
  },
  {
   "cell_type": "code",
   "execution_count": 54,
   "id": "11dcc344",
   "metadata": {},
   "outputs": [
    {
     "name": "stdout",
     "output_type": "stream",
     "text": [
      "Logging to PPO/Training/Logs/PPO_1\n",
      "---------------------------------\n",
      "| rollout/           |          |\n",
      "|    ep_len_mean     | 1        |\n",
      "|    ep_rew_mean     | -781     |\n",
      "| time/              |          |\n",
      "|    fps             | 1194     |\n",
      "|    iterations      | 1        |\n",
      "|    time_elapsed    | 1        |\n",
      "|    total_timesteps | 2048     |\n",
      "---------------------------------\n",
      "---------------------------------------\n",
      "| rollout/                |           |\n",
      "|    ep_len_mean          | 1         |\n",
      "|    ep_rew_mean          | -626      |\n",
      "| time/                   |           |\n",
      "|    fps                  | 971       |\n",
      "|    iterations           | 2         |\n",
      "|    time_elapsed         | 4         |\n",
      "|    total_timesteps      | 4096      |\n",
      "| train/                  |           |\n",
      "|    approx_kl            | 0.0814244 |\n",
      "|    clip_fraction        | 0.888     |\n",
      "|    clip_range           | 0.2       |\n",
      "|    entropy_loss         | -6.73     |\n",
      "|    explained_variance   | 1.19e-07  |\n",
      "|    learning_rate        | 0.01      |\n",
      "|    loss                 | 2.36e+05  |\n",
      "|    n_updates            | 10        |\n",
      "|    policy_gradient_loss | -0.167    |\n",
      "|    value_loss           | 5.6e+05   |\n",
      "---------------------------------------\n",
      "---------------------------------------\n",
      "| rollout/                |           |\n",
      "|    ep_len_mean          | 1         |\n",
      "|    ep_rew_mean          | -411      |\n",
      "| time/                   |           |\n",
      "|    fps                  | 920       |\n",
      "|    iterations           | 3         |\n",
      "|    time_elapsed         | 6         |\n",
      "|    total_timesteps      | 6144      |\n",
      "| train/                  |           |\n",
      "|    approx_kl            | 0.1656743 |\n",
      "|    clip_fraction        | 0.886     |\n",
      "|    clip_range           | 0.2       |\n",
      "|    entropy_loss         | -6.45     |\n",
      "|    explained_variance   | 1.19e-07  |\n",
      "|    learning_rate        | 0.01      |\n",
      "|    loss                 | 8.64e+04  |\n",
      "|    n_updates            | 20        |\n",
      "|    policy_gradient_loss | -0.159    |\n",
      "|    value_loss           | 1.98e+05  |\n",
      "---------------------------------------\n",
      "--------------------------------------\n",
      "| rollout/                |          |\n",
      "|    ep_len_mean          | 1        |\n",
      "|    ep_rew_mean          | -223     |\n",
      "| time/                   |          |\n",
      "|    fps                  | 897      |\n",
      "|    iterations           | 4        |\n",
      "|    time_elapsed         | 9        |\n",
      "|    total_timesteps      | 8192     |\n",
      "| train/                  |          |\n",
      "|    approx_kl            | 8.602124 |\n",
      "|    clip_fraction        | 0.96     |\n",
      "|    clip_range           | 0.2      |\n",
      "|    entropy_loss         | -4.17    |\n",
      "|    explained_variance   | 0        |\n",
      "|    learning_rate        | 0.01     |\n",
      "|    loss                 | 3.28e+04 |\n",
      "|    n_updates            | 30       |\n",
      "|    policy_gradient_loss | 0.0674   |\n",
      "|    value_loss           | 8.4e+04  |\n",
      "--------------------------------------\n",
      "---------------------------------------\n",
      "| rollout/                |           |\n",
      "|    ep_len_mean          | 1         |\n",
      "|    ep_rew_mean          | -107      |\n",
      "| time/                   |           |\n",
      "|    fps                  | 884       |\n",
      "|    iterations           | 5         |\n",
      "|    time_elapsed         | 11        |\n",
      "|    total_timesteps      | 10240     |\n",
      "| train/                  |           |\n",
      "|    approx_kl            | 6.3126307 |\n",
      "|    clip_fraction        | 0.976     |\n",
      "|    clip_range           | 0.2       |\n",
      "|    entropy_loss         | -1.88     |\n",
      "|    explained_variance   | 5.96e-08  |\n",
      "|    learning_rate        | 0.01      |\n",
      "|    loss                 | 3.98e+03  |\n",
      "|    n_updates            | 40        |\n",
      "|    policy_gradient_loss | 0.15      |\n",
      "|    value_loss           | 1.61e+04  |\n",
      "---------------------------------------\n"
     ]
    },
    {
     "data": {
      "text/plain": [
       "<stable_baselines3.ppo.ppo.PPO at 0x7f93846aacd0>"
      ]
     },
     "execution_count": 54,
     "metadata": {},
     "output_type": "execute_result"
    }
   ],
   "source": [
    "model.learn(total_timesteps=10000)"
   ]
  },
  {
   "cell_type": "code",
   "execution_count": null,
   "id": "45ef6b28",
   "metadata": {},
   "outputs": [],
   "source": []
  },
  {
   "cell_type": "code",
   "execution_count": 55,
   "id": "1cdb6b9a",
   "metadata": {},
   "outputs": [],
   "source": [
    "model.save('PPO')"
   ]
  },
  {
   "cell_type": "code",
   "execution_count": 56,
   "id": "d9c31b63",
   "metadata": {},
   "outputs": [
    {
     "data": {
      "text/plain": [
       "(-75.0, 0.0)"
      ]
     },
     "execution_count": 56,
     "metadata": {},
     "output_type": "execute_result"
    }
   ],
   "source": [
    "evaluate_policy(model, custom_gym_env, n_eval_episodes=10, render=False)"
   ]
  },
  {
   "cell_type": "code",
   "execution_count": 57,
   "id": "8f65f142",
   "metadata": {},
   "outputs": [],
   "source": [
    "import torch"
   ]
  },
  {
   "cell_type": "code",
   "execution_count": null,
   "id": "24e0fa7f",
   "metadata": {},
   "outputs": [],
   "source": []
  },
  {
   "cell_type": "code",
   "execution_count": null,
   "id": "116647a6",
   "metadata": {},
   "outputs": [],
   "source": []
  },
  {
   "cell_type": "raw",
   "id": "9bc736aa",
   "metadata": {},
   "source": [
    "# Why is it running on cpu and not gpu?"
   ]
  },
  {
   "cell_type": "code",
   "execution_count": 58,
   "id": "ac959ee2",
   "metadata": {},
   "outputs": [
    {
     "data": {
      "text/plain": [
       "False"
      ]
     },
     "execution_count": 58,
     "metadata": {},
     "output_type": "execute_result"
    }
   ],
   "source": [
    "\n",
    "torch.cuda.is_available()"
   ]
  },
  {
   "cell_type": "code",
   "execution_count": 59,
   "id": "e9521e04",
   "metadata": {},
   "outputs": [
    {
     "name": "stdout",
     "output_type": "stream",
     "text": [
      "cpu\n"
     ]
    }
   ],
   "source": [
    "device = torch.device(\"cuda:0\" if torch.cuda.is_available() else \"cpu\")\n",
    "print(device)\n"
   ]
  },
  {
   "cell_type": "code",
   "execution_count": 60,
   "id": "8c5bd895",
   "metadata": {},
   "outputs": [
    {
     "data": {
      "text/plain": [
       "0"
      ]
     },
     "execution_count": 60,
     "metadata": {},
     "output_type": "execute_result"
    }
   ],
   "source": [
    " torch.cuda.device_count()"
   ]
  },
  {
   "cell_type": "code",
   "execution_count": null,
   "id": "e6d97ad0",
   "metadata": {},
   "outputs": [],
   "source": []
  }
 ],
 "metadata": {
  "kernelspec": {
   "display_name": "Python 3 (ipykernel)",
   "language": "python",
   "name": "python3"
  },
  "language_info": {
   "codemirror_mode": {
    "name": "ipython",
    "version": 3
   },
   "file_extension": ".py",
   "mimetype": "text/x-python",
   "name": "python",
   "nbconvert_exporter": "python",
   "pygments_lexer": "ipython3",
   "version": "3.8.15"
  }
 },
 "nbformat": 4,
 "nbformat_minor": 5
}
