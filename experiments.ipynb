{
 "cells": [
  {
   "cell_type": "code",
   "execution_count": 1,
   "metadata": {},
   "outputs": [],
   "source": [
    "from opt.mc_sim import *\n",
    "import time\n",
    "from common.variables import *"
   ]
  },
  {
   "cell_type": "code",
   "execution_count": 2,
   "metadata": {},
   "outputs": [],
   "source": [
    "import pickle as pkl\n",
    "from opt.eval_policy import *\n",
    "\n",
    "# filename = \"output/msource_value_dic_06-16-2022-09-56-03.pkl\"\n",
    "# filename = \"output/msource_value_dic_06-22-2022-03-55-05.pkl\"\n",
    "filename = \"output/msource_value_dic_06-22-2022-20-55-01.pkl\"\n",
    "\n",
    "with open(filename, 'rb') as f:\n",
    "    output_obj = pkl.load(f)\n",
    "\n",
    "value_dic = output_obj[\"state_value_dic\"]\n",
    "model_params = output_obj[\"model_params\"]\n",
    "sourcingEnv = output_obj[\"mdp_env\"]"
   ]
  },
  {
   "cell_type": "code",
   "execution_count": 3,
   "metadata": {},
   "outputs": [
    {
     "data": {
      "text/plain": [
       "{'algo_params': {'prob_epsilon': 1e-08,\n",
       "  'periods': 30,\n",
       "  'nested_mc_iters': 30,\n",
       "  'mc_episodes': 30,\n",
       "  'max_steps': 30,\n",
       "  'explore_eps': 0.05,\n",
       "  'debug_bool': 0,\n",
       "  'fixed_learn_rate': 0.1},\n",
       " 'policy_params': {'h_cost': 1,\n",
       "  'b_penalty': 5,\n",
       "  'small_s': 2,\n",
       "  'big_s': 5,\n",
       "  'n_suppliers': 2,\n",
       "  'backorder_max': -10,\n",
       "  'inven_limit': 30},\n",
       " 'mdp_env_params': {'lambda': 4,\n",
       "  'max_inven': 30,\n",
       "  'action_size': 4,\n",
       "  'discount_fac': 1.0},\n",
       " 'git_commit': 'no_git',\n",
       " 'branch_name': 'no_git'}"
      ]
     },
     "execution_count": 3,
     "metadata": {},
     "output_type": "execute_result"
    }
   ],
   "source": [
    "model_params"
   ]
  },
  {
   "cell_type": "code",
   "execution_count": 4,
   "metadata": {},
   "outputs": [],
   "source": [
    "# best_small_s, best_big_s, best_val = find_opt_ss_policy_via_mc(sourcingEnv, periods = 20, nested_mc_iters = 50)\n",
    "# best (s, S) policy found by MC:: (2, 5)"
   ]
  },
  {
   "cell_type": "code",
   "execution_count": 5,
   "metadata": {},
   "outputs": [],
   "source": [
    "# model_params['branch_name'], model_params['git_commit']"
   ]
  },
  {
   "cell_type": "code",
   "execution_count": 6,
   "metadata": {},
   "outputs": [],
   "source": [
    "# sourcingEnv = SourcingEnv(\n",
    "#         lambda_arrival = 8, # or 10\n",
    "#         procurement_cost_vec = np.array([3, 1, 2]),\n",
    "#         supplier_lead_times_vec = np.array([0.8, 0.5, 1.0]),\n",
    "#         on_times = np.array([1, 1, 2]), \n",
    "#         off_times = np.array([0.3, 1, 0.2]))\n",
    "\n",
    "# Dual Sourcing\n",
    "# sourcingEnv = SourcingEnv(\n",
    "#         lambda_arrival = LAMBDA, # or 10\n",
    "#         procurement_cost_vec = np.array([3, 1]),\n",
    "#         supplier_lead_times_vec = np.array([0.8, 0.5]),\n",
    "#         on_times = np.array([1, 1]), \n",
    "#         off_times = np.array([0.3, 1]))\n",
    "\n",
    "s_custom = MState(stock_level = 0, \n",
    "    n_suppliers = N_SUPPLIERS, \n",
    "    n_backorders = np.array([0, 0]), \n",
    "    flag_on_off = np.array([1, 1]))\n",
    "\n",
    "mc_avg_costs = mc_with_ss_policy(sourcingEnv, start_state = s_custom, \n",
    "    periods = 30,\n",
    "    nested_mc_iters = 100,\n",
    "    big_s = model_params['policy_params']['big_s'],\n",
    "    small_s = model_params['policy_params']['small_s'],\n",
    "    h_cost = model_params['policy_params']['h_cost'],\n",
    "    b_penalty = model_params['policy_params']['b_penalty'])\n",
    "\n",
    "# print(mc_avg_costs)"
   ]
  },
  {
   "cell_type": "code",
   "execution_count": 7,
   "metadata": {},
   "outputs": [],
   "source": [
    "# mc_avg_costs = mc_with_ss_policy(sourcingEnv, \n",
    "#     periods = 100,\n",
    "#     nested_mc_iters = 50,\n",
    "#     big_s = 5,\n",
    "#     small_s = 2,\n",
    "#     h_cost = model_params['policy_params']['h_cost'],\n",
    "#     b_penalty = model_params['policy_params']['b_penalty'])"
   ]
  },
  {
   "cell_type": "code",
   "execution_count": 8,
   "metadata": {},
   "outputs": [
    {
     "data": {
      "image/png": "[encoded data removed]",
      "text/plain": [
       "<Figure size 432x288 with 1 Axes>"
      ]
     },
     "metadata": {
      "needs_background": "light"
     },
     "output_type": "display_data"
    }
   ],
   "source": [
    "import matplotlib.pyplot as plt\n",
    "import numpy as np\n",
    "\n",
    "binwidth = 0.3\n",
    "n, bins, patches = plt.hist(mc_avg_costs, bins=np.arange( np.min(mc_avg_costs), np.max(mc_avg_costs) + binwidth, binwidth))\n",
    "# n, bins, patches = plt.hist(mc_avg_costs, density = True)\n",
    "\n",
    "\n",
    "plt.xlabel('Avg Cost')\n",
    "plt.ylabel('Probability')\n",
    "plt.title('Histogram of Avg costs')\n",
    "plt.xlim(np.min(mc_avg_costs), np.max(mc_avg_costs))\n",
    "plt.ylim(0, np.max(n))\n",
    "plt.grid(True)\n",
    "plt.show()"
   ]
  },
  {
   "cell_type": "code",
   "execution_count": 9,
   "metadata": {},
   "outputs": [
    {
     "name": "stdout",
     "output_type": "stream",
     "text": [
      "2.9346666666666663\n"
     ]
    }
   ],
   "source": [
    "print(np.mean(np.array(mc_avg_costs)))"
   ]
  },
  {
   "cell_type": "code",
   "execution_count": 10,
   "metadata": {},
   "outputs": [
    {
     "name": "stdout",
     "output_type": "stream",
     "text": [
      "2.8\n"
     ]
    }
   ],
   "source": [
    "print(np.median(np.array(mc_avg_costs)))"
   ]
  },
  {
   "cell_type": "code",
   "execution_count": 11,
   "metadata": {},
   "outputs": [
    {
     "data": {
      "text/plain": [
       "0.5858691549029242"
      ]
     },
     "execution_count": 11,
     "metadata": {},
     "output_type": "execute_result"
    }
   ],
   "source": [
    "np.std(np.array(mc_avg_costs))"
   ]
  },
  {
   "cell_type": "code",
   "execution_count": 12,
   "metadata": {},
   "outputs": [
    {
     "data": {
      "text/plain": [
       "{'algo_params': {'prob_epsilon': 1e-08,\n",
       "  'periods': 30,\n",
       "  'nested_mc_iters': 30,\n",
       "  'mc_episodes': 30,\n",
       "  'max_steps': 30,\n",
       "  'explore_eps': 0.05,\n",
       "  'debug_bool': 0,\n",
       "  'fixed_learn_rate': 0.1},\n",
       " 'policy_params': {'h_cost': 1,\n",
       "  'b_penalty': 5,\n",
       "  'small_s': 2,\n",
       "  'big_s': 5,\n",
       "  'n_suppliers': 2,\n",
       "  'backorder_max': -10,\n",
       "  'inven_limit': 30},\n",
       " 'mdp_env_params': {'lambda': 4,\n",
       "  'max_inven': 30,\n",
       "  'action_size': 4,\n",
       "  'discount_fac': 1.0},\n",
       " 'git_commit': 'no_git',\n",
       " 'branch_name': 'no_git'}"
      ]
     },
     "execution_count": 12,
     "metadata": {},
     "output_type": "execute_result"
    }
   ],
   "source": [
    "model_params"
   ]
  },
  {
   "cell_type": "code",
   "execution_count": 13,
   "metadata": {},
   "outputs": [],
   "source": [
    "# try a bit of indifference rounding\n",
    "# for k in value_dic.keys():\n",
    "#     value_dic[k] = round(value_dic[k], 3)\n"
   ]
  },
  {
   "cell_type": "code",
   "execution_count": 14,
   "metadata": {},
   "outputs": [
    {
     "name": "stdout",
     "output_type": "stream",
     "text": [
      "MC eval iter: 0\n",
      "MC eval iter: 1\n",
      "MC eval iter: 2\n",
      "MC eval iter: 3\n",
      "MC eval iter: 4\n",
      "MC eval iter: 5\n",
      "MC eval iter: 6\n",
      "MC eval iter: 7\n",
      "MC eval iter: 8\n",
      "MC eval iter: 9\n",
      "MC eval iter: 10\n",
      "MC eval iter: 11\n",
      "MC eval iter: 12\n",
      "MC eval iter: 13\n",
      "MC eval iter: 14\n",
      "MC eval iter: 15\n",
      "MC eval iter: 16\n",
      "MC eval iter: 17\n",
      "MC eval iter: 18\n",
      "MC eval iter: 19\n",
      "MC eval iter: 20\n",
      "MC eval iter: 21\n",
      "MC eval iter: 22\n",
      "MC eval iter: 23\n",
      "MC eval iter: 24\n",
      "MC eval iter: 25\n",
      "MC eval iter: 26\n",
      "MC eval iter: 27\n",
      "MC eval iter: 28\n",
      "MC eval iter: 29\n"
     ]
    }
   ],
   "source": [
    "eval_steps = 30\n",
    "mc_eval_iter = 30\n",
    "eval_costs_ss = mc_eval_policy_perf(sourcingEnv, value_dic, \n",
    "    max_steps = eval_steps, \n",
    "    mc_iters = mc_eval_iter,\n",
    "    h_cost = model_params['policy_params']['h_cost'],\n",
    "    b_penalty = model_params['policy_params']['b_penalty'], \n",
    "    policy_callback = eval_policy_from_ss_pol_2)\n",
    "\n",
    "avg_eval_cost_ss = np.mean(eval_costs_ss)"
   ]
  },
  {
   "cell_type": "code",
   "execution_count": 15,
   "metadata": {},
   "outputs": [
    {
     "data": {
      "image/png": "[encoded data removed]",
      "text/plain": [
       "<Figure size 432x288 with 1 Axes>"
      ]
     },
     "metadata": {
      "needs_background": "light"
     },
     "output_type": "display_data"
    }
   ],
   "source": [
    "import numpy as np\n",
    "\n",
    "eval_costs_scaled_ss = np.array(eval_costs_ss)/eval_steps\n",
    "binwidth = 0.2\n",
    "\n",
    "n, bins, patches = plt.hist(eval_costs_scaled_ss, bins=np.arange(min(eval_costs_scaled_ss), max(eval_costs_scaled_ss) + binwidth, binwidth), density = True)\n",
    "\n",
    "\n",
    "plt.xlabel('Avg Cost')\n",
    "plt.ylabel('Probability')\n",
    "plt.title('Histogram of Avg costs')\n",
    "plt.xlim(np.min(eval_costs_scaled_ss), np.max(eval_costs_scaled_ss))\n",
    "plt.ylim(0, np.max(n))\n",
    "plt.grid(True)\n",
    "plt.show()"
   ]
  },
  {
   "cell_type": "code",
   "execution_count": 16,
   "metadata": {},
   "outputs": [
    {
     "data": {
      "text/plain": [
       "2.841111111111111"
      ]
     },
     "execution_count": 16,
     "metadata": {},
     "output_type": "execute_result"
    }
   ],
   "source": [
    "np.mean(eval_costs_scaled_ss)"
   ]
  },
  {
   "cell_type": "code",
   "execution_count": 17,
   "metadata": {},
   "outputs": [
    {
     "data": {
      "text/plain": [
       "2.7666666666666666"
      ]
     },
     "execution_count": 17,
     "metadata": {},
     "output_type": "execute_result"
    }
   ],
   "source": [
    "np.median(eval_costs_scaled_ss)"
   ]
  },
  {
   "cell_type": "code",
   "execution_count": 18,
   "metadata": {},
   "outputs": [
    {
     "data": {
      "text/plain": [
       "0.596885951841868"
      ]
     },
     "execution_count": 18,
     "metadata": {},
     "output_type": "execute_result"
    }
   ],
   "source": [
    "np.std(eval_costs_scaled_ss)"
   ]
  },
  {
   "cell_type": "code",
   "execution_count": 19,
   "metadata": {},
   "outputs": [
    {
     "name": "stdout",
     "output_type": "stream",
     "text": [
      "MC eval iter: 0\n",
      "MC eval iter: 1\n",
      "MC eval iter: 2\n",
      "MC eval iter: 3\n",
      "MC eval iter: 4\n",
      "MC eval iter: 5\n",
      "MC eval iter: 6\n",
      "MC eval iter: 7\n",
      "MC eval iter: 8\n",
      "MC eval iter: 9\n",
      "MC eval iter: 10\n",
      "MC eval iter: 11\n",
      "MC eval iter: 12\n",
      "MC eval iter: 13\n",
      "MC eval iter: 14\n",
      "MC eval iter: 15\n",
      "MC eval iter: 16\n",
      "MC eval iter: 17\n",
      "MC eval iter: 18\n",
      "MC eval iter: 19\n",
      "MC eval iter: 20\n",
      "MC eval iter: 21\n",
      "MC eval iter: 22\n",
      "MC eval iter: 23\n",
      "MC eval iter: 24\n",
      "MC eval iter: 25\n",
      "MC eval iter: 26\n",
      "MC eval iter: 27\n",
      "MC eval iter: 28\n",
      "MC eval iter: 29\n"
     ]
    }
   ],
   "source": [
    "eval_steps = 30\n",
    "mc_eval_iter = 30\n",
    "eval_costs = mc_eval_policy_perf(sourcingEnv, value_dic, \n",
    "    max_steps = eval_steps, \n",
    "    mc_iters = mc_eval_iter,\n",
    "    h_cost = model_params['policy_params']['h_cost'],\n",
    "    b_penalty = model_params['policy_params']['b_penalty'])\n",
    "\n",
    "avg_eval_cost = np.mean(eval_costs)"
   ]
  },
  {
   "cell_type": "code",
   "execution_count": 20,
   "metadata": {},
   "outputs": [],
   "source": [
    "eval_costs_scaled = np.array(eval_costs)/eval_steps"
   ]
  },
  {
   "cell_type": "code",
   "execution_count": 21,
   "metadata": {},
   "outputs": [
    {
     "data": {
      "image/png": "[encoded data removed]",
      "text/plain": [
       "<Figure size 432x288 with 1 Axes>"
      ]
     },
     "metadata": {
      "needs_background": "light"
     },
     "output_type": "display_data"
    }
   ],
   "source": [
    "import numpy as np\n",
    "\n",
    "binwidth = 0.2\n",
    "\n",
    "n, bins, patches = plt.hist(eval_costs_scaled, bins=np.arange(min(eval_costs_scaled), max(eval_costs_scaled) + binwidth, binwidth), density = True)\n",
    "\n",
    "\n",
    "plt.xlabel('Avg Cost')\n",
    "plt.ylabel('Probability')\n",
    "plt.title('Histogram of Avg costs')\n",
    "plt.xlim(np.min(eval_costs_scaled), np.max(eval_costs_scaled))\n",
    "plt.ylim(0, np.max(n))\n",
    "plt.grid(True)\n",
    "plt.show()"
   ]
  },
  {
   "cell_type": "code",
   "execution_count": 22,
   "metadata": {},
   "outputs": [
    {
     "data": {
      "text/plain": [
       "2.762222222222222"
      ]
     },
     "execution_count": 22,
     "metadata": {},
     "output_type": "execute_result"
    }
   ],
   "source": [
    "np.mean(eval_costs_scaled)"
   ]
  },
  {
   "cell_type": "code",
   "execution_count": 23,
   "metadata": {},
   "outputs": [
    {
     "data": {
      "text/plain": [
       "2.716666666666667"
      ]
     },
     "execution_count": 23,
     "metadata": {},
     "output_type": "execute_result"
    }
   ],
   "source": [
    "np.median(eval_costs_scaled)"
   ]
  },
  {
   "cell_type": "code",
   "execution_count": 24,
   "metadata": {},
   "outputs": [
    {
     "data": {
      "text/plain": [
       "0.5095192602279229"
      ]
     },
     "execution_count": 24,
     "metadata": {},
     "output_type": "execute_result"
    }
   ],
   "source": [
    "np.std(eval_costs_scaled)"
   ]
  },
  {
   "cell_type": "code",
   "execution_count": 25,
   "metadata": {},
   "outputs": [
    {
     "data": {
      "text/plain": [
       "79555"
      ]
     },
     "execution_count": 25,
     "metadata": {},
     "output_type": "execute_result"
    }
   ],
   "source": [
    "len(list(value_dic.keys()))"
   ]
  },
  {
   "cell_type": "code",
   "execution_count": 26,
   "metadata": {},
   "outputs": [
    {
     "data": {
      "text/plain": [
       "-2.640904555555556"
      ]
     },
     "execution_count": 26,
     "metadata": {},
     "output_type": "execute_result"
    },
    {
     "data": {
      "image/png": "[encoded data removed]",
      "text/plain": [
       "<Figure size 432x288 with 1 Axes>"
      ]
     },
     "metadata": {
      "needs_background": "light"
     },
     "output_type": "display_data"
    }
   ],
   "source": [
    "import numpy as np\n",
    "\n",
    "binwidth = 0.3\n",
    "\n",
    "state_vals = [x[0] for x in list(value_dic.values())]\n",
    "state_visits = [x[1] for x in list(value_dic.values())]\n",
    "\n",
    "n, bins, patches = plt.hist(state_vals, density = True)\n",
    "np.max(state_vals)"
   ]
  },
  {
   "cell_type": "code",
   "execution_count": 27,
   "metadata": {},
   "outputs": [
    {
     "data": {
      "text/plain": [
       "99"
      ]
     },
     "execution_count": 27,
     "metadata": {},
     "output_type": "execute_result"
    },
    {
     "data": {
      "image/png": "[encoded data removed]",
      "text/plain": [
       "<Figure size 432x288 with 1 Axes>"
      ]
     },
     "metadata": {
      "needs_background": "light"
     },
     "output_type": "display_data"
    }
   ],
   "source": [
    "binwidth = 3\n",
    "state_visits.remove(1)\n",
    "state_visits_massage = [x for x in state_visits if 100 > x > 2]\n",
    "\n",
    "n, bins, patches = plt.hist(state_visits_massage, bins=np.arange(min(state_visits_massage), max(state_visits_massage) + binwidth, binwidth), density = True)\n",
    "np.max(state_visits_massage)"
   ]
  },
  {
   "cell_type": "code",
   "execution_count": 28,
   "metadata": {},
   "outputs": [
    {
     "data": {
      "text/plain": [
       "3"
      ]
     },
     "execution_count": 28,
     "metadata": {},
     "output_type": "execute_result"
    }
   ],
   "source": [
    "np.min(state_visits_massage)"
   ]
  },
  {
   "cell_type": "code",
   "execution_count": 29,
   "metadata": {},
   "outputs": [
    {
     "data": {
      "text/plain": [
       "518"
      ]
     },
     "execution_count": 29,
     "metadata": {},
     "output_type": "execute_result"
    }
   ],
   "source": [
    "len(set(state_visits))"
   ]
  },
  {
   "cell_type": "code",
   "execution_count": 30,
   "metadata": {},
   "outputs": [
    {
     "data": {
      "text/plain": [
       "-41442"
      ]
     },
     "execution_count": 30,
     "metadata": {},
     "output_type": "execute_result"
    }
   ],
   "source": [
    "len(state_visits_massage) - len(state_visits)"
   ]
  },
  {
   "cell_type": "code",
   "execution_count": 31,
   "metadata": {},
   "outputs": [
    {
     "data": {
      "text/plain": [
       "79554"
      ]
     },
     "execution_count": 31,
     "metadata": {},
     "output_type": "execute_result"
    }
   ],
   "source": [
    "len(state_visits)"
   ]
  },
  {
   "cell_type": "code",
   "execution_count": 32,
   "metadata": {},
   "outputs": [
    {
     "data": {
      "text/plain": [
       "79555"
      ]
     },
     "execution_count": 32,
     "metadata": {},
     "output_type": "execute_result"
    }
   ],
   "source": [
    "len(state_vals)"
   ]
  },
  {
   "cell_type": "code",
   "execution_count": 33,
   "metadata": {},
   "outputs": [
    {
     "data": {
      "text/plain": [
       "'[1, 1, 1, 1, 0]'"
      ]
     },
     "execution_count": 33,
     "metadata": {},
     "output_type": "execute_result"
    }
   ],
   "source": [
    "\n",
    "max(value_dic, key=value_dic.get)\n"
   ]
  },
  {
   "cell_type": "code",
   "execution_count": 34,
   "metadata": {},
   "outputs": [
    {
     "data": {
      "text/plain": [
       "'[33, 51, 25, 1, 1]'"
      ]
     },
     "execution_count": 34,
     "metadata": {},
     "output_type": "execute_result"
    }
   ],
   "source": [
    "min(value_dic, key=value_dic.get)"
   ]
  },
  {
   "cell_type": "code",
   "execution_count": 35,
   "metadata": {},
   "outputs": [],
   "source": [
    "value_dic_key_sorted = sorted(value_dic, key=value_dic.get, reverse=True)\n",
    "value_dic_value_sorted = sorted(value_dic.values(), reverse=True)"
   ]
  },
  {
   "cell_type": "code",
   "execution_count": 36,
   "metadata": {},
   "outputs": [],
   "source": [
    "value_diagnostic = list(zip(value_dic_key_sorted, value_dic_value_sorted))"
   ]
  },
  {
   "cell_type": "code",
   "execution_count": 37,
   "metadata": {},
   "outputs": [
    {
     "data": {
      "text/plain": [
       "[('[1, 1, 1, 1, 0]', (-2.640904555555556, 61)),\n",
       " ('[0, 1, 2, 0, 0]', (-2.6449555555555553, 30)),\n",
       " ('[2, 1, 0, 1, 1]', (-2.666013124729667, 209)),\n",
       " ('[1, 2, 1, 0, 0]', (-2.67121, 29)),\n",
       " ('[1, 1, 1, 0, 1]', (-2.6847420000000004, 148)),\n",
       " ('[2, 1, 1, 1, 0]', (-2.685377777777778, 62)),\n",
       " ('[1, 2, 2, 0, 1]', (-2.7011111111111106, 32)),\n",
       " ('[0, 0, 1, 1, 1]', (-2.7050000000000005, 32)),\n",
       " ('[1, 1, 3, 0, 0]', (-2.7116000000000002, 58)),\n",
       " ('[1, 0, 1, 1, 0]', (-2.7151978835978836, 31)),\n",
       " ('[1, 1, 1, 0, 0]', (-2.7168994444444454, 87)),\n",
       " ('[0, 0, 3, 1, 0]', (-2.718922222222222, 30)),\n",
       " ('[2, 1, 0, 0, 1]', (-2.7254992824849498, 3246)),\n",
       " ('[1, 0, 3, 0, 0]', (-2.7262277777777775, 116)),\n",
       " ('[0, 2, 0, 1, 1]', (-2.727778222222222, 62)),\n",
       " ('[0, 4, 1, 0, 0]', (-2.728333333333333, 30)),\n",
       " ('[0, 2, 1, 0, 1]', (-2.728788888888889, 33)),\n",
       " ('[0, 1, 2, 1, 1]', (-2.7291331222222226, 95)),\n",
       " ('[1, 1, 2, 1, 1]', (-2.7303807777777775, 71)),\n",
       " ('[2, 0, 2, 1, 1]', (-2.731555555555556, 10)),\n",
       " ('[1, 3, 0, 0, 0]', (-2.7364235995555566, 203)),\n",
       " ('[1, 1, 3, 1, 1]', (-2.73881, 72)),\n",
       " ('[0, 2, 1, 1, 1]', (-2.7417908111111107, 95)),\n",
       " ('[1, 2, 0, 1, 1]', (-2.742751111111112, 150)),\n",
       " ('[2, 0, 2, 1, 0]', (-2.743333333333333, 3)),\n",
       " ('[0, 2, 2, 0, 1]', (-2.7435333333333336, 33)),\n",
       " ('[2, 0, 1, 0, 1]', (-2.7472767333333334, 142)),\n",
       " ('[0, 1, 2, 0, 1]', (-2.7558888888888893, 91)),\n",
       " ('[2, 2, 0, 1, 1]', (-2.7592758838735563, 239)),\n",
       " ('[2, 2, 1, 0, 1]', (-2.7611111111111115, 4)),\n",
       " ('[2, 1, 1, 0, 0]', (-2.761497278142252, 813)),\n",
       " ('[0, 2, 2, 1, 1]', (-2.7630445777777783, 65)),\n",
       " ('[1, 0, 2, 1, 1]', (-2.764505, 94)),\n",
       " ('[0, 3, 0, 0, 1]', (-2.7672222222222222, 32)),\n",
       " ('[1, 3, 0, 0, 1]', (-2.767777777777778, 2)),\n",
       " ('[0, 0, 4, 1, 0]', (-2.7721244444444437, 32)),\n",
       " ('[1, 4, 0, 0, 1]', (-2.774444444444444, 2)),\n",
       " ('[0, 1, 3, 0, 0]', (-2.7766111111111114, 30)),\n",
       " ('[1, 2, 2, 1, 1]', (-2.7772666666666663, 15)),\n",
       " ('[0, 3, 1, 0, 0]', (-2.7773055555555555, 30)),\n",
       " ('[0, 0, 1, 1, 0]', (-2.778444444444445, 59)),\n",
       " ('[1, 3, 0, 1, 1]', (-2.7851115183197526, 211)),\n",
       " ('[1, 1, 2, 0, 0]', (-2.7865333333333333, 58)),\n",
       " ('[0, 1, 3, 0, 1]', (-2.786555427777778, 91)),\n",
       " ('[1, 1, 2, 0, 1]', (-2.791103600356048, 148)),\n",
       " ('[1, 1, 0, 1, 1]', (-2.792933870230062, 209)),\n",
       " ('[1, 1, 3, 1, 0]', (-2.7955555555555547, 4)),\n",
       " ('[1, 2, 1, 1, 1]', (-2.7966326666666657, 42)),\n",
       " ('[1, 2, 3, 0, 1]', (-2.797222222222222, 32)),\n",
       " ('[2, 0, 1, 0, 0]', (-2.79901492916118, 1486)),\n",
       " ('[0, 2, 0, 0, 1]', (-2.7991111111111113, 31)),\n",
       " ('[1, 1, 3, 0, 1]', (-2.800332643390667, 148)),\n",
       " ('[1, 0, 4, 0, 1]', (-2.8005381111111114, 144)),\n",
       " ('[1, 1, 1, 1, 1]', (-2.8017827490011658, 101)),\n",
       " ('[0, 2, 0, 0, 0]', (-2.8062333333333327, 30)),\n",
       " ('[2, 2, 0, 0, 1]', (-2.812222222222222, 1)),\n",
       " ('[0, 3, 3, 0, 1]', (-2.814522222222222, 68)),\n",
       " ('[3, 0, 1, 0, 1]', (-2.8149883141996526, 1870)),\n",
       " ('[0, 0, 3, 1, 1]', (-2.816364343333334, 32)),\n",
       " ('[1, 2, 0, 1, 0]', (-2.816618398797514, 483)),\n",
       " ('[2, 0, 3, 1, 0]', (-2.816666666666667, 3)),\n",
       " ('[2, 1, 2, 0, 1]', (-2.817020563133334, 221)),\n",
       " ('[1, 0, 0, 1, 0]', (-2.8171097618866567, 1854)),\n",
       " ('[0, 0, 2, 1, 1]', (-2.8177777777777777, 32)),\n",
       " ('[2, 0, 0, 0, 1]', (-2.8199983522370364, 1654)),\n",
       " ('[1, 2, 3, 1, 1]', (-2.8210000000000006, 16)),\n",
       " ('[1, 0, 1, 0, 1]', (-2.821266666666667, 32)),\n",
       " ('[1, 0, 0, 0, 1]', (-2.8231087397200945, 1683)),\n",
       " ('[3, 1, 1, 1, 0]', (-2.8240925354654745, 769)),\n",
       " ('[2, 2, 1, 0, 0]', (-2.8244444444444445, 28)),\n",
       " ('[1, 2, 1, 1, 0]', (-2.824444444444445, 61)),\n",
       " ('[1, 2, 3, 1, 0]', (-2.825555555555555, 4)),\n",
       " ('[1, 2, 0, 0, 1]', (-2.825555555555556, 2)),\n",
       " ('[2, 1, 2, 1, 1]', (-2.826555555555556, 78)),\n",
       " ('[1, 0, 2, 1, 0]', (-2.8288888888888892, 2)),\n",
       " ('[1, 0, 4, 1, 1]', (-2.8301111111111115, 127)),\n",
       " ('[0, 1, 3, 1, 0]', (-2.830227922222222, 33)),\n",
       " ('[0, 0, 2, 0, 1]', (-2.8326570932000004, 117)),\n",
       " ('[0, 1, 3, 1, 1]', (-2.833177777777778, 95)),\n",
       " ('[1, 3, 0, 1, 0]', (-2.835558511181573, 653)),\n",
       " ('[0, 1, 2, 1, 0]', (-2.8357777777777784, 33)),\n",
       " ('[2, 2, 0, 0, 0]', (-2.83591437176, 224)),\n",
       " ('[1, 2, 1, 0, 1]', (-2.8377777777777777, 4)),\n",
       " ('[0, 4, 0, 1, 1]', (-2.839732516836433, 212)),\n",
       " ('[0, 3, 1, 0, 1]', (-2.840622222222222, 64)),\n",
       " ('[1, 1, 0, 0, 1]', (-2.8423018619017846, 4267)),\n",
       " ('[0, 0, 2, 1, 0]', (-2.842884444444445, 30)),\n",
       " ('[1, 2, 2, 1, 0]', (-2.8483333333333336, 4)),\n",
       " ('[3, 0, 1, 1, 0]', (-2.852957283538416, 1490)),\n",
       " ('[3, 2, 0, 0, 1]', (-2.853, 10)),\n",
       " ('[1, 4, 0, 1, 1]', (-2.8538871728295647, 211)),\n",
       " ('[3, 0, 0, 0, 0]', (-2.854421441491508, 8785)),\n",
       " ('[1, 1, 0, 1, 0]', (-2.8589972226412503, 4604)),\n",
       " ('[0, 2, 3, 1, 0]', (-2.859933333333333, 34)),\n",
       " ('[0, 3, 2, 0, 1]', (-2.8634444444444447, 65)),\n",
       " ('[2, 0, 1, 1, 0]', (-2.8655690277777772, 34)),\n",
       " ('[0, 3, 2, 0, 0]', (-2.8687997053083176, 841)),\n",
       " ('[1, 0, 3, 1, 1]', (-2.873919555555556, 124)),\n",
       " ('[2, 2, 1, 1, 0]', (-2.8742222222222225, 62)),\n",
       " ('[1, 0, 0, 1, 1]', (-2.8743225563492074, 90)),\n",
       " ('[2, 3, 1, 1, 0]', (-2.8748997265736675, 92)),\n",
       " ('[2, 2, 1, 1, 1]', (-2.8755008955555557, 53)),\n",
       " ('[2, 0, 0, 1, 1]', (-2.875637738888889, 91)),\n",
       " ('[0, 4, 0, 0, 1]', (-2.8766666666666665, 32)),\n",
       " ('[1, 4, 1, 1, 1]', (-2.8771975555555556, 76)),\n",
       " ('[2, 1, 2, 1, 0]', (-2.8788888888888886, 4)),\n",
       " ('[2, 1, 3, 0, 1]', (-2.8803211891555565, 248)),\n",
       " ('[2, 2, 2, 0, 0]', (-2.880811111111111, 28)),\n",
       " ('[0, 4, 2, 0, 1]', (-2.8808888888888893, 37)),\n",
       " ('[3, 0, 2, 1, 0]', (-2.8820666666666668, 58)),\n",
       " ('[3, 2, 0, 0, 0]', (-2.8835348322226344, 297)),\n",
       " ('[0, 3, 1, 1, 0]', (-2.884175555555556, 93)),\n",
       " ('[0, 4, 1, 0, 1]', (-2.884444444444445, 35)),\n",
       " ('[1, 0, 1, 1, 1]', (-2.8852598102402407, 37)),\n",
       " ('[1, 4, 0, 0, 0]', (-2.8868794824888893, 203)),\n",
       " ('[1, 3, 2, 0, 1]', (-2.8878352890779397, 877)),\n",
       " ('[0, 1, 1, 1, 0]', (-2.889122222222223, 62)),\n",
       " ('[0, 5, 1, 1, 0]', (-2.8891333333333336, 93)),\n",
       " ('[0, 4, 1, 1, 1]', (-2.8901996566666663, 99)),\n",
       " ('[1, 0, 4, 1, 0]', (-2.891111111111111, 2)),\n",
       " ('[0, 0, 4, 0, 1]', (-2.8913661268888893, 148)),\n",
       " ('[0, 1, 1, 0, 1]', (-2.891593549321558, 92)),\n",
       " ('[1, 0, 4, 0, 0]', (-2.8923151315441373, 900)),\n",
       " ('[3, 2, 0, 1, 0]', (-2.892956056064168, 1134)),\n",
       " ('[2, 0, 2, 0, 1]', (-2.8953076666666666, 142)),\n",
       " ('[0, 2, 3, 0, 1]', (-2.8966666666666665, 34)),\n",
       " ('[2, 1, 1, 0, 1]', (-2.8995517849968904, 195)),\n",
       " ('[1, 1, 2, 1, 0]', (-2.9011111111111116, 4)),\n",
       " ('[0, 4, 1, 1, 0]', (-2.9015572133333336, 93)),\n",
       " ('[4, 0, 0, 0, 1]', (-2.9027424585317734, 2951)),\n",
       " ('[3, 0, 2, 0, 1]', (-2.903526032720671, 436)),\n",
       " ('[2, 0, 3, 0, 1]', (-2.904177874922222, 142)),\n",
       " ('[0, 3, 0, 0, 0]', (-2.906080206777778, 180)),\n",
       " ('[2, 1, 3, 1, 0]', (-2.9066666666666667, 4)),\n",
       " ('[2, 3, 0, 0, 0]', (-2.9073977499379677, 336)),\n",
       " ('[4, 1, 0, 0, 1]', (-2.9081659662978483, 2819)),\n",
       " ('[0, 1, 4, 1, 0]', (-2.9138333333333333, 37)),\n",
       " ('[2, 0, 0, 0, 0]', (-2.914295583892512, 8773)),\n",
       " ('[0, 5, 0, 0, 1]', (-2.9176566666666672, 32)),\n",
       " ('[4, 0, 1, 1, 0]', (-2.9184554822639, 2790)),\n",
       " ('[2, 3, 0, 0, 1]', (-2.9187568888888893, 32)),\n",
       " ('[2, 3, 0, 1, 0]', (-2.9198285603190097, 1125)),\n",
       " ('[1, 4, 0, 1, 0]', (-2.9203115773407617, 735)),\n",
       " ('[2, 1, 2, 0, 0]', (-2.9211522222222226, 56)),\n",
       " ('[1, 1, 4, 0, 0]', (-2.9218444444444445, 58)),\n",
       " ('[0, 3, 0, 1, 1]', (-2.9223890627135876, 213)),\n",
       " ('[1, 4, 1, 0, 1]', (-2.924333333333334, 7)),\n",
       " ('[0, 0, 3, 0, 1]', (-2.9278371820788904, 146)),\n",
       " ('[3, 0, 2, 1, 1]', (-2.932288888888889, 99)),\n",
       " ('[2, 0, 3, 1, 1]', (-2.9333333333333336, 13)),\n",
       " ('[0, 0, 1, 0, 1]', (-2.933666666666667, 30)),\n",
       " ('[0, 2, 1, 1, 0]', (-2.9339053405017914, 63)),\n",
       " ('[3, 1, 0, 0, 0]', (-2.934077483307809, 5218)),\n",
       " ('[1, 1, 4, 0, 1]', (-2.9367871196333333, 149)),\n",
       " ('[0, 1, 0, 1, 0]', (-2.9372465551733837, 235)),\n",
       " ('[1, 2, 0, 0, 0]', (-2.938298222222222, 145)),\n",
       " ('[0, 4, 0, 0, 0]', (-2.9399162947222233, 180)),\n",
       " ('[3, 2, 1, 1, 0]', (-2.9399999999999995, 42)),\n",
       " ('[0, 0, 0, 0, 1]', (-2.9411972619052307, 3630)),\n",
       " ('[2, 1, 0, 1, 0]', (-2.9428303947894836, 3770)),\n",
       " ('[4, 0, 0, 0, 0]', (-2.9428520719723537, 12208)),\n",
       " ('[0, 1, 1, 0, 0]', (-2.942955555555556, 30)),\n",
       " ('[2, 1, 1, 1, 1]', (-2.9430915727505194, 107)),\n",
       " ('[0, 0, 0, 1, 0]', (-2.9452476002885937, 3747)),\n",
       " ('[1, 0, 5, 1, 0]', (-2.945744444444444, 33)),\n",
       " ('[3, 2, 0, 1, 1]', (-2.9466345040840296, 319)),\n",
       " ('[2, 1, 3, 1, 1]', (-2.947482222222223, 82)),\n",
       " ('[2, 1, 0, 0, 0]', (-2.947615617370835, 5411)),\n",
       " ('[1, 1, 4, 1, 0]', (-2.9531111111111117, 5)),\n",
       " ('[2, 2, 2, 1, 0]', (-2.9533333333333336, 6)),\n",
       " ('[0, 3, 2, 1, 0]', (-2.9555860000000007, 94)),\n",
       " ('[-1, 1, 3, 0, 1]', (-2.9557777777777776, 30)),\n",
       " ('[2, 3, 1, 0, 0]', (-2.9574488888888895, 56)),\n",
       " ('[0, 2, 4, 0, 1]', (-2.958018054057844, 939)),\n",
       " ('[1, 4, 1, 0, 0]', (-2.958155555555556, 58)),\n",
       " ('[3, 3, 0, 0, 1]', (-2.958777777777778, 42)),\n",
       " ('[3, 0, 2, 0, 0]', (-2.961155555555556, 81)),\n",
       " ('[0, 4, 2, 1, 0]', (-2.9613933777777786, 95)),\n",
       " ('[1, 0, 1, 0, 0]', (-2.962222222222222, 29)),\n",
       " ('[-1, 1, 4, 1, 0]', (-2.9622222222222225, 1)),\n",
       " ('[3, 1, 2, 0, 0]', (-2.9627099291338523, 189)),\n",
       " ('[0, 3, 3, 1, 0]', (-2.9648766666666675, 39)),\n",
       " ('[1, 3, 1, 0, 0]', (-2.965764222222223, 87)),\n",
       " ('[-1, 1, 5, 1, 0]', (-2.966666666666667, 1)),\n",
       " ('[0, 0, 5, 0, 1]', (-2.96719871729, 150)),\n",
       " ('[0, 5, 1, 0, 1]', (-2.967366666666667, 35)),\n",
       " ('[3, 0, 3, 1, 0]', (-2.9690000000000003, 8)),\n",
       " ('[2, 0, 0, 1, 0]', (-2.9697789182975263, 1848)),\n",
       " ('[0, 2, 1, 0, 0]', (-2.9754444444444452, 30)),\n",
       " ('[1, 3, 1, 0, 1]', (-2.975851635527106, 36)),\n",
       " ('[1, 3, 1, 1, 0]', (-2.9771693906705092, 65)),\n",
       " ('[0, 1, 4, 0, 1]', (-2.983104, 95)),\n",
       " ('[-1, 1, 5, 1, 1]', (-2.983244444444445, 42)),\n",
       " ('[1, 4, 2, 0, 1]', (-2.9833333333333334, 8)),\n",
       " ('[-1, 1, 1, 0, 1]', (-2.9858666666666673, 30)),\n",
       " ('[3, 0, 0, 0, 1]', (-2.98619184601534, 1656)),\n",
       " ('[0, 1, 5, 0, 1]', (-2.9867330955555556, 100)),\n",
       " ('[-1, 1, 4, 0, 1]', (-2.993622222222222, 31)),\n",
       " ('[3, 0, 0, 1, 0]', (-2.994075541924674, 2014)),\n",
       " ('[0, 2, 4, 1, 0]', (-2.995096363419113, 940)),\n",
       " ('[0, 6, 0, 0, 1]', (-2.9952999999999994, 32)),\n",
       " ('[2, 4, 0, 0, 1]', (-2.9955555555555557, 3)),\n",
       " ('[2, 4, 0, 1, 1]', (-2.995657658264442, 446)),\n",
       " ('[1, 3, 2, 1, 1]', (-2.9971133931830813, 107)),\n",
       " ('[-1, 2, 3, 1, 0]', (-2.997777777777778, 1)),\n",
       " ('[-1, 3, 3, 1, 1]', (-2.9988111111111113, 39)),\n",
       " ('[-1, 3, 3, 0, 1]', (-2.998888888888889, 1)),\n",
       " ('[1, 1, 0, 0, 0]', (-2.999480414775145, 7404)),\n",
       " ('[0, 4, 0, 1, 0]', (-3.0002584015292824, 439)),\n",
       " ('[2, 0, 1, 1, 1]', (-3.000665035163301, 40)),\n",
       " ('[3, 0, 3, 0, 0]', (-3.0020977777777778, 81)),\n",
       " ('[1, 5, 0, 1, 1]', (-3.0028398470777784, 211)),\n",
       " ('[0, 3, 0, 1, 0]', (-3.003281705865233, 444)),\n",
       " ('[0, 1, 5, 1, 0]', (-3.008533288888889, 42)),\n",
       " ('[0, 2, 3, 1, 1]', (-3.0088609272030657, 66)),\n",
       " ('[3, 1, 1, 0, 0]', (-3.0102503225872095, 163)),\n",
       " ('[3, 2, 1, 0, 1]', (-3.010666666666667, 16)),\n",
       " ('[4, 1, 1, 1, 0]', (-3.0128155365222224, 118)),\n",
       " ('[-1, 2, 0, 1, 0]', (-3.0142111111111114, 30)),\n",
       " ('[3, 3, 0, 0, 0]', (-3.015310236635625, 1435)),\n",
       " ('[0, 1, 5, 0, 0]', (-3.0155555555555558, 30)),\n",
       " ('[1, 4, 1, 1, 0]', (-3.0173211111111113, 64)),\n",
       " ('[0, 0, 6, 0, 1]', (-3.0207313737777786, 152)),\n",
       " ('[1, 5, 0, 1, 0]', (-3.021108031169698, 735)),\n",
       " ('[2, 1, 3, 0, 0]', (-3.0228888888888896, 56)),\n",
       " ('[0, 5, 0, 0, 0]', (-3.027038494821556, 180)),\n",
       " ('[-1, 1, 2, 1, 1]', (-3.0275555555555553, 33)),\n",
       " ('[0, 1, 4, 0, 0]', (-3.028, 30)),\n",
       " ('[0, 5, 0, 1, 0]', (-3.028872857707566, 439)),\n",
       " ('[2, 0, 4, 1, 0]', (-3.0291263485836986, 817)),\n",
       " ('[1, 2, 4, 1, 0]', (-3.0322222222222224, 5)),\n",
       " ('[0, 6, 0, 1, 1]', (-3.0328940182222226, 212)),\n",
       " ('[-1, 4, 3, 0, 1]', (-3.0333333333333328, 2)),\n",
       " ('[4, 2, 0, 0, 0]', (-3.0339619182624777, 1368)),\n",
       " ('[-1, 0, 2, 1, 1]', (-3.0373333333333337, 30)),\n",
       " ('[4, 2, 0, 1, 1]', (-3.0383383050352455, 500)),\n",
       " ('[2, 0, 4, 0, 1]', (-3.039741627505821, 1034)),\n",
       " ('[-1, 4, 1, 1, 1]', (-3.0459233333333335, 35)),\n",
       " ('[2, 3, 0, 1, 1]', (-3.045956214194362, 361)),\n",
       " ('[-1, 4, 0, 1, 1]', (-3.0488888888888885, 32)),\n",
       " ('[2, 3, 2, 0, 1]', (-3.050666666666666, 65)),\n",
       " ('[1, 5, 1, 1, 0]', (-3.0513443333333328, 64)),\n",
       " ('[0, 0, 5, 1, 0]', (-3.0543333333333336, 34)),\n",
       " ('[-1, 3, 1, 1, 1]', (-3.054533333333334, 35)),\n",
       " ('[-1, 2, 4, 0, 1]', (-3.0555555555555554, 3)),\n",
       " ('[2, 4, 1, 0, 1]', (-3.055555555555556, 8)),\n",
       " ('[1, 0, 2, 0, 0]', (-3.055987244444445, 87)),\n",
       " ('[-1, 3, 2, 1, 1]', (-3.056959222222223, 36)),\n",
       " ('[0, 2, 0, 1, 0]', (-3.057362118444445, 235)),\n",
       " ('[-1, 1, 1, 1, 1]', (-3.0597000000000008, 33)),\n",
       " ('[0, 3, 1, 1, 1]', (-3.0635897252055506, 100)),\n",
       " ('[4, 1, 1, 0, 0]', (-3.064386693405557, 130)),\n",
       " ('[2, 3, 1, 0, 1]', (-3.0650728550492725, 64)),\n",
       " ('[0, 4, 3, 0, 1]', (-3.066094444444445, 41)),\n",
       " ('[3, 1, 2, 1, 1]', (-3.0668996216968125, 229)),\n",
       " ('[0, 5, 0, 1, 1]', (-3.066989902222223, 212)),\n",
       " ('[1, 5, 0, 0, 0]', (-3.067912769814888, 203)),\n",
       " ('[1, 3, 2, 0, 0]', (-3.0681344143466576, 88)),\n",
       " ('[-1, 1, 2, 0, 1]', (-3.0687666666666673, 30)),\n",
       " ('[1, 0, 5, 0, 0]', (-3.0692385597047314, 900)),\n",
       " ('[0, 0, 6, 1, 0]', (-3.071077777777779, 36)),\n",
       " ('[4, 1, 0, 0, 0]', (-3.0715196856614955, 7499)),\n",
       " ('[0, 1, 0, 0, 1]', (-3.072487822222223, 89)),\n",
       " ('[5, 0, 0, 0, 1]', (-3.07350100451489, 3308)),\n",
       " ('[1, 6, 0, 0, 1]', (-3.0736666666666665, 2)),\n",
       " ('[2, 4, 0, 0, 0]', (-3.075259000266363, 420)),\n",
       " ('[3, 0, 3, 0, 1]', (-3.0768222236239526, 438)),\n",
       " ('[0, 6, 0, 1, 0]', (-3.077855630275895, 439)),\n",
       " ('[0, 5, 2, 0, 1]', (-3.0802222222222224, 38)),\n",
       " ('[2, 2, 0, 1, 0]', (-3.0807911443681473, 687)),\n",
       " ('[0, 5, 1, 1, 1]', (-3.0896198440177773, 99)),\n",
       " ('[-1, 4, 2, 1, 1]', (-3.089666666666667, 37)),\n",
       " ('[-1, 2, 4, 0, 0]', (-3.09000219427934, 900)),\n",
       " ('[-1, 2, 1, 1, 1]', (-3.0907999999999998, 33)),\n",
       " ('[2, 4, 0, 1, 0]', (-3.0911583158958447, 1205)),\n",
       " ('[0, 6, 0, 0, 0]', (-3.0918115563377784, 180)),\n",
       " ('[0, 3, 4, 0, 0]', (-3.092162188888889, 60)),\n",
       " ('[-1, 2, 0, 1, 1]', (-3.0928000000000004, 31)),\n",
       " ('[1, 0, 5, 0, 1]', (-3.0935132056444448, 144)),\n",
       " ('[-1, 4, 1, 1, 0]', (-3.093555555555556, 30)),\n",
       " ('[1, 0, 2, 0, 1]', (-3.094177968753323, 119)),\n",
       " ('[1, 4, 2, 1, 1]', (-3.097224277777778, 78)),\n",
       " ('[2, 2, 3, 0, 0]', (-3.0977777777777784, 28)),\n",
       " ('[2, 1, 4, 1, 0]', (-3.0981111111111113, 34)),\n",
       " ('[-1, 0, 1, 1, 1]', (-3.0999999999999996, 30)),\n",
       " ('[0, 3, 2, 1, 1]', (-3.1004519218561537, 71)),\n",
       " ('[-1, 1, 5, 0, 1]', (-3.1036111111111113, 31)),\n",
       " ('[-1, 2, 3, 0, 1]', (-3.104444444444444, 1)),\n",
       " ('[-1, 2, 5, 1, 1]', (-3.1058726666666674, 77)),\n",
       " ('[3, 1, 0, 0, 1]', (-3.1076020694910973, 2280)),\n",
       " ('[1, 3, 3, 0, 0]', (-3.108888888888889, 29)),\n",
       " ('[5, 0, 1, 0, 0]', (-3.109111111111111, 75)),\n",
       " ('[1, 3, 3, 0, 1]', (-3.1100000000000003, 37)),\n",
       " ('[3, 1, 3, 1, 0]', (-3.1106, 17)),\n",
       " ('[2, 3, 2, 0, 0]', (-3.113944444444445, 84)),\n",
       " ('[-1, 3, 3, 1, 0]', (-3.1166666666666663, 1)),\n",
       " ('[1, 1, 5, 1, 1]', (-3.116796111111111, 78)),\n",
       " ('[2, 2, 3, 1, 1]', (-3.1182222222222227, 58)),\n",
       " ('[-1, 3, 0, 1, 0]', (-3.119112691479223, 180)),\n",
       " ('[-1, 1, 6, 1, 0]', (-3.12, 4)),\n",
       " ('[-1, 0, 6, 1, 0]', (-3.12, 1)),\n",
       " ('[0, 1, 0, 0, 0]', (-3.12009755469391, 4235)),\n",
       " ('[1, 1, 5, 0, 1]', (-3.120856956235778, 149)),\n",
       " ('[0, 5, 1, 0, 0]', (-3.1211888888888892, 30)),\n",
       " ('[1, 0, 3, 0, 1]', (-3.122143826124532, 145)),\n",
       " ('[0, 6, 1, 0, 1]', (-3.1242222222222225, 35)),\n",
       " ('[4, 0, 2, 0, 0]', (-3.1250918397749845, 1075)),\n",
       " ('[1, 5, 0, 0, 1]', (-3.1255555555555556, 2)),\n",
       " ('[2, 4, 1, 1, 0]', (-3.1263872555555556, 93)),\n",
       " ('[2, 0, 4, 1, 1]', (-3.127777777777778, 16)),\n",
       " ('[-1, 2, 5, 0, 1]', (-3.127777777777778, 3)),\n",
       " ('[5, 1, 0, 0, 1]', (-3.1297525616028703, 3863)),\n",
       " ('[1, 0, 3, 1, 0]', (-3.1300000000000003, 2)),\n",
       " ('[4, 0, 1, 0, 1]', (-3.134041999683322, 3215)),\n",
       " ('[3, 1, 2, 1, 0]', (-3.136666666666667, 66)),\n",
       " ('[-1, 2, 2, 1, 1]', (-3.1383333333333328, 33)),\n",
       " ('[1, 3, 1, 1, 1]', (-3.138664655849546, 107)),\n",
       " ('[3, 0, 4, 1, 0]', (-3.138888888888889, 38)),\n",
       " ('[-1, 5, 0, 1, 0]', (-3.141855555555556, 180)),\n",
       " ('[1, 3, 2, 1, 0]', (-3.142868875050098, 907)),\n",
       " ('[0, 5, 2, 1, 0]', (-3.1444217666666674, 96)),\n",
       " ('[1, 6, 0, 0, 0]', (-3.146314298055556, 203)),\n",
       " ('[-1, 1, 3, 1, 1]', (-3.150333333333334, 33)),\n",
       " ('[0, 1, 1, 1, 1]', (-3.1504874256589046, 97)),\n",
       " ('[2, 2, 3, 1, 0]', (-3.152222222222222, 6)),\n",
       " ('[1, 4, 2, 0, 0]', (-3.1526277777777776, 58)),\n",
       " ('[3, 3, 1, 1, 1]', (-3.1528745555555555, 108)),\n",
       " ('[1, 2, 4, 1, 1]', (-3.1560444444444444, 19)),\n",
       " ('[3, 2, 2, 1, 0]', (-3.1566729999999996, 69)),\n",
       " ('[0, 2, 5, 0, 1]', (-3.157005116290425, 946)),\n",
       " ('[0, 4, 3, 1, 0]', (-3.157888888888889, 41)),\n",
       " ('[-1, 1, 6, 0, 1]', (-3.1597000000000004, 34)),\n",
       " ('[-1, 0, 4, 1, 1]', (-3.1636555555555557, 32)),\n",
       " ('[0, 3, 4, 0, 1]', (-3.1645031111111117, 74)),\n",
       " ('[1, 5, 1, 0, 0]', (-3.166926666666667, 58)),\n",
       " ('[2, 3, 2, 1, 1]', (-3.171324606734445, 122)),\n",
       " ('[0, 1, 6, 1, 0]', (-3.1720466666666667, 45)),\n",
       " ('[1, 3, 3, 1, 0]', (-3.1744444444444446, 9)),\n",
       " ('[1, 5, 1, 0, 1]', (-3.1744444444444446, 7)),\n",
       " ('[2, 1, 4, 0, 1]', (-3.174588189368194, 248)),\n",
       " ('[0, 1, 6, 0, 0]', (-3.175738888888889, 30)),\n",
       " ('[1, 4, 2, 1, 0]', (-3.177864444444444, 64)),\n",
       " ('[4, 2, 0, 0, 1]', (-3.1788888888888893, 38)),\n",
       " ('[-1, 1, 0, 1, 1]', (-3.1800888888888883, 31)),\n",
       " ('[2, 1, 4, 1, 1]', (-3.1813344444444445, 85)),\n",
       " ('[-1, 0, 0, 1, 1]', (-3.182555555555555, 30)),\n",
       " ('[1, 6, 0, 1, 1]', (-3.1827295692222224, 212)),\n",
       " ('[-1, 4, 0, 1, 0]', (-3.1828255117033337, 180)),\n",
       " ('[1, 0, 6, 1, 1]', (-3.1837777777777774, 132)),\n",
       " ('[-1, 3, 4, 1, 0]', (-3.1855911111111115, 63)),\n",
       " ('[1, 1, 5, 1, 0]', (-3.1877777777777774, 36)),\n",
       " ('[3, 0, 1, 0, 0]', (-3.1890107034001924, 4191)),\n",
       " ('[1, 1, 4, 1, 1]', (-3.190040507449273, 76)),\n",
       " ('[1, 2, 4, 0, 1]', (-3.1931111111111115, 33)),\n",
       " ('[1, 1, 5, 0, 0]', (-3.1934111111111108, 58)),\n",
       " ('[6, 0, 0, 0, 1]', (-3.194497546176345, 2434)),\n",
       " ('[2, 5, 0, 1, 0]', (-3.194876107304854, 1202)),\n",
       " ('[1, 0, 0, 0, 0]', (-3.1974779680602325, 4905)),\n",
       " ('[2, 2, 2, 0, 1]', (-3.2008573436596652, 7)),\n",
       " ('[2, 3, 1, 1, 1]', (-3.2023915513144674, 92)),\n",
       " ('[-1, 3, 4, 1, 1]', (-3.2031511111111115, 45)),\n",
       " ('[-1, 4, 3, 1, 0]', (-3.203333333333333, 2)),\n",
       " ('[2, 1, 4, 0, 0]', (-3.204444444444445, 56)),\n",
       " ('[2, 5, 0, 0, 1]', (-3.2055555555555553, 3)),\n",
       " ('[-1, 6, 1, 1, 0]', (-3.2066666666666666, 30)),\n",
       " ('[-1, 0, 5, 1, 1]', (-3.207674700000001, 34)),\n",
       " ('[2, 4, 1, 0, 0]', (-3.2082666666666673, 28)),\n",
       " ('[4, 1, 2, 0, 1]', (-3.2095662889966663, 173)),\n",
       " ('[-1, 0, 7, 1, 1]', (-3.2104444444444438, 37)),\n",
       " ('[2, 0, 5, 1, 1]', (-3.2122222222222234, 19)),\n",
       " ('[3, 1, 3, 0, 0]', (-3.2133266078908087, 216)),\n",
       " ('[3, 3, 1, 0, 0]', (-3.2144444444444438, 54)),\n",
       " ('[-1, 6, 0, 1, 1]', (-3.2208777777777775, 32)),\n",
       " ('[0, 1, 6, 0, 1]', (-3.221751574473335, 103)),\n",
       " ('[3, 4, 0, 1, 1]', (-3.224189624222926, 624)),\n",
       " ('[-1, 0, 0, 0, 1]', (-3.228167675457944, 4805)),\n",
       " ('[-1, 0, 7, 0, 1]', (-3.2311111111111113, 1)),\n",
       " ('[-1, 0, 3, 1, 1]', (-3.2332222222222216, 30)),\n",
       " ('[1, 6, 0, 1, 0]', (-3.235261245362237, 763)),\n",
       " ('[4, 2, 1, 1, 0]', (-3.2353738888888888, 120)),\n",
       " ('[-1, 6, 1, 1, 1]', (-3.235844444444444, 35)),\n",
       " ('[4, 1, 2, 0, 0]', (-3.237363487765224, 156)),\n",
       " ('[2, 2, 3, 0, 1]', (-3.242222222222222, 6)),\n",
       " ('[3, 4, 0, 0, 0]', (-3.245080305131417, 594)),\n",
       " ('[-1, 2, 5, 0, 0]', (-3.246282229295598, 931)),\n",
       " ('[-1, 2, 1, 1, 0]', (-3.249333333333334, 30)),\n",
       " ('[2, 5, 0, 0, 0]', (-3.2529812137638077, 420)),\n",
       " ('[3, 4, 0, 1, 0]', (-3.2540375802221013, 1742)),\n",
       " ('[-1, 2, 4, 1, 0]', (-3.2566666666666664, 33)),\n",
       " ('[2, 5, 0, 1, 1]', (-3.257615656313245, 447)),\n",
       " ('[1, 0, 5, 1, 1]', (-3.2594231111111114, 130)),\n",
       " ('[0, 4, 2, 1, 1]', (-3.260061737554643, 71)),\n",
       " ('[-2, 1, 6, 1, 1]', (-3.2611111111111115, 4)),\n",
       " ('[3, 1, 2, 0, 1]', (-3.261870585890056, 255)),\n",
       " ('[0, 0, 7, 1, 0]', (-3.2637477777777777, 37)),\n",
       " ('[3, 0, 1, 1, 1]', (-3.2643784933725875, 98)),\n",
       " ('[0, 7, 0, 1, 1]', (-3.2673182409576023, 272)),\n",
       " ('[-1, 6, 0, 1, 0]', (-3.267831463527579, 180)),\n",
       " ('[1, 2, 5, 1, 1]', (-3.268022222222222, 22)),\n",
       " ('[4, 0, 2, 0, 1]', (-3.268530282732854, 590)),\n",
       " ('[0, 7, 0, 1, 0]', (-3.2694878944168106, 2269)),\n",
       " ('[0, 2, 2, 1, 0]', (-3.271111111111111, 33)),\n",
       " ('[-1, 5, 1, 1, 0]', (-3.2775277777777783, 30)),\n",
       " ('[-2, 2, 4, 1, 1]', (-3.2822222222222224, 3)),\n",
       " ('[4, 1, 2, 1, 0]', (-3.282462423333334, 152)),\n",
       " ('[2, 0, 5, 1, 0]', (-3.2831323538365162, 847)),\n",
       " ('[-1, 5, 3, 0, 1]', (-3.283333333333333, 2)),\n",
       " ('[1, 5, 2, 0, 1]', (-3.284444444444445, 8)),\n",
       " ('[-1, 3, 0, 1, 1]', (-3.2846666666666664, 32)),\n",
       " ('[-1, 7, 1, 1, 1]', (-3.2900000000000005, 35)),\n",
       " ('[-2, 0, 6, 1, 1]', (-3.291111111111111, 1)),\n",
       " ('[-1, 2, 6, 1, 0]', (-3.292666666666666, 7)),\n",
       " ('[0, 6, 1, 1, 1]', (-3.294203223333333, 100)),\n",
       " ('[5, 2, 0, 0, 0]', (-3.2965389299591252, 2602)),\n",
       " ('[1, 0, 6, 0, 1]', (-3.2970545316333344, 144)),\n",
       " ('[3, 1, 3, 1, 1]', (-3.297802513713727, 263)),\n",
       " ('[5, 1, 1, 0, 0]', (-3.299787777777778, 100)),\n",
       " ('[0, 3, 3, 1, 1]', (-3.3030384552379357, 73)),\n",
       " ('[6, 1, 0, 1, 0]', (-3.3038341505454074, 5338)),\n",
       " ('[5, 1, 1, 0, 1]', (-3.3065217855555558, 165)),\n",
       " ('[1, 0, 6, 0, 0]', (-3.30670292528889, 116)),\n",
       " ('[0, 0, 7, 0, 1]', (-3.306887986611111, 153)),\n",
       " ('[1, 5, 1, 1, 1]', (-3.3075337777777785, 76)),\n",
       " ('[3, 2, 2, 0, 1]', (-3.311000000000001, 17)),\n",
       " ('[1, 0, 6, 1, 0]', (-3.311111111111111, 2)),\n",
       " ('[-1, 1, 0, 1, 0]', (-3.3126666666666673, 30)),\n",
       " ('[0, 6, 1, 0, 0]', (-3.3144444444444447, 30)),\n",
       " ('[4, 0, 3, 0, 0]', (-3.31542566488889, 182)),\n",
       " ('[4, 3, 0, 0, 0]', (-3.3166430995388736, 728)),\n",
       " ('[5, 1, 0, 0, 0]', (-3.316824355512381, 7562)),\n",
       " ('[0, 3, 5, 1, 0]', (-3.321255555555555, 52)),\n",
       " ('[6, 0, 1, 0, 0]', (-3.321328888888889, 72)),\n",
       " ('[0, 6, 1, 1, 0]', (-3.323816259444445, 93)),\n",
       " ('[3, 1, 0, 1, 0]', (-3.3257486109497942, 3223)),\n",
       " ('[2, 3, 3, 1, 0]', (-3.326888888888888, 9)),\n",
       " ('[-1, 0, 6, 0, 1]', (-3.3299999999999996, 1)),\n",
       " ('[2, 0, 5, 0, 1]', (-3.3301970097228772, 1034)),\n",
       " ('[3, 1, 4, 1, 0]', (-3.3305333333333333, 47)),\n",
       " ('[4, 0, 1, 0, 0]', (-3.334613139810335, 3515)),\n",
       " ('[-1, 7, 0, 1, 0]', (-3.3346220888530733, 210)),\n",
       " ('[0, 1, 4, 1, 1]', (-3.3347673461535337, 101)),\n",
       " ('[2, 2, 2, 1, 1]', (-3.3367521542539764, 56)),\n",
       " ('[1, 3, 4, 0, 0]', (-3.336833333333334, 29)),\n",
       " ('[3, 1, 3, 0, 1]', (-3.3373773470536072, 258)),\n",
       " ('[1, 4, 3, 1, 0]', (-3.338888888888889, 9)),\n",
       " ('[3, 3, 2, 0, 0]', (-3.3393277777777772, 54)),\n",
       " ('[-1, 5, 1, 1, 1]', (-3.342222222222223, 35)),\n",
       " ('[0, 2, 4, 0, 0]', (-3.3437598263851322, 31)),\n",
       " ('[2, 1, 5, 1, 0]', (-3.344444444444444, 64)),\n",
       " ('[4, 0, 0, 1, 0]', (-3.348055655696196, 3368)),\n",
       " ('[0, 4, 3, 1, 1]', (-3.3484518749228798, 72)),\n",
       " ('[-1, 3, 5, 0, 0]', (-3.3487777777777783, 31)),\n",
       " ('[3, 2, 3, 1, 1]', (-3.348898888888889, 52)),\n",
       " ('[-1, 7, 0, 1, 1]', (-3.3503700000000007, 32)),\n",
       " ('[0, 3, 5, 0, 0]', (-3.3509888888888884, 60)),\n",
       " ('[0, 5, 3, 1, 1]', (-3.352257555555556, 71)),\n",
       " ('[5, 2, 0, 1, 0]', (-3.3544859633749327, 1696)),\n",
       " ('[6, 1, 0, 0, 0]', (-3.3549610367645935, 4904)),\n",
       " ('[-1, 4, 4, 1, 0]', (-3.355440955555556, 64)),\n",
       " ('[-2, 4, 3, 1, 1]', (-3.355555555555556, 2)),\n",
       " ('[4, 2, 1, 0, 1]', (-3.3557687777777785, 68)),\n",
       " ('[2, 4, 2, 0, 0]', (-3.357214444444445, 56)),\n",
       " ('[2, 0, 6, 1, 0]', (-3.357777777777778, 3)),\n",
       " ('[-1, 1, 7, 1, 1]', (-3.3580777777777775, 48)),\n",
       " ('[-2, 3, 4, 1, 1]', (-3.3588888888888886, 3)),\n",
       " ('[0, 2, 6, 0, 1]', (-3.3588888888888895, 49)),\n",
       " ('[-1, 0, 0, 1, 0]', (-3.358952299000896, 4835)),\n",
       " ('[0, 5, 3, 1, 0]', (-3.3598888888888885, 42)),\n",
       " ('[4, 0, 3, 1, 0]', (-3.361111111111111, 8)),\n",
       " ('[-2, 5, 3, 1, 1]', (-3.3622222222222216, 2)),\n",
       " ('[-1, 1, 7, 1, 0]', (-3.362222222222222, 4)),\n",
       " ('[4, 0, 3, 1, 1]', (-3.365297280711222, 216)),\n",
       " ('[1, 3, 4, 1, 1]', (-3.3656555555555556, 52)),\n",
       " ('[-1, 5, 0, 1, 1]', (-3.3662222222222216, 32)),\n",
       " ('[-2, 1, 7, 1, 1]', (-3.3688888888888884, 4)),\n",
       " ('[-2, 3, 5, 1, 1]', (-3.3699999999999997, 4)),\n",
       " ('[5, 0, 1, 0, 1]', (-3.370598843894017, 291)),\n",
       " ('[2, 0, 4, 0, 0]', (-3.3714140690416725, 1657)),\n",
       " ('[-1, 5, 3, 1, 1]', (-3.3796666666666666, 42)),\n",
       " ('[3, 4, 0, 0, 1]', (-3.382222222222223, 14)),\n",
       " ('[6, 0, 1, 0, 1]', (-3.3826097677259135, 205)),\n",
       " ('[3, 0, 4, 1, 1]', (-3.3833508676520783, 211)),\n",
       " ('[1, 1, 6, 0, 0]', (-3.3847777777777774, 58)),\n",
       " ('[1, 2, 5, 0, 1]', (-3.3871999999999995, 33)),\n",
       " ('[1, 2, 5, 1, 0]', (-3.3877777777777776, 36)),\n",
       " ('[4, 3, 0, 0, 1]', (-3.3883987777777773, 40)),\n",
       " ('[2, 5, 1, 1, 0]', (-3.3899327444444447, 93)),\n",
       " ('[5, 0, 0, 0, 0]', (-3.393034630092569, 13892)),\n",
       " ('[5, 2, 0, 1, 1]', (-3.3935389541177035, 592)),\n",
       " ('[0, 4, 4, 1, 0]', (-3.394633333333334, 48)),\n",
       " ('[4, 0, 3, 0, 1]', (-3.3947487876688234, 641)),\n",
       " ('[1, 6, 1, 1, 0]', (-3.3965222222222224, 65)),\n",
       " ('[3, 0, 4, 0, 0]', (-3.397854770756334, 189)),\n",
       " ('[3, 0, 0, 1, 1]', (-3.397925998102632, 146)),\n",
       " ('[6, 1, 0, 0, 1]', (-3.3991954046397153, 3494)),\n",
       " ('[1, 5, 2, 0, 0]', (-3.39941888888889, 58)),\n",
       " ('[1, 4, 3, 0, 1]', (-3.4, 9)),\n",
       " ('[-1, 0, 8, 0, 1]', (-3.4033333333333333, 1)),\n",
       " ('[2, 2, 4, 1, 1]', (-3.403418111111111, 61)),\n",
       " ('[5, 0, 2, 0, 1]', (-3.4037526459840652, 291)),\n",
       " ('[2, 4, 1, 1, 1]', (-3.40401903145983, 68)),\n",
       " ('[1, 5, 2, 1, 1]', (-3.4048888888888893, 78)),\n",
       " ('[-1, 3, 4, 0, 1]', (-3.4088888888888897, 3)),\n",
       " ('[-1, 8, 0, 1, 1]', (-3.4093333333333335, 32)),\n",
       " ('[-2, 3, 3, 1, 1]', (-3.411111111111111, 1)),\n",
       " ('[0, 6, 2, 0, 1]', (-3.4122222222222214, 39)),\n",
       " ('[-1, 5, 2, 1, 1]', (-3.4130766666666665, 38)),\n",
       " ('[-1, 0, 7, 1, 0]', (-3.414444444444444, 1)),\n",
       " ('[1, 3, 4, 0, 1]', (-3.4148944444444442, 38)),\n",
       " ('[0, 1, 7, 1, 0]', (-3.4155555555555552, 47)),\n",
       " ('[-2, 0, 7, 1, 1]', (-3.4155555555555557, 1)),\n",
       " ('[-1, 3, 5, 1, 0]', (-3.416666666666666, 64)),\n",
       " ('[-1, 4, 4, 0, 1]', (-3.4177777777777782, 34)),\n",
       " ('[5, 1, 1, 1, 0]', (-3.419110666666667, 182)),\n",
       " ('[0, 0, 0, 0, 0]', (-3.4192358644325904, 8676)),\n",
       " ('[2, 0, 6, 1, 1]', (-3.4238888888888885, 20)),\n",
       " ('[-1, 4, 3, 1, 1]', (-3.425350855307018, 42)),\n",
       " ('[1, 5, 2, 1, 0]', (-3.4289999999999994, 64)),\n",
       " ('[7, 0, 0, 0, 1]', (-3.429881971587624, 1244)),\n",
       " ('[1, 7, 0, 0, 1]', (-3.4311111111111106, 2)),\n",
       " ('[2, 2, 4, 0, 0]', (-3.431177777777778, 28)),\n",
       " ('[0, 2, 6, 1, 1]', (-3.431365522222222, 76)),\n",
       " ('[5, 0, 0, 1, 0]', (-3.43443501108649, 3839)),\n",
       " ('[-2, 2, 6, 1, 1]', (-3.4359999999999995, 7)),\n",
       " ('[-1, 7, 0, 0, 1]', (-3.437612222222222, 30)),\n",
       " ('[0, 6, 2, 1, 0]', (-3.437884777777778, 97)),\n",
       " ('[1, 0, 7, 1, 0]', (-3.4399999999999995, 2)),\n",
       " ('[4, 0, 0, 1, 1]', (-3.440730130098994, 250)),\n",
       " ('[0, 3, 5, 0, 1]', (-3.4425511111111113, 81)),\n",
       " ('[-1, 0, 8, 1, 1]', (-3.443455777777779, 37)),\n",
       " ('[2, 3, 3, 0, 1]', (-3.443657777777778, 65)),\n",
       " ('[1, 1, 6, 1, 0]', (-3.444444444444444, 6)),\n",
       " ('[3, 3, 1, 1, 0]', (-3.4455771373890935, 73)),\n",
       " ('[0, 3, 4, 1, 0]', (-3.4460414704858255, 46)),\n",
       " ('[4, 1, 1, 0, 1]', (-3.4476801510392567, 171)),\n",
       " ('[-1, 5, 3, 1, 0]', (-3.447777777777778, 2)),\n",
       " ('[-2, 3, 5, 1, 0]', (-3.448555555555556, 31)),\n",
       " ('[-1, 7, 0, 0, 0]', (-3.4493688879202904, 1800)),\n",
       " ('[1, 4, 3, 1, 1]', (-3.449444444444444, 21)),\n",
       " ('[4, 2, 1, 0, 0]', (-3.450000000000001, 26)),\n",
       " ('[-3, 4, 4, 1, 1]', (-3.4511111111111115, 1)),\n",
       " ('[4, 3, 1, 0, 0]', (-3.4524000000000004, 52)),\n",
       " ('[0, 7, 0, 0, 0]', (-3.4527510993585975, 1982)),\n",
       " ('[1, 0, 7, 1, 1]', (-3.456088367687778, 133)),\n",
       " ('[2, 1, 5, 0, 0]', (-3.4566388888888886, 56)),\n",
       " ('[2, 4, 2, 1, 0]', (-3.4595555555555553, 37)),\n",
       " ('[-2, 2, 5, 1, 1]', (-3.46, 3)),\n",
       " ('[-2, 2, 5, 1, 0]', (-3.4610188888888893, 31)),\n",
       " ('[1, 3, 3, 1, 1]', (-3.4622821570458395, 50)),\n",
       " ('[1, 7, 0, 1, 1]', (-3.4625336960940283, 212)),\n",
       " ('[-2, 1, 8, 1, 1]', (-3.4633333333333334, 4)),\n",
       " ('[-2, 2, 3, 1, 1]', (-3.4633333333333334, 1)),\n",
       " ('[-2, 1, 4, 1, 1]', (-3.4655555555555555, 1)),\n",
       " ('[2, 6, 0, 0, 1]', (-3.47, 4)),\n",
       " ('[2, 2, 4, 0, 1]', (-3.471111111111111, 6)),\n",
       " ('[-1, 3, 1, 1, 0]', (-3.473333333333333, 30)),\n",
       " ('[2, 5, 1, 0, 1]', (-3.473333333333334, 8)),\n",
       " ('[0, 1, 7, 0, 1]', (-3.476444444444444, 105)),\n",
       " ('[2, 5, 1, 1, 1]', (-3.4768622222222225, 68)),\n",
       " ('[1, 7, 0, 0, 0]', (-3.477131418018023, 203)),\n",
       " ('[0, 3, 4, 1, 1]', (-3.4781515207355658, 136)),\n",
       " ('[3, 2, 2, 1, 1]', (-3.479291245637673, 47)),\n",
       " ('[2, 1, 5, 1, 1]', (-3.480109488888889, 88)),\n",
       " ('[0, 5, 2, 1, 1]', (-3.481408904505328, 71)),\n",
       " ('[1, 6, 1, 0, 0]', (-3.4814877777777786, 58)),\n",
       " ('[0, 0, 8, 1, 1]', (-3.4828888888888887, 35)),\n",
       " ('[3, 1, 4, 0, 0]', (-3.4844844539775677, 216)),\n",
       " ('[3, 1, 4, 1, 1]', (-3.4849840546778927, 263)),\n",
       " ('[-1, 7, 1, 1, 0]', (-3.486111111111111, 30)),\n",
       " ('[3, 4, 1, 0, 0]', (-3.4866666666666664, 27)),\n",
       " ('[-1, 1, 7, 0, 1]', (-3.4866666666666672, 34)),\n",
       " ('[3, 0, 5, 1, 1]', (-3.4870455638571314, 211)),\n",
       " ('[-2, 4, 4, 1, 0]', (-3.487777777777778, 1)),\n",
       " ('[-1, 3, 6, 1, 1]', (-3.4899999999999993, 56)),\n",
       " ('[-1, 4, 4, 1, 1]', (-3.490031111111112, 48)),\n",
       " ('[1, 7, 0, 1, 0]', (-3.491730413353128, 763)),\n",
       " ('[2, 4, 2, 1, 1]', (-3.492281636366667, 98)),\n",
       " ('[0, 5, 3, 0, 1]', (-3.4923688888888895, 42)),\n",
       " ('[1, 1, 6, 0, 1]', (-3.4928837876679313, 150)),\n",
       " ('[3, 2, 3, 0, 1]', (-3.4933333333333327, 20)),\n",
       " ('[5, 2, 1, 0, 0]', (-3.493998888888889, 75)),\n",
       " ('[2, 1, 5, 0, 1]', (-3.4942703322931123, 248)),\n",
       " ('[-2, 0, 8, 1, 1]', (-3.4955555555555553, 1)),\n",
       " ('[0, 2, 5, 0, 0]', (-3.496668178899736, 61)),\n",
       " ('[4, 3, 1, 0, 1]', (-3.4970000000000003, 48)),\n",
       " ('[2, 2, 4, 1, 0]', (-3.497671111111111, 36)),\n",
       " ('[4, 2, 2, 0, 1]', (-3.4990888888888887, 73)),\n",
       " ('[4, 1, 3, 0, 1]', (-3.500139157651398, 174)),\n",
       " ('[4, 0, 1, 1, 1]', (-3.5014825863949803, 209)),\n",
       " ('[0, 0, 8, 0, 1]', (-3.5017944230733336, 153)),\n",
       " ('[-1, 2, 4, 1, 1]', (-3.501804397935355, 40)),\n",
       " ('[3, 5, 0, 1, 1]', (-3.5021387116248808, 624)),\n",
       " ('[2, 3, 3, 0, 0]', (-3.503225555555556, 28)),\n",
       " ('[3, 2, 3, 1, 0]', (-3.5084222222222223, 20)),\n",
       " ('[-3, 4, 5, 1, 1]', (-3.51, 1)),\n",
       " ('[3, 4, 1, 1, 0]', (-3.5103049177777783, 73)),\n",
       " ('[1, 6, 1, 0, 1]', (-3.5111111111111115, 8)),\n",
       " ('[4, 1, 3, 0, 0]', (-3.5136045222222227, 104)),\n",
       " ('[0, 8, 0, 1, 0]', (-3.5145111617268245, 468)),\n",
       " ('[3, 5, 0, 1, 0]', (-3.515206053515483, 1742)),\n",
       " ('[1, 3, 4, 1, 0]', (-3.516666666666667, 10)),\n",
       " ('[-1, 8, 0, 1, 0]', (-3.5167570911024457, 210)),\n",
       " ('[0, 7, 1, 1, 1]', (-3.518684172544445, 130)),\n",
       " ('[3, 2, 1, 1, 1]', (-3.519354417551879, 41)),\n",
       " ('[0, 7, 1, 0, 0]', (-3.521, 60)),\n",
       " ('[2, 5, 1, 0, 0]', (-3.522055555555556, 28)),\n",
       " ('[-2, 1, 5, 1, 1]', (-3.5222222222222217, 1)),\n",
       " ('[5, 2, 1, 1, 0]', (-3.5226569839951116, 209)),\n",
       " ('[-1, 2, 6, 0, 1]', (-3.523333333333333, 7)),\n",
       " ('[3, 3, 2, 0, 1]', (-3.5243999999999995, 51)),\n",
       " ('[1, 0, 7, 0, 1]', (-3.524931667777778, 144)),\n",
       " ('[3, 1, 4, 0, 1]', (-3.5251614104671587, 257)),\n",
       " ('[5, 2, 0, 0, 1]', (-3.5252222222222227, 9)),\n",
       " ('[-2, 4, 5, 1, 1]', (-3.5255555555555556, 5)),\n",
       " ('[4, 2, 1, 1, 1]', (-3.5261853777777783, 82)),\n",
       " ('[0, 2, 6, 1, 0]', (-3.5296666666666665, 49)),\n",
       " ('[4, 1, 0, 1, 0]', (-3.5317228627698647, 4005)),\n",
       " ('[0, 8, 0, 1, 1]', (-3.5321181339555556, 242)),\n",
       " ('[0, 7, 1, 1, 0]', (-3.5337348977777787, 93)),\n",
       " ('[4, 4, 0, 0, 0]', (-3.5360574405479905, 728)),\n",
       " ('[-1, 5, 4, 1, 1]', (-3.5368888888888885, 49)),\n",
       " ('[4, 2, 2, 0, 0]', (-3.5384566666666677, 52)),\n",
       " ('[-1, 0, 8, 1, 0]', (-3.5388888888888888, 1)),\n",
       " ('[0, 4, 4, 0, 0]', (-3.53897946, 90)),\n",
       " ('[-1, 7, 1, 0, 1]', (-3.5396666666666663, 30)),\n",
       " ('[-2, 4, 4, 0, 1]', (-3.5399999999999996, 1)),\n",
       " ('[4, 4, 0, 1, 0]', (-3.540378658335973, 1972)),\n",
       " ('[-1, 6, 2, 1, 1]', (-3.540955555555556, 39)),\n",
       " ('[5, 0, 0, 1, 1]', (-3.542787527714246, 196)),\n",
       " ('[3, 3, 0, 1, 1]', (-3.5443936879951683, 626)),\n",
       " ('[2, 6, 0, 0, 0]', (-3.54538454264532, 448)),\n",
       " ('[-1, 1, 8, 1, 0]', (-3.5466666666666673, 4)),\n",
       " ('[0, 0, 8, 1, 0]', (-3.5470377777777777, 37)),\n",
       " ('[3, 0, 5, 1, 0]', (-3.5499999999999994, 8)),\n",
       " ('[4, 4, 0, 1, 1]', (-3.5511642242161825, 769)),\n",
       " ('[-2, 5, 4, 0, 1]', (-3.555555555555556, 1)),\n",
       " ('[2, 0, 5, 0, 0]', (-3.5568697451756193, 1657)),\n",
       " ('[5, 1, 2, 0, 1]', (-3.558006955886557, 167)),\n",
       " ('[4, 2, 2, 1, 0]', (-3.5585767208566668, 155)),\n",
       " ('[4, 0, 4, 1, 0]', (-3.5588888888888883, 8)),\n",
       " ('[0, 3, 5, 1, 1]', (-3.563712486, 137)),\n",
       " ('[6, 0, 2, 1, 0]', (-3.564888888888889, 35)),\n",
       " ('[2, 6, 0, 1, 0]', (-3.567025127126235, 1231)),\n",
       " ('[3, 5, 0, 0, 0]', (-3.567626061909154, 594)),\n",
       " ('[4, 4, 0, 0, 1]', (-3.5718344444444443, 43)),\n",
       " ('[1, 0, 7, 0, 0]', (-3.5729095600000003, 116)),\n",
       " ('[4, 3, 0, 1, 0]', (-3.5743992868662158, 1982)),\n",
       " ('[-1, 1, 4, 1, 1]', (-3.5747631427888513, 38)),\n",
       " ('[5, 3, 0, 1, 0]', (-3.579071218724798, 1846)),\n",
       " ('[-2, 5, 4, 1, 0]', (-3.58, 1)),\n",
       " ('[0, 2, 5, 1, 0]', (-3.583402568869254, 948)),\n",
       " ('[5, 3, 0, 0, 0]', (-3.584703941716642, 600)),\n",
       " ('[2, 3, 3, 1, 1]', (-3.584809777777778, 70)),\n",
       " ('[0, 8, 0, 0, 0]', (-3.5858533305777773, 210)),\n",
       " ('[-1, 1, 8, 1, 1]', (-3.5859833333333335, 48)),\n",
       " ('[2, 0, 6, 0, 1]', (-3.5872206528020043, 250)),\n",
       " ('[5, 0, 2, 0, 0]', (-3.5872222222222216, 50)),\n",
       " ('[0, 1, 7, 0, 0]', (-3.587477777777778, 30)),\n",
       " ('[5, 1, 2, 0, 0]', (-3.5882707777777783, 75)),\n",
       " ('[-2, 5, 4, 1, 1]', (-3.5911111111111116, 4)),\n",
       " ('[-1, 6, 3, 1, 0]', (-3.592744444444444, 32)),\n",
       " ('[0, 0, 5, 1, 1]', (-3.593731788191577, 35)),\n",
       " ('[4, 1, 1, 1, 1]', (-3.5952927365374396, 179)),\n",
       " ('[4, 0, 4, 1, 1]', (-3.5968402807848867, 269)),\n",
       " ('[4, 0, 4, 0, 0]', (-3.5968713947415023, 234)),\n",
       " ('[5, 0, 3, 0, 0]', (-3.597811111111111, 50)),\n",
       " ('[-1, 3, 5, 0, 1]', (-3.601111111111111, 4)),\n",
       " ('[5, 1, 2, 1, 0]', (-3.6018160000000004, 95)),\n",
       " ('[3, 5, 0, 0, 1]', (-3.6018888888888894, 40)),\n",
       " ('[4, 3, 1, 1, 0]', (-3.603735090498172, 152)),\n",
       " ('[2, 4, 2, 0, 1]', (-3.6057777777777775, 10)),\n",
       " ('[3, 0, 5, 0, 1]', (-3.6100384850425944, 594)),\n",
       " ('[6, 2, 0, 0, 1]', (-3.6106220841594405, 1212)),\n",
       " ('[0, 1, 6, 1, 1]', (-3.6157827806409815, 107)),\n",
       " ('[3, 3, 1, 0, 1]', (-3.6198331854391603, 49)),\n",
       " ('[0, 2, 5, 1, 1]', (-3.6208359628251294, 133)),\n",
       " ('[-1, 2, 5, 1, 0]', (-3.622038279696578, 64)),\n",
       " ('[1, 2, 6, 1, 1]', (-3.6238888888888887, 24)),\n",
       " ('[6, 1, 1, 0, 1]', (-3.624181688888889, 65)),\n",
       " ('[0, 8, 0, 0, 1]', (-3.6277280011111124, 32)),\n",
       " ('[-1, 6, 3, 1, 1]', (-3.6288100000000005, 43)),\n",
       " ('[-1, 3, 6, 0, 1]', (-3.6295555555555556, 8)),\n",
       " ('[5, 3, 0, 0, 1]', (-3.6334777777777774, 12)),\n",
       " ('[6, 2, 0, 1, 1]', (-3.633672251868455, 641)),\n",
       " ('[-1, 4, 5, 1, 0]', (-3.635812104555556, 65)),\n",
       " ('[7, 1, 0, 1, 0]', (-3.63672390396665, 2427)),\n",
       " ('[-1, 5, 4, 1, 0]', (-3.639869855555556, 64)),\n",
       " ('[-2, 4, 5, 1, 0]', (-3.6398888888888896, 32)),\n",
       " ('[-2, 4, 6, 1, 0]', (-3.6411111111111114, 1)),\n",
       " ('[-1, 5, 4, 0, 1]', (-3.6422222222222222, 34)),\n",
       " ('[-1, 2, 7, 1, 1]', (-3.6434045333333334, 52)),\n",
       " ('[2, 3, 2, 1, 0]', (-3.645220968586361, 38)),\n",
       " ('[1, 5, 3, 0, 1]', (-3.645444444444444, 9)),\n",
       " ('[0, 7, 1, 0, 1]', (-3.6471222222222233, 65)),\n",
       " ('[6, 2, 0, 1, 0]', (-3.647765746650626, 3143)),\n",
       " ('[4, 4, 1, 1, 0]', (-3.6497681411111116, 152)),\n",
       " ('[3, 0, 5, 0, 0]', (-3.6505051395330623, 189)),\n",
       " ('[1, 8, 0, 1, 1]', (-3.6511123922222226, 212)),\n",
       " ('[3, 4, 1, 0, 1]', (-3.654444444444444, 21)),\n",
       " ('[-1, 7, 2, 1, 1]', (-3.6586797855555564, 39)),\n",
       " ('[0, 5, 4, 1, 0]', (-3.6603347777777775, 49)),\n",
       " ('[0, 4, 4, 1, 1]', (-3.6616820763482933, 166)),\n",
       " ('[0, 1, 8, 1, 0]', (-3.662900000000001, 47)),\n",
       " ('[1, 4, 4, 1, 0]', (-3.665555555555556, 10)),\n",
       " ('[-1, 2, 7, 1, 0]', (-3.666444444444445, 7)),\n",
       " ('[3, 0, 4, 0, 1]', (-3.6695313109195036, 598)),\n",
       " ('[-1, 0, 6, 1, 1]', (-3.6709595744132533, 37)),\n",
       " ('[-1, 8, 1, 1, 1]', (-3.6759999999999997, 35)),\n",
       " ('[-1, 0, 9, 1, 0]', (-3.6766666666666667, 1)),\n",
       " ('[2, 3, 4, 0, 0]', (-3.6822222222222223, 28)),\n",
       " ('[0, 6, 3, 1, 1]', (-3.682826666666667, 102)),\n",
       " ('[2, 6, 1, 1, 1]', (-3.687195555555556, 71)),\n",
       " ('[1, 4, 4, 0, 1]', (-3.6898888888888886, 10)),\n",
       " ('[-3, 5, 4, 1, 1]', (-3.69, 1)),\n",
       " ('[0, 6, 3, 0, 0]', (-3.693888888888889, 30)),\n",
       " ('[3, 3, 2, 1, 0]', (-3.6939918167536336, 76)),\n",
       " ('[2, 2, 5, 0, 1]', (-3.6966666666666663, 6)),\n",
       " ('[-1, 4, 5, 0, 0]', (-3.6994444444444436, 31)),\n",
       " ('[6, 0, 2, 0, 1]', (-3.699985884543551, 252)),\n",
       " ('[0, 7, 0, 0, 1]', (-3.7007210984548387, 1833)),\n",
       " ('[-2, 3, 6, 1, 1]', (-3.701111111111111, 8)),\n",
       " ('[4, 3, 0, 1, 1]', (-3.701237889054782, 768)),\n",
       " ('[-1, 1, 8, 0, 1]', (-3.702360977777778, 34)),\n",
       " ('[-2, 4, 5, 0, 1]', (-3.703333333333333, 1)),\n",
       " ('[-1, 8, 1, 1, 0]', (-3.7055555555555553, 30)),\n",
       " ('[7, 1, 0, 0, 1]', (-3.7074449659779543, 1063)),\n",
       " ('[4, 1, 0, 1, 1]', (-3.7080574274425695, 447)),\n",
       " ('[1, 0, 8, 1, 0]', (-3.7088888888888887, 2)),\n",
       " ('[-1, 3, 5, 1, 1]', (-3.7139771006650917, 84)),\n",
       " ('[0, 7, 2, 0, 1]', (-3.717211111111111, 69)),\n",
       " ('[0, 4, 5, 1, 1]', (-3.7192409600000005, 167)),\n",
       " ('[0, 6, 2, 1, 1]', (-3.719659157777778, 72)),\n",
       " ('[-1, 3, 6, 1, 0]', (-3.7200888888888883, 8)),\n",
       " ('[3, 1, 5, 1, 0]', (-3.720999999999999, 17)),\n",
       " ('[3, 5, 1, 0, 1]', (-3.721677777777778, 47)),\n",
       " ('[1, 7, 1, 1, 0]', (-3.7239685555555555, 65)),\n",
       " ('[1, 3, 5, 0, 1]', (-3.7239999999999993, 38)),\n",
       " ('[4, 1, 4, 1, 0]', (-3.7240000000000006, 18)),\n",
       " ('[5, 1, 3, 1, 0]', (-3.7244444444444444, 15)),\n",
       " ('[2, 5, 2, 0, 0]', (-3.727805333333334, 56)),\n",
       " ('[-1, 4, 5, 0, 1]', (-3.7278400000000005, 35)),\n",
       " ('[2, 4, 3, 1, 0]', (-3.7288888888888887, 10)),\n",
       " ('[0, 8, 1, 0, 1]', (-3.7296666666666667, 35)),\n",
       " ('[-2, 2, 7, 1, 1]', (-3.7315555555555555, 7)),\n",
       " ('[3, 4, 2, 1, 0]', (-3.733376888888889, 76)),\n",
       " ('[1, 6, 2, 1, 0]', (-3.733843111111111, 65)),\n",
       " ('[0, 6, 3, 0, 1]', (-3.7355000000000005, 43)),\n",
       " ('[-1, 4, 5, 1, 1]', (-3.737926666666667, 86)),\n",
       " ('[0, 3, 6, 1, 0]', (-3.740055777777777, 55)),\n",
       " ('[0, 1, 5, 1, 1]', (-3.740358391445029, 104)),\n",
       " ('[6, 1, 1, 0, 0]', (-3.7413247, 144)),\n",
       " ('[0, 0, 6, 1, 1]', (-3.742605415010664, 37)),\n",
       " ('[3, 0, 3, 1, 1]', (-3.742959923212566, 104)),\n",
       " ('[-1, 9, 0, 1, 0]', (-3.7435942182945348, 210)),\n",
       " ('[-2, 6, 3, 1, 1]', (-3.745555555555555, 2)),\n",
       " ('[6, 0, 0, 0, 0]', (-3.747698796339859, 10252)),\n",
       " ('[5, 0, 3, 1, 0]', (-3.748888888888889, 8)),\n",
       " ('[1, 0, 8, 1, 1]', (-3.753833333333334, 133)),\n",
       " ('[0, 2, 7, 1, 1]', (-3.7552222222222222, 77)),\n",
       " ('[0, 5, 4, 1, 1]', (-3.756112665145802, 165)),\n",
       " ('[2, 3, 4, 1, 0]', (-3.7561444444444443, 39)),\n",
       " ('[-2, 5, 5, 0, 1]', (-3.7566666666666664, 1)),\n",
       " ('[0, 2, 7, 1, 0]', (-3.758698888888889, 51)),\n",
       " ('[8, 0, 0, 0, 0]', (-3.7601922630767484, 3642)),\n",
       " ('[2, 4, 3, 1, 1]', (-3.761444444444445, 46)),\n",
       " ('[0, 8, 1, 1, 0]', (-3.7636227277777783, 93)),\n",
       " ('[5, 2, 2, 0, 1]', (-3.7660444444444447, 17)),\n",
       " ('[3, 2, 4, 0, 1]', (-3.767144444444445, 20)),\n",
       " ('[1, 6, 2, 0, 1]', (-3.7677777777777774, 9)),\n",
       " ('[-2, 6, 4, 1, 0]', (-3.77, 1)),\n",
       " ('[0, 7, 2, 1, 0]', (-3.7712290887130013, 97)),\n",
       " ('[3, 3, 3, 0, 1]', (-3.771692222222222, 54)),\n",
       " ('[2, 3, 4, 1, 1]', (-3.772330423000001, 73)),\n",
       " ('[5, 1, 1, 1, 1]', (-3.773938382028054, 154)),\n",
       " ('[6, 2, 0, 0, 0]', (-3.7741057671067137, 1706)),\n",
       " ('[-1, 6, 3, 0, 1]', (-3.774444444444444, 2)),\n",
       " ('[0, 7, 2, 1, 1]', (-3.7748601666666675, 101)),\n",
       " ('[3, 5, 1, 1, 0]', (-3.775216924444445, 73)),\n",
       " ('[1, 1, 7, 1, 0]', (-3.7766666666666664, 6)),\n",
       " ('[4, 1, 3, 1, 0]', (-3.779111111111111, 18)),\n",
       " ('[-3, 5, 5, 1, 1]', (-3.78, 1)),\n",
       " ('[1, 8, 0, 1, 0]', (-3.7813431128318817, 763)),\n",
       " ('[-1, 0, 9, 1, 1]', (-3.7814, 37)),\n",
       " ('[2, 2, 5, 0, 0]', (-3.7820777777777774, 28)),\n",
       " ('[2, 7, 0, 1, 1]', (-3.783214860953197, 477)),\n",
       " ('[-2, 7, 3, 1, 1]', (-3.786666666666666, 2)),\n",
       " ('[1, 7, 1, 0, 1]', (-3.7866666666666666, 8)),\n",
       " ('[2, 5, 2, 1, 0]', (-3.7868497777777783, 37)),\n",
       " ('[1, 4, 4, 1, 1]', (-3.7872677777777786, 24)),\n",
       " ('[0, 0, 9, 1, 0]', (-3.787822222222222, 37)),\n",
       " ('[3, 3, 3, 1, 0]', (-3.789222222222223, 26)),\n",
       " ('[2, 7, 0, 1, 0]', (-3.7923558095767786, 1230)),\n",
       " ('[2, 5, 2, 1, 1]', (-3.793175666666667, 99)),\n",
       " ('[2, 1, 6, 1, 1]', (-3.793692222222223, 89)),\n",
       " ('[5, 1, 2, 1, 1]', (-3.79408075395465, 135)),\n",
       " ('[7, 0, 1, 0, 0]', (-3.7944933333333335, 92)),\n",
       " ('[3, 4, 2, 1, 1]', (-3.794757877777779, 90)),\n",
       " ('[2, 1, 6, 0, 0]', (-3.7969333333333335, 56)),\n",
       " ('[0, 0, 7, 1, 1]', (-3.8048998682133335, 36)),\n",
       " ('[0, 4, 5, 1, 0]', (-3.806444444444444, 55)),\n",
       " ('[1, 1, 6, 1, 1]', (-3.806605394010101, 81)),\n",
       " ('[2, 6, 1, 1, 0]', (-3.8070355555555553, 94)),\n",
       " ('[2, 7, 0, 0, 1]', (-3.807777777777778, 4)),\n",
       " ('[3, 4, 2, 0, 0]', (-3.8079888888888895, 27)),\n",
       " ('[4, 2, 3, 1, 1]', (-3.8083333333333327, 67)),\n",
       " ('[0, 1, 8, 1, 1]', (-3.8095293000000003, 107)),\n",
       " ('[2, 0, 7, 1, 0]', (-3.81, 3)),\n",
       " ('[5, 3, 1, 0, 1]', (-3.811922222222223, 19)),\n",
       " ('[1, 3, 5, 0, 0]', (-3.8129999999999997, 29)),\n",
       " ('[-2, 6, 4, 1, 1]', (-3.814444444444445, 4)),\n",
       " ('[1, 7, 1, 1, 1]', (-3.817547888888888, 77)),\n",
       " ('[3, 1, 5, 1, 1]', (-3.817967220843197, 263)),\n",
       " ('[3, 1, 5, 0, 0]', (-3.818483191108041, 216)),\n",
       " ('[1, 3, 5, 1, 1]', (-3.818691111111111, 55)),\n",
       " ('[1, 5, 3, 1, 1]', (-3.82, 21)),\n",
       " ('[4, 1, 4, 1, 1]', (-3.8201206045555556, 164)),\n",
       " ('[0, 3, 6, 0, 1]', (-3.8204629999999997, 84)),\n",
       " ('[3, 4, 1, 1, 1]', (-3.821236832685888, 85)),\n",
       " ('[-1, 2, 6, 1, 1]', (-3.821443357487923, 51)),\n",
       " ('[5, 0, 3, 0, 1]', (-3.822123620011077, 317)),\n",
       " ('[0, 4, 5, 0, 0]', (-3.8224444444444448, 90)),\n",
       " ('[2, 4, 3, 0, 1]', (-3.8226666666666667, 10)),\n",
       " ('[-3, 6, 4, 1, 1]', (-3.8233333333333324, 1)),\n",
       " ('[-1, 0, 9, 0, 1]', (-3.826666666666667, 1)),\n",
       " ('[4, 0, 2, 1, 1]', (-3.8275110841320026, 266)),\n",
       " ('[0, 1, 8, 0, 1]', (-3.827757930661556, 105)),\n",
       " ('[3, 6, 0, 1, 0]', (-3.8290403409677527, 1772)),\n",
       " ('[3, 6, 0, 1, 1]', (-3.8292637010740362, 624)),\n",
       " ('[3, 6, 0, 0, 1]', (-3.833177777777778, 14)),\n",
       " ('[5, 2, 2, 1, 1]', (-3.8349909982222226, 119)),\n",
       " ('[3, 1, 5, 0, 1]', (-3.837214762478032, 257)),\n",
       " ('[-1, 7, 2, 0, 1]', (-3.837777777777778, 30)),\n",
       " ('[-1, 9, 0, 1, 1]', (-3.839261111111111, 32)),\n",
       " ('[3, 5, 1, 1, 1]', (-3.8404234444444443, 84)),\n",
       " ('[-1, 5, 5, 1, 0]', (-3.841779111111112, 65)),\n",
       " ('[-1, 2, 7, 0, 1]', (-3.8444444444444446, 7)),\n",
       " ('[3, 3, 3, 1, 1]', (-3.845670377777778, 93)),\n",
       " ('[-2, 6, 4, 0, 1]', (-3.847777777777778, 1)),\n",
       " ('[2, 1, 6, 0, 1]', (-3.8482297385927566, 248)),\n",
       " ('[0, 9, 0, 1, 0]', (-3.848310447139059, 468)),\n",
       " ('[0, 1, 8, 0, 0]', (-3.8488888888888892, 30)),\n",
       " ('[4, 5, 0, 1, 1]', (-3.8493648232705078, 795)),\n",
       " ('[1, 1, 7, 1, 1]', (-3.851362777777778, 81)),\n",
       " ('[4, 3, 2, 0, 1]', (-3.8559333333333337, 53)),\n",
       " ('[3, 2, 4, 1, 1]', (-3.8563333333333327, 53)),\n",
       " ('[5, 1, 3, 0, 0]', (-3.857888888888889, 50)),\n",
       " ('[1, 8, 0, 0, 0]', (-3.8594891769352615, 203)),\n",
       " ('[2, 1, 6, 1, 0]', (-3.8600000000000008, 4)),\n",
       " ('[5, 3, 0, 1, 1]', (-3.8609889367896777, 650)),\n",
       " ('[0, 7, 2, 0, 0]', (-3.861011111111112, 30)),\n",
       " ('[3, 4, 2, 0, 1]', (-3.863388888888889, 24)),\n",
       " ('[4, 3, 2, 1, 0]', (-3.863457027944446, 161)),\n",
       " ('[4, 4, 1, 0, 1]', (-3.866666666666667, 52)),\n",
       " ('[3, 6, 0, 0, 0]', (-3.8674367358733592, 594)),\n",
       " ('[4, 0, 5, 1, 0]', (-3.8677777777777766, 8)),\n",
       " ('[0, 9, 0, 1, 1]', (-3.8710286374444447, 242)),\n",
       " ('[2, 0, 7, 1, 1]', (-3.8745555555555558, 20)),\n",
       " ('[2, 2, 5, 1, 0]', (-3.8760144444444453, 66)),\n",
       " ('[1, 1, 7, 0, 1]', (-3.876142795222222, 150)),\n",
       " ('[5, 4, 0, 0, 1]', (-3.8766666666666665, 14)),\n",
       " ('[0, 8, 1, 1, 1]', (-3.8774861888888887, 100)),\n",
       " ('[2, 7, 0, 0, 0]', (-3.878386565109617, 448)),\n",
       " ('[-2, 0, 9, 1, 1]', (-3.8788888888888886, 1)),\n",
       " ('[1, 6, 1, 1, 1]', (-3.8789156022, 78)),\n",
       " ('[2, 2, 5, 1, 1]', (-3.880213405522223, 64)),\n",
       " ('[0, 5, 4, 0, 0]', (-3.8815188888888894, 90)),\n",
       " ('[0, 4, 4, 0, 1]', (-3.881879439504325, 49)),\n",
       " ('[5, 0, 4, 1, 0]', (-3.882666666666667, 8)),\n",
       " ('[2, 6, 1, 0, 0]', (-3.882950222222223, 28)),\n",
       " ('[5, 0, 2, 1, 0]', (-3.884495459451059, 64)),\n",
       " ('[1, 7, 1, 0, 0]', (-3.885365666666667, 58)),\n",
       " ('[3, 2, 4, 1, 0]', (-3.885588888888889, 50)),\n",
       " ('[4, 2, 3, 0, 1]', (-3.8874444444444447, 74)),\n",
       " ('[4, 5, 0, 1, 0]', (-3.887455483258311, 2022)),\n",
       " ('[-2, 4, 6, 1, 1]', (-3.888888888888889, 9)),\n",
       " ('[6, 3, 0, 1, 0]', (-3.8890299127194603, 2061)),\n",
       " ('[1, 6, 2, 1, 1]', (-3.889575555555556, 79)),\n",
       " ('[0, 0, 9, 0, 1]', (-3.8917788666666673, 153)),\n",
       " ('[6, 1, 2, 0, 1]', (-3.895400922222223, 66)),\n",
       " ('[4, 0, 5, 1, 1]', (-3.897644403333333, 269)),\n",
       " ('[6, 0, 2, 0, 0]', (-3.901111111111111, 24)),\n",
       " ('[4, 2, 0, 1, 0]', (-3.902266171145536, 1560)),\n",
       " ('[-1, 1, 9, 1, 1]', (-3.9024666666666668, 48)),\n",
       " ('[3, 0, 6, 1, 1]', (-3.9027299552430312, 211)),\n",
       " ('[0, 9, 0, 0, 0]', (-3.903103739960305, 210)),\n",
       " ('[5, 0, 4, 1, 1]', (-3.903723164444446, 108)),\n",
       " ('[-1, 5, 5, 0, 1]', (-3.9043077777777784, 35)),\n",
       " ('[1, 0, 8, 0, 1]', (-3.905029488888889, 144)),\n",
       " ('[2, 3, 4, 0, 1]', (-3.9058111111111113, 65)),\n",
       " ('[4, 1, 4, 0, 1]', (-3.9064015478382226, 174)),\n",
       " ('[5, 1, 3, 1, 1]', (-3.906582011111112, 111)),\n",
       " ('[-2, 5, 5, 1, 1]', (-3.9066666666666663, 5)),\n",
       " ('[1, 2, 6, 1, 0]', (-3.908888888888889, 6)),\n",
       " ('[7, 0, 2, 1, 0]', (-3.909999999999999, 6)),\n",
       " ('[4, 5, 0, 0, 0]', (-3.912560657431066, 754)),\n",
       " ('[0, 4, 5, 0, 1]', (-3.914066666666667, 55)),\n",
       " ('[0, 9, 0, 0, 1]', (-3.917777777777778, 32)),\n",
       " ('[5, 0, 1, 1, 0]', (-3.9178879219690605, 56)),\n",
       " ('[-3, 4, 6, 1, 1]', (-3.921111111111111, 1)),\n",
       " ('[6, 1, 2, 0, 0]', (-3.9214666666666664, 24)),\n",
       " ('[5, 2, 2, 1, 0]', (-3.9219111111111116, 98)),\n",
       " ('[7, 0, 2, 0, 0]', (-3.9244222222222227, 69)),\n",
       " ('[1, 2, 6, 0, 1]', (-3.9245555555555556, 34)),\n",
       " ('[5, 4, 0, 1, 0]', (-3.9246171814499253, 1846)),\n",
       " ('[-1, 4, 6, 1, 1]', (-3.924680888888889, 59)),\n",
       " ('[-1, 8, 2, 1, 1]', (-3.9273666666666665, 39)),\n",
       " ('[-1, 3, 7, 0, 1]', (-3.9296666666666673, 8)),\n",
       " ('[-3, 4, 7, 1, 1]', (-3.929999999999999, 1)),\n",
       " ('[4, 3, 2, 0, 0]', (-3.9301633333333337, 52)),\n",
       " ('[6, 1, 2, 1, 0]', (-3.930222222222223, 42)),\n",
       " ('[1, 0, 8, 0, 0]', (-3.930308444444445, 116)),\n",
       " ('[0, 2, 7, 0, 1]', (-3.9304804555555566, 51)),\n",
       " ('[-2, 5, 5, 1, 0]', (-3.9322222222222227, 32)),\n",
       " ('[5, 0, 2, 1, 1]', (-3.9368677107549184, 83)),\n",
       " ('[1, 5, 3, 1, 0]', (-3.9388888888888887, 9)),\n",
       " ('[0, 0, 9, 1, 1]', (-3.9424444444444444, 35)),\n",
       " ('[5, 4, 0, 0, 0]', (-3.944880803193982, 600)),\n",
       " ('[2, 0, 7, 0, 1]', (-3.9449438234479715, 250)),\n",
       " ('[8, 0, 1, 0, 0]', (-3.9458333333333337, 44)),\n",
       " ('[1, 1, 7, 0, 0]', (-3.948888888888889, 58)),\n",
       " ('[-2, 2, 8, 1, 1]', (-3.9488888888888893, 7)),\n",
       " ('[3, 0, 6, 1, 0]', (-3.9511111111111115, 8)),\n",
       " ('[-1, 5, 5, 1, 1]', (-3.9512066666666668, 87)),\n",
       " ('[6, 2, 1, 0, 0]', (-3.951211793905038, 673)),\n",
       " ('[-1, 3, 7, 1, 0]', (-3.953, 8)),\n",
       " ('[0, 3, 6, 1, 1]', (-3.953040000000001, 82)),\n",
       " ('[1, 8, 0, 0, 1]', (-3.9546666666666663, 2)),\n",
       " ('[-1, 2, 8, 1, 0]', (-3.955777777777778, 7)),\n",
       " ('[5, 2, 2, 0, 0]', (-3.956747358666667, 50)),\n",
       " ('[2, 6, 0, 1, 1]', (-3.9609226254196863, 478)),\n",
       " ('[3, 0, 6, 0, 0]', (-3.9630933248244453, 189)),\n",
       " ('[3, 0, 6, 0, 1]', (-3.9632657048054876, 594)),\n",
       " ('[5, 3, 1, 0, 0]', (-3.9652222222222235, 75)),\n",
       " ('[4, 2, 3, 1, 0]', (-3.9658111111111114, 21)),\n",
       " ('[6, 0, 3, 1, 1]', (-3.9661188888888894, 62)),\n",
       " ('[-2, 1, 9, 1, 1]', (-3.966444444444445, 4)),\n",
       " ('[-1, 1, 9, 0, 1]', (-3.9666666666666672, 34)),\n",
       " ('[8, 1, 0, 0, 0]', (-3.9675908153333337, 110)),\n",
       " ('[-1, 1, 9, 1, 0]', (-3.967777777777777, 4)),\n",
       " ('[0, 8, 1, 0, 0]', (-3.967777777777778, 30)),\n",
       " ('[6, 3, 0, 0, 0]', (-3.9683611255946656, 648)),\n",
       " ('[4, 3, 2, 1, 1]', (-3.9697190333333343, 125)),\n",
       " ('[4, 4, 1, 0, 0]', (-3.9712535222222227, 52)),\n",
       " ('[7, 0, 0, 0, 0]', (-3.9716867411464385, 8688)),\n",
       " ('[6, 3, 0, 1, 1]', (-3.9738977296931473, 691)),\n",
       " ('[4, 0, 5, 0, 1]', (-3.974324756033684, 746)),\n",
       " ('[-3, 6, 5, 1, 1]', (-3.974444444444444, 1)),\n",
       " ('[7, 1, 1, 0, 1]', (-3.9755555555555557, 10)),\n",
       " ('[0, 6, 4, 1, 0]', (-3.9775555555555564, 50)),\n",
       " ('[2, 5, 2, 0, 1]', (-3.984444444444444, 10)),\n",
       " ('[5, 2, 1, 0, 1]', (-3.984801875901877, 16)),\n",
       " ('[-2, 4, 6, 0, 1]', (-3.9855555555555555, 1)),\n",
       " ('[-1, 7, 3, 0, 1]', (-3.987777777777778, 32)),\n",
       " ('[8, 1, 0, 0, 1]', (-3.992222222222222, 5)),\n",
       " ('[6, 1, 2, 1, 1]', (-3.9932760000000003, 85)),\n",
       " ('[0, 1, 7, 1, 1]', (-3.993929805105188, 108)),\n",
       " ('[5, 1, 3, 0, 1]', (-3.999482921945499, 168)),\n",
       " ('[3, 3, 3, 0, 0]', (-3.999497888888889, 27)),\n",
       " ('[6, 0, 3, 1, 0]', (-4.000155555555557, 38)),\n",
       " ('[-2, 3, 7, 1, 1]', (-4.002888888888889, 8)),\n",
       " ('[7, 0, 0, 1, 0]', (-4.004467311071674, 1993)),\n",
       " ('[4, 2, 2, 1, 1]', (-4.005715043983264, 116)),\n",
       " ('[6, 0, 3, 0, 0]', (-4.01, 24)),\n",
       " ('[-1, 3, 7, 1, 1]', (-4.012745555555555, 58)),\n",
       " ('[4, 1, 4, 0, 0]', (-4.015354415188889, 104)),\n",
       " ('[7, 2, 0, 0, 0]', (-4.015521266747497, 345)),\n",
       " ('[1, 3, 5, 1, 0]', (-4.01578888888889, 41)),\n",
       " ('[-1, 4, 6, 0, 1]', (-4.016222222222222, 39)),\n",
       " ('[3, 5, 1, 0, 0]', (-4.017444444444445, 27)),\n",
       " ('[3, 2, 5, 1, 0]', (-4.021111111111111, 20)),\n",
       " ('[6, 3, 0, 0, 1]', (-4.02288888888889, 13)),\n",
       " ('[-1, 6, 4, 1, 0]', (-4.026270945555555, 64)),\n",
       " ('[-3, 7, 4, 1, 1]', (-4.027777777777777, 1)),\n",
       " ('[6, 2, 1, 0, 1]', (-4.028784811111112, 112)),\n",
       " ('[4, 0, 4, 0, 1]', (-4.031797384953442, 748)),\n",
       " ('[5, 4, 0, 1, 1]', (-4.033076910721956, 650)),\n",
       " ('[-2, 4, 7, 1, 0]', (-4.033333333333334, 1)),\n",
       " ('[4, 0, 5, 0, 0]', (-4.033735206289572, 234)),\n",
       " ('[3, 1, 1, 0, 1]', (-4.034426353237402, 985)),\n",
       " ('[-1, 6, 4, 1, 1]', (-4.0406555555555554, 50)),\n",
       " ('[-2, 0, 10, 1, 1]', (-4.04111111111111, 1)),\n",
       " ('[7, 1, 1, 0, 0]', (-4.043045444444444, 138)),\n",
       " ('[5, 0, 4, 0, 0]', (-4.044388888888888, 75)),\n",
       " ('[-1, 2, 8, 0, 1]', (-4.045555555555556, 7)),\n",
       " ('[2, 3, 5, 1, 0]', (-4.049255555555555, 69)),\n",
       " ('[0, 2, 8, 1, 0]', (-4.049882444444444, 51)),\n",
       " ('[-2, 4, 4, 1, 1]', (-4.056056239965025, 5)),\n",
       " ('[0, 6, 3, 1, 0]', (-4.057884363251403, 44)),\n",
       " ('[0, 9, 1, 0, 0]', (-4.058777777777778, 30)),\n",
       " ('[2, 6, 1, 0, 1]', (-4.061111111111111, 9)),\n",
       " ('[1, 6, 3, 0, 1]', (-4.071111111111111, 10)),\n",
       " ('[4, 1, 3, 1, 1]', (-4.072739349274447, 164)),\n",
       " ('[1, 4, 5, 1, 1]', (-4.0777777777777775, 27)),\n",
       " ('[-1, 5, 5, 0, 0]', (-4.077888888888889, 31)),\n",
       " ('[8, 0, 1, 0, 1]', (-4.078526636921245, 253)),\n",
       " ('[5, 1, 0, 1, 0]', (-4.0797984557952365, 5200)),\n",
       " ('[1, 2, 7, 1, 1]', (-4.081504444444445, 25)),\n",
       " ('[0, 5, 4, 0, 1]', (-4.082136161894766, 50)),\n",
       " ('[3, 3, 0, 1, 0]', (-4.082489439324885, 1753)),\n",
       " ('[-1, 9, 1, 1, 0]', (-4.082877777777778, 30)),\n",
       " ...]"
      ]
     },
     "execution_count": 37,
     "metadata": {},
     "output_type": "execute_result"
    }
   ],
   "source": [
    "value_diagnostic"
   ]
  },
  {
   "cell_type": "code",
   "execution_count": 38,
   "metadata": {},
   "outputs": [],
   "source": [
    "with open('output/diagnostic_output.txt', 'w') as f:\n",
    "    for item in value_diagnostic:\n",
    "        f.write(\"{i}\\n\".format(i = str(item)) )"
   ]
  },
  {
   "cell_type": "code",
   "execution_count": 39,
   "metadata": {},
   "outputs": [
    {
     "data": {
      "text/plain": [
       "('[33, 51, 25, 1, 1]', (-99.96777777777778, 1))"
      ]
     },
     "execution_count": 39,
     "metadata": {},
     "output_type": "execute_result"
    }
   ],
   "source": [
    "item"
   ]
  },
  {
   "cell_type": "code",
   "execution_count": 40,
   "metadata": {},
   "outputs": [
    {
     "data": {
      "text/plain": [
       "79555"
      ]
     },
     "execution_count": 40,
     "metadata": {},
     "output_type": "execute_result"
    }
   ],
   "source": [
    "len(value_dic)"
   ]
  },
  {
   "cell_type": "code",
   "execution_count": null,
   "metadata": {},
   "outputs": [],
   "source": []
  }
 ],
 "metadata": {
  "kernelspec": {
   "display_name": "Python 3.8.10 ('.multi-sourcing-env': venv)",
   "language": "python",
   "name": "python3"
  },
  "language_info": {
   "codemirror_mode": {
    "name": "ipython",
    "version": 3
   },
   "file_extension": ".py",
   "mimetype": "text/x-python",
   "name": "python",
   "nbconvert_exporter": "python",
   "pygments_lexer": "ipython3",
   "version": "3.8.10"
  },
  "orig_nbformat": 4,
  "vscode": {
   "interpreter": {
    "hash": "cd381e17d028bd09dab022bcaf56b43c687ccc8a6f1edc8bc118936389c16b3d"
   }
  }
 },
 "nbformat": 4,
 "nbformat_minor": 2
}
