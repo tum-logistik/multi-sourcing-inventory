{
 "cells": [
  {
   "cell_type": "code",
   "execution_count": 25,
   "metadata": {},
   "outputs": [],
   "source": [
    "from opt.mc_sim import *\n",
    "import time\n"
   ]
  },
  {
   "cell_type": "code",
   "execution_count": 26,
   "metadata": {},
   "outputs": [
    {
     "name": "stdout",
     "output_type": "stream",
     "text": [
      "time per 10 iter: 0.01484060287475586\n",
      "time per 10 iter: 0.00970911979675293\n",
      "time per 10 iter: 0.008931159973144531\n",
      "time per 10 iter: 0.009046077728271484\n",
      "time per 10 iter: 0.009003162384033203\n",
      "time per 10 iter: 0.0091552734375\n",
      "time per 10 iter: 0.008724212646484375\n",
      "time per 10 iter: 0.008987903594970703\n",
      "time per 10 iter: 0.009059667587280273\n",
      "time per 10 iter: 0.009042978286743164\n",
      "time per 10 iter: 0.00920248031616211\n",
      "time per 10 iter: 0.008698463439941406\n",
      "time per 10 iter: 0.009224176406860352\n",
      "time per 10 iter: 0.008600473403930664\n",
      "time per 10 iter: 0.008772134780883789\n",
      "time per 10 iter: 0.00882577896118164\n",
      "time per 10 iter: 0.0087432861328125\n",
      "time per 10 iter: 0.008854150772094727\n",
      "time per 10 iter: 0.008789777755737305\n",
      "time per 10 iter: 0.009039640426635742\n",
      "time per 10 iter: 0.009023189544677734\n",
      "time per 10 iter: 0.008815288543701172\n",
      "time per 10 iter: 0.008745908737182617\n",
      "time per 10 iter: 0.00900721549987793\n",
      "time per 10 iter: 0.009001970291137695\n",
      "time per 10 iter: 0.009062528610229492\n",
      "time per 10 iter: 0.009243488311767578\n",
      "time per 10 iter: 0.008710861206054688\n",
      "time per 10 iter: 0.008966922760009766\n",
      "time per 10 iter: 0.009190082550048828\n"
     ]
    }
   ],
   "source": [
    "\n",
    "sourcingEnv = SourcingEnv(\n",
    "    lambda_arrival = 599, # or 10\n",
    "    procurement_cost_vec = np.array([3, 1, 2]),\n",
    "    supplier_lead_times_vec = np.array([0.5, 0.75, 1.0]),\n",
    "    on_times = np.array([3, 1, 2]), \n",
    "    off_times = np.array([0.3, 1, 1.5]))\n",
    "\n",
    "mc_avg_costs = []\n",
    "for i in range(300):\n",
    "    start_time = time.time()\n",
    "    _, avg_cost = mc_with_ss_policy(sourcingEnv, h_cost = 4, b_penalty = 6, small_s = 1, big_s = 3)\n",
    "    mc_avg_costs.append(avg_cost)\n",
    "    run_time = time.time() - start_time\n",
    "    if i % 10 == 0:\n",
    "        print(\"time per 10 iter: \" + str(run_time))\n",
    "\n",
    "# print(mc_avg_costs)"
   ]
  },
  {
   "cell_type": "code",
   "execution_count": 27,
   "metadata": {},
   "outputs": [
    {
     "data": {
      "image/png": "[encoded data removed]",
      "text/plain": [
       "<Figure size 432x288 with 1 Axes>"
      ]
     },
     "metadata": {
      "needs_background": "light"
     },
     "output_type": "display_data"
    }
   ],
   "source": [
    "import matplotlib.pyplot as plt\n",
    "import numpy as np\n",
    "\n",
    "n, bins, patches = plt.hist(mc_avg_costs, 50, density=True, facecolor='g', alpha=0.75)\n",
    "\n",
    "\n",
    "plt.xlabel('Avg Cost')\n",
    "plt.ylabel('Probability')\n",
    "plt.title('Histogram of Avg costs')\n",
    "plt.xlim(0, 300)\n",
    "plt.ylim(0, 0.03)\n",
    "plt.grid(True)\n",
    "plt.show()"
   ]
  },
  {
   "cell_type": "code",
   "execution_count": 28,
   "metadata": {},
   "outputs": [
    {
     "name": "stdout",
     "output_type": "stream",
     "text": [
      "59.52093333333334\n"
     ]
    }
   ],
   "source": [
    "print(np.mean(np.array(mc_avg_costs)))"
   ]
  },
  {
   "cell_type": "code",
   "execution_count": null,
   "metadata": {},
   "outputs": [],
   "source": []
  }
 ],
 "metadata": {
  "kernelspec": {
   "display_name": "Python 3.8.10 ('.multi-sourcing-env': venv)",
   "language": "python",
   "name": "python3"
  },
  "language_info": {
   "codemirror_mode": {
    "name": "ipython",
    "version": 3
   },
   "file_extension": ".py",
   "mimetype": "text/x-python",
   "name": "python",
   "nbconvert_exporter": "python",
   "pygments_lexer": "ipython3",
   "version": "3.8.10"
  },
  "orig_nbformat": 4,
  "vscode": {
   "interpreter": {
    "hash": "cd381e17d028bd09dab022bcaf56b43c687ccc8a6f1edc8bc118936389c16b3d"
   }
  }
 },
 "nbformat": 4,
 "nbformat_minor": 2
}
