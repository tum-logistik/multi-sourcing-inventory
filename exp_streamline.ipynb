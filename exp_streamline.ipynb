{
 "cells": [
  {
   "cell_type": "code",
   "execution_count": 1,
   "metadata": {
    "notebookRunGroups": {
     "groupValue": "12"
    }
   },
   "outputs": [],
   "source": [
    "import pickle as pkl\n",
    "from opt.mc_sim import *\n",
    "import time\n",
    "from common.variables import *\n",
    "from opt.eval_policy import *\n",
    "\n",
    "filename = \"output/msource_value_dic_12-19-2022-15-18-01.pkl\"\n",
    "\n",
    "with open(filename, 'rb') as f:\n",
    "    output_obj = pkl.load(f)\n",
    "\n",
    "value_dic = output_obj[\"state_value_dic\"]\n",
    "model_params = output_obj[\"model_params\"]\n",
    "sourcingEnv = output_obj[\"mdp_env\"]\n",
    "\n",
    "# sourcingEnv2 = SourcingEnv(\n",
    "#     lambda_arrival = model_params['mdp_env_params']['lambda'], # or 10\n",
    "#     procurement_cost_vec = np.array(model_params['mdp_env_params']['procurement_cost_vec']),\n",
    "\n",
    "#     supplier_lead_times_vec = np.array(model_params['mdp_env_params']['supplier_lead_times_vec']),\n",
    "#     on_times = np.array(model_params['mdp_env_params']['on_times']), \n",
    "#     off_times = np.array(model_params['mdp_env_params']['off_times']),\n",
    "#     fixed_costs = np.array(model_params['mdp_env_params']['fixed_costs'])) # np.array([np.Inf, np.Inf])) \n",
    "\n",
    "sourcingEnv2 = sourcingEnv\n",
    "\n",
    "s_custom = MState(stock_level = 0, \n",
    "    n_suppliers = N_SUPPLIERS, \n",
    "    n_backorders = np.array([0, 0]), \n",
    "    flag_on_off = np.array([1, 1]))"
   ]
  },
  {
   "cell_type": "code",
   "execution_count": 9,
   "metadata": {},
   "outputs": [],
   "source": [
    "if 'pol_dic' in output_obj: \n",
    "    output_obj['pol_dic']\n",
    "    action = eval_policy_from_policy_dic(sourcingEnv2, pol_dic = output_obj['pol_dic'])\n",
    "    action"
   ]
  },
  {
   "cell_type": "code",
   "execution_count": 10,
   "metadata": {},
   "outputs": [
    {
     "data": {
      "text/plain": [
       "50"
      ]
     },
     "execution_count": 10,
     "metadata": {},
     "output_type": "execute_result"
    }
   ],
   "source": [
    "sourcingEnv2.lambda_arrival"
   ]
  },
  {
   "cell_type": "code",
   "execution_count": 11,
   "metadata": {},
   "outputs": [
    {
     "data": {
      "text/plain": [
       "('larkin/unif-pol-dic', '80d9117467e688f9089dc68f87b229fa59e23ea1')"
      ]
     },
     "execution_count": 11,
     "metadata": {},
     "output_type": "execute_result"
    }
   ],
   "source": [
    "model_params[\"branch_name\"], model_params[\"git_commit\"]"
   ]
  },
  {
   "cell_type": "code",
   "execution_count": 12,
   "metadata": {},
   "outputs": [],
   "source": [
    "# sourcingEnv2.lambda_arrival = 100\n",
    "kwargs = {\"periods\" : 60,\n",
    "    \"nested_mc_iters\" : 5,\n",
    "    \"h_cost\": model_params['policy_params']['h_cost'],\n",
    "    \"b_penalty\" : model_params['policy_params']['b_penalty'],\n",
    "    \"supplier_index\": 1,\n",
    "    \"h_cost\": 2,\n",
    "    \"b_penalty\": 10\n",
    "}"
   ]
  },
  {
   "cell_type": "code",
   "execution_count": 13,
   "metadata": {},
   "outputs": [
    {
     "name": "stderr",
     "output_type": "stream",
     "text": [
      "100%|██████████| 30/30 [00:01<00:00, 17.45it/s]"
     ]
    },
    {
     "name": "stdout",
     "output_type": "stream",
     "text": [
      "5.30579066964958\n",
      "5.2996899851458\n",
      "0.04211317167644441\n"
     ]
    },
    {
     "name": "stderr",
     "output_type": "stream",
     "text": [
      "\n"
     ]
    }
   ],
   "source": [
    "dummy_cost = mc_with_policy(sourcingEnv2, start_state = s_custom, \n",
    "        periods = 100,\n",
    "        nested_mc_iters = 30,\n",
    "        big_s = model_params['policy_params']['big_s'],\n",
    "        small_s = model_params['policy_params']['small_s'],\n",
    "        h_cost = model_params['policy_params']['h_cost'],\n",
    "        b_penalty = model_params['policy_params']['b_penalty'],\n",
    "        max_order = 6, # BIG_S,\n",
    "        policy_callback=dummy_explore_policy,\n",
    "        use_tqdm = True\n",
    "    )\n",
    "\n",
    "print(np.mean(dummy_cost))\n",
    "print(np.median(np.array(dummy_cost)))\n",
    "print(np.std(np.array(dummy_cost)))"
   ]
  },
  {
   "cell_type": "code",
   "execution_count": 14,
   "metadata": {},
   "outputs": [
    {
     "name": "stderr",
     "output_type": "stream",
     "text": [
      "100%|██████████| 30/30 [01:31<00:00,  3.05s/it]"
     ]
    },
    {
     "name": "stdout",
     "output_type": "stream",
     "text": [
      "5.1550383247296\n",
      "5.051525180345969\n",
      "0.4056225830824845\n"
     ]
    },
    {
     "name": "stderr",
     "output_type": "stream",
     "text": [
      "\n"
     ]
    }
   ],
   "source": [
    "mc_avg_costs_di = mc_with_policy(sourcingEnv2, start_state = s_custom, \n",
    "    periods = 100,\n",
    "    nested_mc_iters = 30,\n",
    "    big_s = model_params['policy_params']['big_s'],\n",
    "    small_s = model_params['policy_params']['small_s'],\n",
    "    h_cost = model_params['policy_params']['h_cost'],\n",
    "    b_penalty = model_params['policy_params']['b_penalty'],\n",
    "    max_order = 6, # BIG_S,\n",
    "    policy_callback=dual_index_policy,\n",
    "    use_tqdm = True\n",
    ")\n",
    "\n",
    "\n",
    "print(np.mean(np.array(mc_avg_costs_di)))\n",
    "print(np.median(np.array(mc_avg_costs_di)))\n",
    "print(np.std(np.array(mc_avg_costs_di)))"
   ]
  },
  {
   "cell_type": "code",
   "execution_count": 15,
   "metadata": {},
   "outputs": [
    {
     "data": {
      "image/png": "[encoded data removed]",
      "text/plain": [
       "<Figure size 640x480 with 1 Axes>"
      ]
     },
     "metadata": {},
     "output_type": "display_data"
    }
   ],
   "source": [
    "import matplotlib.pyplot as plt\n",
    "import numpy as np\n",
    "\n",
    "binwidth = 10\n",
    "n, bins, patches = plt.hist(mc_avg_costs_di, bins=np.arange( np.min(mc_avg_costs_di), np.max(mc_avg_costs_di) + binwidth, binwidth))\n",
    "# n, bins, patches = plt.hist(mc_avg_costs, density = True)\n",
    "\n",
    "\n",
    "plt.xlabel('Avg Cost')\n",
    "plt.ylabel('Probability')\n",
    "plt.title('Histogram of Avg costs')\n",
    "plt.xlim(np.min(mc_avg_costs_di), np.max(mc_avg_costs_di))\n",
    "plt.ylim(0, np.max(n))\n",
    "plt.grid(True)\n",
    "plt.show()"
   ]
  },
  {
   "cell_type": "code",
   "execution_count": 16,
   "metadata": {},
   "outputs": [
    {
     "data": {
      "text/plain": [
       "{'lambda': 50,\n",
       " 'max_inven': 30,\n",
       " 'action_size': 40,\n",
       " 'discount_fac': 1.0,\n",
       " 'procurement_cost_vec': [15, 5],\n",
       " 'supplier_lead_times_vec': [0.36, 0.4],\n",
       " 'on_times': [1, 1],\n",
       " 'off_times': 'no_disrup',\n",
       " 'fixed_costs': [0, 0]}"
      ]
     },
     "execution_count": 16,
     "metadata": {},
     "output_type": "execute_result"
    }
   ],
   "source": [
    "# sourcingEnv2.lambda_arrival = 50\n",
    "# sourcingEnv2.supplier_lead_times_vec = np.array([0.008, 0.04])\n",
    "\n",
    "model_params['mdp_env_params']"
   ]
  },
  {
   "cell_type": "code",
   "execution_count": 17,
   "metadata": {},
   "outputs": [],
   "source": [
    "# output_obj['adp_cost'], output_obj['approx_di_cost'], output_obj['ss_cost']"
   ]
  },
  {
   "cell_type": "code",
   "execution_count": 18,
   "metadata": {},
   "outputs": [
    {
     "name": "stderr",
     "output_type": "stream",
     "text": [
      "100%|██████████| 100/100 [00:05<00:00, 19.56it/s]"
     ]
    },
    {
     "name": "stdout",
     "output_type": "stream",
     "text": [
      "12.941639254955637\n",
      "12.931532602037748\n",
      "0.4077172304092717\n"
     ]
    },
    {
     "name": "stderr",
     "output_type": "stream",
     "text": [
      "\n"
     ]
    }
   ],
   "source": [
    "mc_avg_costs_ss = mc_with_policy(sourcingEnv2, start_state = s_custom, \n",
    "    periods = 100,\n",
    "    nested_mc_iters = 100,\n",
    "    policy_callback = ss_policy_fastest_supp_backlog,\n",
    "    big_s = model_params['policy_params']['big_s'],\n",
    "    small_s = model_params['policy_params']['small_s'],\n",
    "    h_cost = model_params['policy_params']['h_cost'],\n",
    "    b_penalty = model_params['policy_params']['b_penalty'],\n",
    "    use_tqdm = True)\n",
    "\n",
    "print(np.mean(np.array(mc_avg_costs_ss)))\n",
    "print(np.median(np.array(mc_avg_costs_ss)))\n",
    "print(np.std(np.array(mc_avg_costs_ss)))"
   ]
  },
  {
   "cell_type": "code",
   "execution_count": 19,
   "metadata": {},
   "outputs": [
    {
     "data": {
      "image/png": "[encoded data removed]",
      "text/plain": [
       "<Figure size 640x480 with 1 Axes>"
      ]
     },
     "metadata": {},
     "output_type": "display_data"
    }
   ],
   "source": [
    "import matplotlib.pyplot as plt\n",
    "import numpy as np\n",
    "\n",
    "binwidth = 10\n",
    "n, bins, patches = plt.hist(mc_avg_costs_ss, bins=np.arange( np.min(mc_avg_costs_ss), np.max(mc_avg_costs_ss) + binwidth, binwidth))\n",
    "# n, bins, patches = plt.hist(mc_avg_costs, density = True)\n",
    "\n",
    "\n",
    "plt.xlabel('Avg Cost')\n",
    "plt.ylabel('Probability')\n",
    "plt.title('Histogram of Avg costs')\n",
    "plt.xlim(np.min(mc_avg_costs_ss), np.max(mc_avg_costs_ss))\n",
    "plt.ylim(0, np.max(n))\n",
    "plt.grid(True)\n",
    "plt.show()"
   ]
  },
  {
   "cell_type": "code",
   "execution_count": 20,
   "metadata": {},
   "outputs": [],
   "source": [
    "# import matplotlib.pyplot as plt\n",
    "\n",
    "# costs, avg_cost_per_period = mc_episode_with_policy(sourcingEnv2, policy = ss_policy_fastest_supp_backlog, periods = 1000,\n",
    "#     nested_mc_iters = 100,\n",
    "#     policy_callback = ss_policy_fastest_supp_backlog,\n",
    "#     big_s = model_params['policy_params']['big_s'],\n",
    "#     small_s = model_params['policy_params']['small_s'],\n",
    "#     h_cost = model_params['policy_params']['h_cost'],\n",
    "#     b_penalty = model_params['policy_params']['b_penalty'],\n",
    "#     use_tqdm = True)\n",
    "\n",
    "# # costs\n",
    "# plt.plot(costs)"
   ]
  },
  {
   "cell_type": "code",
   "execution_count": 21,
   "metadata": {},
   "outputs": [
    {
     "name": "stderr",
     "output_type": "stream",
     "text": [
      "100%|██████████| 100/100 [00:08<00:00, 11.18it/s]\n",
      "100%|██████████| 100/100 [00:06<00:00, 15.40it/s]"
     ]
    },
    {
     "name": "stdout",
     "output_type": "stream",
     "text": [
      "[16.761222460191078, 6.027220346184375]\n",
      "6.027220346184375\n"
     ]
    },
    {
     "name": "stderr",
     "output_type": "stream",
     "text": [
      "\n"
     ]
    }
   ],
   "source": [
    "single_supplier_mean_costs = []\n",
    "sing_supp_mean_cost = np.Inf\n",
    "for s in range(sourcingEnv2.n_suppliers):\n",
    "\n",
    "    kwargs = {\"periods\" : 100,\n",
    "        \"nested_mc_iters\" : 100,\n",
    "        \"h_cost\": model_params['policy_params']['h_cost'],\n",
    "        \"b_penalty\" : model_params['policy_params']['b_penalty'],\n",
    "        \"supplier_index\": s\n",
    "    }\n",
    "\n",
    "    single_supplier_costs = mc_with_policy(sourcingEnv2, start_state = s_custom, \n",
    "        use_tqdm = True,\n",
    "        policy_callback = single_source_orderupto_policy,\n",
    "        **kwargs)\n",
    "    \n",
    "    sing_supp_mean_cost_i = np.mean(single_supplier_costs)\n",
    "    single_supplier_mean_costs.append(sing_supp_mean_cost_i)\n",
    "    if sing_supp_mean_cost_i < sing_supp_mean_cost:\n",
    "        single_supplier_costs_select = single_supplier_costs\n",
    "        sing_supp_mean_cost = sing_supp_mean_cost_i\n",
    "\n",
    "print(single_supplier_mean_costs)\n",
    "print(np.min(single_supplier_mean_costs))"
   ]
  },
  {
   "cell_type": "code",
   "execution_count": 22,
   "metadata": {},
   "outputs": [
    {
     "data": {
      "image/png": "[encoded data removed]",
      "text/plain": [
       "<Figure size 640x480 with 1 Axes>"
      ]
     },
     "metadata": {},
     "output_type": "display_data"
    }
   ],
   "source": [
    "import matplotlib.pyplot as plt\n",
    "import numpy as np\n",
    "\n",
    "binwidth = 10\n",
    "n, bins, patches = plt.hist(single_supplier_costs_select, bins=np.arange( np.min(single_supplier_costs_select), np.max(single_supplier_costs_select) + binwidth, binwidth))\n",
    "# n, bins, patches = plt.hist(mc_avg_costs, density = True)\n",
    "\n",
    "\n",
    "plt.xlabel('Avg Cost')\n",
    "plt.ylabel('Probability')\n",
    "plt.title('Histogram of Avg costs')\n",
    "plt.xlim(np.min(single_supplier_costs_select), np.max(single_supplier_costs_select))\n",
    "plt.ylim(0, np.max(n))\n",
    "plt.grid(True)\n",
    "plt.show()"
   ]
  },
  {
   "cell_type": "code",
   "execution_count": 23,
   "metadata": {},
   "outputs": [
    {
     "name": "stderr",
     "output_type": "stream",
     "text": [
      "100%|██████████| 30/30 [00:03<00:00,  9.91it/s]"
     ]
    },
    {
     "name": "stdout",
     "output_type": "stream",
     "text": [
      "7.351418559568127\n",
      "5.341611844737895\n",
      "2.8827680357799808\n"
     ]
    },
    {
     "name": "stderr",
     "output_type": "stream",
     "text": [
      "\n"
     ]
    }
   ],
   "source": [
    "from sim.dual_index_v1 import *\n",
    "mc_avg_costs_di = mc_with_policy(sourcingEnv2, start_state = s_custom, \n",
    "    periods = 30,\n",
    "    nested_mc_iters = 30,\n",
    "    big_s = model_params['policy_params']['big_s'],\n",
    "    small_s = model_params['policy_params']['small_s'],\n",
    "    h_cost = model_params['policy_params']['h_cost'],\n",
    "    b_penalty = model_params['policy_params']['b_penalty'],\n",
    "    policy_callback=dual_index_policy_v1,\n",
    "    use_tqdm = True)\n",
    "\n",
    "print(np.mean(np.array(mc_avg_costs_di)))\n",
    "print(np.median(np.array(mc_avg_costs_di)))\n",
    "print(np.std(np.array(mc_avg_costs_di)))"
   ]
  },
  {
   "cell_type": "code",
   "execution_count": 24,
   "metadata": {},
   "outputs": [
    {
     "data": {
      "image/png": "[encoded data removed]",
      "text/plain": [
       "<Figure size 640x480 with 1 Axes>"
      ]
     },
     "metadata": {},
     "output_type": "display_data"
    }
   ],
   "source": [
    "import matplotlib.pyplot as plt\n",
    "import numpy as np\n",
    "\n",
    "binwidth = 10\n",
    "n, bins, patches = plt.hist(mc_avg_costs_di, bins=np.arange(np.min(mc_avg_costs_di), np.max(mc_avg_costs_di) + binwidth, binwidth))\n",
    "# n, bins, patches = plt.hist(mc_avg_costs, density = True)\n",
    "\n",
    "\n",
    "plt.xlabel('Avg Cost')\n",
    "plt.ylabel('Probability')\n",
    "plt.title('Histogram of Avg costs')\n",
    "plt.xlim(np.min(mc_avg_costs_di), np.max(mc_avg_costs_di))\n",
    "plt.ylim(0, np.max(n))\n",
    "plt.grid(True)\n",
    "plt.show()"
   ]
  },
  {
   "cell_type": "code",
   "execution_count": 13,
   "metadata": {},
   "outputs": [
    {
     "name": "stderr",
     "output_type": "stream",
     "text": [
      "100%|██████████| 2/2 [00:01<00:00,  1.31it/s]"
     ]
    },
    {
     "name": "stdout",
     "output_type": "stream",
     "text": [
      "4.71507804594761\n",
      "4.71507804594761\n",
      "0.3494708994708997\n"
     ]
    },
    {
     "name": "stderr",
     "output_type": "stream",
     "text": [
      "\n"
     ]
    }
   ],
   "source": [
    "myopic_cost = mc_with_policy(sourcingEnv2, start_state = s_custom, \n",
    "    periods = 10,\n",
    "    nested_mc_iters = 2,\n",
    "    big_s = model_params['policy_params']['big_s'],\n",
    "    small_s = model_params['policy_params']['small_s'],\n",
    "    h_cost = model_params['policy_params']['h_cost'],\n",
    "    b_penalty = model_params['policy_params']['b_penalty'],\n",
    "    max_order = BIG_S,\n",
    "    policy_callback=myopic2_policy,\n",
    "    use_tqdm = True)\n",
    "\n",
    "print(np.mean(myopic_cost))\n",
    "print(np.median(np.array(myopic_cost)))\n",
    "print(np.std(np.array(myopic_cost)))"
   ]
  },
  {
   "cell_type": "code",
   "execution_count": 14,
   "metadata": {},
   "outputs": [
    {
     "data": {
      "text/plain": [
       "[4.3656071464767106, 5.06454894541851]"
      ]
     },
     "execution_count": 14,
     "metadata": {},
     "output_type": "execute_result"
    }
   ],
   "source": [
    "myopic_cost"
   ]
  },
  {
   "cell_type": "code",
   "execution_count": 27,
   "metadata": {},
   "outputs": [
    {
     "data": {
      "image/png": "[encoded data removed]",
      "text/plain": [
       "<Figure size 640x480 with 1 Axes>"
      ]
     },
     "metadata": {},
     "output_type": "display_data"
    }
   ],
   "source": [
    "import matplotlib.pyplot as plt\n",
    "import numpy as np\n",
    "\n",
    "binwidth = 10\n",
    "n, bins, patches = plt.hist(myopic_cost, bins=np.arange( np.min(myopic_cost), np.max(myopic_cost) + binwidth, binwidth))\n",
    "# n, bins, patches = plt.hist(mc_avg_costs, density = True)\n",
    "\n",
    "plt.xlabel('Avg Cost')\n",
    "plt.ylabel('Probability')\n",
    "plt.title('Histogram of Avg costs')\n",
    "plt.xlim(np.min(myopic_cost), np.max(myopic_cost))\n",
    "plt.ylim(0, np.max(n))\n",
    "plt.grid(True)\n",
    "plt.show()"
   ]
  },
  {
   "cell_type": "code",
   "execution_count": 28,
   "metadata": {},
   "outputs": [],
   "source": [
    "# kwargs = {\n",
    "#     \"value_dic\": value_dic, \n",
    "#     \"periods\": 10, \n",
    "#     \"periods_val_it\": 3,\n",
    "#     \"nested_mc_iters\": 3,\n",
    "#     \"max_stock\": 3, # BIG_S,\n",
    "#     \"discount_fac\": DISCOUNT_FAC,\n",
    "#     \"h_cost\": model_params['policy_params']['h_cost'],\n",
    "#     \"b_penalty\": model_params['policy_params']['b_penalty'],\n",
    "#     \"n_visit_lim\": N_VISIT_LIM,\n",
    "#     \"default_ss_policy\": ss_policy_fastest_supp_backlog,\n",
    "#     \"safe_factor\": 1.1, #SAFE_FACTOR,\n",
    "#     \"sub_eval_periods\": SUB_EVAL_PERIODS,\n",
    "#     \"sub_nested_mc_iter\": SUB_NESTED_MC_ITER,\n",
    "#     \"approx_eval\": True\n",
    "# }\n",
    "\n",
    "# mc_avg_costs = mc_with_policy(sourcingEnv2, \n",
    "#     start_state = s_custom, \n",
    "#     use_tqdm = True,\n",
    "#     policy_callback = eval_policy_from_value_dic,\n",
    "#     **kwargs)\n",
    "\n",
    "# print(np.mean(mc_avg_costs))\n",
    "# print(np.median(mc_avg_costs))\n",
    "# print(np.std(mc_avg_costs))"
   ]
  },
  {
   "cell_type": "code",
   "execution_count": 10,
   "metadata": {},
   "outputs": [
    {
     "name": "stderr",
     "output_type": "stream",
     "text": [
      "100%|██████████| 30/30 [00:53<00:00,  1.78s/it]"
     ]
    },
    {
     "name": "stdout",
     "output_type": "stream",
     "text": [
      "6.1259289863103525\n",
      "5.651192959098601\n",
      "1.2597524070300468\n"
     ]
    },
    {
     "name": "stderr",
     "output_type": "stream",
     "text": [
      "\n"
     ]
    }
   ],
   "source": [
    "kwargs = {\n",
    "    \"value_dic\": value_dic, \n",
    "    \"periods\": 100, \n",
    "    \"periods_val_it\": 1,\n",
    "    \"nested_mc_iters\": 30,\n",
    "    \"max_stock\": BIG_S,\n",
    "    \"discount_fac\": DISCOUNT_FAC,\n",
    "    \"h_cost\": model_params['policy_params']['h_cost'],\n",
    "    \"b_penalty\": model_params['policy_params']['b_penalty'],\n",
    "    \"n_visit_lim\": N_VISIT_LIM,\n",
    "    \"default_ss_policy\": ss_policy_fastest_supp_backlog,\n",
    "    \"safe_factor\": 1.1, #SAFE_FACTOR,\n",
    "    \"sub_eval_periods\": SUB_EVAL_PERIODS,\n",
    "    \"sub_nested_mc_iter\": SUB_NESTED_MC_ITER,\n",
    "    \"approx_eval\": True,\n",
    "    \"pol_dic\": output_obj['pol_dic']\n",
    "}\n",
    "\n",
    "mc_avg_costs = mc_with_policy(sourcingEnv2, \n",
    "    start_state = s_custom, \n",
    "    use_tqdm = True,\n",
    "    policy_callback = eval_policy_from_policy_dic,\n",
    "    **kwargs)\n",
    "\n",
    "print(np.mean(mc_avg_costs))\n",
    "print(np.median(mc_avg_costs))\n",
    "print(np.std(mc_avg_costs))"
   ]
  },
  {
   "cell_type": "code",
   "execution_count": 9,
   "metadata": {},
   "outputs": [
    {
     "data": {
      "text/plain": [
       "[8.889872947274078,\n",
       " 7.713210045738627,\n",
       " 5.445513372530282,\n",
       " 5.131158113823992,\n",
       " 4.743458824427881,\n",
       " 7.574882264563585,\n",
       " 7.170729533740118,\n",
       " 7.546321325732074,\n",
       " 6.239982723728708,\n",
       " 6.975938820682058,\n",
       " 5.6497615991857675,\n",
       " 9.883711364189441,\n",
       " 9.883257026447973,\n",
       " 5.3624100197009215,\n",
       " 6.922279324239115,\n",
       " 6.126947517519338,\n",
       " 5.111713110869882,\n",
       " 7.340336299529724,\n",
       " 4.833446448272035,\n",
       " 9.360872870359755,\n",
       " 6.983859008535445,\n",
       " 4.999468202011757,\n",
       " 5.46415386800861,\n",
       " 5.078488220255033,\n",
       " 8.078211291369856,\n",
       " 7.482418213178835,\n",
       " 4.776084162638261,\n",
       " 4.865945414090696,\n",
       " 5.485500686395442,\n",
       " 5.099293496843033]"
      ]
     },
     "execution_count": 9,
     "metadata": {},
     "output_type": "execute_result"
    }
   ],
   "source": [
    "mc_avg_costs"
   ]
  },
  {
   "cell_type": "code",
   "execution_count": 31,
   "metadata": {},
   "outputs": [
    {
     "data": {
      "image/png": "[encoded data removed]",
      "text/plain": [
       "<Figure size 640x480 with 1 Axes>"
      ]
     },
     "metadata": {},
     "output_type": "display_data"
    }
   ],
   "source": [
    "import matplotlib.pyplot as plt\n",
    "import numpy as np\n",
    "\n",
    "binwidth = 3\n",
    "n, bins, patches = plt.hist(mc_avg_costs, bins=np.arange( np.min(mc_avg_costs) - binwidth, np.max(mc_avg_costs) + binwidth, binwidth))\n",
    "# n, bins, patches = plt.hist(mc_avg_costs, density = True)\n",
    "\n",
    "plt.xlabel('Avg Cost')\n",
    "plt.ylabel('Probability')\n",
    "plt.title('Histogram of Avg costs')\n",
    "plt.xlim(np.min(mc_avg_costs), np.max(mc_avg_costs))\n",
    "plt.ylim(0, np.max(n))\n",
    "plt.grid(True)\n",
    "plt.show()"
   ]
  }
 ],
 "metadata": {
  "kernelspec": {
   "display_name": ".multi-sourcing-env",
   "language": "python",
   "name": "python3"
  },
  "language_info": {
   "codemirror_mode": {
    "name": "ipython",
    "version": 3
   },
   "file_extension": ".py",
   "mimetype": "text/x-python",
   "name": "python",
   "nbconvert_exporter": "python",
   "pygments_lexer": "ipython3",
   "version": "3.8.10"
  },
  "orig_nbformat": 4,
  "vscode": {
   "interpreter": {
    "hash": "cd381e17d028bd09dab022bcaf56b43c687ccc8a6f1edc8bc118936389c16b3d"
   }
  }
 },
 "nbformat": 4,
 "nbformat_minor": 2
}
